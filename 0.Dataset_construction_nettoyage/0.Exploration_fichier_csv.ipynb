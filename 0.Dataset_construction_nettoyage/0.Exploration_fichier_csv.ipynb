{
 "cells": [
  {
   "attachments": {},
   "cell_type": "markdown",
   "metadata": {},
   "source": [
    "RAPPEL PANDAS :\n",
    "https://blent.ai/blog/a/introduction-a-pandas\n",
    "\n",
    "MANIPULATION DE LA DATASET :\n",
    "https://www.kaggle.com/code/bobirino/open-food-facts"
   ]
  },
  {
   "cell_type": "code",
   "execution_count": 2,
   "metadata": {},
   "outputs": [],
   "source": [
    "import pandas as pd\n",
    "import numpy as np\n",
    "import matplotlib.pyplot as plt\n",
    "import seaborn as sns"
   ]
  },
  {
   "cell_type": "code",
   "execution_count": 3,
   "metadata": {},
   "outputs": [
    {
     "name": "stderr",
     "output_type": "stream",
     "text": [
      "C:\\Users\\boss\\AppData\\Local\\Temp\\ipykernel_16200\\1410134253.py:3: DtypeWarning: Columns (0,9,10,12,13,14,15,21,22,23,24,25,26,27,28,29,30,31,33,34,35,42,44,45,46,47,49,51,52,53,55,65,70,87,148) have mixed types. Specify dtype option on import or set low_memory=False.\n",
      "  df = pd.read_csv('openfoodfacts.csv', sep='\\t')\n"
     ]
    }
   ],
   "source": [
    "#OPENFOODFACTS : Le fichier utilise l'encodage Unicode UTF-8. Le caractère de séparation des champs est (tabulation).\n",
    "try:\n",
    "    df = pd.read_csv('openfoodfacts.csv', sep='\\t')\n",
    "except pd.errors.ParserError as e:\n",
    "    # Récupérer l'index de la ligne qui cause l'erreur\n",
    "    error_line = int(str(e).split(' ')[-1])\n",
    "    # Lire à nouveau le fichier et spécifier la ligne qui pose problème\n",
    "    df = pd.read_csv('openfoodfacts.csv', error_bad_lines=False, skiprows=range(1,error_line))\n",
    "    # Afficher la ligne qui pose problème\n",
    "    print(f\"Ligne {error_line}: {open('openfoodfacts.csv').readlines()[error_line-1]}\")\n"
   ]
  },
  {
   "cell_type": "code",
   "execution_count": 12,
   "metadata": {},
   "outputs": [
    {
     "name": "stderr",
     "output_type": "stream",
     "text": [
      "C:\\Users\\boss\\AppData\\Local\\Temp\\ipykernel_7100\\4162605408.py:2: DtypeWarning: Columns (0,9,10,12,13,14,15,21,22,23,24,25,26,27,28,29,30,31,33,34,35,42,44,45,46,47,49,51,52,53,55,65,70,87,148) have mixed types. Specify dtype option on import or set low_memory=False.\n",
      "  df2 = pd.read_csv('openfoodfacts.csv', sep='\\t')\n"
     ]
    }
   ],
   "source": [
    "try:\n",
    "    df2 = pd.read_csv('openfoodfacts.csv', sep='\\t')\n",
    "except pd.errors.ParserError as e:\n",
    "    # Récupérer l'index de la ligne qui cause l'erreur\n",
    "    error_line = int(str(e).split(' ')[-1])\n",
    "    # Lire à nouveau le fichier et spécifier la ligne qui pose problème\n",
    "    df = pd.read_csv('openfoodfacts.csv', error_bad_lines=False, skiprows=range(1,error_line))\n",
    "    # Afficher la ligne qui pose problème\n",
    "    print(f\"Ligne {error_line}: {open('openfoodfacts.csv').readlines()[error_line-1]}\")"
   ]
  },
  {
   "cell_type": "code",
   "execution_count": 4,
   "metadata": {},
   "outputs": [
    {
     "name": "stdout",
     "output_type": "stream",
     "text": [
      "                     code                                                url  \\\n",
      "0       00000000000000225  http://world-en.openfoodfacts.org/product/0000...   \n",
      "1  0000000000000207025004  http://world-en.openfoodfacts.org/product/0000...   \n",
      "2    00000000000003429145  http://world-en.openfoodfacts.org/product/0000...   \n",
      "3    00000000000026772226  http://world-en.openfoodfacts.org/product/0000...   \n",
      "4           0000000000017  http://world-en.openfoodfacts.org/product/0000...   \n",
      "\n",
      "          creator   created_t      created_datetime  last_modified_t  \\\n",
      "0  nutrinet-sante  1623855208  2021-06-16T14:53:28Z       1623855209   \n",
      "1         kiliweb  1656948610  2022-07-04T15:30:10Z       1656948613   \n",
      "2         kiliweb  1630483911  2021-09-01T08:11:51Z       1656488106   \n",
      "3         kiliweb  1654250311  2022-06-03T09:58:31Z       1654270474   \n",
      "4         kiliweb  1529059080  2018-06-15T10:38:00Z       1561463718   \n",
      "\n",
      "  last_modified_datetime last_modified_by      product_name  \\\n",
      "0   2021-06-16T14:53:29Z   nutrinet-sante    jeunes pousses   \n",
      "1   2022-07-04T15:30:13Z          kiliweb             Andrè   \n",
      "2   2022-06-29T07:35:06Z         stephane           L.casei   \n",
      "3   2022-06-03T15:34:34Z       quentinbrd              Skyr   \n",
      "4   2019-06-25T11:55:18Z          kiliweb  Vitória crackers   \n",
      "\n",
      "  abbreviated_product_name  ... carbon-footprint-from-meat-or-fish_100g  \\\n",
      "0                      NaN  ...                                     NaN   \n",
      "1                      NaN  ...                                     NaN   \n",
      "2                      NaN  ...                                     NaN   \n",
      "3                      NaN  ...                                     NaN   \n",
      "4                      NaN  ...                                     NaN   \n",
      "\n",
      "  nutrition-score-fr_100g nutrition-score-uk_100g glycemic-index_100g  \\\n",
      "0                     NaN                     NaN                 NaN   \n",
      "1                     NaN                     NaN                 NaN   \n",
      "2                     NaN                     NaN                 NaN   \n",
      "3                    -5.0                     NaN                 NaN   \n",
      "4                     NaN                     NaN                 NaN   \n",
      "\n",
      "  water-hardness_100g choline_100g phylloquinone_100g beta-glucan_100g  \\\n",
      "0                 NaN          NaN                NaN              NaN   \n",
      "1                 NaN          NaN                NaN              NaN   \n",
      "2                 NaN          NaN                NaN              NaN   \n",
      "3                 NaN          NaN                NaN              NaN   \n",
      "4                 NaN          NaN                NaN              NaN   \n",
      "\n",
      "  inositol_100g carnitine_100g  \n",
      "0           NaN            NaN  \n",
      "1           NaN            NaN  \n",
      "2           NaN            NaN  \n",
      "3           NaN            NaN  \n",
      "4           NaN            NaN  \n",
      "\n",
      "[5 rows x 201 columns]\n"
     ]
    }
   ],
   "source": [
    "print(df.head())"
   ]
  },
  {
   "attachments": {},
   "cell_type": "markdown",
   "metadata": {},
   "source": [
    "Affichage des premières lignes du fichier pour vérifier si la lecture est correcte :"
   ]
  },
  {
   "cell_type": "code",
   "execution_count": 5,
   "metadata": {},
   "outputs": [
    {
     "name": "stdout",
     "output_type": "stream",
     "text": [
      "Index(['code', 'url', 'creator', 'created_t', 'created_datetime',\n",
      "       'last_modified_t', 'last_modified_datetime', 'last_modified_by',\n",
      "       'product_name', 'abbreviated_product_name',\n",
      "       ...\n",
      "       'carbon-footprint-from-meat-or-fish_100g', 'nutrition-score-fr_100g',\n",
      "       'nutrition-score-uk_100g', 'glycemic-index_100g', 'water-hardness_100g',\n",
      "       'choline_100g', 'phylloquinone_100g', 'beta-glucan_100g',\n",
      "       'inositol_100g', 'carnitine_100g'],\n",
      "      dtype='object', length=201)\n"
     ]
    }
   ],
   "source": [
    "\n",
    "# Afficher les noms des colonnes\n",
    "print(df.columns)"
   ]
  },
  {
   "cell_type": "code",
   "execution_count": 6,
   "metadata": {},
   "outputs": [
    {
     "name": "stdout",
     "output_type": "stream",
     "text": [
      "La colonne 'B' existe dans le dataframe.\n"
     ]
    }
   ],
   "source": [
    "# Vérifier si une colonne existe dans le dataframe\n",
    "if 'image_ingredients_url' in df.columns:\n",
    "    print(\"La colonne 'B' existe dans le dataframe.\")\n",
    "else:\n",
    "    print(\"La colonne 'B' n'existe pas dans le dataframe.\")"
   ]
  },
  {
   "cell_type": "code",
   "execution_count": 5,
   "metadata": {},
   "outputs": [
    {
     "name": "stdout",
     "output_type": "stream",
     "text": [
      "                                                                                                                                                                                                                                                                                                                                                                                                                                                                                                                                                                                                                                                                                                                                                                                                                                                                                                                                                                                                                                                                                                                                                                                                                                                                                                                                                                                                                                                                                                                                                                                                                             code\\turl\\tcreator\\tcreated_t\\tcreated_datetime\\tlast_modified_t\\tlast_modified_datetime\\tlast_modified_by\\tproduct_name\\tabbreviated_product_name\\tgeneric_name\\tquantity\\tpackaging\\tpackaging_tags\\tpackaging_en\\tpackaging_text\\tbrands\\tbrands_tags\\tcategories\\tcategories_tags\\tcategories_en\\torigins\\torigins_tags\\torigins_en\\tmanufacturing_places\\tmanufacturing_places_tags\\tlabels\\tlabels_tags\\tlabels_en\\temb_codes\\temb_codes_tags\\tfirst_packaging_code_geo\\tcities\\tcities_tags\\tpurchase_places\\tstores\\tcountries\\tcountries_tags\\tcountries_en\\tingredients_text\\tingredients_tags\\tingredients_analysis_tags\\tallergens\\tallergens_en\\ttraces\\ttraces_tags\\ttraces_en\\tserving_size\\tserving_quantity\\tno_nutrition_data\\tadditives_n\\tadditives\\tadditives_tags\\tadditives_en\\tnutriscore_score\\tnutriscore_grade\\tnova_group\\tpnns_groups_1\\tpnns_groups_2\\tfood_groups\\tfood_groups_tags\\tfood_groups_en\\tstates\\tstates_tags\\tstates_en\\tbrand_owner\\tecoscore_score\\tecoscore_grade\\tnutrient_levels_tags\\tproduct_quantity\\towner\\tdata_quality_errors_tags\\tunique_scans_n\\tpopularity_tags\\tcompleteness\\tlast_image_t\\tlast_image_datetime\\tmain_category\\tmain_category_en\\timage_url\\timage_small_url\\timage_ingredients_url\\timage_ingredients_small_url\\timage_nutrition_url\\timage_nutrition_small_url\\tenergy-kj_100g\\tenergy-kcal_100g\\tenergy_100g\\tenergy-from-fat_100g\\tfat_100g\\tsaturated-fat_100g\\tbutyric-acid_100g\\tcaproic-acid_100g\\tcaprylic-acid_100g\\tcapric-acid_100g\\tlauric-acid_100g\\tmyristic-acid_100g\\tpalmitic-acid_100g\\tstearic-acid_100g\\tarachidic-acid_100g\\tbehenic-acid_100g\\tlignoceric-acid_100g\\tcerotic-acid_100g\\tmontanic-acid_100g\\tmelissic-acid_100g\\tunsaturated-fat_100g\\tmonounsaturated-fat_100g\\tpolyunsaturated-fat_100g\\tomega-3-fat_100g\\talpha-linolenic-acid_100g\\teicosapentaenoic-acid_100g\\tdocosahexaenoic-acid_100g\\tomega-6-fat_100g\\tlinoleic-acid_100g\\tarachidonic-acid_100g\\tgamma-linolenic-acid_100g\\tdihomo-gamma-linolenic-acid_100g\\tomega-9-fat_100g\\toleic-acid_100g\\telaidic-acid_100g\\tgondoic-acid_100g\\tmead-acid_100g\\terucic-acid_100g\\tnervonic-acid_100g\\ttrans-fat_100g\\tcholesterol_100g\\tcarbohydrates_100g\\tsugars_100g\\tadded-sugars_100g\\tsucrose_100g\\tglucose_100g\\tfructose_100g\\tlactose_100g\\tmaltose_100g\\tmaltodextrins_100g\\tstarch_100g\\tpolyols_100g\\terythritol_100g\\tfiber_100g\\tsoluble-fiber_100g\\tinsoluble-fiber_100g\\tproteins_100g\\tcasein_100g\\tserum-proteins_100g\\tnucleotides_100g\\tsalt_100g\\tadded-salt_100g\\tsodium_100g\\talcohol_100g\\tvitamin-a_100g\\tbeta-carotene_100g\\tvitamin-d_100g\\tvitamin-e_100g\\tvitamin-k_100g\\tvitamin-c_100g\\tvitamin-b1_100g\\tvitamin-b2_100g\\tvitamin-pp_100g\\tvitamin-b6_100g\\tvitamin-b9_100g\\tfolates_100g\\tvitamin-b12_100g\\tbiotin_100g\\tpantothenic-acid_100g\\tsilica_100g\\tbicarbonate_100g\\tpotassium_100g\\tchloride_100g\\tcalcium_100g\\tphosphorus_100g\\tiron_100g\\tmagnesium_100g\\tzinc_100g\\tcopper_100g\\tmanganese_100g\\tfluoride_100g\\tselenium_100g\\tchromium_100g\\tmolybdenum_100g\\tiodine_100g\\tcaffeine_100g\\ttaurine_100g\\tph_100g\\tfruits-vegetables-nuts_100g\\tfruits-vegetables-nuts-dried_100g\\tfruits-vegetables-nuts-estimate_100g\\tfruits-vegetables-nuts-estimate-from-ingredients_100g\\tcollagen-meat-protein-ratio_100g\\tcocoa_100g\\tchlorophyl_100g\\tcarbon-footprint_100g\\tcarbon-footprint-from-meat-or-fish_100g\\tnutrition-score-fr_100g\\tnutrition-score-uk_100g\\tglycemic-index_100g\\twater-hardness_100g\\tcholine_100g\\tphylloquinone_100g\\tbeta-glucan_100g\\tinositol_100g\\tcarnitine_100g\n",
      "0000000002417\\thttp://world-en.openfoodfacts.or...  en:nutrition-facts-completed        en:ingredients-to-be-completed  en:expiration-date-to-be-completed  en:packaging-code-to-be-completed  en:characteristics-to-be-completed  en:origins-to-be-completed  en:categories-to-be-completed  en:brands-to-be-completed  en:packaging-to-be-completed  en:quantity-to-be-completed  en:product-name-completed  en:photos-to-be-validated  en:packaging-photo-to-be-selected  en:nutrition-photo-to-be-selected  en:ingredients-photo-to-be-selected  en:front-photo-selected  en:photos-uploaded\\ten:to-be-completed en:nutrition-facts-completed       en:ingredients-to-be-completed en:expiration-date-to-be-completed en:packaging-code-to-be-completed en:characteristics-to-be-completed en:origins-to-be-completed en:categories-to-be-completed en:brands-to-be-completed en:packaging-to-be-completed en:quantity-to-be-completed en:product-name-completed en:photos-to-be-validated en:packaging-photo-to-be-selected en:nutrition-photo-to-be-selected en:ingredients-photo-to-be-selected en:front-photo-selected en:photos-uploaded\\tTo be completed Nutrition facts completed       Ingredients to be completed Expiration date to be completed Packaging code to be completed Characteristics to be completed Origins to be completed Categories to be completed Brands to be completed Packaging to be completed Quantity to be completed Product name completed Photos to be validated Packaging photo to be selected Nutrition photo to be selected Ingredients photo to be selected Front photo selected  Photos uploaded\\t\\t\\tunknown\\t\\t\\t\\t\\t1\\ttop-c...                                                                                                                                                                                                                                                                                                                                                                                                                                                                                                                                                                                                                                                                                                                                                                                                                                                                                                                                                                                                                                                                                                                                                                                                                                                                                                                                                                                                                                                                                                                                                                                                                                                                                                                                                                                                                                                                                                                                                                                                                                                                                                                                                                                                                                                                                                                                                                                                                                                                                                                                                                                                                                                                                                                                                                                                                                                                                                                                                                                                                                                                                                                                                                                                                                                                                                                                                                                                                                                                                                                                                           \n",
      "0000000003018\\thttp://world-en.openfoodfacts.or...  en:nutrition-facts-completed        en:ingredients-to-be-completed  en:expiration-date-to-be-completed  en:packaging-code-to-be-completed  en:characteristics-to-be-completed  en:origins-to-be-completed  en:categories-to-be-completed  en:brands-to-be-completed  en:packaging-to-be-completed  en:quantity-to-be-completed  en:product-name-completed  en:photos-to-be-validated  en:packaging-photo-to-be-selected  en:nutrition-photo-to-be-selected  en:ingredients-photo-selected        en:front-photo-selected  en:photos-uploaded\\ten:to-be-completed en:nutrition-facts-completed       en:ingredients-to-be-completed en:expiration-date-to-be-completed en:packaging-code-to-be-completed en:characteristics-to-be-completed en:origins-to-be-completed en:categories-to-be-completed en:brands-to-be-completed en:packaging-to-be-completed en:quantity-to-be-completed en:product-name-completed en:photos-to-be-validated en:packaging-photo-to-be-selected en:nutrition-photo-to-be-selected en:ingredients-photo-selected       en:front-photo-selected en:photos-uploaded\\tTo be completed Nutrition facts completed       Ingredients to be completed Expiration date to be completed Packaging code to be completed Characteristics to be completed Origins to be completed Categories to be completed Brands to be completed Packaging to be completed Quantity to be completed Product name completed Photos to be validated Packaging photo to be selected Nutrition photo to be selected Ingredients photo selected       Front photo selected  Photos uploaded\\t\\t\\tunknown\\t\\t\\t\\t\\t\\t\\t0.27...                                                                                                                                                                                                                                                                                                                                                                                                                                                                                                                                                                                                                                                                                                                                                                                                                                                                                                                                                                                                                                                                                                                                                                                                                                                                                                                                                                                                                                                                                                                                                                                                                                                                                                                                                                                                                                                                                                                                                                                                                                                                                                                                                                                                                                                                                                                                                                                                                                                                                                                                                                                                                                                                                                                                                                                                                                                                                                                                                                                                                                                                                                                                                                                                                                                                                                                                                                                                                                                                                                                                                           \n",
      "0000000003087\\thttp://world-en.openfoodfacts.or...  en:nutrition-facts-to-be-completed  en:ingredients-to-be-completed  en:expiration-date-to-be-completed  en:packaging-code-to-be-completed  en:characteristics-to-be-completed  en:origins-to-be-completed  en:categories-to-be-completed  en:brands-completed        en:packaging-to-be-completed  en:quantity-completed        en:product-name-completed  en:photos-to-be-validated  en:packaging-photo-to-be-selected  en:nutrition-photo-to-be-selected  en:ingredients-photo-to-be-selected  en:front-photo-selected  en:photos-uploaded\\ten:to-be-completed en:nutrition-facts-to-be-completed en:ingredients-to-be-completed en:expiration-date-to-be-completed en:packaging-code-to-be-completed en:characteristics-to-be-completed en:origins-to-be-completed en:categories-to-be-completed en:brands-completed       en:packaging-to-be-completed en:quantity-completed       en:product-name-completed en:photos-to-be-validated en:packaging-photo-to-be-selected en:nutrition-photo-to-be-selected en:ingredients-photo-to-be-selected en:front-photo-selected en:photos-uploaded\\tTo be completed Nutrition facts to be completed Ingredients to be completed Expiration date to be completed Packaging code to be completed Characteristics to be completed Origins to be completed Categories to be completed Brands completed       Packaging to be completed Quantity completed       Product name completed Photos to be validated Packaging photo to be selected Nutrition photo to be selected Ingredients photo to be selected Front photo selected  Photos uploaded\\t\\t\\tunknown\\t\\t1000\\t\\t\\t1\\t\\...                                                                                                                                                                                                                                                                                                                                                                                                                                                                                                                                                                                                                                                                                                                                                                                                                                                                                                                                                                                                                                                                                                                                                                                                                                                                                                                                                                                                                                                                                                                                                                                                                                                                                                                                                                                                                                                                                                                                                                                                                                                                                                                                                                                                                                                                                                                                                                                                                                                                                                                                                                                                                                                                                                                                                                                                                                                                                                                                                                                                                                                                                                                                                                                                                                                                                                                                                                                                                                                                                                                                                           \n",
      "000000000309\\thttp://world-en.openfoodfacts.org...  en:nutrition-facts-to-be-completed  en:ingredients-to-be-completed  en:expiration-date-to-be-completed  en:packaging-code-to-be-completed  en:characteristics-to-be-completed  en:origins-to-be-completed  en:categories-to-be-completed  en:brands-to-be-completed  en:packaging-to-be-completed  en:quantity-to-be-completed  en:product-name-completed  en:photos-to-be-validated  en:packaging-photo-to-be-selected  en:nutrition-photo-to-be-selected  en:ingredients-photo-to-be-selected  en:front-photo-selected  en:photos-uploaded\\ten:to-be-completed en:nutrition-facts-to-be-completed en:ingredients-to-be-completed en:expiration-date-to-be-completed en:packaging-code-to-be-completed en:characteristics-to-be-completed en:origins-to-be-completed en:categories-to-be-completed en:brands-to-be-completed en:packaging-to-be-completed en:quantity-to-be-completed en:product-name-completed en:photos-to-be-validated en:packaging-photo-to-be-selected en:nutrition-photo-to-be-selected en:ingredients-photo-to-be-selected en:front-photo-selected en:photos-uploaded\\tTo be completed Nutrition facts to be completed Ingredients to be completed Expiration date to be completed Packaging code to be completed Characteristics to be completed Origins to be completed Categories to be completed Brands to be completed Packaging to be completed Quantity to be completed Product name completed Photos to be validated Packaging photo to be selected Nutrition photo to be selected Ingredients photo to be selected Front photo selected  Photos uploaded\\t\\t\\tunknown\\t\\t\\t\\t\\t\\t\\t0.16...                                                                                                                                                                                                                                                                                                                                                                                                                                                                                                                                                                                                                                                                                                                                                                                                                                                                                                                                                                                                                                                                                                                                                                                                                                                                                                                                                                                                                                                                                                                                                                                                                                                                                                                                                                                                                                                                                                                                                                                                                                                                                                                                                                                                                                                                                                                                                                                                                                                                                                                                                                                                                                                                                                                                                                                                                                                                                                                                                                                                                                                                                                                                                                                                                                                                                                                                                                                                                                                                                                                                                           \n",
      "0000000003384\\thttp://world-en.openfoodfacts.or...  en:nutrition-facts-completed        en:ingredients-to-be-completed  en:expiration-date-to-be-completed  en:packaging-code-to-be-completed  en:characteristics-to-be-completed  en:origins-to-be-completed  en:categories-to-be-completed  en:brands-to-be-completed  en:packaging-to-be-completed  en:quantity-to-be-completed  en:product-name-completed  en:photos-to-be-validated  en:packaging-photo-to-be-selected  en:nutrition-photo-to-be-selected  en:ingredients-photo-selected        en:front-photo-selected  en:photos-uploaded\\ten:to-be-completed en:nutrition-facts-completed       en:ingredients-to-be-completed en:expiration-date-to-be-completed en:packaging-code-to-be-completed en:characteristics-to-be-completed en:origins-to-be-completed en:categories-to-be-completed en:brands-to-be-completed en:packaging-to-be-completed en:quantity-to-be-completed en:product-name-completed en:photos-to-be-validated en:packaging-photo-to-be-selected en:nutrition-photo-to-be-selected en:ingredients-photo-selected       en:front-photo-selected en:photos-uploaded\\tTo be completed Nutrition facts completed       Ingredients to be completed Expiration date to be completed Packaging code to be completed Characteristics to be completed Origins to be completed Categories to be completed Brands to be completed Packaging to be completed Quantity to be completed Product name completed Photos to be validated Packaging photo to be selected Nutrition photo to be selected Ingredients photo selected       Front photo selected  Photos uploaded\\t\\t\\tunknown\\t\\t\\t\\t\\t\\t\\t0.27...                                                                                                                                                                                                                                                                                                                                                                                                                                                                                                                                                                                                                                                                                                                                                                                                                                                                                                                                                                                                                                                                                                                                                                                                                                                                                                                                                                                                                                                                                                                                                                                                                                                                                                                                                                                                                                                                                                                                                                                                                                                                                                                                                                                                                                                                                                                                                                                                                                                                                                                                                                                                                                                                                                                                                                                                                                                                                                                                                                                                                                                                                                                                                                                                                                                                                                                                                                                                                                                                                                                                                           \n"
     ]
    }
   ],
   "source": [
    "print(df.head())"
   ]
  },
  {
   "cell_type": "code",
   "execution_count": 7,
   "metadata": {},
   "outputs": [],
   "source": [
    "# Extraire les données de la colonne \"image_ingredients_url\"\n",
    "image_ingredients_url_data = df['image_ingredients_url']"
   ]
  },
  {
   "cell_type": "code",
   "execution_count": 8,
   "metadata": {},
   "outputs": [
    {
     "data": {
      "text/plain": [
       "(2835439,)"
      ]
     },
     "execution_count": 8,
     "metadata": {},
     "output_type": "execute_result"
    }
   ],
   "source": [
    "image_ingredients_url_data.shape"
   ]
  },
  {
   "cell_type": "code",
   "execution_count": null,
   "metadata": {},
   "outputs": [],
   "source": [
    "# Exporter le DataFrame en tant que fichier CSV\n",
    "image_ingredients_url_data.to_csv('url.csv', index=False)"
   ]
  },
  {
   "cell_type": "code",
   "execution_count": 15,
   "metadata": {},
   "outputs": [
    {
     "data": {
      "text/plain": [
       "(2835439, 201)"
      ]
     },
     "execution_count": 15,
     "metadata": {},
     "output_type": "execute_result"
    }
   ],
   "source": [
    "df2.shape\n"
   ]
  },
  {
   "cell_type": "code",
   "execution_count": 8,
   "metadata": {},
   "outputs": [],
   "source": [
    "noms_colonne = df.columns"
   ]
  },
  {
   "cell_type": "code",
   "execution_count": 9,
   "metadata": {},
   "outputs": [
    {
     "name": "stdout",
     "output_type": "stream",
     "text": [
      "Index(['code\\turl\\tcreator\\tcreated_t\\tcreated_datetime\\tlast_modified_t\\tlast_modified_datetime\\tlast_modified_by\\tproduct_name\\tabbreviated_product_name\\tgeneric_name\\tquantity\\tpackaging\\tpackaging_tags\\tpackaging_en\\tpackaging_text\\tbrands\\tbrands_tags\\tcategories\\tcategories_tags\\tcategories_en\\torigins\\torigins_tags\\torigins_en\\tmanufacturing_places\\tmanufacturing_places_tags\\tlabels\\tlabels_tags\\tlabels_en\\temb_codes\\temb_codes_tags\\tfirst_packaging_code_geo\\tcities\\tcities_tags\\tpurchase_places\\tstores\\tcountries\\tcountries_tags\\tcountries_en\\tingredients_text\\tingredients_tags\\tingredients_analysis_tags\\tallergens\\tallergens_en\\ttraces\\ttraces_tags\\ttraces_en\\tserving_size\\tserving_quantity\\tno_nutrition_data\\tadditives_n\\tadditives\\tadditives_tags\\tadditives_en\\tnutriscore_score\\tnutriscore_grade\\tnova_group\\tpnns_groups_1\\tpnns_groups_2\\tfood_groups\\tfood_groups_tags\\tfood_groups_en\\tstates\\tstates_tags\\tstates_en\\tbrand_owner\\tecoscore_score\\tecoscore_grade\\tnutrient_levels_tags\\tproduct_quantity\\towner\\tdata_quality_errors_tags\\tunique_scans_n\\tpopularity_tags\\tcompleteness\\tlast_image_t\\tlast_image_datetime\\tmain_category\\tmain_category_en\\timage_url\\timage_small_url\\timage_ingredients_url\\timage_ingredients_small_url\\timage_nutrition_url\\timage_nutrition_small_url\\tenergy-kj_100g\\tenergy-kcal_100g\\tenergy_100g\\tenergy-from-fat_100g\\tfat_100g\\tsaturated-fat_100g\\tbutyric-acid_100g\\tcaproic-acid_100g\\tcaprylic-acid_100g\\tcapric-acid_100g\\tlauric-acid_100g\\tmyristic-acid_100g\\tpalmitic-acid_100g\\tstearic-acid_100g\\tarachidic-acid_100g\\tbehenic-acid_100g\\tlignoceric-acid_100g\\tcerotic-acid_100g\\tmontanic-acid_100g\\tmelissic-acid_100g\\tunsaturated-fat_100g\\tmonounsaturated-fat_100g\\tpolyunsaturated-fat_100g\\tomega-3-fat_100g\\talpha-linolenic-acid_100g\\teicosapentaenoic-acid_100g\\tdocosahexaenoic-acid_100g\\tomega-6-fat_100g\\tlinoleic-acid_100g\\tarachidonic-acid_100g\\tgamma-linolenic-acid_100g\\tdihomo-gamma-linolenic-acid_100g\\tomega-9-fat_100g\\toleic-acid_100g\\telaidic-acid_100g\\tgondoic-acid_100g\\tmead-acid_100g\\terucic-acid_100g\\tnervonic-acid_100g\\ttrans-fat_100g\\tcholesterol_100g\\tcarbohydrates_100g\\tsugars_100g\\tadded-sugars_100g\\tsucrose_100g\\tglucose_100g\\tfructose_100g\\tlactose_100g\\tmaltose_100g\\tmaltodextrins_100g\\tstarch_100g\\tpolyols_100g\\terythritol_100g\\tfiber_100g\\tsoluble-fiber_100g\\tinsoluble-fiber_100g\\tproteins_100g\\tcasein_100g\\tserum-proteins_100g\\tnucleotides_100g\\tsalt_100g\\tadded-salt_100g\\tsodium_100g\\talcohol_100g\\tvitamin-a_100g\\tbeta-carotene_100g\\tvitamin-d_100g\\tvitamin-e_100g\\tvitamin-k_100g\\tvitamin-c_100g\\tvitamin-b1_100g\\tvitamin-b2_100g\\tvitamin-pp_100g\\tvitamin-b6_100g\\tvitamin-b9_100g\\tfolates_100g\\tvitamin-b12_100g\\tbiotin_100g\\tpantothenic-acid_100g\\tsilica_100g\\tbicarbonate_100g\\tpotassium_100g\\tchloride_100g\\tcalcium_100g\\tphosphorus_100g\\tiron_100g\\tmagnesium_100g\\tzinc_100g\\tcopper_100g\\tmanganese_100g\\tfluoride_100g\\tselenium_100g\\tchromium_100g\\tmolybdenum_100g\\tiodine_100g\\tcaffeine_100g\\ttaurine_100g\\tph_100g\\tfruits-vegetables-nuts_100g\\tfruits-vegetables-nuts-dried_100g\\tfruits-vegetables-nuts-estimate_100g\\tfruits-vegetables-nuts-estimate-from-ingredients_100g\\tcollagen-meat-protein-ratio_100g\\tcocoa_100g\\tchlorophyl_100g\\tcarbon-footprint_100g\\tcarbon-footprint-from-meat-or-fish_100g\\tnutrition-score-fr_100g\\tnutrition-score-uk_100g\\tglycemic-index_100g\\twater-hardness_100g\\tcholine_100g\\tphylloquinone_100g\\tbeta-glucan_100g\\tinositol_100g\\tcarnitine_100g'], dtype='object')\n"
     ]
    }
   ],
   "source": [
    "print(noms_colonne)"
   ]
  },
  {
   "cell_type": "code",
   "execution_count": 11,
   "metadata": {},
   "outputs": [],
   "source": [
    "#df2 = df[0].str.split('\\', expand=True)"
   ]
  },
  {
   "attachments": {},
   "cell_type": "markdown",
   "metadata": {},
   "source": [
    "ANALYSE DES DONNEES AVEC PANDAS :"
   ]
  },
  {
   "attachments": {},
   "cell_type": "markdown",
   "metadata": {},
   "source": [
    "Statistiques de bases :"
   ]
  },
  {
   "cell_type": "code",
   "execution_count": 8,
   "metadata": {},
   "outputs": [
    {
     "name": "stdout",
     "output_type": "stream",
     "text": [
      "       Code produit;Secteur;Famille;\"Code barre\";Marque;\"Nom du produit\";\"Dénomination de vente\";\"Année de collecte la plus récente\";\"Constituant (Unité de mesure)\";\"Groupe nutritionnel\";\"Source valeurs nutritionnelles\";\"Unité d'expression\";Quantité;\"VN utilisée dans les rapports\";\"Valeur non quantifiée\"\n",
      "count                                              601507                                                                                                                                                                                                                                                        \n",
      "unique                                             601506                                                                                                                                                                                                                                                        \n",
      "top     85348;\"Biscuits et gateaux industriels\";\"Gatea...                                                                                                                                                                                                                                                        \n",
      "freq                                                    2                                                                                                                                                                                                                                                        \n"
     ]
    }
   ],
   "source": [
    "print(df.describe())"
   ]
  }
 ],
 "metadata": {
  "kernelspec": {
   "display_name": "base",
   "language": "python",
   "name": "python3"
  },
  "language_info": {
   "codemirror_mode": {
    "name": "ipython",
    "version": 3
   },
   "file_extension": ".py",
   "mimetype": "text/x-python",
   "name": "python",
   "nbconvert_exporter": "python",
   "pygments_lexer": "ipython3",
   "version": "3.10.9"
  },
  "orig_nbformat": 4
 },
 "nbformat": 4,
 "nbformat_minor": 2
}
