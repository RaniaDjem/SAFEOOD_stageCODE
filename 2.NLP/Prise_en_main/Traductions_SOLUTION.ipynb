{
  "cells": [
    {
      "cell_type": "markdown",
      "metadata": {
        "colab_type": "text",
        "id": "5NFuUYKHABlD"
      },
      "source": [
        "# Traductions \n",
        "\n",
        "Nous allons voir qu'avec les LSTM, on peut faire des choses assez puissantes comme : *des traducteurs* ! Voyons comment nous pouvons créer un traducteur français > anglais avec TensorFlow \n",
        "\n",
        "## Description du projet \n",
        "\n",
        "Ce projet n'est pas des plus faciles. C'est pourquoi nous allons vous éclairer sur les grandes étapes à suivre. \n",
        "\n",
        "### Import des données \n",
        "\n",
        "Tout d'abord, vous aurez un fichier `.txt` contenant une phrase avec sa traduction séparée par une tabulation (`\\t`). Vous devrez donc importer ces données et les lire via `pandas` ou `numpy`. \n",
        "\n",
        "Vos données se trouvent sur ce lien : https://go.aws/38ECHUB\n",
        "\n",
        "### Preprocessing \n",
        "\n",
        "Tout l'objectif de votre preprocessing est d'arriver à exprimer votre phrase d'entrée (française) en une séquence d'indices.\n",
        "\n",
        "i.e :\n",
        "\n",
        "* je suis malade ---> `[123, 21, 34, 0, 0, 0, 0]`\n",
        "\n",
        "Ce qui donne une *shape* -> `(batch_size, max_len_of_a_french_sentence)`\n",
        "\n",
        "Les indices correspondent à un numéro que vous devrez attribuer pour chaque token de mots. \n",
        "\n",
        "Les zéros correspondent à ce qu'on appelle des [*padded_sequences*](https://www.tensorflow.org/api_docs/python/tf/keras/preprocessing/sequence/pad_sequences) qui permettent le fait que tous les séquences de mots aient la même longueur (obligatoire pour votre algorithme). \n",
        "\n",
        "La transformation de votre phrase cible ne sera pas exactement la même que celle de votre phrase d'entrée. En plus de toutes les étapes que vous aurez effectué pour les phrases d'entrées, vous devrez en plus *catégoriser* votre phrase cible. Autrement dit, un exemple de tenseur ressemblera à : \n",
        "\n",
        "* I am sick ---> \n",
        "\n",
        "```\n",
        "[\n",
        "  [1, 0, 0, ..., 0, 0],\n",
        "  [0, 0, 0, ..., 1, 0], \n",
        "  ...\n",
        "  [0, 1, 0, ..., 0, 0]\n",
        "\n",
        "]\n",
        "```\n",
        "Ce qui donne une *shape* -> `(batch_size, max_len_of_an_english_sentence, num_of_classes)`\n",
        "\n",
        "Pour aider à effectuer cela, vous pourrez utiliser : \n",
        "\n",
        "* `Pandas` ou `Numpy` pour la lecture du fichier text\n",
        "* `Spacy` pour la Tokenisation \n",
        "* `Tensorflow` pour le [padded_sequence](https://www.tensorflow.org/api_docs/python/tf/keras/preprocessing/sequence/pad_sequences) & la [catégorisation](https://www.tensorflow.org/api_docs/python/tf/keras/utils/to_categorical?hl=en) \n",
        "\n",
        "### Modélisation \n",
        "\n",
        "Une fois que vous aurez cela, vous pourrez passer à la modélisation. Pour créer votre modèle, vous aurez besoin : \n",
        "\n",
        "* D'une couche d'[Embedding](https://www.tensorflow.org/api_docs/python/tf/keras/layers/Embedding?hl=en)\n",
        "* De couches [LSTM](https://www.tensorflow.org/api_docs/python/tf/keras/layers/LSTM?hl=en) & [Bidirectionnelles](https://www.tensorflow.org/api_docs/python/tf/keras/layers/Bidirectional?hl=en)\n",
        "* D'une couche [RepeatVector](https://www.tensorflow.org/api_docs/python/tf/keras/layers/RepeatVector?hl=en)\n",
        "* D'une couche [Dense](https://www.tensorflow.org/api_docs/python/tf/keras/layers/Dense?hl=en) & [TimeDistributed](https://www.tensorflow.org/api_docs/python/tf/keras/layers/TimeDistributed?hl=en) en sortie\n",
        "\n",
        "L'objectif étant d'avoir en entrée, un tenseur de dimension `(batch_size, max_len_of_a_french_sentence)` et en sortie un tenseur de dimension `(batch_size, max_len_of_an_english_sentence, num_of_classes)` où évidemment `max_len_of_a_french_sentence` $\\neq $ `max_len_of_an_english_sentence`\n",
        "\n",
        "\n",
        "### Conseils \n",
        "\n",
        "Ne prenez pas l'entièreté du dataset au départ pour vos expérimentations, prenez simplement 5000 voire même 3000 phrases. Cela vous permettra d'itérer plus vite et d'éviter des bugs liés simplement à votre besoin en puissance de calcul. \n",
        "\n",
        "Good Luck !\n",
        "\n"
      ]
    },
    {
      "cell_type": "code",
      "execution_count": 4,
      "metadata": {
        "colab": {
          "base_uri": "https://localhost:8080/",
          "height": 724
        },
        "colab_type": "code",
        "id": "0MAiXgYbAVLU",
        "outputId": "a6a2dd42-18d0-42f2-e479-ab6a9748f029"
      },
      "outputs": [
        {
          "name": "stdout",
          "output_type": "stream",
          "text": [
            "Requirement already satisfied: tensorflow in c:\\users\\boss\\anaconda3\\lib\\site-packages (2.13.0)\n",
            "Requirement already satisfied: tensorflow-intel==2.13.0 in c:\\users\\boss\\anaconda3\\lib\\site-packages (from tensorflow) (2.13.0)\n",
            "Requirement already satisfied: h5py>=2.9.0 in c:\\users\\boss\\anaconda3\\lib\\site-packages (from tensorflow-intel==2.13.0->tensorflow) (3.7.0)\n",
            "Requirement already satisfied: tensorflow-estimator<2.14,>=2.13.0 in c:\\users\\boss\\anaconda3\\lib\\site-packages (from tensorflow-intel==2.13.0->tensorflow) (2.13.0)\n",
            "Requirement already satisfied: flatbuffers>=23.1.21 in c:\\users\\boss\\anaconda3\\lib\\site-packages (from tensorflow-intel==2.13.0->tensorflow) (23.5.26)\n",
            "Requirement already satisfied: six>=1.12.0 in c:\\users\\boss\\anaconda3\\lib\\site-packages (from tensorflow-intel==2.13.0->tensorflow) (1.16.0)\n",
            "Requirement already satisfied: absl-py>=1.0.0 in c:\\users\\boss\\anaconda3\\lib\\site-packages (from tensorflow-intel==2.13.0->tensorflow) (1.4.0)\n",
            "Requirement already satisfied: setuptools in c:\\users\\boss\\anaconda3\\lib\\site-packages (from tensorflow-intel==2.13.0->tensorflow) (65.6.3)\n",
            "Requirement already satisfied: packaging in c:\\users\\boss\\anaconda3\\lib\\site-packages (from tensorflow-intel==2.13.0->tensorflow) (22.0)\n",
            "Requirement already satisfied: libclang>=13.0.0 in c:\\users\\boss\\anaconda3\\lib\\site-packages (from tensorflow-intel==2.13.0->tensorflow) (16.0.0)\n",
            "Requirement already satisfied: tensorflow-io-gcs-filesystem>=0.23.1 in c:\\users\\boss\\anaconda3\\lib\\site-packages (from tensorflow-intel==2.13.0->tensorflow) (0.31.0)\n",
            "Requirement already satisfied: keras<2.14,>=2.13.1 in c:\\users\\boss\\anaconda3\\lib\\site-packages (from tensorflow-intel==2.13.0->tensorflow) (2.13.1)\n",
            "Requirement already satisfied: opt-einsum>=2.3.2 in c:\\users\\boss\\anaconda3\\lib\\site-packages (from tensorflow-intel==2.13.0->tensorflow) (3.3.0)\n",
            "Requirement already satisfied: google-pasta>=0.1.1 in c:\\users\\boss\\anaconda3\\lib\\site-packages (from tensorflow-intel==2.13.0->tensorflow) (0.2.0)\n",
            "Requirement already satisfied: protobuf!=4.21.0,!=4.21.1,!=4.21.2,!=4.21.3,!=4.21.4,!=4.21.5,<5.0.0dev,>=3.20.3 in c:\\users\\boss\\anaconda3\\lib\\site-packages (from tensorflow-intel==2.13.0->tensorflow) (4.23.3)\n",
            "Requirement already satisfied: termcolor>=1.1.0 in c:\\users\\boss\\anaconda3\\lib\\site-packages (from tensorflow-intel==2.13.0->tensorflow) (2.3.0)\n",
            "Requirement already satisfied: wrapt>=1.11.0 in c:\\users\\boss\\anaconda3\\lib\\site-packages (from tensorflow-intel==2.13.0->tensorflow) (1.14.1)\n",
            "Requirement already satisfied: gast<=0.4.0,>=0.2.1 in c:\\users\\boss\\anaconda3\\lib\\site-packages (from tensorflow-intel==2.13.0->tensorflow) (0.4.0)\n",
            "Requirement already satisfied: grpcio<2.0,>=1.24.3 in c:\\users\\boss\\anaconda3\\lib\\site-packages (from tensorflow-intel==2.13.0->tensorflow) (1.56.0)\n",
            "Requirement already satisfied: typing-extensions<4.6.0,>=3.6.6 in c:\\users\\boss\\anaconda3\\lib\\site-packages (from tensorflow-intel==2.13.0->tensorflow) (4.4.0)\n",
            "Requirement already satisfied: astunparse>=1.6.0 in c:\\users\\boss\\anaconda3\\lib\\site-packages (from tensorflow-intel==2.13.0->tensorflow) (1.6.3)\n",
            "Requirement already satisfied: numpy<=1.24.3,>=1.22 in c:\\users\\boss\\anaconda3\\lib\\site-packages (from tensorflow-intel==2.13.0->tensorflow) (1.23.5)\n",
            "Requirement already satisfied: tensorboard<2.14,>=2.13 in c:\\users\\boss\\anaconda3\\lib\\site-packages (from tensorflow-intel==2.13.0->tensorflow) (2.13.0)\n",
            "Requirement already satisfied: wheel<1.0,>=0.23.0 in c:\\users\\boss\\anaconda3\\lib\\site-packages (from astunparse>=1.6.0->tensorflow-intel==2.13.0->tensorflow) (0.38.4)\n",
            "Requirement already satisfied: werkzeug>=1.0.1 in c:\\users\\boss\\anaconda3\\lib\\site-packages (from tensorboard<2.14,>=2.13->tensorflow-intel==2.13.0->tensorflow) (2.2.2)\n",
            "Requirement already satisfied: requests<3,>=2.21.0 in c:\\users\\boss\\anaconda3\\lib\\site-packages (from tensorboard<2.14,>=2.13->tensorflow-intel==2.13.0->tensorflow) (2.28.1)\n",
            "Requirement already satisfied: google-auth-oauthlib<1.1,>=0.5 in c:\\users\\boss\\anaconda3\\lib\\site-packages (from tensorboard<2.14,>=2.13->tensorflow-intel==2.13.0->tensorflow) (1.0.0)\n",
            "Requirement already satisfied: markdown>=2.6.8 in c:\\users\\boss\\anaconda3\\lib\\site-packages (from tensorboard<2.14,>=2.13->tensorflow-intel==2.13.0->tensorflow) (3.4.1)\n",
            "Requirement already satisfied: tensorboard-data-server<0.8.0,>=0.7.0 in c:\\users\\boss\\anaconda3\\lib\\site-packages (from tensorboard<2.14,>=2.13->tensorflow-intel==2.13.0->tensorflow) (0.7.1)\n",
            "Requirement already satisfied: google-auth<3,>=1.6.3 in c:\\users\\boss\\anaconda3\\lib\\site-packages (from tensorboard<2.14,>=2.13->tensorflow-intel==2.13.0->tensorflow) (2.20.0)\n",
            "Requirement already satisfied: pyasn1-modules>=0.2.1 in c:\\users\\boss\\anaconda3\\lib\\site-packages (from google-auth<3,>=1.6.3->tensorboard<2.14,>=2.13->tensorflow-intel==2.13.0->tensorflow) (0.2.8)\n",
            "Requirement already satisfied: rsa<5,>=3.1.4 in c:\\users\\boss\\anaconda3\\lib\\site-packages (from google-auth<3,>=1.6.3->tensorboard<2.14,>=2.13->tensorflow-intel==2.13.0->tensorflow) (4.9)\n",
            "Requirement already satisfied: cachetools<6.0,>=2.0.0 in c:\\users\\boss\\anaconda3\\lib\\site-packages (from google-auth<3,>=1.6.3->tensorboard<2.14,>=2.13->tensorflow-intel==2.13.0->tensorflow) (5.3.1)\n",
            "Requirement already satisfied: urllib3<2.0 in c:\\users\\boss\\anaconda3\\lib\\site-packages (from google-auth<3,>=1.6.3->tensorboard<2.14,>=2.13->tensorflow-intel==2.13.0->tensorflow) (1.26.14)\n",
            "Requirement already satisfied: requests-oauthlib>=0.7.0 in c:\\users\\boss\\anaconda3\\lib\\site-packages (from google-auth-oauthlib<1.1,>=0.5->tensorboard<2.14,>=2.13->tensorflow-intel==2.13.0->tensorflow) (1.3.1)\n",
            "Requirement already satisfied: idna<4,>=2.5 in c:\\users\\boss\\anaconda3\\lib\\site-packages (from requests<3,>=2.21.0->tensorboard<2.14,>=2.13->tensorflow-intel==2.13.0->tensorflow) (3.4)\n",
            "Requirement already satisfied: charset-normalizer<3,>=2 in c:\\users\\boss\\anaconda3\\lib\\site-packages (from requests<3,>=2.21.0->tensorboard<2.14,>=2.13->tensorflow-intel==2.13.0->tensorflow) (2.0.4)\n",
            "Requirement already satisfied: certifi>=2017.4.17 in c:\\users\\boss\\anaconda3\\lib\\site-packages (from requests<3,>=2.21.0->tensorboard<2.14,>=2.13->tensorflow-intel==2.13.0->tensorflow) (2022.12.7)\n",
            "Requirement already satisfied: MarkupSafe>=2.1.1 in c:\\users\\boss\\anaconda3\\lib\\site-packages (from werkzeug>=1.0.1->tensorboard<2.14,>=2.13->tensorflow-intel==2.13.0->tensorflow) (2.1.1)\n",
            "Requirement already satisfied: pyasn1<0.5.0,>=0.4.6 in c:\\users\\boss\\anaconda3\\lib\\site-packages (from pyasn1-modules>=0.2.1->google-auth<3,>=1.6.3->tensorboard<2.14,>=2.13->tensorflow-intel==2.13.0->tensorflow) (0.4.8)\n",
            "Requirement already satisfied: oauthlib>=3.0.0 in c:\\users\\boss\\anaconda3\\lib\\site-packages (from requests-oauthlib>=0.7.0->google-auth-oauthlib<1.1,>=0.5->tensorboard<2.14,>=2.13->tensorflow-intel==2.13.0->tensorflow) (3.2.2)\n"
          ]
        },
        {
          "name": "stderr",
          "output_type": "stream",
          "text": [
            "WARNING: Ignoring invalid distribution -ensorflow-intel (c:\\users\\boss\\anaconda3\\lib\\site-packages)\n",
            "WARNING: Ignoring invalid distribution -ensorflow-intel (c:\\users\\boss\\anaconda3\\lib\\site-packages)\n",
            "WARNING: Ignoring invalid distribution -ensorflow-intel (c:\\users\\boss\\anaconda3\\lib\\site-packages)\n",
            "WARNING: Ignoring invalid distribution -ensorflow-intel (c:\\users\\boss\\anaconda3\\lib\\site-packages)\n",
            "WARNING: Ignoring invalid distribution -ensorflow-intel (c:\\users\\boss\\anaconda3\\lib\\site-packages)\n",
            "WARNING: Ignoring invalid distribution -ensorflow-intel (c:\\users\\boss\\anaconda3\\lib\\site-packages)\n"
          ]
        }
      ],
      "source": [
        "!pip install --upgrade tensorflow "
      ]
    },
    {
      "cell_type": "code",
      "execution_count": 5,
      "metadata": {
        "colab": {
          "base_uri": "https://localhost:8080/",
          "height": 36
        },
        "colab_type": "code",
        "id": "2qUhyNPnhBtk",
        "outputId": "bbb1d789-75ec-4308-d7db-09c2e521c515"
      },
      "outputs": [
        {
          "data": {
            "text/plain": [
              "'2.13.0'"
            ]
          },
          "execution_count": 5,
          "metadata": {},
          "output_type": "execute_result"
        }
      ],
      "source": [
        "# Import des librairies nécessaires\n",
        "import pandas as pd\n",
        "import numpy as np \n",
        "import tensorflow_datasets as tfds\n",
        "import tensorflow as tf \n",
        "tf.__version__"
      ]
    },
    {
      "cell_type": "markdown",
      "metadata": {
        "colab_type": "text",
        "id": "VSWse8KgHmQw"
      },
      "source": [
        "## Import des données "
      ]
    },
    {
      "cell_type": "code",
      "execution_count": 6,
      "metadata": {
        "colab": {},
        "colab_type": "code",
        "id": "U2-Sd6lq_8ax"
      },
      "outputs": [],
      "source": [
        "# Fonction de chargement du document txt\n",
        "def load_doc(url):\n",
        "  df = pd.read_csv(url, delimiter=\"\\t\", header=None)\n",
        "  return df"
      ]
    },
    {
      "cell_type": "code",
      "execution_count": 7,
      "metadata": {
        "colab": {
          "base_uri": "https://localhost:8080/",
          "height": 206
        },
        "colab_type": "code",
        "id": "Yj34GLiihGw1",
        "outputId": "3d1416ed-9e2b-47f3-ea58-816563bc95fd"
      },
      "outputs": [
        {
          "data": {
            "text/html": [
              "<div>\n",
              "<style scoped>\n",
              "    .dataframe tbody tr th:only-of-type {\n",
              "        vertical-align: middle;\n",
              "    }\n",
              "\n",
              "    .dataframe tbody tr th {\n",
              "        vertical-align: top;\n",
              "    }\n",
              "\n",
              "    .dataframe thead th {\n",
              "        text-align: right;\n",
              "    }\n",
              "</style>\n",
              "<table border=\"1\" class=\"dataframe\">\n",
              "  <thead>\n",
              "    <tr style=\"text-align: right;\">\n",
              "      <th></th>\n",
              "      <th>0</th>\n",
              "      <th>1</th>\n",
              "    </tr>\n",
              "  </thead>\n",
              "  <tbody>\n",
              "    <tr>\n",
              "      <th>0</th>\n",
              "      <td>Go.</td>\n",
              "      <td>Va !</td>\n",
              "    </tr>\n",
              "    <tr>\n",
              "      <th>1</th>\n",
              "      <td>Hi.</td>\n",
              "      <td>Salut !</td>\n",
              "    </tr>\n",
              "    <tr>\n",
              "      <th>2</th>\n",
              "      <td>Run!</td>\n",
              "      <td>Cours !</td>\n",
              "    </tr>\n",
              "    <tr>\n",
              "      <th>3</th>\n",
              "      <td>Run!</td>\n",
              "      <td>Courez !</td>\n",
              "    </tr>\n",
              "    <tr>\n",
              "      <th>4</th>\n",
              "      <td>Wow!</td>\n",
              "      <td>Ça alors !</td>\n",
              "    </tr>\n",
              "  </tbody>\n",
              "</table>\n",
              "</div>"
            ],
            "text/plain": [
              "      0           1\n",
              "0   Go.        Va !\n",
              "1   Hi.     Salut !\n",
              "2  Run!     Cours !\n",
              "3  Run!    Courez !\n",
              "4  Wow!  Ça alors !"
            ]
          },
          "execution_count": 7,
          "metadata": {},
          "output_type": "execute_result"
        }
      ],
      "source": [
        "# Chargement du document txt\n",
        "doc = load_doc(\"https://go.aws/38ECHUB\")\n",
        "doc.head()"
      ]
    },
    {
      "cell_type": "code",
      "execution_count": 8,
      "metadata": {
        "colab": {},
        "colab_type": "code",
        "id": "YrcFSfBZMuQ7"
      },
      "outputs": [],
      "source": [
        "# Prenons simplement un sample de 5000 phrases pour éviter des lenteurs \n",
        "doc = doc.sample(5000)"
      ]
    },
    {
      "cell_type": "code",
      "execution_count": 9,
      "metadata": {
        "colab": {
          "base_uri": "https://localhost:8080/",
          "height": 1000
        },
        "colab_type": "code",
        "id": "E0gGTgDFhJN6",
        "outputId": "f5ad1982-491d-4f4c-9fd3-db5e37c404ca"
      },
      "outputs": [
        {
          "name": "stderr",
          "output_type": "stream",
          "text": [
            "WARNING: Ignoring invalid distribution -ensorflow-intel (c:\\users\\boss\\anaconda3\\lib\\site-packages)\n",
            "WARNING: Ignoring invalid distribution -ensorflow-intel (c:\\users\\boss\\anaconda3\\lib\\site-packages)\n",
            "WARNING: Ignoring invalid distribution -ensorflow-intel (c:\\users\\boss\\anaconda3\\lib\\site-packages)\n",
            "WARNING: Ignoring invalid distribution -ensorflow-intel (c:\\users\\boss\\anaconda3\\lib\\site-packages)\n",
            "WARNING: Ignoring invalid distribution -ensorflow-intel (c:\\users\\boss\\anaconda3\\lib\\site-packages)\n",
            "WARNING: Ignoring invalid distribution -ensorflow-intel (c:\\users\\boss\\anaconda3\\lib\\site-packages)\n"
          ]
        },
        {
          "name": "stdout",
          "output_type": "stream",
          "text": [
            "Collecting fr-core-news-sm==3.5.0\n",
            "  Downloading https://github.com/explosion/spacy-models/releases/download/fr_core_news_sm-3.5.0/fr_core_news_sm-3.5.0-py3-none-any.whl (16.3 MB)\n",
            "     -------------------------------------- 16.3/16.3 MB 469.0 kB/s eta 0:00:00\n",
            "Requirement already satisfied: spacy<3.6.0,>=3.5.0 in c:\\users\\boss\\anaconda3\\lib\\site-packages (from fr-core-news-sm==3.5.0) (3.5.3)\n",
            "Requirement already satisfied: setuptools in c:\\users\\boss\\anaconda3\\lib\\site-packages (from spacy<3.6.0,>=3.5.0->fr-core-news-sm==3.5.0) (65.6.3)\n",
            "Requirement already satisfied: pathy>=0.10.0 in c:\\users\\boss\\anaconda3\\lib\\site-packages (from spacy<3.6.0,>=3.5.0->fr-core-news-sm==3.5.0) (0.10.2)\n",
            "Requirement already satisfied: jinja2 in c:\\users\\boss\\anaconda3\\lib\\site-packages (from spacy<3.6.0,>=3.5.0->fr-core-news-sm==3.5.0) (3.1.2)\n",
            "Requirement already satisfied: packaging>=20.0 in c:\\users\\boss\\anaconda3\\lib\\site-packages (from spacy<3.6.0,>=3.5.0->fr-core-news-sm==3.5.0) (22.0)\n",
            "Requirement already satisfied: preshed<3.1.0,>=3.0.2 in c:\\users\\boss\\anaconda3\\lib\\site-packages (from spacy<3.6.0,>=3.5.0->fr-core-news-sm==3.5.0) (3.0.8)\n",
            "Requirement already satisfied: langcodes<4.0.0,>=3.2.0 in c:\\users\\boss\\anaconda3\\lib\\site-packages (from spacy<3.6.0,>=3.5.0->fr-core-news-sm==3.5.0) (3.3.0)\n",
            "Requirement already satisfied: tqdm<5.0.0,>=4.38.0 in c:\\users\\boss\\anaconda3\\lib\\site-packages (from spacy<3.6.0,>=3.5.0->fr-core-news-sm==3.5.0) (4.64.1)\n",
            "Requirement already satisfied: spacy-legacy<3.1.0,>=3.0.11 in c:\\users\\boss\\anaconda3\\lib\\site-packages (from spacy<3.6.0,>=3.5.0->fr-core-news-sm==3.5.0) (3.0.12)\n",
            "Requirement already satisfied: requests<3.0.0,>=2.13.0 in c:\\users\\boss\\anaconda3\\lib\\site-packages (from spacy<3.6.0,>=3.5.0->fr-core-news-sm==3.5.0) (2.28.1)\n",
            "Requirement already satisfied: wasabi<1.2.0,>=0.9.1 in c:\\users\\boss\\anaconda3\\lib\\site-packages (from spacy<3.6.0,>=3.5.0->fr-core-news-sm==3.5.0) (1.1.2)\n",
            "Requirement already satisfied: cymem<2.1.0,>=2.0.2 in c:\\users\\boss\\anaconda3\\lib\\site-packages (from spacy<3.6.0,>=3.5.0->fr-core-news-sm==3.5.0) (2.0.7)\n",
            "Requirement already satisfied: numpy>=1.15.0 in c:\\users\\boss\\anaconda3\\lib\\site-packages (from spacy<3.6.0,>=3.5.0->fr-core-news-sm==3.5.0) (1.23.5)\n",
            "Requirement already satisfied: smart-open<7.0.0,>=5.2.1 in c:\\users\\boss\\anaconda3\\lib\\site-packages (from spacy<3.6.0,>=3.5.0->fr-core-news-sm==3.5.0) (5.2.1)\n",
            "Requirement already satisfied: srsly<3.0.0,>=2.4.3 in c:\\users\\boss\\anaconda3\\lib\\site-packages (from spacy<3.6.0,>=3.5.0->fr-core-news-sm==3.5.0) (2.4.6)\n",
            "Requirement already satisfied: catalogue<2.1.0,>=2.0.6 in c:\\users\\boss\\anaconda3\\lib\\site-packages (from spacy<3.6.0,>=3.5.0->fr-core-news-sm==3.5.0) (2.0.8)\n",
            "Requirement already satisfied: pydantic!=1.8,!=1.8.1,<1.11.0,>=1.7.4 in c:\\users\\boss\\anaconda3\\lib\\site-packages (from spacy<3.6.0,>=3.5.0->fr-core-news-sm==3.5.0) (1.10.9)\n",
            "Requirement already satisfied: murmurhash<1.1.0,>=0.28.0 in c:\\users\\boss\\anaconda3\\lib\\site-packages (from spacy<3.6.0,>=3.5.0->fr-core-news-sm==3.5.0) (1.0.9)\n",
            "Requirement already satisfied: spacy-loggers<2.0.0,>=1.0.0 in c:\\users\\boss\\anaconda3\\lib\\site-packages (from spacy<3.6.0,>=3.5.0->fr-core-news-sm==3.5.0) (1.0.4)\n",
            "Requirement already satisfied: typer<0.8.0,>=0.3.0 in c:\\users\\boss\\anaconda3\\lib\\site-packages (from spacy<3.6.0,>=3.5.0->fr-core-news-sm==3.5.0) (0.7.0)\n",
            "Requirement already satisfied: thinc<8.2.0,>=8.1.8 in c:\\users\\boss\\anaconda3\\lib\\site-packages (from spacy<3.6.0,>=3.5.0->fr-core-news-sm==3.5.0) (8.1.10)\n",
            "Requirement already satisfied: typing-extensions>=4.2.0 in c:\\users\\boss\\anaconda3\\lib\\site-packages (from pydantic!=1.8,!=1.8.1,<1.11.0,>=1.7.4->spacy<3.6.0,>=3.5.0->fr-core-news-sm==3.5.0) (4.4.0)\n",
            "Requirement already satisfied: charset-normalizer<3,>=2 in c:\\users\\boss\\anaconda3\\lib\\site-packages (from requests<3.0.0,>=2.13.0->spacy<3.6.0,>=3.5.0->fr-core-news-sm==3.5.0) (2.0.4)\n",
            "Requirement already satisfied: idna<4,>=2.5 in c:\\users\\boss\\anaconda3\\lib\\site-packages (from requests<3.0.0,>=2.13.0->spacy<3.6.0,>=3.5.0->fr-core-news-sm==3.5.0) (3.4)\n",
            "Requirement already satisfied: urllib3<1.27,>=1.21.1 in c:\\users\\boss\\anaconda3\\lib\\site-packages (from requests<3.0.0,>=2.13.0->spacy<3.6.0,>=3.5.0->fr-core-news-sm==3.5.0) (1.26.14)\n",
            "Requirement already satisfied: certifi>=2017.4.17 in c:\\users\\boss\\anaconda3\\lib\\site-packages (from requests<3.0.0,>=2.13.0->spacy<3.6.0,>=3.5.0->fr-core-news-sm==3.5.0) (2022.12.7)\n",
            "Requirement already satisfied: confection<1.0.0,>=0.0.1 in c:\\users\\boss\\anaconda3\\lib\\site-packages (from thinc<8.2.0,>=8.1.8->spacy<3.6.0,>=3.5.0->fr-core-news-sm==3.5.0) (0.0.4)\n",
            "Requirement already satisfied: blis<0.8.0,>=0.7.8 in c:\\users\\boss\\anaconda3\\lib\\site-packages (from thinc<8.2.0,>=8.1.8->spacy<3.6.0,>=3.5.0->fr-core-news-sm==3.5.0) (0.7.9)\n",
            "Requirement already satisfied: colorama in c:\\users\\boss\\anaconda3\\lib\\site-packages (from tqdm<5.0.0,>=4.38.0->spacy<3.6.0,>=3.5.0->fr-core-news-sm==3.5.0) (0.4.6)\n",
            "Requirement already satisfied: click<9.0.0,>=7.1.1 in c:\\users\\boss\\anaconda3\\lib\\site-packages (from typer<0.8.0,>=0.3.0->spacy<3.6.0,>=3.5.0->fr-core-news-sm==3.5.0) (8.0.4)\n",
            "Requirement already satisfied: MarkupSafe>=2.0 in c:\\users\\boss\\anaconda3\\lib\\site-packages (from jinja2->spacy<3.6.0,>=3.5.0->fr-core-news-sm==3.5.0) (2.1.1)\n",
            "\u001b[38;5;2m✔ Download and installation successful\u001b[0m\n",
            "You can now load the package via spacy.load('fr_core_news_sm')\n",
            "Collecting en-core-web-sm==3.5.0\n",
            "  Downloading https://github.com/explosion/spacy-models/releases/download/en_core_web_sm-3.5.0/en_core_web_sm-3.5.0-py3-none-any.whl (12.8 MB)\n",
            "     -------------------------------------- 12.8/12.8 MB 480.0 kB/s eta 0:00:00\n",
            "Requirement already satisfied: spacy<3.6.0,>=3.5.0 in c:\\users\\boss\\anaconda3\\lib\\site-packages (from en-core-web-sm==3.5.0) (3.5.3)\n",
            "Requirement already satisfied: murmurhash<1.1.0,>=0.28.0 in c:\\users\\boss\\anaconda3\\lib\\site-packages (from spacy<3.6.0,>=3.5.0->en-core-web-sm==3.5.0) (1.0.9)\n",
            "Requirement already satisfied: pathy>=0.10.0 in c:\\users\\boss\\anaconda3\\lib\\site-packages (from spacy<3.6.0,>=3.5.0->en-core-web-sm==3.5.0) (0.10.2)\n",
            "Requirement already satisfied: typer<0.8.0,>=0.3.0 in c:\\users\\boss\\anaconda3\\lib\\site-packages (from spacy<3.6.0,>=3.5.0->en-core-web-sm==3.5.0) (0.7.0)\n",
            "Requirement already satisfied: srsly<3.0.0,>=2.4.3 in c:\\users\\boss\\anaconda3\\lib\\site-packages (from spacy<3.6.0,>=3.5.0->en-core-web-sm==3.5.0) (2.4.6)\n",
            "Requirement already satisfied: tqdm<5.0.0,>=4.38.0 in c:\\users\\boss\\anaconda3\\lib\\site-packages (from spacy<3.6.0,>=3.5.0->en-core-web-sm==3.5.0) (4.64.1)\n",
            "Requirement already satisfied: catalogue<2.1.0,>=2.0.6 in c:\\users\\boss\\anaconda3\\lib\\site-packages (from spacy<3.6.0,>=3.5.0->en-core-web-sm==3.5.0) (2.0.8)\n",
            "Requirement already satisfied: smart-open<7.0.0,>=5.2.1 in c:\\users\\boss\\anaconda3\\lib\\site-packages (from spacy<3.6.0,>=3.5.0->en-core-web-sm==3.5.0) (5.2.1)\n",
            "Requirement already satisfied: spacy-legacy<3.1.0,>=3.0.11 in c:\\users\\boss\\anaconda3\\lib\\site-packages (from spacy<3.6.0,>=3.5.0->en-core-web-sm==3.5.0) (3.0.12)\n",
            "Requirement already satisfied: cymem<2.1.0,>=2.0.2 in c:\\users\\boss\\anaconda3\\lib\\site-packages (from spacy<3.6.0,>=3.5.0->en-core-web-sm==3.5.0) (2.0.7)\n",
            "Requirement already satisfied: jinja2 in c:\\users\\boss\\anaconda3\\lib\\site-packages (from spacy<3.6.0,>=3.5.0->en-core-web-sm==3.5.0) (3.1.2)\n",
            "Requirement already satisfied: wasabi<1.2.0,>=0.9.1 in c:\\users\\boss\\anaconda3\\lib\\site-packages (from spacy<3.6.0,>=3.5.0->en-core-web-sm==3.5.0) (1.1.2)\n",
            "Requirement already satisfied: packaging>=20.0 in c:\\users\\boss\\anaconda3\\lib\\site-packages (from spacy<3.6.0,>=3.5.0->en-core-web-sm==3.5.0) (22.0)\n",
            "Requirement already satisfied: spacy-loggers<2.0.0,>=1.0.0 in c:\\users\\boss\\anaconda3\\lib\\site-packages (from spacy<3.6.0,>=3.5.0->en-core-web-sm==3.5.0) (1.0.4)\n",
            "Requirement already satisfied: thinc<8.2.0,>=8.1.8 in c:\\users\\boss\\anaconda3\\lib\\site-packages (from spacy<3.6.0,>=3.5.0->en-core-web-sm==3.5.0) (8.1.10)\n",
            "Requirement already satisfied: requests<3.0.0,>=2.13.0 in c:\\users\\boss\\anaconda3\\lib\\site-packages (from spacy<3.6.0,>=3.5.0->en-core-web-sm==3.5.0) (2.28.1)\n",
            "Requirement already satisfied: langcodes<4.0.0,>=3.2.0 in c:\\users\\boss\\anaconda3\\lib\\site-packages (from spacy<3.6.0,>=3.5.0->en-core-web-sm==3.5.0) (3.3.0)\n",
            "Requirement already satisfied: setuptools in c:\\users\\boss\\anaconda3\\lib\\site-packages (from spacy<3.6.0,>=3.5.0->en-core-web-sm==3.5.0) (65.6.3)\n",
            "Requirement already satisfied: pydantic!=1.8,!=1.8.1,<1.11.0,>=1.7.4 in c:\\users\\boss\\anaconda3\\lib\\site-packages (from spacy<3.6.0,>=3.5.0->en-core-web-sm==3.5.0) (1.10.9)\n",
            "Requirement already satisfied: preshed<3.1.0,>=3.0.2 in c:\\users\\boss\\anaconda3\\lib\\site-packages (from spacy<3.6.0,>=3.5.0->en-core-web-sm==3.5.0) (3.0.8)\n",
            "Requirement already satisfied: numpy>=1.15.0 in c:\\users\\boss\\anaconda3\\lib\\site-packages (from spacy<3.6.0,>=3.5.0->en-core-web-sm==3.5.0) (1.23.5)\n",
            "Requirement already satisfied: typing-extensions>=4.2.0 in c:\\users\\boss\\anaconda3\\lib\\site-packages (from pydantic!=1.8,!=1.8.1,<1.11.0,>=1.7.4->spacy<3.6.0,>=3.5.0->en-core-web-sm==3.5.0) (4.4.0)\n",
            "Requirement already satisfied: idna<4,>=2.5 in c:\\users\\boss\\anaconda3\\lib\\site-packages (from requests<3.0.0,>=2.13.0->spacy<3.6.0,>=3.5.0->en-core-web-sm==3.5.0) (3.4)\n",
            "Requirement already satisfied: charset-normalizer<3,>=2 in c:\\users\\boss\\anaconda3\\lib\\site-packages (from requests<3.0.0,>=2.13.0->spacy<3.6.0,>=3.5.0->en-core-web-sm==3.5.0) (2.0.4)\n",
            "Requirement already satisfied: urllib3<1.27,>=1.21.1 in c:\\users\\boss\\anaconda3\\lib\\site-packages (from requests<3.0.0,>=2.13.0->spacy<3.6.0,>=3.5.0->en-core-web-sm==3.5.0) (1.26.14)\n",
            "Requirement already satisfied: certifi>=2017.4.17 in c:\\users\\boss\\anaconda3\\lib\\site-packages (from requests<3.0.0,>=2.13.0->spacy<3.6.0,>=3.5.0->en-core-web-sm==3.5.0) (2022.12.7)\n",
            "Requirement already satisfied: confection<1.0.0,>=0.0.1 in c:\\users\\boss\\anaconda3\\lib\\site-packages (from thinc<8.2.0,>=8.1.8->spacy<3.6.0,>=3.5.0->en-core-web-sm==3.5.0) (0.0.4)\n",
            "Requirement already satisfied: blis<0.8.0,>=0.7.8 in c:\\users\\boss\\anaconda3\\lib\\site-packages (from thinc<8.2.0,>=8.1.8->spacy<3.6.0,>=3.5.0->en-core-web-sm==3.5.0) (0.7.9)\n",
            "Requirement already satisfied: colorama in c:\\users\\boss\\anaconda3\\lib\\site-packages (from tqdm<5.0.0,>=4.38.0->spacy<3.6.0,>=3.5.0->en-core-web-sm==3.5.0) (0.4.6)\n",
            "Requirement already satisfied: click<9.0.0,>=7.1.1 in c:\\users\\boss\\anaconda3\\lib\\site-packages (from typer<0.8.0,>=0.3.0->spacy<3.6.0,>=3.5.0->en-core-web-sm==3.5.0) (8.0.4)\n",
            "Requirement already satisfied: MarkupSafe>=2.0 in c:\\users\\boss\\anaconda3\\lib\\site-packages (from jinja2->spacy<3.6.0,>=3.5.0->en-core-web-sm==3.5.0) (2.1.1)\n",
            "\u001b[38;5;2m✔ Download and installation successful\u001b[0m\n",
            "You can now load the package via spacy.load('en_core_web_sm')\n"
          ]
        },
        {
          "name": "stderr",
          "output_type": "stream",
          "text": [
            "WARNING: Ignoring invalid distribution -ensorflow-intel (c:\\users\\boss\\anaconda3\\lib\\site-packages)\n",
            "WARNING: Ignoring invalid distribution -ensorflow-intel (c:\\users\\boss\\anaconda3\\lib\\site-packages)\n",
            "WARNING: Ignoring invalid distribution -ensorflow-intel (c:\\users\\boss\\anaconda3\\lib\\site-packages)\n",
            "WARNING: Ignoring invalid distribution -ensorflow-intel (c:\\users\\boss\\anaconda3\\lib\\site-packages)\n",
            "WARNING: Ignoring invalid distribution -ensorflow-intel (c:\\users\\boss\\anaconda3\\lib\\site-packages)\n",
            "WARNING: Ignoring invalid distribution -ensorflow-intel (c:\\users\\boss\\anaconda3\\lib\\site-packages)\n"
          ]
        }
      ],
      "source": [
        "# Chargement des langages français et anglais de spacy \n",
        "!python -m spacy download fr_core_news_sm\n",
        "!python -m spacy download en_core_web_sm"
      ]
    },
    {
      "cell_type": "code",
      "execution_count": 10,
      "metadata": {
        "colab": {},
        "colab_type": "code",
        "id": "cBPt41Isna8a"
      },
      "outputs": [],
      "source": [
        "# Import de chacun des langages\n",
        "import fr_core_news_sm\n",
        "import en_core_web_sm\n",
        "nlp_fr = fr_core_news_sm.load()\n",
        "nlp_en = en_core_web_sm.load()"
      ]
    },
    {
      "cell_type": "code",
      "execution_count": 11,
      "metadata": {
        "colab": {},
        "colab_type": "code",
        "id": "2O4hj8DGoFzr"
      },
      "outputs": [],
      "source": [
        "# Chargement du corpus entier de phrases françaises et anglaises\n",
        "fr_corpus = \" \".join(doc.iloc[:, 1].to_list())\n",
        "en_corpus = \" \".join(doc.iloc[:, 0].to_list())"
      ]
    },
    {
      "cell_type": "code",
      "execution_count": 12,
      "metadata": {
        "colab": {
          "base_uri": "https://localhost:8080/",
          "height": 185
        },
        "colab_type": "code",
        "id": "wfUur9Zqb_1_",
        "outputId": "05d7c627-b950-4ada-ea3f-bc92ee265328"
      },
      "outputs": [
        {
          "data": {
            "text/plain": [
              "'Afin d\\'être à l\\'heure, je courus. Contactez-moi dès que vous arrivez ici. Tu ne devrais pas attendre ici. Pouvez-vous me dire ce que Tom a fait\\u202f? Quelqu\\'un a coupé la corde. Il est trop tôt pour que tu viennes. Je me demande ce qui les fait rire. Elle doit avoir dit un mensonge. J\\'ignore pourquoi vous êtes tous tellement en colère. On s\\'est tellement amusé ensemble. Il y avait une grosse pluie hier. Laquelle de ces raquettes est la tienne ? J\\'ai besoin d\\'un ordinateur portable. Laisse-moi voir ce que tu as dans la main ! Ce genre de personne ne demande presque jamais d\\'augmentation. Ne sors pas sans dire au revoir. Il a d\\'excellents réflexes. Nous le ferons ensemble. Il y a encore beaucoup de travail à faire. Rencontrer des garçons est difficile. Je pense que Tom a fait cela intentionnellement. Je suis né en octobre. Il se tourna vers ses amis pour obtenir de l\\'aide. Elles disposent de suffisamment d\\'argent. Passes-tu du bon temps ? Je n\\'aime aucune d\\'entre elles. Tu n\\'aurais pas dû laisser ceci se produire. Il est encore trop tôt pour se lever. Tu parles trop vite. Emmène la chaise dans ta chambre. Je veux juste que vous sachiez que je ne serai pas en mesure de venir à ton pique-nique. Fumer a beaucoup à voir avec le cancer. Que dis-tu d\\'aller nager ? Il a déclaré\\xa0: «\\xa0Je veux devenir scientifique.\\xa0» Tom est celui qui a brisé sa fenêtre hier. Tu ne peux pas prendre ça avec toi. Avez-vous dit oui ? C\\'est la pire des choses qui me soit jamais arrivée\\u202f! Occupe-toi de cet homme-là. Vous voulez prendre un verre\\u202f? Il s\\'en alla la mine dépitée. Voyez-vous un inconvénient à ce que j\\'allume la radio ? Cette moquette est belle. J\\'étais assise derrière Tom. Je peux rouler jusqu\\'à Boston et faire le retour avec un plein d\\'essence. Tu es brillant. Toi et moi sommes bons amis. Quelle tasse est la tienne ? Le roi a abusé de son pouvoir. Elles ont dit qu\\'elles partaient. Cela ne dérangerait pas Tom de manger de la viande et des patates tous les jours de la semaine. Nous ne sommes plus amies. Il est puissant. Laissez-moi vérifier. Il a essayé d\\'arrêter de fumer plusieurs fois mais il a échoué. Avez-vous entendu ce que j\\'ai dit ? Pourquoi ne prends-tu pas ta température ? Je suis à l\\'hôpital. J\\'ai été frappé par la foudre. C\\'est une belle pièce de viande. Je suis sûr que tu aurais fait la même chose pour moi. Seriez-vous disposées à m\\'envoyer un échantillon gratuitement ? Je te fais une faveur. Je crois que Tom a dit qu\\'il resterait à Boston pour trois semaines. Il aime les jeux de hasard. Ta montre se trouve sur la table. Pensez-vous vraiment que ce soit une bonne idée ? Je n\\'ai pas pris ton argent. Nous faisons tout ce que nous pouvons pour retrouver votre fille. C\\'est moi le patron, ici. Ce livre nous sera très utile. Sa fille a l’étoffe d’un bon professeur. Nous nous trouvions dans le salon lorsque nous avons entendu le coup de feu. Je vais aller acheter un ticket, alors s\\'il te plaît, surveille mes sacs une minute. N\\'importe quel étudiant peut résoudre ce problème. Nous sommes devenus des amis. Arrache la plante par les racines. Il fait tourner la boîte avec ses fils. « Serez-vous à ma soirée, demain ? » « J\\'essaierai d\\'y être. » Pourquoi est-ce que Tom ne dort pas ? Que vais-je dire à Tom\\u202f? Nous avons monté la tente près de la rivière. Tout le monde se mit à applaudir. Il a une mauvaise vue. Reculez\\u2009! C\\'était vous, n\\'est-ce pas\\xa0? Il met souvent les gens en colère. As-tu payé quelqu\\'un pour écrire ça pour toi\\xa0? Je pense qu\\'il est temps pour moi de rompre. J\\'aimerais que Tom arrête de dire à tout le monde que je suis son frère. Je passerai vous prendre devant l\\'hôtel. On a du pain sur la planche ce matin. Ne me trompez pas. Je n\\'apprécie pas qu\\'on me mente. Le vent souffle de l\\'est. Ne dites pas de telles choses ! Peut-être devriez-vous faire ceci ensemble. J\\'aimerais remercier tous ceux qui ont aidé. Il a convaincu sa femme de ne pas divorcer. Je n\\'ai jamais eu de mal à m\\'endormir. Êtes-vous sûr de vouloir vous y rendre ? Tom est une source d\\'inspiration pour nous tous. Je pensais que vous bluffiez. Il le fait plus rapidement que vous. J\\'ai mis le souk. Je peux vous entendre. Je ne peux vous dire que ce que je sais. J\\'ai eu ce vélo pour rien. Tout le monde a ri de lui. Il était obligé d\\'agir de la sorte. Fiez-vous juste à moi ! Je t\\'ai mené précisément où je voulais. J\\'ai entendu que des gens s\\'endorment dans leurs baignoires. Il y a une pomme sur le bureau. Mes enfants habitent à Boston. Je pense que nous en avons fini. Ça ne marchera pas. Tom a ignoré nos conseils. Je veux m\\'y rendre une fois encore. Ne devrions nous pas demander à Tom ? Je leur ai demandé de réparer ma voiture. Il a retenu son souffle. Quel toupet\\xa0! Elle sait parler japonais. Pensez simplement à ce que vous ressentiriez en pareille situation ! Vous pouvez encore changer d\\'avis. On ne devrait pas faire de commentaires. Combien coûtent les œufs ? Faites de la place pour Tom. Elle lui a demandé d\\'aider son père à nettoyer le garage. Je ne reconnais pas le numéro. Je pense que je comprends la pression que tu subis. Je ne savais pas que vous étiez si fatigué. Combien de temps ceci durera-t-il\\xa0? Je me suis posé la même question. Je ne pense pas qu\\'aucun de nous deux ne veuille que cela arrive. Ce fut plutôt amusant. Vous n\\'irez jamais loin sans la coopération, la confiance et la camaraderie des autres hommes et femmes. Que cherche-t-on ? Je ne pensais pas que vous reviendriez. Vous étiez effrayé, n\\'est-ce pas ? J\\'ai besoin de toi à mes côtés. Tom ne veut pas d\\'enfants. C\\'est très gentil de ta part de m\\'envoyer un si joli cadeau. Je trouve cela difficile à croire. Je connais Tom depuis tout petit. Est-ce que c\\'était toi dans la voiture ? Je ne pensais pas avoir besoin d\\'une quelconque aide. Donne-le à quiconque en a besoin. J\\'ignore si j\\'aurai le temps de le faire. Tu n\\'es pas encore prête, n\\'est-ce pas\\xa0? Je me réjouis de te voir dimanche prochain. Parfois, j\\'aimerais avoir une autre religion. Où devrais-je le mettre ? J\\'ai rencontré des randonneurs dans la montagne. Mary est mignonne peu importe ce qu\\'elle porte. On m\\'a saqué. Tu sembles distraite, aujourd\\'hui. Où est la clé\\xa0? Est-ce Tom\\xa0? Je ne pense pas qu\\'il viendra. Ça a dû être cher. Vous devez des excuses à Tom. J\\'ai finalement le sentiment que tout va dans mon sens. Il y a quelques livres sur le bureau. Un papillon est une chenille adulte. Qu\\'apprenez-vous à l\\'école\\u202f? Si vous pouviez venir, je serais vraiment heureuse. En as-tu une idée\\u202f? Mon camarade de chambrée s\\'est plaint du bruit. C\\'est tout pour aujourd\\'hui. Serez-vous tous là demain ? Ne saviez-vous pas que l\\'huile flotte sur l\\'eau ? Vous avez besoin de redémarrer votre ordinateur. Il se peut que je sois partie un moment. À ta santé, gamin\\u202f! Nous nous rencontrons une fois par mois. Ton chien m\\'aboie toujours dessus. Il prétendait être un docteur. Ce n\\'est pas parce que je le hais mais parce que je l\\'aime. Tom fit quelque chose de très stupide. Il sera là dans dix minutes. Aimeriez-vous venir dîner ? Il est très gentil avec moi. Excusez-moi, puis-je vous dire un mot ? Je ne le veux plus. C\\'est marrant, je ne me souviens pas de cela. La voiture a heurté un arbre. J\\'ai oublié de vous indiquer mon numéro de téléphone. Elles avaient l\\'air très heureuses. Un brillant avenir t\\'attend. Il travaille la nuit. Dès que je peux en avoir l\\'occasion, j\\'aiderai votre mère à peindre la clôture. Nous sommes intelligents. Se sont-ils parlé ? Les cours démarrent à huit heures le matin. J\\'aimerais pouvoir empêcher cela. Je ne pense pas qu\\'aucune de nous deux ne veuille que cela arrive. Elles avaient peur de le faire. Il me désole de voir Tom partir. Il emmène souvent ses enfants au zoo. Tu pourrais dédicacer ce livre, s\\'il te plaît ? J\\'étais toujours la plus rapide. Pourquoi es-tu venue ici\\u202f? Ne comprenez pas mes paroles de travers ! Ne vous faites pas une idée erronée. C\\'est assez raisonnable. Je veux que tu restes ici jusqu\\'à ce que je revienne. Tom a remporté le premier prix, n\\'est-ce pas ? Elles semblent toutes deux suspectes. Tout le monde a crevé. Le film que Tom regardait n\\'était pas en français. Ne sois pas impoli ! Conduis prudemment\\u202f! Comme tu as de la fièvre, tu devrais rester à la maison. Y parviendra-t-il ou échouera-t-il ? Tu ne peux pas savoir comme je suis ému. Marie est une fille très indépendante. As-tu parlé avec ta femme ? Personne ne se trouvait dans le parc. Elles vont torturer Tom. Il ne parvint pas à arriver à l\\'heure. Tom a attendu un moment. Elle a l\\'air jeune. J\\'éprouve de la difficulté à exprimer mon opinion en paroles. Il vit seul. Je me baigne tous les jours. Embauchez-vous ? Combien y a-t-il de calories dans ce plat ? J\\'espère que vous ne serez pas trop déçus. Nous voulions sortir de là. Tu as l\\'air en forme. Je gagnerai, quels que soient les moyens que cela requière. T\\'es-tu amusé ? N\\'abandonne pas le combat ! Les gens peuvent facilement faire la différence entre elles. Il fut sidéré par sa beauté. Pour faire court, il a épousé son premier amour. Laisse-moi réessayer ! Tu es invité. Il se lie d\\'amitié avec tous ceux qu\\'il rencontre. J\\'en ai pris soin pour vous. Voulez-vous jouer avec Tom\\xa0? Je ne me fie pas à beaucoup de gens. Tom s\\'est noyé. Je veux juste que tu saches combien j\\'apprécie ça. Tu n\\'es pas normale. Ne me poussez pas ! Je suis vraiment occupé, à l\\'instant. J\\'aimerais avoir davantage de temps à consacrer à mes amis. Nous voulons avoir une grande famille. Il a l\\'habitude de travailler dur. La ville a subi le bombardement d’avions ennemis. Ma mère ne peut pas venir. Es-tu fier de moi ? Tom et Mary n\\'ont pas peur. Ce parapluie est celui de Tom. Elle a un chat et deux chiens. Je ne peux pas te dire ce que nous avons fini par faire. Si je me faisais prendre, sais-tu ce qui arriverait ? Pense simplement à ce que tu ressentirais en pareille situation\\u2009! On t\\'a prévenu. Je n\\'arrive pas à décider quelle voiture acheter. Tu me déçois. Aucune de ces voitures n\\'est à moi. Tom aime jouer au tennis, mais pas moi. Qui vous a forcé à le faire\\u202f? Tom a essayé de le faire hier. Je pense qu\\'elle est honnête. Tom était vendeur de voitures. Il lit toujours des bandes dessinées. Vous ne semblez pas si malins. Je ne crois pas que cela soit vrai. Il est habitué à marcher sur de longues distances. Penses-tu qu\\'il a commis cette erreur intentionnellement\\u202f? Ça n\\'est pas parce que quelque chose est possible que cela en fait une bonne idée. Qu\\'est-ce que vous désirez ? J\\'apprécie vraiment ta venue. Es-tu vraiment aussi inculte ? Il est décédé avant que l\\'ambulance n\\'arrive. Je suis enchanté de vous rencontrer. On dirait que Tom est sur le point de pleurer. J\\'aime boire. J\\'ai arrêté il y a longtemps. Je n\\'ai pas regardé mes pieds. Tom veut que nous revenions. La cuisine est à l\\'étage en-dessous. Vous n\\'avez aucune idée de qui c\\'est, n\\'est-ce pas ? Elle agit toujours poliment envers tout le monde. Nous avons été défaits. Tom s\\'est promené dans le parc. Tom regarda par la fenêtre. La facture se montait à 100 dollars. Tu as apprécié ça, n\\'est-ce pas\\xa0? Elle agita la main jusqu\\'à ce que le train soit hors de vue. Ton intuition vaut la mienne. Je suis impatient de lire votre nouveau roman. Apparemment son entreprise est au bord de la faillite. Je vais maintenant raccrocher. Pourquoi as-tu besoin de faire ça\\xa0? Alors je vous en prie, racontez. Je pense que nous devrions toutes aller à l\\'intérieur. Tous les êtres humains sont mortels. J\\'ai quelque chose à te dire. Il est très protecteur. Tom emporte son ours Teddy partout où il va. Tom a rencontré Mary pour la première fois dans un café à Boston. Je suis chanceuse de t\\'avoir comme amie. Pourquoi as-tu accepté de passer la soirée avec Tom ? Cela ne vous intéresse-t-il pas un peu ? N\\'importe quoi pouvait arriver. Soyez prudents quant à ce que vous mangez. J\\'aime les histoires. Je n\\'ai pas de petite copine. Je pense que c\\'est vous qui l\\'avez fait. Croyez-moi en la matière. Cet endroit sent mauvais. Ce travail ne paie pas. Je vais souvent en centre-ville le dimanche. L\\'heure est passée. J\\'ai apprécié ta danse. Il a été éduqué à Oxford. Trouvons une solution acceptable pour tout le monde. Il m\\'a demandé mon numéro de téléphone. Tom nous a dit de ne pas nager ici. Y a-t-il eu des survivants\\xa0? Êtes-vous sûres que vous n\\'imaginez pas des choses ? Il a résolu le difficile problème. Ce n\\'est pas la mienne. Le mauvais temps a bouleversé nos plans de sortie en randonnée. Il l\\'a fait à nouveau. J\\'aimerais beaucoup venir avec vous mais je n\\'ai pas d\\'argent. Elle a l\\'air malheureuse. Je compte aller étudier à l\\'étranger l\\'année prochaine. Je ne voulais pas perdre tant de temps. Que vous le croyiez ou non, je veux en finir autant que vous avec ça. Tom voulait danser avec Marie. Mon père gère un restaurant. Je vais reprendre l\\'affaire de mon père. C\\'est la pire chose que tu puisses faire ! Êtes-vous suivies ? Salut, comment marche ton affaire\\u202f? J\\'aimerais vivre dans la banlieue de Kobe. Il a joué le rôle du Roi Lear. Ça a l\\'air génial ! Je n\\'apprécie pas vos amies. Je ne veux pas m\\'arrêter. Le médecin l\\'a averti des dangers de la cigarette. J\\'ai essayé d\\'attirer ton attention. Je veux y arriver tôt afin que nous obtenions de bonnes places. Cessez d\\'être aussi gentil avec moi ! Es-tu du coin ? Ça ne sera pas facile. Personne ne vous demande de manger cela. C\\'est très proche. J\\'aurai dix-sept ans l\\'année prochaine. Tom est un peu paranoïaque. Pourquoi es-tu si fatigué ? Personne n\\'aime qu\\'on se moque de lui. Je m\\'excuse pour ce qui s\\'est passé ici. Mes mains et mes pieds sont enflés. C\\'est une vraie concierge. Il prononçait un discours, mais il s\\'arrêta brusquement de parler lorsqu\\'il entendit un bruit étrange. J\\'ai fini de manger. C\\'était un événement religieux. Tu es en grave danger. Il n\\'y a pas de place pour tout le monde. J\\'étudierais avec plus de sérieux si j\\'étais toi. Elle ne convient pas à la tâche. J\\'ai cru en moi. Il ne tient jamais compte de ce que lui dit son père. Du café lait et sucre, s\\'il vous plaît ! «\\xa0Quel âge as-tu\\xa0?\\xa0» «\\xa0Seize ans.\\xa0» S\\'il te plaît, amène-moi le livre la prochaine fois que tu viendras. C\\'est tout ce que je sais. Que s\\'est-il passé\\u202f? Prévoyez-vous de rester\\xa0? Je m\\'excuse pour hier. Il a utilisé sa tête. Assurez-vous d\\'avoir tout éteint avant de partir. Est-ce que tu pourrais être un peu plus spécifique\\xa0? Je suis né là. Je me demande si j\\'aime Tom. Pourquoi tu me l’as pas dit plus tôt ? Tu frissonnes. Tu as froid\\xa0? Cette chambre est calme. Qui t\\'a enseigné comment faire ça\\xa0? Le plus grand des bonheurs c\\'est la liberté. Mieux vaut tendre une branche d\\'olivier que de lancer un missile. Il y eut deux-cent-quinze suffrages en faveur de la motion et quinze contre. Comme on fait son lit, on se couche. Je te prêterai l\\'argent, mais je te préviens, c\\'est la dernière fois. Je veux que vous parliez. J\\'ai joué au football. Tom ne sait pas s\\'il faut tourner à gauche ou à droite. C\\'est tout ce qu\\'il vous faut savoir. Je dirai quelque chose à ce propos. À peine avait-il rencontré sa famille qu\\'il éclata en sanglots. Je suis allé au zoo. C\\'est le genre de personne à appeler un chat, un chat. Il n\\'y a pas de quoi avoir peur. Elle allait sortir. Êtes-vous devenu complètement fou\\xa0? La fille avait peur de sauter du toit. D\\'après le journal, il a participé au complot. Salut, Tom. Bonjour. C\\'est un livre. Je suis branché Windows. Chacune d\\'elles reçut un cadeau. Tu rentres quand ? Je te suis reconnaissant pour tes efforts. Peux-tu m\\'aider à peindre ma maison ? Tom ne sait pas où Marie a garé la voiture. Ils utilisent leurs chambres à bon escient. Je comprends ton dilemme. J\\'ai du temps. Elle laça ses chaussures. J\\'ai le sentiment que personne ici ne nous dit la vérité. J\\'ai un rendez-vous galant demain soir. Alors de quoi parlez-vous ? L\\'arbre fut abattu d\\'un seul fort coup de sa hache. Vous êtes en retard. Passe quand tu veux. Téléphone-moi demain. Je ne me souviens pas si je l\\'ai fait ou pas. Quand on est endormi, l\\'activité corporelle ralentit et la température du corps chute. Ils sont en train de mourir. Soyez prudente ! Tom a des bagues sur les dents. Rien n\\'est pareil. Il n\\'a pas pu remplir la promesse qu’il a faite à son père. Nous avons eu une journée très chargée. Était-il encore ici quand tu es arrivée\\u202f? Voilà, prenez ceci ! Je crois que ceci m\\'appartient. Allez chercher votre matériel ! J\\'ai accompli ce que je voulais. Ça semble fort tentant. Je n\\'attends rien de toi. Il est père de deux fils. Combien de temps êtes-vous resté à la soirée ? J\\'étais en train de jouer quand j\\'ai senti un tremblement de terre. Voyez-vous ce qui arrive lorsqu\\'on dit la vérité ? À qui est la maison en face de la tienne ? Prenez le fric et tirez-vous ! La fin ne justifie pas toujours les moyens. Tu es sûr que c\\'est la bonne adresse? Je ne me souviens pas de comment on se sert de ceci. Pourrais-tu m\\'aider à faire ça\\xa0? Mes parents me laissent y aller. Elle est venue ici dès qu\\'elle l\\'a entendu. J\\'aimerais pouvoir être plus précis. Ils seront tous là ce soir. Je sais à quoi ces ouvrages ressemblent. Je donne cette pomme à qui la veut. Je suis plutôt sûr que Tom est déjà allé à la maison. Désolé, je suis un étranger ici. J\\'ai un frère et deux sœurs. Père ne me permet pas de conduire. Venez avec moi à la gare. Devons-nous prendre le bus\\xa0? Vous auriez pu vous noyer ! Veuillez le manipuler avec le plus grand soin. Avez-vous demandé pourquoi à Tom ? Tom est imbu de lui-même. C\\'est simple et intuitif. Tu dois me donner plus de temps. Je vous apporte l’addition tout de suite. Je te montrerai la ville. Nous en parlerons demain. « Où est ton livre ? » « Sur la table. » Qu\\'as-tu dans ton sac ? Ne le dites à quiconque ! Elle craignait de prendre froid. Il avait honte des notes qu\\'il avait obtenu. Il dispose de sa propre chambre. Où as-tu vu le garçon\\u202f? Il parle comme s\\'il connaissait ce secret. Elle se décida à subir l\\'opération. Je suis avocat. Il est allé à Londres il y a deux ans. Il alluma les cierges. Elle mange comme deux. Pouvez-vous m\\'aider à porter ceci\\xa0? Je ne me pardonnerais jamais si quoi que ce soit vous arrivait. Tom demanda à Marie si elle connaissait la femme de Jean. Elle lui conseilla d\\'arrêter de fumer. Je suis habituée à ce temps froid. Son visage était couvert de suie. Tu n\\'aurais pas dû prêter cet argent à une telle personne. Je serais ravi si ça survenait à nouveau. Tom est-il en train de nettoyer sa chambre ? Je ne vous regardais pas. Êtes-vous prête à partir\\u202f? Elle était très inquiète pour son premier vol. Je n\\'arrive pas à croire que je sois là. Je méritais ça. Vous ne vous ennuyez pas, si ? C\\'était efficace. Pourriez-vous vérifier la pression des pneus\\u202f? J\\'ai la schcoumoune. Une compréhension des gens est l\\'arme la plus puissante que vous puissiez détenir. Tom a refusé de manger. Je me réjouis de te voir heureuse. Je n\\'apprécie pas ces gens. Je t\\'aime de plus en plus chaque jour. J\\'ai lu le livre du début jusqu\\'à la fin. Mille mercis. Ma sœur m\\'embête. Vous n\\'avez pas à vous inquiéter. Nous avons corrigé la situation. Nara est aussi vieille que Kyoto. On dit qu\\'il est encore en vie. Pourquoi n\\'ôtes-tu pas ton manteau ? Connaissez-vous votre groupe sanguin\\u202f? J\\'avais très soif. Il étudie l\\'histoire des États-Unis. Tu vas tout foutre en l\\'air. Restez à distance du feu. Je suis en colère. Je pense que tu es la plus belle femme au monde. Elle a été acceptée à Harvard. Tom croit-il en Dieu ? Détroit est célèbre pour son industrie automobile. J\\'attends ma copine. Il n\\'y a rien de mauvais à cela. Il l\\'a importunée avec des questions. Tom voulu savoir ce qu\\'il s\\'était passé. Fais attention, Tom ! Ton comportement était inexcusable. Tu devrais suivre le conseil de ton professeur. J\\'ai vu des gens nager dans la rivière. Tu espérais gagner, n\\'est-ce pas\\u202f? Ce n\\'est pas à toi que je parle, Tom. J\\'ai acheté le livre pour dix dollars. J\\'aime votre tableau. Je pense que tu es le seul à avoir besoin d\\'aide. Tu ne peux pas skater ici. Prends-en autant que tu veux. Ne gaspille pas ta salive. Sa température est normale. Elle ressemble à sa mère. Nous sommes tous fous. Je peux peut-être me joindre à vous\\u202f? \"Pourquoi pas\\u202f?\" Je suis revenu. Vous ne pouvez pas me tenir responsable. Le prêtre bénit la congrégation à la fin de la messe. Je ne suis pas fatiguée. Il ne devait jamais revoir sa femme et ses enfants. Je ne m\\'en souciais vraiment pas. Tom aurait dû manger plus. Il a l\\'air d\\'une fille. Je pensais qu\\'ils ne voudraient pas venir. Avez-vous des journaux japonais\\u202f? Je suis sûr que nous pouvons résoudre cela. Je veux juste que vous me disiez pourquoi vous avez menti. Elle est très sage. Tom est-il encore à bord ? J\\'ignore même qui a volé quoi. Mangez ce qui vous chante. Ce n\\'est qu\\'un rêve. Pourquoi rêvons-nous ? Dieu créa le ciel et la terre. Les experts disent que les prix du café augmentent principalement parce que les gens sont disposés à payer davantage. Il ne veut pas que vous sachiez. J\\'ai volé une arme. Où êtes-vous allée à l\\'école ? Ce n\\'est pas juste du tout. Où sont toutes les autres ? J\\'espère que c\\'est utile. J\\'ai dîné, hier soir, avec un ami. On vend, aux USA, le beurre à la livre. Laisse-moi porter ta valise. Comment l\\'arrêtons-nous ? Je voudrais poser deux questions. Nous\\xa0n\\'emploierons\\xa0pas\\xa0cela. Je veux retourner à Boston. Les plantes tirent l\\'eau du sol. Les framboises coûtent très cher. Il te suffit juste de demander. Vous ne devriez pas vous moquer de Tom. Jouez-vous d\\'un instrument quelconque ? Personne ne peut faire ça. Il continua à chanter. Ça a l\\'air assez mignon. La douleur qu\\'elle a endurée en étant torturée a été inimaginable. Ils ont raison, bien sûr. Ne reste pas sous la pluie. Ne jette pas de pierres. Votre apparence vous sied-elle ? Tom a presque trois ans. Il est toujours dans les nuages. Il a perdu espoir et s\\'est suicidé en prenant du poison. J\\'ai beaucoup apprécié ce que tu as cuisiné pour moi. Il quittera le Japon en avril. D’abord nous allons manger, puis nous partirons. Nous devrions faire tous les efforts possibles pour maintenir la paix dans le monde. Je suis sûr que Tom avait ses raisons. Quelqu\\'un frappa à la porte. C\\'est une personne fiable. Il mérite une punition. Ne lui avez-vous pas écrit une lettre\\u202f? Pourquoi avez-vous appelé ? J\\'ai trouvé ceux-ci. Ils ont fini 13e. Ma mère est partie faire des emplettes. Mon frère et moi partagions la même chambre. Jour après jour, mes jambes vont de mieux en mieux. Ne soumettez pas ce produit chimique à la lumière directe du soleil. Le dauphin et le dresseur communiquaient bien mieux que nous ne l\\'espérions. Est-ce là suffisamment d\\'argent ? Il a continué à le faire. Êtes-vous Tom ? Les prix vont certainement augmenter. Je sais ce que vous voulez faire. Arrête de te la péter ! C\\'est un truc de filles. Comment avez-vous fait\\u202f? Vous êtes-vous arrêté au feu rouge\\u202f? Vous n\\'êtes pas morts. Personne ne t\\'a demandé ton avis. Le fabricant garantit la nouvelle machine pour cinq ans. Je n\\'en sais pas plus que toi. Personne n\\'était présent. Vous avez exactement refait la même erreur. J\\'étais malheureux sans vous. Ça fait des heures qu\\'on attend ici. Est-ce que tu as vraiment besoin de poser la question pour connaître la réponse\\u202f? Tu te souviens de son numéro de téléphone\\u202f? Vous ne m\\'avez toujours pas dit quel est votre numéro de téléphone. Vous ne serez pas intéressés. Il avait l\\'air de tout connaître du sujet. Je suis fascinée par les chats. Il portait des lunettes. En nourrissant mon chien, j\\'ai remarqué que le portail avait été laissé ouvert. Tom fixa Marie avec colère. Je ne veux pas vous descendre. On se tient au courant. Leurs marchandises sont de la plus haute qualité. Il y eut trente survivants. Comprenez-vous ce livre ? Je me demande quoi faire pour le dîner. Nous sommes confrontés à de nombreuses difficultés. Je ne me rappelle pas avoir requis votre opinion. J\\'ai commencé à apprendre l\\'espéranto. Il est trop lent. Je n\\'ai pas besoin de ton argent. Le ciel le sait pourquoi. Je lui ai acheté un beau cadeau de Noël. Pourquoi quelqu\\'un voudrait-il vivre là ? Il s\\'est trompé et a bu du poison. Je ne sais pas encore tout à fait. Soyez calme. Si vous n\\'êtes pas calme, on vous jettera dehors. Est-il en mesure de le faire ? Tu es tout pour moi. Il s\\'éclaircit la gorge avant de commencer le cours. Nous marchâmes jusqu\\'à ma chambre. Elle ferma lentement les yeux. Les amandiers sont en fleurs. Vous sentez-vous en veine ? Si le téléphone sonne encore, mon intention est de l\\'ignorer. Tom a nié toute culpabilité. J\\'ai une infection à l\\'oreille. Nous sommes déjà vieux. Ne m\\'oblige pas à le faire. Cela nous est arrivé aussi. Je suis désormais pour ainsi dire un expert. Ils discuteront de la question demain. N\\'ayez pas honte de vous ! Pourrais-tu m\\'en expliquer les règles ? Tom vient de faire un coup de circuit. Est-ce que la fin justifie les moyens\\u202f? Tom est arrivé le premier. Les étudiants apprécient généralement un professeur qui comprend leurs problèmes. Vous pouvez rester ici si vous voulez. Veuille poster cette lettre lors de ton prochain passage au bureau de poste. Vous êtes trop bruyantes. C\\'est la raison de ma présence, ici. Je suis celui qui prend les décisions. J\\'ai pris note de son numéro de téléphone. Il n\\'y a pas de loisirs à la campagne. La maison s\\'écroula une semaine plus tard. Je ne pourrais jamais assez vous remercier. Le film était intéressant. Elle a fait un voyage de dix jours en Europe avec son ami. Je ne devrais pas avoir à jamais revenir ici. La piscine municipale est fermée en raison de la tempête. L\\'enfant a failli se noyer. Les gens s\\'attroupèrent autour du blessé, mais firent place au médecin quand il atteignit le lieu de l\\'accident. Éteins les phares ! Peut-être que Tom est coupable. J\\'ai oublié votre numéro de téléphone. Il aime regarder la télévision. Elle pressait son nez contre la vitre. Je suis certainement reconnaissant pour toute votre aide. Ce distributeur automatique a été cassé par une bande de voyous la nuit dernière. Il a peur de son ombre. Je suppose que vous voulez me demander où j\\'ai été. Je me suis senti affreusement mal. Je penserai chaque jour à toi pendant que je serai parti. Ce que tu passes ton temps à faire durant ton enfance, affecte le reste de ta vie. Quelle soirée ! J\\'aime les énigmes. Ils m\\'ont kidnappé, ils m\\'ont drogué et alors ils m\\'ont lavé le cerveau. Vous n\\'êtes pas si intéressante. Je me suis rendu compte qu\\'on m\\'observait. Je veux aller à l\\'école en Australie. J\\'ai verrouillé la porte de devant. Je veux manger un steak. Je n\\'ai aucun moyen de savoir ça. Je veux que tu me dises tout ce qui s\\'est produit. Tu es nouveau dans le coin, n\\'est-ce pas ? Laissez-moi retirer mon manteau. Veux-tu, je te prie, m\\'accompagner ? Aimez-vous vraiment cela\\xa0? Nous sommes devenus bons amis. Arrête de chanter cette chanson, je te prie ! Ce n\\'est pas ce que Tom a voulu dire. Je vais en Amérique cet été. Y a-t-il quelque chose de spécial que vous veuillez faire ce week-end ? Est-il allé là-bas\\u202f? Ma nouvelle chemise est déjà sale. Ferme-la ! On peut compter sur lui. Tom m\\'a dit qu\\'il parlait français. S\\'il vous plait laissez un message sur mon répondeur. Tom porte toujours des lunettes de soleil, même à l\\'intérieur. Je me demande si elle l\\'épousera. Je veux aider, si je peux. Arrête d\\'être aussi politiquement correct. Je veux revenir dans ta vie. Un de mes amis a acheté une voiture rouge. J\\'ai mal à l\\'estomac. J\\'ai apprécié ce livre. Mary n\\'a porté aucun bijou. J\\'ouvris une bouteille de vin rouge. Depuis combien de temps tu utilises cette brosse à dents\\xa0? Penses-tu sérieusement à poursuivre une carrière de pilote de course automobile ? Vous ne pouvez pas prendre cela avec vous. Regarde derrière toi. Ils étaient assis sur un banc dans le parc. Je vais faire réparer cette radio demain. J\\'ai dit à Tom que j\\'allais m\\'en occuper. J\\'ai fait tout pour vous. C\\'est une belle journée. Tu ne peux rien dire jusqu\\'à ce que tu connaisses les circonstances. Beaucoup de touristes visitent Boston tous les ans. Je t\\'ordonne de partir immédiatement. Je voyage fréquemment. Quels sont les aliments qu\\'on mange habituellement avec les doigts\\u2009? C\\'est simple. Quoi qu\\'il arrive, il ne changera pas d\\'avis. J\\'étais si pressé que j\\'ai oublié de fermer la porte à clé. Il y avait deux morceaux de gâteau. Tom semble ne jamais savoir quoi dire. Ce qui s\\'est produit ici est une farce. Je n\\'ai rien d\\'autre à faire. J\\'aime manger des pommes. Improvisons. Pas un jour ne semble passer sans que les journaux ne rapportent la guerre. Je pensais que nous étions les meilleurs amis. Lorsque vous prendrez suffisamment de repos toutes les nuits, vous vous sentirez beaucoup mieux. Je crois que Tom dort encore. Je l\\'ai emprunté. Nous l\\'avons fait. Je dois être à la gare à trois heures. Les marchandises seront livrées gratuitement. En toute probabilité, aucun langage n\\'est complètement dépourvu de mots d\\'emprunt. Il avait l\\'air jeune. Le moteur ne fonctionne pas. C\\'est l\\'histoire d\\'un garçon, d\\'une fille et d\\'un chat. Il a tombé la chemise. Elle est tranquille. C\\'est un bon nageur. Je suis impatient de le rencontrer. J\\'aime les filles. C\\'est un homme jaloux. Il n\\'a jamais été à l\\'étranger de toute sa vie. Ça ne vaut pas la peine de s\\'en soucier. Je pense que Tom serait resté plus longtemps, s\\'il avait pu. Tu sembles contrariée. Je mettrai la main dessus. Il est temps que nous retournions. J\\'étais absent de l\\'école hier. C\\'est à toi, n\\'est-ce pas ? Ne vous font-ils pas tourner bourriques ? Elles se sont rencontrées au lycée. À qui le tour\\u202f? Je sais que vous êtes parti en retraite il y a peu. Je l\\'apprécie. Ne me dis pas ! Laisse-moi le deviner ! Je n\\'ai jamais dit que je ne te voulais pas. J\\'attendrai jusqu\\'à ce qu\\'elle vienne. Travailles-tu ici ? Les membres de cette tribu se sont installés le long de la rivière. Il parle couramment le français. Voici leur album de photos. Pourquoi avez-vous démissionné\\u202f? Tom a travaillé toute la nuit. J\\'étais à bout de souffle. J\\'ai finalement arrêté de fumer. Qui vous a raconté l\\'histoire ? Dans quelle sorte de ranch as-tu grandi ? Le problème, c\\'est que tu n\\'es pas assez patient. Elle est beaucoup plus lourde que lui. Vous étiez ici pas plus tard que l\\'autre jour, n\\'est-ce pas ? Tom veut venir à Boston avec nous. Tu me dis quelque-chose. Je ne comprends pas ce que l\\'instituteur est en train de dire. Où étais-tu quand j\\'avais besoin de toi\\xa0? Je ne travaillais pas hier. J\\'habite à Boston. Je suis content de pouvoir profiter des vacances. Il a 3 ans de plus qu\\'elle. Ça me fait me sentir mal à l\\'aise. Vous commenciez à m\\'inquiéter. Je ne parviens pas à bien voir. J\\'aimerais y aller avec toi mais je ne peux pas. On doit s\\'y attendre. Je ne veux même pas songer à ce qui pourrait se produire. Je me suis cassé un os du pied en faisant de l\\'exercice. J\\'ai dû retourner. Montrez-moi votre tatouage. Nous le comprenons. Il brancha la radio. Le chien me suit où que j\\'aille. Ils ne sont toujours pas en sécurité. Je me fiche de l\\'argent. J\\'ai besoin de quelqu\\'un pour me comprendre. Je t\\'ai dit que ça arriverait. Mon fils adore les fusées. Un gros tremblement de terre a secoué l\\'Inde hier. La semaine prochaine, une famille emménagera. Essayez toujours de voir le meilleur des gens. J\\'aurais dû faire un peu plus attention. Je ne vous vends pas ma voiture. Vous n\\'en avez pas le droit. Si vous ne supportez pas la chaleur, sortez de la cuisine. J\\'étais très impressionné par son discours. Quelle langue parle-t-on en Suisse ? Tu es assez âgé pour savoir qu\\'il ne faut pas agir ainsi. Helen Keller était aveugle, sourde et muette. Voulez-vous des enfants ? Comment sait-il cela ? Tom ne comprenait pas la réticence de Mary à sortir avec son frère. Excusez-moi. Étant enfant unique, il était le seul héritier. Regardez plus attentivement ! Ça dépend de combien d\\'argent vous disposez. Vous avez un brillant avenir. J\\'adore essayer de nouvelles choses, alors j\\'achète toujours des produits dès qu\\'ils sont en rayons. Bien sûr, la moitié du temps, je finis par souhaiter ne pas l\\'avoir fait. Tom a oublié de saluer. C\\'est pratique pour moi de te voir ce soir à dix heures. Mon petit frère regarde la télé. J\\'adore l\\'arabe. Je t\\'aiderai volontiers. Il a quelque revenu en plus de son salaire. Nous pouvons vous faire gagner du temps. Tu ne m\\'as jamais dit que tu avais un frère. Il a pu avoir l\\'aide de sa sœur pour peindre le mur de sa chambre. Tu sembles ne plus m\\'aimer. Quelqu\\'un peut-il confirmer votre histoire? Je vous dirai ce que vous voulez savoir. Les élèves pouffèrent. Comme tu veux. Avez-vous vu qui que ce soit s\\'en aller ? Tom ne s\\'est plaint de rien. Garons la voiture ici et faisons le reste du chemin à pied. Vous avez de très belles lèvres. Nous avons décidé de déplacer la réunion à dimanche prochain. Personne ne peut nous en empêcher. Il a calculé les dépenses. Il demanda à son père de l\\'emmener au magasin. Dieu a envoyé un écriteau. Tous ces livres vous appartiennent-ils ? Remettez-nous vos papiers. Quel œil te fait mal\\u202f? Pourquoi ne me crois-tu pas ? Où devrais-je le déposer ? Tu n\\'es pas un espion, si\\u202f? C\\'est le plus intéressant. Vous devriez être habitués à ça maintenant. Ne riez pas. J\\'aimerais avoir plus de temps pour parler avec toi. Cette route a besoin d\\'être repavée. Combien de temps cela prendra-t-il\\u202f? J\\'ai honte de votre conduite. Mes amies me manquent. Je ne peux en faire davantage. J\\'adore les bananes frites. Nous ne sommes pas mariés. Il ferma les yeux et écouta la musique. Qu\\'auriez-vous voulu que je fisse ? Je sais ce que nous parvenons à faire. Mélanger tous les éléments pour faire une seule pièce. Frappez-vous vos enfants ? As-tu eu des problèmes? C\\'est son site web privé. Le dîner est probablement prêt à l\\'heure qu\\'il est. Nous sommes occupés. Il se peut que la porte soit verrouillée. Ils ont mangé tout le gâteau. Nous ne pouvons pas rester là. Le toit est sur le point de s\\'effondrer ! Il était couvert de sueur. Il nous rendait souvent visite lorsque j\\'étais petit. Faites dissoudre la poudre à lever dans une cuillerée à soupe d\\'eau. Nous perdons un temps précieux. Tom pouvait à peine entendre ce que Mary s\\'efforçait de dire. Tom est très stupide. J\\'ai fait une tache d\\'encre sur la copie. Laissez-le-moi. La pièce est couverte de poussière. Tom semble être sympathique. Je suis censée le faire moi-même. Ce n\\'est vraiment pas juste. Il parle anglais et français. Je l’ai vu courir. Elle l\\'a interrompu tandis qu\\'il parlait. Je dors peu. Je dois changer de pneus. Bonjour, comment allez-vous\\u202f? Son talent est incroyable. Vous devriez éteindre la lumière avant d\\'aller dormir. J\\'ai lavé par terre. C\\'est meilleur marché si vous les commandez par douze. Ils s\\'embrassèrent au planétarium. Elle est ici. J\\'ai eu des problèmes. Je l\\'ai déjà dit à Tom. Tu n\\'as aucun droit de faire ça. Je voulais votre coopération. Je ne douterais jamais de son honnêteté. Je sais que vous avez été occupés. Le pain français est délicieux. Tous les étés, je vais à la campagne. Asseyez-vous, Tom. Le porc ne me réussit pas. Pouvez-vous baisser le prix ? Connais-tu la raison pour laquelle le ciel paraît bleu\\u202f? Es-tu plus jeune que lui\\u202f? Il était impossible pour le garçon de traverser cette rivière à la nage. Tom et Mary sont plus vieux que John. J\\'ai vu un chien crotté rentrer dans le jardin. Ces maisons sont celles de mon oncle. Ne bois pas à mon verre ! Tom et Mary ont tous deux été licenciés. C\\'est un jour particulier pour nous toutes. C\\'est bon marché, n\\'est-ce pas\\u202f? J\\'ai payé ces contraventions. Il sera aisé de trouver quelqu\\'un pour louer cette maison. Nous jouons au tennis, ce week-end. Il présenta sa carte. Vous pouvez prendre la grosse boîte ou bien la petite. Il nous faut nous échapper. Peu importe ce qu\\'il se passe, tu dois être ici avant neuf heures. Tu devrais t\\'en assurer avant de partir. L\\'aéroport est fermé. Ils sont éveillés. Je présente mes excuses pour la réponse tardive. Rougissez-vous ? Pardonne-moi de dire ça. Joli coup ! Ton petit déjeuner est prêt. Ne le laisse pas refroidir. Je suis vraiment content que vous soyez ici. Je ne suis pas sûr de vouloir le faire. Je me réjouis de vous avoir finalement rencontré. Si tu ne veux pas y aller, tu n\\'y es pas obligé. Prenez garde de ne pas attraper froid ! Nous sommes vendredi. Je ferai n\\'importe quoi pour vous. On peut se voir au centre-ville. Est-ce que ça t\\'arrange ? Une longue file de chameaux se déplaçait vers l\\'ouest. Elle était crédule. Mon frère a un appareil photo à la main. Puis-je garder cette photographie\\xa0? La locomotive tractait une longue file de wagons de marchandises. Il ne se met presque jamais en colère. On est dans les clous. Je n\\'ai aucune idée. Elle est inquiète de ta sécurité. Je ferai du vélo même s\\'il pleut. Ne dites pas de telles idioties. Je\\xa0ne\\xa0cèderai\\xa0pas. Je n\\'ai plus besoin de béquilles. Laissez-moi vous obtenir ça. Le garçon se noya presque. Il n\\'y a que les enfants et les vieux fous qui disent la vérité. Je vais à Hanovre avec toi. Vous devriez passer moins de temps à vous plaindre et davantage à faire quelque chose de productif. La peur balaya la bourse. Es-tu pour ou contre la proposition\\u202f? Où sont les pommes\\u202f? Voyageons ensemble. Comme cela lui arrive souvent, il était en retard. On ne peut pas dire ce qu\\'il adviendra. Il a épousé une fille riche. Vous êtes désormais en sécurité. Soit elles ne le veulent pas, soit elles ne le peuvent. Comment va ta sœur\\xa0? Je pense que c\\'est fiable. Vous n\\'irez pas, si ? Vous êtes riche. Préférez-vous les émissions de télé sous-titrées ou doublées ? Tom eut droit à un traitement de faveur. Je me suis épuisé en faisant une longue marche. N\\'êtes-vous pas gênées ? J\\'ai du courrier à traiter. Je suis désolée de t\\'avoir rendu si malheureux. Il n\\'y a pas d\\'autre choix. Il ne sut pas quoi faire avec la nourriture excédentaire. Il nous fallut arrêter. Il est huit heures trente. Où puis-je faire l\\'acquisition d\\'un tigre vivant ? Leur plan m\\'a l\\'air intéressant. Tous sont présents. Tu peux le faire. Tu dois travailler dur si tu veux réussir. Vous ont-elles repérée ? Nous sommes arrivées trop tard. N\\'en avez-vous rien à faire ? Ne fais pas comme si tu me connaissais ! Il atteignit le grade de général. Je l\\'ai vue chez elle. Nous ne sommes pas apparentées. Je ne pouvais rien faire. Ce bureau prend trop de place. Vous devez avoir confiance en vous. Remue la peinture avec un bâton ! Je sais que vous n\\'allez pas venir à ma fête mais j\\'aimerais que vous y veniez. Je sais comment résoudre le problème mais on m\\'a demandé de ne pas vous le dire. Je n\\'étais pas suffisamment compétitif. Tout le monde savait. Pourquoi ne vous êtes-vous pas enfui\\u202f? De toutes les raisons possibles, il choisit la moins probable. Vous rappellez-vous quoi que ce soit de cette époque ? Prenez soin de vous ! Contactez mon assistant si vous avez quelque question que ce soit. J\\'apprécie votre gentillesse. Vois-tu qui que ce soit ? J\\'ai été incapable d\\'empêcher ceci. Ai-je oublié qui que ce soit ? J\\'ai été licencié. En général, les femmes vivent dix ans de plus que les hommes. Peut-on recycler ceci ? Cesse de me hurler dans les oreilles ! On parle souvent des États-Unis comme d\\'un creuset. Pourquoi s\\'en soucier ? Aimes-tu les surprises ? Tu peux l\\'obtenir gratuitement. Je sais que Tom était sincère. Vous êtes-vous déjà décidé ? Ce magasin a fermé en 2013. Elle a passé un agréable moment à discuter avec lui de son voyage. On dit tous les deux la vérité. Éteignez tout. Tu ne peux pas continuer ainsi. Nous t\\'avons vu. Je pense que nous pourrions être bons amis. Nous avons un avantage. Où tout le monde est-il parti ? Où se trouve la sortie ? Regardez celles-ci ! Je vous trouve irresistible. Comment cela se peut-il ? N\\'importe qui peut faire ça. Je suis allé à deux concerts la semaine dernière. Les feuilles tombent. Je ne suis pas un prophète. Dis à Tom ce que tu as fait l\\'autre soir. Tu es courtois. C\\'est un très petit livre. Ce serait une bonne idée que je m\\'y rende. Nous étions des passagers. Jamais elle ne me le dit. Tu ne te souviens peut-être pas de moi, mais je me souviens de toi. Si je ne suis pas trop occupée, je t\\'aiderai demain. Je suis allé directement au lit. C\\'est un mal nécessaire. Nous ne pouvons garantir cela. Tu dois aller voir le directeur tout de suite. Continue à regarder ! Cela lui a pris trois mois pour apprendre à faire du vélo. C\\'est la bonne décision. Je pense qu\\'il se peut que Tom soit fou. Mon frère et moi aimons la même nourriture. En C, les noms de variables sont sensibles à la casse. Peux-tu regarder de l\\'autre côté, s\\'il te plaît ? Je ne suis plus revenu ici depuis ce malheureux incident. Est-ce naturel ? Je sais que Tom est têtu. Je viens de me couper le doigt. J\\'ai passé du très bon temps. Elle fut très grossière à son endroit. Il est rentré vers neuf heures la nuit dernière. Je ne crois pas que l\\'Atlantide ait jamais existé. Tu aurais dû le voir. Il me faut vous voir. Il me faut vous voir. J\\'ai persuadé le policier de ne pas abattre le singe. J\\'aimerais disposer d\\'un peu de temps seul, je te prie. N\\'avez-vous pas lu le prospectus ? C\\'est pas vrai. Je voudrais que tu me fasses du thé. Tu as besoin d\\'une ambulance. Tom a laissé Marie. Voyez-vous qui que ce soit ? Je n\\'aime pas ton sourire. Je suppose que tu n\\'as jamais appris à faire ça. Nous sommes stupéfaits. Vous ai-je réveillés ? Je me sens différent, aujourd\\'hui. Es-tu folle ? Quels sont les aliments que tu manges habituellement avec les doigts\\u2009? Pouvez-vous m\\'accorder un rabais\\u202f? Utilise simplement le mien, pour le moment ! Je n\\'étais pas conscient que tu te sentais si mal. Aujourd\\'hui je n\\'ai pas envie d\\'étudier. Je n\\'irai pas avec vous. Cette voiture est complètement chargée. Je ne sais comment vous remercier. Je ne sais pas si Tom vit encore ici ou non. J\\'ai hâte d\\'y être. Il a eu des bonnes notes en mathématiques. Il parle également russe. Je pense que Tom ira bien. Nous nous sommes vraiment bien amusés. Vois-tu un inconvénient à ce que j\\'utilise ton ordinateur ? Il n\\'y a pas assez d\\'eau. Ne me coupe pas la parole comme ça, s\\'il te plaît. L\\'accident s\\'est produit avant-hier. Ne lui fais pas confiance. Tom a plié la couverture. Où se situe la douleur ? Est-ce qu\\'on peut éteindre la télé\\xa0? Je me sens en pleine forme. Aimeriez-vous aller faire des emplettes avec moi ? Elle est une artiste-née. Ils étaient riches. Tom m\\'appelle chaque nuit. J\\'ai oublié de lui donner le message. Les Étasuniens passent beaucoup de leur temps libre chez eux. Je ne dispose pas de l\\'argent pour le faire. Ils se sont frayé un chemin à travers la foule. Où réside-t-elle maintenant\\u202f? Choisis-en une. Il a rempli la bouteille avec de l\\'eau. Tout le monde criait. Je pense vraiment que je devrais conduire. Il faut que vous y alliez. Quelqu\\'un a tenté de me tuer. Je ne peux pas te raconter ce que Tom m\\'a dit. On doit retirer ses chaussures avant de rentrer dans une maison japonaise. Ça suffit\\u202f! C\\'est une location. Nous devrions décider de ce qu\\'il faut faire en premier. Un enfant qui est un locuteur natif connaît habituellement de nombreuses choses sur son langage qu\\'un locuteur non-natif qui a étudié pendant des années ignore encore et peut-être ne saura jamais. Laisser quelque chose inachevé est la pire chose que tu puisses faire. Il est à son bureau. Il n\\'y a aucun doute. Juste un instant. Je ne me suis pas encore décidée. Je cours tous les jours. Les choses ne sont plus telles qu\\'elles étaient. Les gens me demandent toujours pourquoi je fais ce que je fais. Je me suis entretenue avec tout le monde. Je me réjouis que vous soyez mon ami. Ce n\\'est pas une salle de classe. Tom sortit de la baignoire. Je suis à tes côtés. Ce n\\'est pas mauvais. Tu ne devrais pas laisser le bébé seul. Il a fait des photos des confettis. Tom a un lapin. L\\'alligator mangea le chien. Il est important pour nous de penser à l\\'avenir du monde. Elles ne sont pas mortes. Son père lui enregistra des chants d\\'oiseaux. Le discours du Premier ministre était pensé de façon à susciter la colère des partis de l\\'opposition. Il garde sa chambre propre. Parfois, je suis à court d\\'argent. «\\xa0Donnez-moi quelque chose pour écrire.\\xa0» «\\xa0Ce stylo-bille vous conviendrait-il\\xa0?\\xa0» Il est dépourvu de sentiments humains. Je suis venue ici quand j\\'avais quatre ans. J\\'imagine que c\\'est possible. Bienvenue dans ta nouvelle maison! Je ne suis pas bon à ça. Il est malade. Il est ouvert et confiant. Les chaussures sont faites en cuir. C\\'est une erreur commune. Je ne sais pas comment dire au revoir en français. Mon frère travaille dans une banque. Je peux m\\'occuper de cela immédiatement. Tom a envoyé un message écrit en français à Mary. Je ne sais pas qui sont mes vrais parents. La Terre tourne autour du Soleil. Nous avons acheté une pendule pour nos voisins, en guise de cadeau pour leur pendaison de crémaillère. Nous devons sabrer dans les coûts. Je ne sais pas parler français. Je me lève tard le matin. Tom habite à Boston. Elles ne sont pas encore à la maison. Il n\\'a pas la capacité d\\'être président. Je n\\'en sais guère à ton propos. Vous êtes en grave danger. Ne dors pas dans la baignoire. Il abuse de son autorité. Essaye de ne pas être si tendue. Nous avons peu de temps à perdre. Je n\\'aurais pas dû perdre mon temps à lire ça. Ils ont été grondés par l\\'institutrice. Peux-tu la distinguer de sa sœur\\u202f? J\\'ai eu une longue conversation avec Tom. Je dois aller faire les courses, je reviens dans une heure. J\\'ai essayé de faire ça. Ils ne mijotent rien de bon. Pourquoi cela ne me surprend-il pas ? Choisissez celui qui vous plait. Il s\\'en est sorti, d\\'une manière ou d\\'une autre. Mes parents ne m\\'ont pour ainsi dire jamais punie pour quoi que ce soit. Je pense que Tom va revenir. C\\'est cher. Quelle femme extraordinaire ! Donnez-le-moi. L\\'économie mondiale est maintenant en récession. J\\'espère qu\\'il ne pleuvra pas demain. Elle travaille pour les services secrets français. Regardez-moi quand je vous parle\\u202f! Personne n\\'a été malade. As-tu entendu cela ? Pourquoi a-t-il fait une telle chose ? Nous devons nous rappeler de poster cette lettre demain. Je ne commettrai pas la même erreur la prochaine fois. Tom n\\'est pas comme moi. Il ne l\\'a pas fait exprès. Ma maison ne se situe qu\\'à un mile d\\'ici. Qu\\'est-ce qui ne va pas ? Tom me pose sans arrêt la même question. Tom acceptera probablement votre offre. Je n\\'arrive pas à trouver ma montre. Où est-ce que ça se trouve ? Tu as laissé tes clefs sur la porte. Je suis resté debout toute la nuit. J\\'ai quitté ma femme. Les gens meurent. Je suis un homme libre. Je crois que le chien mord. Je veux savoir ce que tu fais ici. Je reste à l\\'hôtel pour le moment. On s\\'attend à ce que l\\'introduction de la nouvelle taxe affecte toute l\\'économie. Je me suis senti vraiment mal à l\\'aise. Il y avait des gens partout. Vous devez préserver cette machine de la poussière. Ma mère et mon père ne sont pas chez eux en ce moment. J\\'ai dû faire un discours en toute urgence. Ce livre est le mien. Où est le vôtre ? Seulement trois personnes ont été blessées. Le jury est divisé. Les éléphants vivent en Asie et en Afrique. Il s\\'est porté volontaire pour l\\'aider. Tu avais une semaine pour finir ceci. Pourquoi étudies-tu le français ? Je vous remercie de votre honnêteté. Ils restèrent debout à parler pendant un long moment. Notre malade reprend connaissance. Es-tu jalouse ? C\\'est il y a trop longtemps. Dépêche-toi ! Je n\\'ai pas toute la journée ! Je ne parle pas français du tout. Toutes mes amies ont été invitées à danser, sauf moi. Ce que tu as dit me rappelle un vieux proverbe. Pourquoi vous êtes-vous détourné lorsque vous l\\'avez rencontré\\u2009? Reste allongée, immobile ! Terminez votre devoir s\\'il vous plaît. Il sait nager. Tom parle français et Mary aussi. Je n\\'arrive pas à en retirer mes yeux. Elle a la mauvaise habitude de parler longtemps au téléphone. Grâce aux moyens de communication modernes et aux systèmes de transports, le monde a rétréci. Il s\\'est laissé aller à la curiosité. Il me faut lui parler. Ce n\\'est pas marrant. Nous étions toutes les deux fatiguées. La plupart d\\'entre nous sommes plus intéressantes que le monde ne le suspecte. Ne vous faites pas de souci ! Tout ira bien. Je suis impatient de lire ton nouveau roman. Peux-tu fermer la fenêtre, je te prie ? Soyez confiant ! La mère et l\\'enfant se portent bien. Que dites-vous de demain ? J\\'ai trouvé la boucle d\\'oreille que tu avais perdue. Nous devrions probablement remettre la compétition. Prends une part de gâteau. Pourquoi rêvons-nous ? À cause de la pluie, je n\\'ai pas pu sortir. Je ne peux pas fumer. Le soleil brille de façon éclatante. Ma mère m\\'a dit que je devais manger moins de sucre. Je sais maintenant que ce que je t\\'ai dit était faux. Elle l\\'a balancé parce qu\\'elle pensait que c\\'était un pauvre type. Ne me remercie pas. Remercie Tom. Il me faut vraiment m\\'en aller. Elle a été humiliée par lui. Je veux aller en Suède. Je peux le confirmer. Tom prend tout le temps des notes en cours. Je vais trouver une solution au problème. Tom habitait à Boston. Tu n\\'es pas rationnel. Qu\\'est-il advenu de tout cet argent\\u2009? Je ne peux pas dormir à cause du bruit. Je ne parle pas rapidement. C\\'est férié, demain ? Nous fûmes défaits. Je n\\'avais pas idée que vous étiez si fervents. Cinq plus trois fait huit. Nous y serons. L\\'Amérique abolit l\\'esclavage en 1863. Prends le contrôle de toi-même ! Je pensais vraiment que je gagnerais. Quand la réunion va-t-elle commencer ? J\\'ai l\\'impression que ça va mal se terminer. Ça ne sert à rien. Espérons que le temps sera simplement comme aujourd\\'hui. C\\'est un homme sur qui on peut compter. Tu es très intelligente. Je regrette avoir fait cela. Tom a conduit Marie vers l\\'hôpital le plus proche. Il a quitté la maison sans dire «\\xa0au revoir\\xa0». Je n\\'apprécie pas d\\'être interrompu. Bois un coup, Tom. Tom a annoncé sa démission hier. Elle se tint aussi près de lui qu\\'elle put. Ma grand-mère ne voit pas très bien. Tom rata probablement son train. Tom a allumé les bougies. Il est encore trop jeune pour ce travail. Ne te fais pas de souci ! Tout ira bien. Comment se fait-il que nous soyons différentes ? Veux-tu du vin ? Vous êtes inquiet, n\\'est-ce pas ? Est-ce que ça vous va\\u202f? Il n\\'est pas sans risque de nager dans cette rivière. Me prêterais-tu ton stylo\\u202f? Quiconque peut-il vérifier cela ? Il y a un gros trou à ton collant. Quelle belle femme\\u202f! Tom prenait un selfie au bord du volcan lorsqu\\'il a perdu l\\'équilibre et est tombé dans le cratère. Ils ont été surpris par ce qu\\'ils ont vu. Il peut parler cinq langues. Je ne vais pas te dire comment le faire. J\\'ai passé un moment merveilleux. Ma couleur préférée est le bleu. Elle lui tendit l\\'argent. Où as-tu fourré mes clés ? C\\'est tout ce que je voulais. Le bus a tourné à l\\'angle. Je ne vous crois pas. Vous dites toujours des mensonges. Tout le monde a eu quelque chose pour Noël. Le vent s\\'est calmé dans la soirée. Je ne crois pas que Tom sache où Mary a garé sa voiture. Ce puzzle compte cinq-cents pièces. Tom m\\'a trouvé un taxi. Il n\\'y a pas de chaises dans cette salle. Respecte tes aînés. J\\'y suis désormais habitué. Vous avez changé depuis que je vous ai vu l\\'an passé. Je préfère le café. Comment avez-vous appris à si bien danser ? Nous sommes pas en train de regarder. Toutes choses égales par ailleurs, le résultat est meilleur que je ne l\\'espérais. Vous ne croyez pas Tom, n\\'est-ce pas\\xa0? Comment était l\\'école\\xa0? J\\'aimerais apprendre à mieux vous connaître. Si votre enfant boit du poison, emmenez-le d\\'urgence à l\\'hôpital. Je n\\'arriverais pas à le supporter plus longtemps. As-tu aimé la soirée d\\'hier ? Je fus émue aux larmes par l\\'histoire. Est-ce que je viens de dire quelque chose d\\'idiot ? Je suis toujours en forme. T\\'as changé d\\'avis sur moi ? Peut-être voudrais-tu y réfléchir à nouveau. Ce que vous dites ne s\\'applique pas dans ce cas. Je veux que tu restes avec moi. Les deux frères se ressemblent beaucoup. Lâche la poignée ! De fait, il était convaincu. Tom est l\\'ancien copain de Marie. Existe-t-il des pastèques sans pépins\\xa0? Dès que j\\'en ai les moyens, je prévois de voyager autour du monde. Ils regardent un film. Quel est le sport que vous aimez le plus regarder ? Les chevaux et les ânes sont différents. Je pensais que ça deviendrait plus facile. Allez tout droit et vous verrez la banque. Je dois partir. Elles hurlèrent au secours. Rien n\\'est aussi simple que ça en a l\\'air. J\\'ai tout fait. Pourquoi es-tu venu ? Le fait que vous soyez là signifie beaucoup pour moi. Ce sont les criminels qui devraient être punis. Lorsque tu viens la prochaine fois, emmène ton frère ! Je dois obéir. Ayant été écrite en grande hâte, cette lettre comporte pas mal de fautes. Je n\\'ai pas tenté de le faire ainsi. On peut toujours deviner ce qu\\'un individu veut, principalement à ce qu\\'il fait. Les corbeaux sont noirs. C\\'est une personne particulièrement intéressante. J\\'aurais dû venir au rendez-vous d\\'hier. Tom a été inarrêtable. Vos pieds sont enflés car vos chaussures sont trop petites. Ma mère fait le dîner. Vous n\\'êtes pas autorisée à vous garer ici. Je suis chanceux aujourd\\'hui. Son succès en tant que chanteuse l\\'a rendue célèbre. Tom est un agent immobilier. Il a perdu la vie dans un accident. Tout ce que je veux faire, c\\'est terminer ce que j\\'ai commencé. Tom me fit signe d\\'entrer. J\\'ai peur d\\'avoir une hémorragie interne. Comment cela est-il possible ? Tout ce dont je dispose, ce sont des livres. Nous avons encore un long chemin à parcourir. Je m\\'y suis rendu en bus et en train. Comment es-tu parvenu à cette conclusion\\u202f? Elle est seulement intéressée par les poissons et les cafards. Mon chat adore les crevettes. Dis-moi pourquoi tu étais absente de l\\'école hier. Tu ne me l\\'as jamais dit. Je vous le ferai savoir. Ça fonctionne comme prévu. Ces objets sont très utiles. Je viens d’arriver à la station. Avez-vous entendu ça ? Ne sois pas aussi dure avec elle. Elle voulait bien faire. Quelle est la façon la plus simple d\\'aller à la gare de Tokyo ? Ils soutiennent que la distribution de la richesse devrait être équitable. Je souhaiterais seulement pouvoir te rendre la faveur. Pratiquement tout le monde est venu. Elle a crié. Je t\\'ai toujours comptée au nombre de mes amies. Ai-je l\\'air heureuse, selon vous ? Je nourrirai le chien. Tu es plein de talent. Personne ne peut accomplir quoi que ce soit sans effort. J\\'aimerais que vous rencontriez ma femme. Vous devez me le demander. Il nous a donné une rédaction à écrire pour les vacances. Je suis tombée sur une amie dans le bus. Est-ce que vos parents savent ça ? Je voudrais manger quelque chose. A-t-il des enfants\\u202f? Tu ne sais pas ce que c\\'est, de ne pas avoir assez à manger. Tom en avait marre d\\'attendre Marie. Tom ne sait pas ce qu\\'il fera. Elle le supplia de rester un petit peu plus longtemps. Nous trouvâmes une grande empreinte de pas et quelques unes plus petites, de différentes tailles. Je pensais que vous aviez dit que vous ne pouviez pas manger de poisson cru. Elle m\\'a donné une grande chambre quand je restais dans sa maison. Ce fromage est préparé à partir de lait de chèvre. J\\'ai ma propre chambre à la maison. Je suis impatiente de lire votre nouveau roman. Ne penses-tu pas que je sais ce que les gens disent de moi\\u202f? La consommation d\\'alcool augmente chaque année. Tokyo est plus grande que Yokohama. Nous avons vu un inconnu entrer dans la maison. Elle ressemble fortement à sa grand-mère. Je suis sûre que Tom a fait de son mieux. Je n\\'essaie pas de dire quoi que ce soit. Qui est ce type ? Tom a dit qu\\'il n\\'appréciait pas son travail. Tu étais en train de mourir mais le médecin t\\'a sauvé la vie. Il y a beaucoup d\\'explications possibles. Vous seriez en mesure de le faire si vous le vouliez vraiment. Enlève ton manteau. Je veux que vous voliez vers Boston, demain. Le remède n\\'a pas eu d\\'effet. Êtes-vous allés quelque part pendant les vacances d\\'été\\u202f? Je ne te le demanderai plus. En as-tu peur ? Elle n\\'a pas rendu l\\'argent. Vous ne pouvez pas vous dédire. Un nouveau modèle n\\'est pas nécessairement mieux qu\\'un ancien. J\\'ignore s\\'il est mort ou vivant. Ne m\\'oblige pas à te faire mal ! J\\'ai eu beaucoup à faire aujourd\\'hui. Pourquoi es-tu à la maison\\xa0? Combien coûte cette excursion par personne\\u202f? Qu\\'est-ce que tu veux ? Je ne pense qu\\'à vous. Qui était cette femme avec qui je t\\'ai vu ? Je peux voir que tu as peur. Je n\\'aime pas les œufs. Sois prudent, je te prie. Le président a appelé la population à s\\'unir pour combattre la pauvreté et la maladie. Vous nous avez beaucoup enseigné. La chance n\\'est pas de mon côté. Il me faut trouver quelque chose pour couper ceci. Je vous ai demandé de partir. Comment as-tu pu ne pas m\\'en parler ? C\\'est dingue. La mère de Barack Obama, Ann Dunham, était anthropologue. Elle tenta de le persuader d\\'organiser un boycott. Je me suis figuré que vous devriez le savoir. Alors même que nous parlions, il y eut une bruyante explosion. Lorsque tu navigues sur la toile, tu peux être pisté par des sites. Le médecin veut que Tom perde un peu de poids. Vous pouvez conduire ma voiture pour autant que vous conduisiez prudemment. Je bois également du thé. Qui achèterait quelque chose comme ça\\xa0? Tu peux facilement trouver la banque. Apporte-moi une serviette sèche. Maintenez votre chambre aussi propre que vous pouvez. Tom s\\'endormit rapidement et commença à ronfler. Je ne peux vous prêter ce livre. Ma radio est cassée. Il courut nu à travers les rues. Cette vache n\\'est pas marquée. Peu importe le temps que tu passeras à essayer de convaincre les gens que le chocolat est de la vanille, ça restera toujours du chocolat, même si tu réussis à convaincre toi et quelques autres que c\\'est de la vanille. Nous avons écouté de la musique hier. C\\'est assez incroyable. Le savais-tu, à l\\'époque ? Que supposes-tu qu\\'il y ait dans cette boîte ? Pouvez-vous croire à ce qu\\'il a dit ? Merci pour l\\'autre jour. Je suis aveugle de l\\'œil droit. C\\'était plutôt limité, comme plan. J\\'ai besoin d\\'une paire de ciseaux. Je n\\'ai pas présenté mes excuses. Rosa Parks refusa de laisser son siège à un passager blanc. La mer est aux poissons ce que le ciel est aux oiseaux. Il a été très occupé toute la journée. La règle devrait être revue. Qui devrait s\\'occuper des personnes âgées\\u202f? Décidez-vous ! Quel temps fera-t-il ? C\\'est à elle. Nous ne pouvons plus vous aider. Le prix inclut-il le petit déjeuner ? Tu devrais voir le médecin. Il sentit que c\\'était son devoir d\\'y aller. Je ne suis pas un héros. Tu n\\'es pas venu ici seul, si ? Tom est un invité. C\\'est l\\'endroit le plus sûr que je connaisse. As-tu encore besoin d\\'un prêt\\xa0? Le policier captura l\\'homme qui courrait. J\\'ai reçu une lettre écrite en anglais. J\\'ai travaillé. Tom et Marie vivent dans un quartier résidentiel tranquille. Il est allé là-bas seul. Vous devriez aller à la maison, maintenant. J\\'ai tenu parole. Je suis observé. Elle nous a cuisiné un déjeuner délicieux. Laissez-moi expliquer ce qui est arrivé. Ils épandent les arbres fruitiers. Tom ne portait pas de chaussures. J\\'ai dû supplier mes amis de venir. Quelle commère vous faites. J\\'étais fort réticent. Peux-tu me dire pourquoi tu l\\'aimes\\u202f? Es-tu réveillée? Ça m\\'a rendu très triste. J\\'espère que tu t\\'es amusé autant que moi. C\\'était un excellent scientifique, et de surcroît, un poète remarquable. Je ne pense pas que vous devriez faire cela. Aucun d\\'entre eux n\\'a l\\'air occupé. J\\'essaierai à nouveau. Comment l\\'avez-vous connue\\u202f? Ça serait un bon début. Mon ongle de pouce s\\'est cassé. Se faire des amis est facile quand on est jeune. Je n\\'avais pas prévu de te dire ce qui s\\'est passé hier soir. Je fais encore partie de cette famille. C\\'est là que tu te trompes. Je veux une garantie de remboursement. Personne ne goûte votre humour. À vrai dire, je ne l\\'ai pas remarqué. Je veux que tu viennes à mon mariage. C\\'est le danger. Tom va courir dans le parc tous les matins. La plupart des gens pensent ça. Je me suis réveillé. Je veux passer davantage de temps à faire des choses qui comptent. Je veux simplement me trouver seule. J\\'ai pensé que ce cadeau pouvait être de toi. Ne sois pas si négatif ! Je pourrais vraiment te rendre les choses difficiles, tu sais. Comment cela fonctionne-t-il ? Ce n\\'est vraiment plus nécessaire. Mon oncle se tenait là-bas, debout, les bras croisés. Elle m\\'a conviée chez elle. Quelle est la dernière chose dont vous vous souvenez\\xa0? Maria fut enchantée quand elle sut les résultats des élections. Tom ne pouvait réprimer sa colère. Dites la vérité à Tom. Je veux apprendre à jouer de la guitare tel que tu le fais. Je ne veux pas ce genre de responsabilité. Je ne suis pas prête pour ceci. C\\'est dangereux de monter à deux sur un vélo. Lâchez-moi les bras ! Ne laisse pas tes affaires derrière toi. Tom a visité l\\'Australie en 2013. Six personnes ont posé leurs candidatures pour le job, mais aucune d\\'entre elles n\\'a été employée. Je pense que je ferai ça. J\\'ai été mordu par des moustiques sur tout le bras. Son décès fut une grosse perte pour notre entreprise. Savez-vous ce que c\\'est\\u202f? Je ne veux pas te faire de mal. Saisissons cette chance. Je veux maintenant parler. Un aigle vole dans le ciel. Il veut se débarrasser des fourmis. Peux-tu me dire ton adresse\\u202f? En vérité, je n\\'en suis pas tout à fait sûr. Affaire conclue ! Ils se haïssent du fond du cœur. La vieille église sur la colline date du douzième siècle. Personne ne rit. Je lui fais entièrement confiance. Comment pourrais-tu dire cela ? Je suis disposé à me rendre où que vous alliez. À quelle fréquence utilisez-vous votre téléphone ? Je suis heureux que vous soyez à nouveau amies toutes les deux. La théorie et la pratique ne vont pas nécessairement ensemble. Quelqu\\'un frappait à la porte. Dis ce que tu penses. Veux-tu que je t\\'enseigne des gros mots ? Il a perdu son chemin dans la neige. Les gens ne vous disent-ils pas que vous ressemblez à Audrey Hepburn\\u202f? Cette théorie se compose de trois parties. Je suis habitué à conduire un camion. Tu ne peux pas abandonner, Tom. C\\'est super. La phrase n\\'est pas grammaticalement exacte. Merci beaucoup de faire ceci. Tu as cassé la machine à laver. Que préparez-vous\\u202f? Il pense qu\\'il sait tout mieux que les autres. Il y a quelque chose que je dois savoir ? Nous parlons souvent du temps. Je me demande si cette eau est potable. Elle dit qu\\'elle est esseulée. Est-ce que vous allez partager ça ? Cette partie de la ville est principalement résidentielle. Je ne peux pas vous permettre de faire ça. Je serai toujours là pour vous. Je dois m\\'acheter une nouvelle paire de skis. Je préfèrerais marcher plutôt que d\\'attendre un bus. C\\'est quoi cette drôle d\\'odeur qui vient de la cuisine ? Les séismes sont courants au Japon. J\\'ai aidé Tom à faire quelques corvées. Tu ressembles à ton père. Demande à qui que ce soit ! Je conclus que vous avez été blessée. Elle l\\'a enlacé. Ce n\\'est pas notre travail de faire cela. Il a été muté au bureau de Chiba. Vous dîtes que vous ne vous en souciiez pas. Vous êtes sympas. Veux-tu vraiment manger ça\\xa0? Je vois qu\\'ils vous ont mise au travail. Il arrivera un moment où tu le regretteras. J\\'aime cela. J\\'ai trois appareils photo. Mon chat souffre de la chaleur. Si seulement tu pouvais être un peu plus tranquille ! Pourvu qu\\'il puisse venir\\u202f! J\\'aimerais le voir. Je suis resté plus longtemps que je ne pensais. Il n\\'y a pas de danger que cette lampe mette le feu aux rideaux. Qu\\'est-ce qui t\\'a fait changer d\\'avis\\u202f? Ne pointe pas ton arme en direction de qui que ce soit ! Il n\\'a pas tenu parole. Il y a davantage de voitures sur la route en été qu\\'en hiver. Bientôt, vivre jusqu\\'à 150 ans n\\'aura plus rien d\\'extraordinaire. Je pense voir le problème. L\\'énergie nucléaire est sans risque. J\\'ignore quoi dire à ce sujet. J\\'ai entendu qu\\'il était mort. Ce que Tom a vu a bouleversé sa vie. Il se promène en sous-vêtements. Il gagne sa vie en écrivant. Un essaim de sauterelles s\\'abattit sur le champ de maïs. J\\'étais alité, pensant à tout ce qui s\\'était passé ce jour-là. C\\'est quelqu\\'un de bien. Il y a beaucoup de choses à faire. Elle était à l\\'agonie. Laissez Tom faire son travail. Elles sont à vos trousses. Tu ne devrais pas laisser les enfants jouer avec le couteau de cuisine. Tu vas être père. Tom était encore là il y a quelques instants. Un chat a deux oreilles. Je l\\'apporte de ce pas. Il y a une banque en face de la gare. C\\'est arrivé ici. Il n\\'est bon à rien. Tu n\\'es pas autorisé à manger ceux-là. Ces cookies sont tout juste sortis du four. Il aime le jazz et moi aussi. Elle passe un bon bout de temps juste assise là à regarder par la fenêtre. Verriez-vous un inconvénient à ce que je vous embrasse ? Demande-lui le chemin pour la gare. Savez-vous où il est né\\u202f? Pourquoi me parlez-vous\\xa0? Grâce à toi, je suis arrivé à l\\'heure. Je n\\'en ai absolument aucune idée. Pourrais-tu vraiment manger ça ? J\\'imagine que ça va. Ça te plaît ? C\\'est simplement du bon sens. Il m\\'instruit. Je n\\'aime pas ses goûts en matière de couleurs. Je ne vais pas le faire, à moins que tu m\\'aides. Je sais que tu aimes Tom. Ça, c\\'est quelque chose que je ne comprends pas. Dans ta bouche, ça n\\'était pas clair. Nettoie-le. Tu n\\'es pas des nôtres, si ? Tout le monde te déteste. Il a gentiment répondu aux questions. J\\'ai dû louper quelque chose. Je fus aussi surprise que toi. Je n\\'ai jamais vu une baleine aussi grosse. Tu étais seule, à ce moment-là, n\\'est-ce pas ? Je veux être en sécurité. Je veux la justice. Les deux chiens sont endormis. Comment pourriez-vous être si cruel ? Vis-tu dans le coin ? Nous remîmes l\\'événement à plus tard. Tom a raconté une blague, mais personne n\\'a ri. Veux-tu quelque chose\\u202f? J\\'étais énervé si bien que je ne pouvais m\\'endormir. Vérifiez bien que toutes les portes sont fermées à clef avant que vous ne partiez. Il est impatient d\\'y aller. J\\'aimerais être diplômée au printemps prochain. Les Huskies s\\'entendent bien avec les enfants et les autres chiens. Tu la connais depuis combien de temps\\u202f? Je n\\'ai écouté aucune de ses chansons. Ils nous trouveront. Tom a oublié. Ses habits sentent toujours mauvais. Je me suis fait, ici, quelques amies. Je prenais alors mon déjeuner. Nous mourons tous. Tu n\\'es pas trop en retard. Faisons un grand cercle. Nous nous enfuyons. Quelle sorte de sports pratiques-tu ? J\\'allai à la banque pour retirer de l\\'argent. Laisse-moi dans la boucle. Bientôt, ce ne sera plus inédit de vivre jusqu\\'à cent cinquante ans. Personne n\\'y vit. Puis-je parler à Tom ? Il a été excommunié. Il est passé de l\\'autre bord. N\\'avez-vous plus mal ? Qui que ce soit d\\'autre a-t-il été blessé ? Je veux savoir quand mes bagages arriveront. Puis-je vous parler un moment ? J\\'aime les chiens. Ne m\\'entraîne pas là-dedans. Tom nous manquera. Cette lettre porte une mauvaise adresse. De quel choix est-ce que je disposais ? Ne lisez pas mon journal ! Sa fille et mon fils sont de bons amis. Je veux passer la journée entière avec toi. Vous devez venir avec moi. Je suis chanceux de t\\'avoir comme ami. Mes parents m\\'ont interdit de revoir Tom. Soyez miséricordieux ! Pouvez-vous donner du sens à ce que l\\'auteur veut dire ? J\\'en ai marre de faire la queue. Voulez-vous le faire ? Quel sport préfères-tu\\u202f? Je crains que vous ne puissiez pas faire cela. Il n\\'arrive pas à entretenir sa propre famille, encore moins toute une nation\\u202f! Je suis ravi de vous aider. Tu aurais pu rester à Boston. Attachez votre lacet de chaussure. Tous ces livres sont les miens. Elle sait certainement cela. Il a vécu là tout seul. Je ne veux pas qu\\'on me dise quoi faire. Parle-nous-en ! J\\'ai pris moi-même cette décision. Où as-tu mis mon parapluie\\u202f? Le sac est plein. Puis-je le faire immédiatement ? Partons en randonnée ce week-end. C\\'est une bonne marque. Ils m\\'ont dépouillé. Tom souhaite garder les choses telles qu\\'elles sont. Tom ne veut pas vraiment aller nager avec nous. Où se situe le musée le plus proche\\u202f? Je suis ton ami. Le gouvernement est tombé après un vote au parlement. L\\'horrible scène provoqua des frissons le long de sa colonne vertébrale. Puis-je parler à l\\'infirmier-chef ? On a un compte à régler. Êtes-vous prêtes à y aller\\u202f? Je conduisais notre tracteur dès l\\'âge de 12 ans pour aider mon père pendant la moisson. Il mit son échec sur le compte de la déveine. Tom est ingénieur en électricité. La compétition en soi n\\'est ni bonne ni mauvaise. Elle pâlit à la nouvelle. Vas-y. Nous devrions êtres fiers de nous-mêmes. La montagne est verte. Tom est ici le seul à ne pas savoir parler français. Elle lui écrit chaque semaine. Je suis heureux et content. C\\'était vraiment nul. Cette cabane est un lieu très particulier. Quelqu\\'un est-il là ? Je suis réellement désolé, mais je pense avoir égaré votre écharpe. Il parlait trop vite pour les élèves. À quelle vitesse pouvez-vous le faire ? Aujourd\\'hui c\\'est l\\'anniversaire de Tom. Je cherche un cadeau pour ma femme. Je cuisine en ce moment. Vous ne ressemblez pas à votre papa. Nous sommes choquées. Combien de garçons y a-t-il dans la pièce ? Mon oncle a un grand intérêt pour l\\'art. Elles sont géniales. Tu as été surfer ce matin, n\\'est-ce pas\\xa0? Combien le boulot paie-t-il ? Nous méritons toutes une chance. Je ne veux pas salir mes vêtements. Montre-moi ce que tu as fait pour l\\'instant. J\\'ai dû abandonner la fac et prendre un boulot. Je n\\'ai pas besoin de votre argent. J\\'ai besoin de votre temps. Je suis née et j\\'ai grandi ici. Elle ne me parle pas. Tom a attendu, mais personne n\\'est venu. Il ne semble pas très fatigué. Elle a pris son petit-déjeuner tôt. Je n\\'aime pas l\\'océan. As-tu lu le journal d\\'aujourd\\'hui\\u202f? Je l\\'ai battu aux échecs. Je me réjouis que vous le voyiez ainsi. Tom me suivit au garage. Tom tendit une bouteille à Mary. Je me suis reposé à l\\'ombre d\\'un arbre. Les enfants n\\'étaient pas impressionnés. De quoi se plaignent-elles ? Lorsque j\\'ai entendu cette chanson, ça m\\'a rappelé quand j\\'étais enfant. La cérémonie débuta par son discours. Je n\\'oublierai jamais vous avoir vus. Je suis venu en train. Elle est à son hôtel, maintenant. J\\'ai gardé cette part de gâteau pour toi. Quelqu\\'un d\\'autre vient-il ? Elle l\\'invita à entrer. Ça varie terriblement. C\\'est\\xa0ainsi\\xa0qu\\'est\\xa0la\\xa0vie. Gardez ma place, s\\'il vous plaît. Peux-tu nous dire ce qui t\\'est arrivé ? Il l\\'a fait par gentillesse. Où est ton verre ? Es-tu sûr que tu n\\'es pas en train de prendre trop ? Il semble improbable que le train arrive à l\\'heure. Je pris part au concours. Tom se retint de frapper Mary. La conférence couvrait beaucoup de sujets. Je me réjouis certainement que vous n\\'ayez pas été blessés. Tom parut furieux. Veuillez le réparer. C\\'est ce livre. J\\'espère que vous avez apprécié votre séjour parmi nous. Je ne veux pas vous revoir ici. Tu n\\'es pas obligée de mentir. Vous le reconnaissez, n\\'est-ce pas ? C\\'est ta responsabilité de faire ça. Le hérisson est un petit animal. J\\'ai de vrais sentiments à ton égard. Comment était-elle ? Personne ne se trouve dans la pièce. Il viendra me voir demain après-midi. C\\'est un bracelet assez curieux que tu portes là. Je ne pense pas que quiconque pense que tu sois fou. Tu l\\'as trouvé. Te souviens-tu de moi ? Employez votre temps judicieusement et vous en aurez toujours assez. Tom était assis seul dans sa chambre. Il y a beaucoup de gens talentueux dans notre ville, mais Tom n\\'en fait pas partie. Je ne sais pas ce que j\\'attendais. J\\'aurais aimé avoir petit-déjeuné. Je ne l\\'ai pas du tout cru. Je suis né en Amérique. Nous devrions déguerpir d\\'ici aussi vite que possible. Comment allons-nous ? Vous n\\'avez jamais pu garder un secret. Celui-ci est toujours en vie. Tom ne portait pas de casque. J\\'ai hâte que le printemps arrive afin que l\\'on puisse s\\'asseoir sous les cerisiers. Notre collège utilise bien trop d\\'électricité. Il est né à Nagasaki. Tous les enfants n\\'aiment pas les pommes. Ne t\\'attends à aucune pitié de ma part. J\\'y connaissais tout le monde. Je t\\'ai laissé une note. Elle a un visage rond. Il faut d\\'urgence comprendre comment les changements climatiques affecteront nos vies. Il conduit une Ferrari. Je me prépare au pire... Kyoto est visitée par beaucoup de gens chaque année. Tom a été déçu de la performance de Mary. Penses-tu sérieusement à y aller ? J\\'espère que tu te sentiras mieux demain. Je doute que Tom connaisse Mary. Je ne répéterai rien de ce que tu me dis. Nous mourrons de faim. Je vais y aller avec vous. Veuillez m\\'excuser ! Savez-vous parler anglais ? Le coût de la vie s\\'est élevé. Je ne voulais simplement pas que vous vous fassiez du souci. Aimais-tu Tom ? Es-tu sûr que tu veuilles partir sans dire au revoir ? J\\'apprends vite. Je suis sortie en vélo. Ai-je l\\'air vieux ? J\\'éprouve de la compassion. J\\'espère que tu ne seras pas déçue. Tom ne va pas être heureux de ceci. Je me plaindrai si je le veux. Nous voulons simplement que vous disiez la vérité. Quel est son roman le plus récent ? Il vous faut être prudent. Le pot de fleurs est cassé. Passer du temps avec ta bien-aimée devrait être en tête de ta liste de priorités. Tom et moi venons de nous marier. Cette semaine il y a trois examens partiels. Il est tard alors éteins la télé. Il est détective. Il a été abandonné par ses amis. Lorsque je suis rentrée chez moi, j\\'ai pris une bonne douche glacée. Elle lui conseilla d\\'attacher sa ceinture. Je serai couché à l\\'heure où tu rentreras. Lorsqu\\'il atteignit la gare, le train était déjà parti. Elle ne l\\'apprécie pas. Elle est en déplacement en ce moment. Tom ne gagne pas assez d\\'argent pour subvenir aux besoins d\\'une famille. Nous ne sommes pas d\\'ici. Je me réjouis de te contenter. Le grand-père de Tom ne savait pas lire. Au lieu d\\'aller à Boston l\\'été prochain, allons à Chicago. Lâche-moi\\u202f! J\\'aimerais discuter avec vous, lorsque vous aurez du temps disponible. Tes parents savent où tu es. Je ne pense pas que la maison soit aussi grande que nous l\\'espérions. Connais-tu bien cet endroit ? Je suppose que vous pensez que je suis dingue. Qu\\'as-tu fait pendant tes vacances d\\'hiver\\u202f? Ils veulent la paix. Quiconque t\\'a-t-il vu venir ici ? C\\'est une bonne chose. Je te dois de sincères excuses. Nous sommes attaqués. C\\'est normal. As-tu voté ? Nous voulons y aller. Sois polie mais ferme. Êtes-vous sûrs de ne pas vouloir venir ce soir ? Nous travaillerons ensemble. Tout ce que je sais, c\\'est qu\\'il vient de Chine. Ceci doit être pour vous. C\\'est pourquoi je me trouve ici. Tu es la seule personne sur qui je puisse compter. Faisons-le\\u202f! Veuillez signer le contrat. Je me sens bien mieux maintenant. Je pensais que tu le saurais. J\\'arrive habituellement à deviner lorsque quelqu\\'un cache quelque chose. Il y a une chose que je ne comprends pas. J\\'ignore si je suis capable de faire ça. Votre rédaction est la meilleure jusqu\\'à présent. Tom n\\'est pas un enfant. Je ne suis pas une professionnelle. Elle peut s\\'en sortir. Je ne fais pas partie du sérail. Ils auront des pourparlers demain. Il parle comme s\\'il était riche. Le chat a sauté sur la table. Laissez-moi vous présenter une nouvelle manière de faire cela. Ils vont faire les courses. Il est très beau. Qu\\'est-il arrivé aux autres ? Tu as de tellement beaux yeux. Êtes-vous sûrs que vous vouliez partir sans dire au revoir ? Tu sembles être de mauvaise humeur aujourd\\'hui. Je lui ai demandé s\\'il était occupé. C\\'est mieux que de rester les bras ballants. Qui a mangé tous les cookies\\u202f? Tout le monde veut aller au paradis, mais personne ne veut mourir. Quel lycée avez-vous fréquenté ? Je me rappelle, en effet. Vous êtes plantées. Nous sommes arrivés trop loin pour abandonner maintenant. Je quitte la maison tous les matins avant huit heures. Quelles sont les dernières nouvelles\\u202f? Je ne tente pas de dire quoi que ce soit. Voulez-vous que je perde mon boulot ? Ces appareils photo sont fabriqués au Japon. Je suis très fatigué par le dur labeur. Pourrais-tu nous laisser seuls ? Nous n\\'avons pas été payés pendant trois mois. Tu habites où ? Tom a dit qu\\'il ne voulait pas le faire avec vous. Il s\\'est évanoui au milieu de son discours. Il n\\'y a pas de traitement. Il peut tout au plus payer vingt dollars. Cela vaut la peine de lire ce livre. Nous devons nous diviser. Vous avez demandé à me voir. J\\'ai compté sur lui. Veuillez excuser mon arrivée tardive. Ce film convient aux enfants. Les enjeux sont élevés. Il s\\'installa dans son fauteuil pour écouter la musique. Tom fut le premier amour de Mary. Je n\\'ai simplement pas pu résister à le faire. Suis-le\\u202f! Je ne suis pas la seule avec un enfant. J\\'ai été renvoyé la semaine dernière. À quelle heure pouvez-vous venir ? Asseyez-vous ici, je vous prie. Vous feriez mieux de mettre l\\'occasion à profit. Nous devons réduire les coûts. Je vais réfléchir à ça. Cet endroit n\\'est plus sûr. Tu devrais l\\'essayer ! Je pensais que tu étais censée être à l\\'école en ce moment. Êtes-vous seule\\u202f? J\\'espère qu\\'aucun d\\'entre eux n\\'a été impliqué dans cet accident de la circulation. Ces chiens sont massifs. Sont-ils en mesure de nous voir ? Où t\\'es-tu fait couper les cheveux ? Elles ne s\\'y sont pas rendues. Maintenant qu\\'il est âgé, c\\'est votre devoir de vous occuper de lui. Je ne vous ai pas vue entrer. Je suis observatrice. Elle passe plus du tiers de son temps à s\\'occuper de paperasse. Elle fera une bonne épouse. Tu es la seule personne qui puisse faire ça. Ils vous ont fait confiance. Combien ont coûté ces lunettes-là ? J\\'en ai assez des conférences, ces temps-ci. Tu trouves toujours des reproches à me faire. Elles vivent en bas. Il n\\'y avait absolument aucun mobilier dans la pièce. Elle l\\'a regardé droit dans les yeux. N\\'importe quel livre fera l\\'affaire. Il a quelques stylos. Tom fait rarement des erreurs. Dis-moi que ce n\\'est pas vrai ! Je ne fais pas ça, d\\'habitude. Pourquoi y a-t-il autant de violence dans le monde? Vous devriez vous acheter un nouveau couteau. Il y faisait beau et frais. Nous avons perdu tout notre financement. Je veux que vous veniez travailler ici dans notre entreprise. Pour qui travaillez-vous maintenant ? Je n\\'en suis pas si sûr ! Je me demande si je devrais l\\'entretenir du problème. Dans le jardin il n\\'y avait personne. Quel livre intéressant\\u202f! Tom pense qu\\'il va bientôt mourir. Soixante-neuf pour cent des adultes américains sont en surpoids. J\\'ai appris cela lorsque j\\'étais enfant. Désormais, je vais dire ce que je pense. Vous êtes ambitieux. Elle a de longs bras et de longues jambes. Mange tes légumes ! Peux-tu m\\'aider ? Étiez-vous réveillées à 2 h 30 la nuit dernière ? Mêle-toi de tes propres affaires ! Il fit semblant de ne pas me connaître. Ma famille n\\'est pas très grande. Tom m\\'a demandé si j\\'avais sommeil. Pourquoi ne me dites-vous pas pourquoi vous pensez que c\\'est arrivé ? Quoi qu\\'il arrive, tu dois rester calme. J\\'étire toujours les muscles de mes jambes avant de jouer au tennis. Je suis aussi curieux que vous. Tu as l\\'air resplendissante. Il n\\'y a que vingt-huit jours en février. Elle travaille nuit et jour. La domination allemande ne dura pas très longtemps. Il faut que je révise mon anglais. Tous les magasins étaient fermés. Je pensais vous y trouver. Désolée. Je ne peux rien y faire. Elle lui a dit qu\\'elle ne l\\'aimait pas. Il a l\\'air amical. Soit elles ne le veulent pas, soit elles ne le peuvent pas. Espérons que l\\'année prochaine soit meilleure. Bien sûr, je savais que c\\'était dangereux. Surtout, la logique nécessite des définitions précises. Elle mourut de la tuberculose. Tu l\\'as fait\\u202f! Une tempête empêcha le navire de quitter Kobe. Je commence à sentir que quelque chose déconne. Tom détestait ça. Il n\\'est pas question que je me fasse enguirlander à cause de ses erreurs. Elles se sont calmées. Il était accusé de vol d\\'argent. Elle allait partir de la maison. S\\'il vous plaît, continuez votre histoire. Vous n\\'aviez aucun droit de faire cela. Pour qui avez-vous voté ? Je t\\'ai amené des roses rouges. Vous êtes la professeur. Comment êtes-vous arrivés ici si rapidement ? Es-tu sûre qu\\'elles peuvent faire ça ? Attends une minute. Vous avez l\\'air d\\'un garçon. Il perdit espoir et se tua à l\\'aide de poison. Faites le lit, je vous prie ! La nourriture coûte de l\\'argent. Je me suis fait voler mon portefeuille par l\\'homme assis à côté de moi. La centrale électrique alimente le quartier éloigné en électricité. Tu n\\'avais pas besoin de te presser. Puisque je suis ici, laisse-moi t\\'aider. Je sais que tu as essayé de nous aider. N\\'importe qui fera l\\'affaire. Il doute que je tiendrai ma promesse. Laissez-moi appuyer sur le bouton. C\\'était qui\\xa0? Veuillez en prendre quelques uns. Essayez d\\'être plus ponctuelles, désormais. Selon les journaux, l\\'homme s\\'est finalement confessé. C\\'était un sentiment bizarre. Il est 2h du matin. Il doit être fatigué. J\\'ai un lapin comme animal de compagnie. Ses dettes s\\'amoncelaient. Il y a une église derrière chez moi. Venez vous joindre à nous ! Je veux que tu ailles voir l\\'infirmière. Je pense qu\\'il pourrait pleuvoir aujourd\\'hui, mais je peux me tromper. Elle me donna une jolie poupée. Je lui rends visite tous les deux jours. Je pense qu\\'il se pourrait que tu l\\'aimes. Étant fatigué il est allé au lit. Il y a des tortues qui ont plus de deux cents ans. J\\'ai été attaqué et dévalisé sur le chemin de la maison. C\\'est Tom qui m\\'a dit que vous étiez malade. Un homme est venu te rendre visite la nuit dernière. Tu es en avance. Une abeille vola par la fenêtre. Lequel d\\'entre vous viendra avec moi\\u202f? Elle lui a recommandé d\\'arrêter de prendre ce médicament mais il avait le sentiment qu\\'il en avait besoin. Je vais préparer à dîner. Vous êtes la seule personne que je connaisse qui possède une arme à feu. Nous nous amuserons beaucoup. Je suis trop jeune pour faire ça. Famine et maladie vont de pair. Soyons francs les uns envers les autres. Je pense que c\\'est une bonne idée. Je ne sais pas encore ce que je veux faire. Avez-vous parlé de ceci à quelqu\\'un d\\'autre ? Je peux le confirmer. Vous avez déjà pris le petit déjeuner ? Je suppose que vous ne m\\'avez pas tout à fait comprise. Ils étaient tous enseignants. C\\'est une bonne approche. Elle vient de sortir de l\\'université, donc elle n\\'a pas d\\'expérience. Une femme m\\'a demandé le chemin. L\\'amour est aveugle. Cela vous dérange-t-il que je me joigne à vous ? C\\'est mon ami. Tom veut demander quelque chose à Marie. Eh bien, qu\\'avez-vous découvert\\xa0? As-tu parlé le moins du monde ? Je suis heureux que tu l\\'aies aimé. Le problème a disparu comme par magie. J\\'aime le café brûlant. Je trouve que nous avons fait du très bon boulot. Vous lui faites mal. Tu devrais être plus prudent au passage piéton. Vous auriez dû venir un peu plus tôt. Tu me dois une bière. Elle a un don de prophétie. La rue est pleine de véhicules. Je lui dis constamment de bien se comporter. Tom vient de se faire plaquer. Il s\\'agenouilla et pria pour les âmes des défunts. La fille s\\'est exercée aux barres parallèles. Je pense qu\\'il se pourrait que vous l\\'aimiez. Étais-tu au courant de ça\\u202f? Si le médicament ne fait pas effet, peut-être devrions-nous augmenter la dose. J\\'aime le sashimi. Regardez ceux-ci. Personne ne connaît l\\'avenir. Je me suis dit qu\\'une pause te ferait du bien. Tu es cernée. La leçon deux est facile. N\\'oublie pas de poster cette lettre. Je n\\'étais pas impliqué. T\\'a-t-il touchée ? J\\'espère que Tom prouvera que j\\'ai tort. Nous avons une petite table dans la cuisine. Vous vous faites pousser la barbe? Quelle théorie intéressante ! Nous faisons tous deux des erreurs, n\\'est-ce pas ? Tom a dit qu\\'il ne pouvait plus se rappeler son propre numéro de téléphone. Cette boîte est faite en papier. Apprécies-tu que je fasse ça ? Ils sont tous différents. Ne dépense pas trop d\\'argent. Tout mon corps me fait mal. Pourquoi voudrais-je te poursuivre en justice ? J\\'ai cassé ton cendrier. Quel est votre poste\\u202f? Nous n\\'avions pas de mauvaise intention. Le climat ici est très comparable à celui de l\\'Angleterre. Je ne peux pas parler à Tom. Tom ne s\\'occupe pas très bien de ses enfants. Je suis né le 4 juin 1974. Ma vie a pas mal changé. Il est de loin le meilleur élève. Il est à la recherche d\\'un emploi. Le japonais est ma langue maternelle. Je lui ai demandé son nom. Je ne partirai jamais. J\\'apprécie cette manche. La partie n\\'est pas terminée. Elles vivent dans le même état. Êtes-vous sûr que nous ne nous sommes jamais rencontrés auparavant ? Le chien mangea mon soulier. Tu es le chef. Il a une mauvaise influence. As-tu une quelconque allergie alimentaire ? Il est très flexible. Voulez-vous savoir où vous vous êtes trompé ? Je pense que ça a bon goût. J\\'ai besoin de trouver un boulot au pas de course pour payer mes factures. Vous savez ce dont ils sont capables, n\\'est-ce pas ? Je ne vois pas de quoi vous êtes tellement contents, tous les deux. Je n\\'ai pas le temps d\\'être malade. J\\'aimerais m\\'entretenir avec vous. Je parle un peu espagnol. Il est revenu hier de l\\'étranger. Je me considère comme quelqu\\'un de très stupide. Je suis vraiment surpris que Tom ne soit pas ici. J\\'ai peur de ce que l\\'instituteur dira. À quelle heure seras-tu de retour ? Tom fut horrifié lorsqu\\'il se rendit compte que sa fille s\\'était fait faire un piercing dans la langue. Donne-moi quelques minutes pour m\\'habiller ! Ne m\\'interromps pas ! C\\'est piégé. L\\'air conditionné semble désormais fonctionner. Il ne pleut presque jamais, ici. Il a eu un accident au travail. Nous sommes en retard à cause de toi. Nous vous verrons toutes demain. Leur contrat expire le vingt octobre. Les circonstances ne m\\'ont pas permis de t\\'aider. As-tu ton permis de conduire\\xa0? Elle l\\'a fait de nouveau. Je choisirai un de ceux-là. C\\'est moins cher de commander des choses à la douzaine. Tu es beau. Nous sommes supposés connaître les règles. Les arbres se tenaient sur une ligne. La société a demandé à la banque de lui prêter de l\\'argent pour acheter de nouvelles machines. La conférence s\\'est terminée à cinq heures. Les femmes de ce pays se battent pour leur liberté. La corbeille était remplie de pommes. Ça donne une étrange impression, pas vrai ? Tom ne s\\'est jamais remis de la mort de Marie. Ça à l\\'air bien écrit. Tout le monde est en sécurité. Comment dis-tu ? Je ne veux simplement pas le refaire. Tu as fait une terrible erreur. Je crains que la rumeur soit avérée. J\\'adore Boston. Sois créatif ! Voulez-vous louer votre maison ? Ce ne sont pas vos oignons. Vous êtes vraiment bon. Où as-tu garé la voiture\\xa0? Tout le monde fut choqué. Le langage peut-être employé de diverses manières. Quel âge a votre fille ? Le ciel est plein d\\'étoiles. Le feu est toujours dangereux. Je suis bien plus jeune que vous. Je me sentis trompé. Mon livre doit se trouver quelque part dans la pièce. Il peut l\\'avoir vu. Vous faites l\\'objet d\\'une enquête. M\\'accusez-vous d\\'être un menteur ? Arrêtez de pleurer comme une fillette ! Tom avait la seule piscine de la ville avec un plongeoir. C\\'est plutôt réconfortant. Ce n\\'est la faute de personne. Vous avez été occupées, non ? J\\'aimerais bien y croire. Y a-t-il quelque chose de particulier que tu veuilles regarder ? Attendons de voir comment les choses tournent. L\\'acteur mourut au sommet de sa popularité. Si tu ne connais pas les réponses, devine. Que vous êtes-vous fait ? Pouvez-vous lire ceci sans vos lunettes\\xa0? Aidons-nous les uns les autres ! Je ne l\\'ai jamais même dit à mon mari. Ils ont commercialisé un nouveau type de voiture à Tokyo. J\\'ai pensé que vous seriez seuls. Vous avez vraiment de la chance. Tom m\\'attendit. Que font les autres hommes\\xa0? Arrêtez de hurler ! Je te montrerai comment le résoudre. Ce genre de choses arrive tout le temps. Il fut lapidé. Après vous. Il est fatigué de lire. Je ne trouve plus mon vélo. Vous êtes fort occupée. Elle a lu le poème à haute voix. C\\'est au moins à trois-cents miles d\\'ici. Le temps chaud ne me dérange pas. Tout le monde est en train de manger. Il me rend dingue. Bouge pas. J\\'arrive. Penses-tu que nous devrions abandonner le navire ? La pluie drue gâcha notre excursion à travers bois. Ce n\\'était pas bon. Comme c\\'est vraiment étrange ! Prenez votre temps. Nous avons toute l\\'après-midi pour faire les magasins. Pourquoi es-tu dans ma maison\\xa0? Je reviens dans deux heures. Ça m\\'a rappelé vous. Lequel est ton stylo ? Merci pour tout ce que tu as fait. Je peux le tenter. Je ne compris pas ce qui se passait. Ton plan a fonctionné. Celles-ci sont-elles pour moi ? Tom a été poignardé dans la poitrine. Cette voix semble familière. Vous êtes celui que je voulais rencontrer. Il n\\'en restait qu\\'un seul. C\\'était très intéressant. Si j\\'avais su que tu étais là, je ne serais pas venu. Je pense que tu as fait un excellent boulot. Tom est de retour dans son appartement. Qu\\'avons-nous fait ? Où se trouve le pont ? Pourquoi étiez-vous absent hier\\u202f? Jouez-vous dans un groupe ? Presque la seule fois où un gros homme perd son sang-froid est lorsqu\\'on le prive de sa nourriture. Ce jeu est tellement difficile. Il ne se lève pas tôt. Prenez place. J\\'ai entendu parler de lui le mois dernier. Nous sommes tous uniques. J’aimerais aller à\\xa0Hawaii. Il n\\'est pas aussi jeune qu\\'il le paraît. Je ne souhaitais pas être là. Il n\\'en reste que trois. La production d\\'acier a atteint environ 100 millions de tonnes l\\'année dernière. Rien ne me rendrait plus heureuse que de vous voir heureuse. Je peux arriver en classe à temps, pensa-t-il. Est-ce là sérieusement ce que tu penses ? Il aime regarder des matchs de baseball à la télévision. Je ne viens pas d\\'une famille riche. As-tu pris une douche aujourd\\'hui\\xa0? Je me suis fait couper les cheveux chez le coiffeur hier. Le gros bus jaune dégringola la rue. Ton père est-il au jardin ? Il se peut que nous en ayons besoin bientôt. Essayez de rester calmes. Est-ce que je peux te parler\\u202f? Les baleines se nourrissent de plancton et de petits poissons. Je pense que j\\'ai terminé. Je viendrai aussitôt que possible. Maintenant, corrigez cela. Soyez fières de vous. Voudrais-tu prendre le thé avec nous cet après-midi ? Je pense que je peux battre le record de Tom. J\\'ai pensé que tu pourrais avoir besoin d\\'aide. Je suis pratiquement sûr que Tom n\\'était pas là-bas. Veux-tu une autre part de tourte\\u202f? Il s\\'enfuit dès qu\\'il vit le policier. Marie cacha l\\'argent dans son soutien-gorge. J\\'étais à l\\'hôpital il y a quelques jours. Tu peux te débarrasser de ton rhume en prenant ce médicament. Je veux faire ça seul. Ses yeux me font penser à\\xa0ceux d\\'un chat. Ce roman m\\'a bien plu. Je vous ai vues dehors. Il y a eu des fois où faire ça nous a causé des problèmes. J\\'aimerais te voir cette après-midi. En ce qui concerne ça, je suis le fautif. Je ne suis pas sûr s\\'il s\\'agit d\\'un compliment ou bien d\\'une insulte. C\\'est si confortable. Je voulais simplement une clarification. On m\\'a forcé à y aller. Vous avez un si beau nom. Tom ne pouvait pas supporter que Marie ne sache pas ce qu\\'il s\\'était passé. Tout le monde a paniqué. J\\'ai tenté d\\'écrire de la main gauche. Dites ce que vous avez à dire. Vous êtes si méchante. Je plie ma robe. Vous ne trompez personne. Les bananes sont délicieuses. Est-ce ta chatte ? Il a confessé sa culpabilité. C\\'est très prévenant de votre part. Nous avons tous pleuré les gens tués dans l\\'accident. Puis-je te parler un instant ? J\\'ai passé un très bon moment ce soir. Vous êtes toutes des racistes. Le match a été reporté. Ne t\\'embête pas à venir me prendre à l\\'hôtel. Il adore le foot. Laissons simplement tomber le sujet ! D\\'accord ? Cela me prendra 20 minutes pour aller jusqu\\'à la gare en taxi. Comment as-tu réussi à faire ça ? Peut-être est-ce la vérité. Quand je repense à ce que j\\'ai fais, je me sens assez stupide. Voulez-vous aller pêcher, demain ? Nous avons essayé de lui remonter le moral. Voyez-vous ce que je veux dire\\u202f? Je veux y aller. Filez ! Vous voulez voir quelque chose d\\'amusant ? Tu as perdu la partie. Vous êtes la seule qui puisse m\\'aider. Je n\\'avais pas idée que tu étais si fervente. Je lui ai conseillé de garder le secret. Ma fille est allée à l\\'école. Je n\\'ai pas le temps de partir en vacances cette année. Pourquoi aidons-nous Tom ? J\\'ai été aussi surprise que vous. Puis-je vous voir un moment ? Il a de larges épaules. Donnez-moi votre arme ! Tu souffres, n\\'est-ce pas ? Personne ne m\\'aida. Je peux vous le prouver. Aujourd\\'hui c\\'est jour de paie. Je suis trop vieux pour ce genre de choses. Je crois que nous pouvons arriver à le faire faire. Il m\\'envoya une lettre disant qu\\'il ne pouvait me voir. Voulez-vous de ceci ou pas ? Tom partit. Il n\\'est pas nécessaire qu\\'il sache. Dans quel but l\\'as-tu acheté ? Je prendrai ceux-là. Est-ce trop ? As-tu déjà rêvé de moi ? Y a-t-il quoi que ce soit d\\'autre que vous vouliez savoir ? Combien de temps êtes-vous resté à Boston ? Ce n\\'est qu\\'un menteur. Elle est fière de ses élèves. Qui va payer la facture\\xa0? Je suis dans mon appartement. Le projet de rénovation urbaine est désormais bien en route. Est-ce que Tom était là quand nous sommes arrivés ? J\\'en suis impatient. Je veux que tu me rendes ma clé. Dis-moi pourquoi tu étais absent de l\\'école hier. Tom suspendit son manteau. Je pense que nous devrions le refaire. Tout le monde me connait. Je pensais que tu serais rassasié après avoir mangé ce gros steak. J\\'adore la marche. Je ne veux simplement pas vous parler. Ne comprends-tu toujours pas ? Je ne sais pas ce que vous cherchez. Il est indisponible. Si vous ne pouvez pas purger la peine, ne commettez pas le crime. J\\'ai une demande à faire. Je pense que Tom peut vous aider. Tout le plaisir est pour moi. Je parie que tu as faim. Nous sommes voisins. Pourquoi êtes-vous si fatigués ? Les trains passent plus fréquemment que les bus. Il donna une description détaillée de l\\'accident. Ça a dû faire mal. Il ne convient pas que tu fasses cela. Le temps est mauvais, non ? Ne nous croyez pas sur parole. J\\'en ai peur. Je pris un taxi car le car était en retard. Tu n\\'y crois peut-être pas, mais malgré tout c\\'est un fait. Je ne sais pas ce que vous voulez que je dise. Il faut qu\\'elles changent leur état d\\'esprit. Finissons ce que nous avons commencé. Je n\\'ai pas le cœur à le faire. À quelle fréquence faites-vous du sport\\u202f? Pourquoi faites-vous ça ? Nous ne serons pas jugés. Je t\\'ai acheté un crayon comme cadeau d\\'anniversaire. Elle exigea de voir le responsable. Vont-elles se battre\\xa0? Tom doit trente dollars à Mary. Vous êtes très compréhensives. Le problème le plus grave actuellement est celui de la surpopulation. Ne pensez-vous pas que ça pourrait être un peu lourd ? Nous aimons tous faire du vélo. Je ne voulais pas passer davantage de temps à travailler à ce projet. Marie est assez jeune pour être votre fille. Tom dit à Mary qu\\'il ne lui mentirait jamais. Si je l\\'avais su, je te l\\'aurais dit. J\\'ai dû altérer le plan. Tom sait-il que Mary est ici\\xa0? J\\'aimerais que nous puissions le faire. Y a-t-il quelque chose là-bas\\xa0? Je n\\'en ai pas besoin. Cette histoire m\\'a brisé le cœur. Que devraient-ils faire dans cette situation\\u202f? Tu n\\'avais pas le choix. Vous êtes naïf. Je veux te voir dans mon bureau dans une heure. Tom m\\'a dit pourquoi il n\\'a pas pu faire ça. J\\'arrose ça. On pourrait aussi commencer de suite. Vois-tu un inconvénient à ce que j\\'ouvre la porte ? Il y a une pomme sur le bureau. Je ne pense pas que je puisse beaucoup t\\'aider. Verriez-vous un inconvénient à ce que je jette un œil ? Les typhons frappent le Japon chaque année. Quel film avez-vous vu ? Les habitants de ces zones souffrent de plus en plus de la faim chaque année. Il y a beaucoup de gens qui vont acheter des maisons. Attendons un moment ! Comment avez-vous l\\'intention de le faire ? Quoi que tu fasses, n\\'appuie pas sur ce bouton. De nouvelles routes furent construites l\\'une après l\\'autre. Que faites-vous pour gagner votre vie ? Je l\\'enverrai par courriel cet après-midi. Vendre des voitures est mon travail. Tu ferais mieux d\\'attendre le prochain bus. L\\'alarme-incendie sonna. Il y a de grandes chances qu\\'il gagne. Il y a des trous dans la boîte. C\\'est rafraîchissant. C\\'est l\\'appareil photo de Tom. Je ne témoignerai jamais contre ma femme. Pourquoi n\\'avez-vous pas dansé avec lui\\u202f? Je ne sors pas beaucoup. Te sens-tu malade\\u202f? Je t\\'ai apporté une autre couverture. Elle courut aussi vite qu\\'elle put. Où est mon peigne ? Comparée à toi, je ne suis qu\\'une débutante à ce jeu. Il m\\'a demandé où elle vivait. Tout à coup, il se mit à pleuvoir. Nous avons été mariés pendant 30 ans. Nous espérons finir de planter le champ avant que le soleil ne se couche. Je suis presque aussi grand que mon père maintenant. Le voleur enferma l\\'enfant dans l\\'armoire. J\\'ai eu une mauvaise note. Il est endetté jusqu\\'au cou. Il a été puni pour ses crimes. Il a dit qu\\'il savait bien nager. Aimeriez-vous voyager à l\\'étranger ? Où est l\\'argent que je t\\'ai donné\\u202f? Est-ce que ça ne t\\'affecte simplement pas, parfois ? Je ne veux tout simplement pas de ton chien dans ma maison. Comment pouvez-vous faire la différence entre un Anglais et un Américain\\u202f? La semaine dernière, j\\'étais à la plage, mais aujourd\\'hui je suis chez moi. Conformément au contrat, vous pouvez prendre trois jours de congé de deuil pour les funérailles de votre oncle, mais un seul pour celles de votre neveu. J\\'ai l\\'estomac plein. Je savais qu\\'il se passait quelque chose de bizarre. Ne me regarde pas avec des yeux si tristes. Il y a quatre saisons dans une année. Le vieil homme semble triste. Échauffez-vous ! Je veux transmettre ma compassion. Verrouille tes portes ! Je sais que Tom veut que nous allions à la piscine avec lui. C\\'est toi l\\'institutrice. Tom a dit qu\\'il ne voulait pas être dérangé. Il lisait beaucoup. Devine qui vient dîner ! Je connais le remède à ce qui vous fait souffrir. Le sucre est-il un poison ? Ne vous rappelez-vous pas mon nom ? Elle a cuit les œufs. Merci de le faire à ma place. Des larmes coulaient sur ses joues. Je ne veux pas grandir. J\\'espère que vous avez faim. Tu es très élégant. Je ne savais pas où Tom voulait que je plante les soucis. Il se passe quelque chose de louche. Pourquoi laisser la porte ouverte\\xa0? Beethoven était un grand musicien. Je les déteste. Il ne s\\'est pas réveillé ce matin. Il l\\'aimera à jamais. Ce soir, c\\'est la pleine lune. Il n\\'oublie pas de lui écrire chaque semaine. On va essayer encore une fois. Suis-je aussi transparent ? Y a-t-il un problème avec ceci\\xa0? Je pensais que Tom nous amenait voir Mary. Je ne sais pas quoi vous dire. Je ne peux pas gagner. La bouteille se brisa en morceaux. Avez-vous de quelconques questions à propos de ce qu\\'il faut faire ? Tom a dit qu\\'il essayerait. Elle sait parler trois langues. Le pétrolier géant vient de quitter le bassin. J\\'ai menti pour te protéger. Y allez-vous ou pas ? Elle ne sait pas skier. Vous serez endormie au moment où votre père arrivera à la maison. Combien de fois devriez-vous exercer ? Je veux voir s\\'il a vraiment réparé ça. Ils jouent beaucoup ensemble. Malheureusement, mon père n\\'est pas chez lui. Le charbon brûle. J\\'en ai assez vu. Qui est ce type ? Vous devriez suivre son conseil. Vous pouvez économiser votre salive. Ça ne sert à rien de parler avec lui. Nous avons été accueillies par une ravissante serveuse. Mon frère est étudiant. Elle pense tout le temps à lui. Pourquoi ne lui parlez-vous pas ? J\\'ai oublié où se trouvait la voiture. Tu as touché au centre de la cible. Arrêtez de dépenser de l\\'argent en idioties ! Tom ne réfléchit pas avant de parler. Je ne veux plus le faire. L\\'éducation est un investissement pour le futur. Elles n\\'ont rien vu. Je vends des ordinateurs. Tu peux me faire confiance. Toutes les choses vivantes sur terre dépendent les unes des autres. Il n\\'avait jamais annulé un rendez-vous avant. Vous devez dire à Tom ce que vous ressentez. Quel âge aviez-vous quand votre père a été tué\\xa0? C\\'est une question très intéressante. C\\'est très marrant. Tout ce que vous dites peut être retenu contre vous. Va, maintenant. Tu parles vraiment bien français. Un groupe de voleurs a cambriolé la banque. Nous sommes extrêmement préoccupés par cela. Tout se passe très bien. Elle sait. Elle sait toujours. J\\'utilise Firefox. Nous essayerons d\\'être plus prudents la prochaine fois. C\\'est assez bon. C\\'est tout ce que je peux dire. Combien de temps aurons-nous à attendre\\u202f? Je veux qu\\'elles soient toutes flinguées. Avoir un téléphone l\\'a aidée à trouver plus de clients. Elle avait du temps pour son occupation favorite. Cette route relie Tokyo et Osaka. Je vais aller jeter un coup d\\'œil là-bas. J\\'aimerais la note, je vous prie. Pourquoi ne la partages-tu pas avec moi ? Ça a été très amusant. Je ne crois pas aux sortilèges. Nous sommes là pour aider. Quelle est la chose la plus étrange que tu aies jamais mangée\\u2009? Je pense que c\\'est exactement ce que je ferais. Nous sommes du même voisinage. J\\'ai tout gâché. Ça n\\'en vaut pas la peine. Elle tira la chaise vers elle. J\\'ai d\\'excellentes nouvelles. Laisse mes affaires tranquilles. Je vous poursuivrai en justice. Tom a trouvé une vieille carte. Puis-je te voir dans mon bureau ? Tu es une sacrée menteuse. Les balles volaient partout dans l\\'air. Il tient pour principe de ne jamais parler des autres en mal. Il va pleuvoir bientôt. Ce manteau est imperméable. Mon sort est entre tes mains. Je ne devais pas y aller. Nous nous sommes plaint comme quoi la pièce était froide. Je sais que tu ne viens pas à ma fête mais j\\'aimerais que tu y viennes. Que pouvez-vous faire d\\'autre ? Il me faut quelque chose d\\'autre. Peux-tu développer un peu plus cela ? Il déteste faire des courses. Je me suis assis au bar. Je n\\'ai aucun ami Canadien. Prenez un raccourci ! Shakespeare a créé de nombreux personnages célèbres. Ça n\\'a simplement pas l\\'air correct. Nous chargeâmes de nombreux bagages dans la voiture. Voulez-vous un avocat\\xa0? Nous espérons que vous comprenez la situation difficile à laquelle nous sommes confrontés. Le plan a échoué. Je ne peux pas dire que je sois terriblement fier de ce que j\\'ai fait. Pourquoi ne pouvons-nous pas parler maintenant\\xa0? Sais-tu où sont les autres\\u202f? Je déteste les femmes qui disent que tous les hommes sont les mêmes. Prête-lui autant d\\'argent qu\\'il en a besoin. Nous étions toutes deux saoules. Allez voir qui c\\'est. J\\'apprécie votre franchise. Les chats ont horreur de se mouiller. Je ne pourrais jamais te faire de mal. Elles soutinrent son droit à parler librement. Attendez-nous dans le hall. Avez-vous quelque chose de moins cher ? Tom ne prend pas de vacances. Ne buvez pas dans mon verre. Est-ce que je pourrais y aller maintenant ? Rien ne changera mon monde. Nous quittons le Japon le mois prochain. Quelle précision est-ce que ça a ? Tom n\\'est pas aussi âgé que moi. Un piano est cher. Vous êtes naïves. Nous sommes impuissants. Je suppose que vous savez que vous m\\'avez manquée. Ma mère enseigne l\\'arrangement floral. Ta sœur est en train de dormir. Je passerai te prendre devant l\\'hôtel. Avez-vous déjà été trahi par un ami ? Avec qui suis-je supposée y aller ? J\\'étais très occupée la semaine dernière. Ils ont terminé le projet dans les délais. Comment savez-vous que c\\'est la sienne ? Ça ressemble à de la soie. Tom est là-dedans tout seul. Débarrasse-toi de l\\'arme ! Combien tout cela va-t-il coûter\\u202f? Que penses-tu de mon plan\\xa0? Je ne peux pas vous dire combien je suis heureuse que vous soyez venus nous rendre visite. Elle m\\'a appelé pour la première fois depuis longtemps. Tom conseilla à Mary de ne pas croire tout ce qu\\'elle lit sur le web. Ne me fais pas faire ça ! Nous l\\'élûmes président. «\\xa0Pourrais-tu le faire à ma place\\xa0?\\xa0» «\\xa0Désolé, je suis trop occupé.\\xa0» Je ne dispose pas de l\\'argent. Ma maman travaille en usine. Le succès n\\'est pas le fruit de la paresse. Pourquoi l\\'amour est-il si compliqué\\xa0? Je savais que j\\'aurais dû rester chez moi. J\\'ai besoin de bons conseils. Je ne t\\'ai pas vue depuis un moment. Qui est ton jules ? Elle vit à New York. Reste chez moi ce soir, s\\'il te plait. Tom s\\'est fait choppé en train de vendre de la drogue à des gamins. Tom est maintenant plus grand que son père. Si seulement elle arrêtait de jouer cette musique idiote\\u202f! Est-ce que le lave-vaisselle a fonctionné ? Je l\\'ai fait pour le bien de ma santé. Je te ferai un procès. Tu parles anglais ? Je m\\'occuperai de mes parents quand ils vieilliront. Le bébé ne sait pas encore se servir d\\'une cuillère. Combien de temps cela prendra-t-il pour arriver là-bas\\u202f? Il s\\'agit du bouton d\\'éjection. N\\'y touchez pas ! Tu n\\'en ressors que ce que tu y as mis. Es-tu seule\\u202f? J\\'adore la musique. Combien de pays se trouvent en Afrique\\xa0? Je me demande si vous pourriez me faire une faveur. Tom et ses amis sont allés au cirque. Puis-je aller te chercher quoi que ce soit ? Il court toujours après les filles. Votre épouse est au bout du fil. Elle dit que c\\'est urgent. C\\'est jour pluvieux. Étiez-vous vraiment énervé\\xa0? Il y a lieu de souligner que nous sommes souvent inconsciemment influencés par la publicité. Aussitôt qu\\'il sentit sa maison trembler, il se précipita dans le jardin. Je pense qu\\'il est temps pour moi d\\'acheter un nouvel appareil photo. Suspends ton manteau au crochet. Je suis endurant. Connaissez-vous qui que ce soit qui se trouvait sur ce vaisseau qui a coulé ? J\\'adore les chevaux. Ne gaspillez pas votre salive. C\\'est bon marché, mais d\\'un autre côté, la qualité est mauvaise. Est-ce que tu regardes les informations tous les jours\\xa0? Qui a une meilleure idée ? Mon père avait l\\'habitude de dire que le temps c\\'est de l\\'argent. J\\'ai acheté une webcam. Qu\\'étais-je sur le point de faire ? Laisse-moi répéter ce que j\\'ai dit. Nous avons fait ça hier. Le terroriste pour l\\'un est un combattant de la liberté pour un autre. Je sais que je ne veux pas être marié avec vous, un point c\\'est tout. Je vais laisser un message. Je sais que je suis seul là-dedans. Je crains de t\\'avoir offensée. Je me méfie de toi. Il ne peut pas avoir dit cela. Je ne porterai pas de cravate. À propos, as-tu entendu parler d\\'elle depuis\\u202f? Même si elle a 38 ans, elle dépend toujours de ses parents. Je ne suis pas en train de mentir. Les enfants ont besoin de beaucoup de choses, mais par-dessus tout, ils ont besoin d\\'amour. Je veux entendre ça. Elle est morte paisiblement la nuit dernière. Nous tous prévoyons de le faire. J\\'aimerais te chanter une chanson que je viens d\\'écrire. Ça m\\'a pris trois heures pour finir mes devoirs. Nous sommes ici. Qui est cette femme\\u202f? Vous avez dû penser que j\\'étais un idiot. Je voudrais être aussi riche que Tom. J\\'essaye d\\'arrêter Tom. Tom a commencé à prier. Ah, la jeunesse. Garde Tom en sécurité. J\\'étais dans le bus. Tom mit les pièces dans la boîte. Sommes-nous accusés de quelque chose ? Je pense que c\\'est le meilleur plan. Il n\\'aime pas sa petite amie. Il est fraîchement diplômé de l\\'université. Désactivez l\\'alarme. On attrape davantage de mouches avec du miel qu\\'avec du vinaigre. As-tu goûté la bière japonaise ? Je n\\'arrive pas à croire que vous mangiez ce truc. C\\'est une belle réussite. Je te conseille d\\'être ponctuel. La plage était pleine de touristes. Tom a prétendu ne pas savoir quoi faire. J\\'adore faire ça. Je suppose que tu veux que je paie pour ça. J\\'ai dépensé dix dollars pour un livre. Pouvez-vous me dire où se trouve la cabine téléphonique la plus proche ? C\\'est pire que tu ne penses. Je ne savais même pas que tu en avais un. Le rose, c\\'est pour les filles. Je dois vous parler en personne. Je n\\'ai rien fait de la sorte. J\\'en ai besoin pour un examen. Qui s\\'en soucie\\u202f? Nous avons tous les deux commencé à sourire presque en même temps. J\\'ai commencé à parler. La situation est grave. Ils étaient tous là. Il se sentit perdu et mal à l\\'aise. J\\'ai une grande famille à nourrir. Vous avez oublié d\\'acheter de la salade. J\\'aimerais vous entendre chanter. Ne laisse pas ses remarques sarcastiques prendre le dessus sur toi. Puis-je vous parler ? Veux-tu que je perde mon boulot ? Vous joindrez-vous à notre cercle ? Qu\\'a-t-il en tête ? Tu ferais mieux de commencer maintenant. Elle tient son journal en anglais. On pourra commencer bientôt. Elles ont dit qu\\'elles avaient soif. Nous disposons de beaucoup de temps. Je fus incapable de me rappeler le titre de cette chanson. Tu as l\\'air super ce soir. Cette balle, est-elle la tienne ou la sienne\\u202f? Je ne vous ai pas dit de faire cela. J\\'aimerais être seul. J\\'apprécierais que tu partes. Est-ce que ça va si on dîne dehors, ce soir ? Nous partons dans cinq minutes. Mère m\\'a confectionné un nouveau costume. Franchement, je ne suis pas impressionné par son idée. Retenez vos applaudissements, je vous prie. Quels symptômes montrez-vous ? Il s\\'assiérait des heures à lire des histoires de détectives. Attendons quelques jours. N\\'est-ce pas assez ? Beaucoup, sinon la plupart des traducteurs professionnels traduisent seulement vers leur langue natale. Allez au parc. Nous sommes déçues. Je ne suis pas encore marié. Je ferai tout mon possible. Lorsqu\\'ils ont déménagé en ville, ils ont trouvé que se faire des amis était facile. Je veux savoir ce que vous faites là. Ils lui attribuèrent une médaille d\\'or pour son accomplissement. Nous aimerions avoir du vin. Il a résolu le problème avec aisance. Comment puis-je parvenir à l\\'aéroport ? Fichez-moi simplement la paix ! As-tu fini de lire ce livre maintenant\\u202f? Si tu vois une faute alors corrige-la s\\'il te plaît. Penses-tu que n\\'importe quelle personne intelligente soit en soi intéressée par les langues ? Je t\\'ai méjugé. Il était évident pour tout le monde qu\\'il était fatigué. C\\'est un grand honneur que de vous rencontrer. Pourquoi le saurais-je ? Le contenu des quatre registres est conservé par la subroutine appelée. Je peux manger ça? Ce n\\'est pas facile de se débarrasser des mauvaises habitudes. J’ai trouvé ce restaurant par hasard. Tom a dit qu\\'il ne savait pas très bien nager. Avez-vous besoin d\\'argent\\u202f? Tu as loupé le meeting. Je vais passer chez toi. Aimeriez-vous que j\\'y fasse quelque chose ? Peut-être ne devrions-nous pas faire cela aujourd\\'hui. Je me demande s\\'il viendra ce soir. Que pensez-vous pourrait être la cause du problème? Te souviens-tu de ce que tu as fait vendredi dernier ? Elle est en train de préparer le petit-déjeuner. Je préfère vivre dans la pauvreté et en paix que dans la richesse et la peur. Tom a fait une liste des endroits qu\\'il veut visiter. Ne sois pas tellement impatiente ! À qui étiez-vous en train de rêver ? L\\'enseignant mit les enfants en ligne par ordre de taille. Tom savait qu\\'il s\\'était fait avoir. Signez en bas, s\\'il vous plaît. Veux-tu essayer encore une fois ? Comment vous êtes-vous intéressé à l\\'art ? Je n\\'ai pas de temps pour toi. Il a plu pendant une semaine. Son roman se vendit bien. Je veux de nouvelles cartes de visite. J\\'ai horreur des araignées. Je veux que vous dansiez avec moi. Vous voulez des réponses à des questions que vous ne devriez pas poser. Il n\\'est pas intentionnellement cruel. C\\'est juste sa nature. Pourquoi avez-vous changé d\\'avis ? Londres est la capitale de l\\'Angleterre. Il s\\'est fait faire un nouveau costume. Tom tabasse des gens. Elle ramassa une pierre. Nous devons détruire les preuves. Est-ce vrai que tu vas aller étudier à Londres\\u202f? Je ne veux pas rater le bus. Il a une barbe clairsemée et une patte folle. La banque a eu le culot d\\'imputer des frais de retard pour un paiement retardé lorsque leur service en ligne s\\'est planté. Êtes-vous responsable de cette pagaille\\u202f? Tenez-vous tranquille ! Vous n\\'auriez pas pu choisir un meilleur endroit. Voudriez-vous un peu de thé ? Ne savez-vous pas comment ? Écrivez vous-même la date dessus. C\\'est ici que j\\'ai emmené ma petite amie lors de notre premier rendez-vous. J\\'étais assez détendu. Je n\\'ai aucune intention de me mêler de tes affaires. Elles se sont rencontrées au collège. Elles adorent cette chanson. Allez, les verres sont pour moi. Ce n\\'est pas ma signature. Je veux présenter mes excuses pour la manière dont je t\\'ai parlé la dernière fois que nous nous sommes rencontrés. Je n\\'arrive pas à réparer ceci. Tu es supposée aider tes amis lorsqu\\'ils ont des ennuis. Je pensais que je t\\'avais perdu. Tom a l\\'air plutôt malade. Il y a une pointe de rouge dans le ciel oriental. Deux semaines sont passées et je ne vous ai pas vu. Ce fait ne peut être contesté. Tu ne peux pas me laisser poireauter. J\\'ai dressé une liste. Ma voiture n\\'a pas assez de puissance. As-tu dit que Tom est ton ami ? Ce n\\'était vraiment qu\\'un malentendu. Tom n\\'a pas de proches amis. Merci beaucoup. Je vous en sais gré. Je suis impressionné par votre français. Il est très prudent. Ceci est pour mon amie. Je suis désolé de t\\'avoir blessée. Elle joue Bach. Franchement, je m\\'en fiche. J\\'ai contracté un rhume il y a deux jours. Ils n\\'avaient guère à manger. Je suis aussi grand que toi. Ne le prenez pas de manière si personnelle ! Je n\\'ai rien de particulier à faire. Le ciel est dégagé. J\\'ai pensé que ça serait chouette que nous passions un peu de temps ensemble. Aux alentours de minuit, je m\\'endors. C\\'est précisément ce qu\\'il lui faut. Cet homme vous menaçait-il ? Ils adoptèrent mon plan. Nous devons trouver un moyen de sortir d\\'ici en vie. Je ne l\\'ai pas volé. Je l\\'ai juste emprunté. Je suis désolé d\\'avoir été si grossier. C\\'est pourquoi j\\'ai appelé. Je me sens un peu maladroit. As-tu annoncé à tout le monde où la réunion se tiendra ? Ceci est considéré comme une affaire de grande importance. Nous ne pouvons rien prouver. J\\'ai un peu de fièvre. La liberté n\\'est pas gratuite. Mon mari gagne 100.000$ par an. Elle épousa un homme riche. Vous parlez très bien français. Je souhaiterais le parler aussi bien que vous. Êtes-vous certain de n\\'avoir rien fait ? J\\'ai arrêté de fumer et de boire. Il ne se souvient même pas de ce qui est arrivé la nuit dernière. Est-ce ton parapluie\\u202f? Le temps était déprimant hier. Où allons-nous nous rendre ? Je rentrerai le linge avant qu\\'il ne pleuve. As-tu une idée de quand ces photos ont pu être prises ? Mon père est vraiment très impliqué dans la bourse à présent. Pensez-vous que nous devrions attendre en espérant que cela change? Je me demande si elle acceptera un cadeau d\\'anniversaire en retard. Aimez-vous les chats noirs\\u202f? Pourquoi avez-vous commencé à apprendre le piano\\u202f? \"Parce que je veux devenir professeur de musique.\" Il mange souvent du poisson au dîner. Reste où tu es. Voulez-vous que je vous peigne les ongles des mains ? Tu peux rester ici aussi longtemps que tu veux. C\\'est urgent. Tu méprises Tom, n\\'est-ce pas ? Les prix ont baissé. Mon médecin m\\'a dit d\\'arrêter de fumer. Jamais ils ne retournèrent dans leur pays. On devrait épouser quelqu\\'un qu\\'on aime. Je laisse cela à vos soins. Tom adore être dehors. L\\'ail renforce la saveur des plats. Merci mon ami. Ma maison se trouve près de la gare. Nous devrions partir immédiatement. En plus d\\'être chirurgien, il était aussi un écrivain célèbre. Je viens d\\'être titularisé. Je suis arrivé au stade à 16\\xa0h\\xa000, mais le match avait déjà commencé. La chance lui a souri. Combien de fois avez-vous aidé Tom à faire cela ? Qu\\'allez-vous en faire ? Tom a honte de son corps. J\\'étais assez détendue. Tu ne peux pas venir avec nous. Laissez-moi vous donner un exemple. Elle profita de ses congés payés et partit skier. Sa maison est très moderne. Tout à fait par chance, je rencontrai mon vieil ami à l\\'aéroport. Ne soyez pas fou ! Êtes-vous des environs ? Je veux juste t\\'en entendre parler. Les vacances sont déjà finies. Je veux savoir qui a téléphoné. Je me suis presque noyé en essayant de sauver un garçon. J\\'ai pris un raccourci. Je reçois plus de deux cents courriels par jour. J\\'ai loupé ce film. L\\'as-tu vu ? Il manipulait l\\'outil avec compétence. Tu sembles distrait, aujourd\\'hui. N\\'oubliez pas de signer. Donnez-moi un café, s\\'il vous plaît. Elle a quelques beaux meubles anciens. J\\'aimerais vraiment savoir faire ça. Elles refusent de me laisser faire ce pour quoi je suis payée. Il a le même âge que moi. Tout à coup, toutes les lumières se sont éteintes. C\\'est chouette d\\'être estimé. On veut juste être heureux. Vous êtes-vous bien amusées, hier ? J\\'ai été arrêté pour l\\'avoir aidé dans sa fuite. Je sais de quoi il retourne. Les prix ont atteint un pic de treize ans. Pour quelle occasion vous êtes-vous apprêté\\u202f? Je vous licencie. Je suis si seule. Je ne suis pas en forme. Tom n\\'est pas capable de gérer le stress. Cette petite étoile est la plus brillante. Il prend un bain tous les matins. Il n\\'écoute pas. Je voulais fuir avec Tom. J\\'ai le sentiment que tu ne veux pas vraiment que je gagne. Y a-t-il quelqu\\'un parlant français ici ? Tom est impitoyable. Elle a mieux chanté que d\\'ordinaire. J\\'ai été impressionnée. Et si on allait pique-niquer ? J\\'espère que Tom et Mary sont à l\\'école. Je vous ai vu cuisiner. Montre-le-moi encore s\\'il te plait. Nous sommes en train d\\'attendre. Il y a beaucoup de parcs à Boston. Il mesure cinq pieds. Elle a un livre. Pourquoi ne manges-tu pas de légumes\\u202f? Mon temps coûte très cher. Il se perdit sur le chemin du village. Vous devriez dire à Tom quoi faire. Qu\\'as-tu à perdre ? Ma tante habite dans une maison isolée à la campagne. Je dus boire le café à petites gorgées parce qu\\'il était trop chaud. Elle lui confectionna un nouveau costume. Comment appelles-tu ta mère\\u202f? Je ne suis pas malheureux. Notre professeur de français nous donne un contrôle chaque lundi. Elle sait quoi faire, maintenant. Que ferez-vous\\u202f? Ça fait un bout de temps qu\\'on ne t\\'a vu. Tu n\\'es rien qu\\'un lâche. Je ne te veux pas à ma fête. Connais-tu quelqu\\'un sachant parler français ? Il m\\'a fallu le faire aujourd\\'hui. Prends le temps dont tu as besoin ! Je ne suis pas un ivrogne. Dites-moi juste ce qui s\\'est passé ! C\\'est super. Il vous faut le faire. Je me rends à la mansuétude de la cour. Je n\\'étais pas assez rapide. Les conserves doivent être entreposées dans un bocal à fermeture hermétique. D\\'où venez-vous tous ? Je pense que vous savez que c\\'est impossible. Il n\\'y a pas d\\'issue. Es-tu allé voir un toubib\\u202f? Comment peux-tu ne pas l\\'apprécier ? J\\'allais à la maison. Je ne vous ai pas vues entrer. En es-tu contente ? Cela n\\'a guère plus d\\'importance. Vous méritez le prix. Qui a peint ce beau tableau ? Il a offert sa place à une vieille dame. Il m\\'a appris comment épeler ce mot. Il voit tout en termes d\\'argent. Faisons comme si nous n\\'avions pas entendu cela ! Je suis désolé pour votre perte. Il y a une subtile différence entre les deux mots. C\\'était plutôt bien, non ? C\\'est très bon. Tu es Canadien, n\\'est-ce pas ? Elle n\\'était pas consciente de son erreur. Combien de temps va encore durer cette tempête ? J\\'ai pensé que nous pourrions utiliser les serviettes de table en tissu. Ne touche pas à ceci ! Je ne veux juste pas en parler. Pourquoi ne l\\'avez-vous pas fait ? Tu n\\'es pas forcée de mentir. Je nage tous les jours. Je préfère les chats aux chiens. Ton pneu est crevé. La flèche a manqué sa cible. Je ne prendrai qu\\'un verre. J\\'écris pour exprimer mon insatisfaction. N\\'essayez pas de la monopoliser pour vous seul. C\\'est le message. Tom a assez d\\'argent pour acheter la maison qu\\'il veut. Les femmes mangent des repas plus légers lorsqu\\'elles mangent avec un type. Je n\\'ai pas acheté la voiture. Les araignées ont huit pattes. Ce ne sont pas des ennemies, mais des amies. Les chambres sont désertes. Vous avez fait cela intentionnellement, n\\'est-ce pas ? Il était là hier. Nous connaissons nos problèmes. Tu es créatif. Nous nous amusons toutes. Je deviens folle. Tom me traite comme une enfant. Vous savez que votre anglais est bon lorsque les gens arrêtent de vous en complimenter. Le mariage est la cause principale de tous les divorces. Il ne peut la lire. Je devrais retourner chez moi. J\\'aimerais l\\'essayer. Lui avez-vous manqué de respect ? Tom a besoin de changer d\\'air. Il ne faut pas vous faire de souci. Je n\\'apprécie vraiment rien de tout ça. J\\'ai confié à ma femme les finances du foyer. Je veux que vous soyez revenues aujourd\\'hui. Tu as essayé. Cliquez ici pour davantage d\\'information. Je l\\'ai compris toute seule. Puis-je vous accompagner\\u202f? Mon rêve c\\'est de voyager dans une navette spatiale. Tu gaspilles du temps. Je connais quelques mots de français, juste de quoi me faire comprendre. Son plus jeune enfant a cinq ans. L\\'avez-vous débarqué ? Je veux vous voir sourire. Nous sommes impatients de vous voir, toi et ta famille. J’ai beaucoup de fièvre. On doit s\\'occuper de nos parents. Je crains qu\\'il pleuve demain. C\\'est un endroit fantastique. Quelqu\\'un m\\'a volé mes affaires. Combien de canettes de bière as-tu bu ? Je pense que Tom a dormi ici. J\\'ai rassemblé mes affaires et les ai placées dans ma valise. Le lundi je ne travaille pas. Que te rappelles-tu ? J\\'ai fait tout pour toi. Ça n\\'était qu\\'une heureuse supposition. Tom ne le vit pas. Quelqu\\'un a dérobé ma raquette de tennis. Tom plongea dans l\\'eau. Je ne me suis jamais rendu dans cette ville. Peut-être auriez-vous préféré un plat français. Nous prenons le bus pour aller en cours. Lâchez-vous ! Lors des sécheresses, les fermiers sont à peine en mesure de survivre. Vous devez penser que c\\'est amusant. Conduis-toi en homme ! Il l\\'a interrompu en lui disant non. Entre les deux, il y a une énorme différence. Cette chanson nous est familière. Que pensez-vous qu\\'ils me feront ? C\\'était\\xa0fort\\xa0laid. Je ne pense pas qu\\'aucune d\\'entre nous soit heureuse de ce qui s\\'est passé. Pensez-vous que je sois idiot ? Ne recule pas ! Elles les ont invitées à dîner. Je suis étonné de te voir. Tu devrais t\\'occuper de tes affaires. Pourquoi voudrais-je faire une telle chose ? Ce groupe de rock me file mal au crâne. Il n\\'y avait personne pour arrêter Tom. J\\'ai perdu toute notion du temps lors de notre promenade dans les bois. Comment prononcez-vous votre nom\\u202f? Tom voulait dire au revoir à Mary. Il trouva difficile de résoudre le problème. J\\'aimerais avoir ton boulot. Il a passé la soirée à lire un bouquin. Cette phrase n\\'est pas une traduction. C\\'est l\\'original. Tom connaissait la vérité, mais il a fait en sorte que personne ne le sache. Il s\\'est approché de la porte. Quel est le dessert\\u202f? Avez-vous un téléphone ? Les armoires de Marie sont pleines de vêtements qu\\'elle n\\'a pas porté depuis des années. Il est pile cinq heures. C\\'est une femme tranquille. Tom mérite-t-il vraiment d\\'être puni ? J\\'ai essayé en vain de l\\'ouvrir. Avez-vous un Valentin ? Je vous donnerai cette bicyclette comme cadeau d\\'anniversaire. Prends celui que tu aimes. Tom a une sœur qui s\\'appelle Marie. C\\'est une bonne nouvelle. L\\'occasion n\\'attend personne. Avez-vous l\\'âge de voter\\u202f? Tom et Marie parlent généralement français entre eux. Parce que j\\'habite près de l\\'école, je rentre à la maison pour le déjeuner. Tourne à gauche. Ils ont construit un pont. Tom a caché la poupée de Mary derrière la porte. J\\'étais trop timide pour la regarder en face. Nous avons des points de vue différents. Si seulement je pouvais. Je ne peux pas dire que je sois choqué. Il a été le seul à ne pas être invité à la soirée. Je possède quelques livres en français. Un cas vraiment malheureux fut soumis à notre attention il y a plusieurs années. Je suis allé à Boston plusieurs fois. Ma sœur joue aux poupées. J\\'ai entendu des bruits étranges en provenance de sa chambre. Elle s\\'est figée en voyant la grosse araignée. Dis-moi comme faire ça, s\\'il te plaît. La démonstration est triviale. Elle était prête à affronter son destin. Je ne comprends pas pourquoi ceci ne fonctionne pas. Je suis devenu ami avec Tom. Il fait très chaud. L\\'écureuil est grimpé dans l\\'arbre. Je voudrais faire davantage. Tu reviendras, n\\'est-ce pas ? Elles ont disposé de plein de temps. Je me suis amusé, hier soir. Ce que tu dis est insensé. Nous avons dansé toute la nuit. Nous ne devrions pas prendre son explication pour argent comptant. On ne peut pas faire entendre raison à Tom. Elle porte une attention particulière à ce qu\\'elle met. Me crois-tu, maintenant ? Y a-t-il de la vie sur Mars ? Une voiture est indispensable à une vie en banlieue. Ne nous sous-estime pas. Ils ne les font plus ainsi qu\\'ils les faisaient. Mon oncle est complètement guéri de sa maladie. Tout est calme. Nous nous faisons du souci pour grand-papa et grand-maman. Je suis sûr que c\\'est un poisson d\\'eau douce. J\\'étais trop étonnée pour parler. Près d\\'un milliard de personnes autour de la planète manque d\\'un accès à de l\\'eau propre et saine. On apprend quelque chose de nouveau tous les jours. Je pense que Tom et Mary ont raison. J\\'ai besoin de savoir pour demain. Elle remua les orteils. Ils viennent de la même ville. Il se mit à transpirer. Je me suis douché avant le petit déjeuner. Ma recherche d\\'emploi s\\'avère plutôt rude. Je n\\'ai aucune relation. Ils avaient peur de le faire. Sa fille aînée est mariée. Tom n\\'est pas né riche. J\\'ai une question. Nous n\\'avons pas le choix. Je suppose qu\\'il nous faudra marcher. Y a-t-il quelqu\\'un qui parle anglais\\u202f? Tu m’aimes vraiment ? Il fait extraordinairement chaud aujourd\\'hui. Montre-moi où c\\'est arrivé ! Tom et Mary ont voté pour John. Essayez de ne pas me décevoir ! Ma mère dit qu\\'elle allait bien. Elle est plutôt jolie, mais n\\'a pas l\\'air en bonne santé. Ne vous en faites pas ! Vous y parviendrez. Ils cessèrent enfin de travailler. J\\'irai à Tokyo demain. Je veux tout savoir. Tout le monde pense que je deviens folle. J\\'apprécie les échecs. C\\'est pour vous, Tom. Mon père m\\'a préparé un délicieux repas pour le déjeuner. C\\'est ce que nous pensions tous. Quel est votre parfum de glace préféré ? Êtes-vous abonné à de quelconques magazines\\u202f? Tu deviens très injuste envers moi. On a entendu un bruit étrange qui venait de derrière la porte. Je sais précisément de qui il s\\'agit. Il n\\'ira nulle part avec ses plans. C\\'est une question fondamentale. C\\'était une chose assez stupide à faire. Plus on vieillit, plus on perd la mémoire. Il m\\'a fallu sortir quelque chose de la voiture. Soyez plus gentils avec votre frère ! Je veux y aller en métro. Le dix du mois prochain, il y a vingt ans qu\\'ils seront mariés. On me fait chanter. Elle a une forte personnalité. Je me sens normale. Elle connaissait l\\'adolescente. C\\'est intéressant non? Le soleil tape et il n\\'y a pas d\\'ombre en vue. Je promets que ça n\\'arrivera plus. Je fais du bénévolat. Je serais prêt à tuer pour une bière, à l\\'instant. Je t\\'appellerai plus tard dans la journée. Autrefois, je te respectais. Il pénétra dans la banque, déguisé en garde. Je suis monté dans le mauvais train. Je ne connais aucun art martial. La magicienne a fait apparaître puis disparaître des oiseaux. Elles sortirent de la pièce une par une. Elles vont bien rigoler, lorsqu\\'elles te verront ainsi. Je veux savoir exactement ce que tu as fait. Quelque chose ne va pas avec mon ordinateur. Nous serons tous morts, à la fin. Donnez-m\\'en une, s\\'il vous plaît. Il était d\\'usage qu\\'une fille ne pouvait se marier que si elle disposait d\\'une dote. Je ne suis pas en forme. Je suis désolée si je vous ai dérangées. Ce produit est cher à fabriquer. Voulez-vous vraiment faire ceci ? Si j\\'étais à votre place, je ferais la même chose. Sa mère l\\'accompagne toujours. Je ne connais pas le lieu exact de ma naissance. Je sais que Tom était arrivé tôt. Je me suis détendu. Je n\\'accuse personne de quoi que ce soit. Tom comprend. Êtes-vous chauves ? Reste mince ! C’est juste que ça m’importe pas assez. Envoyez-moi une carte postale, s\\'il vous plaît. Le chat a traversé la rue. Penses-tu que toi et moi soyons incompatibles ? Tu en as choisi un bon. On était tellement crevés qu\\'on est parti vers 9\\xa0h\\xa000 hier soir. Il ne fait que se plaindre du matin au soir. J\\'adore parler avec vous. Je pense qu\\'il y a eu comme un malentendu. Vous devrez apprendre à cuisiner. Je suis d\\'accord avec son idée. Tom écrit de la main gauche. Je n\\'étais pas à la maison hier soir. Un docteur tenta d\\'extraire une balle de son dos. Ils ne te méprisent pas. Tom voulait cela. L\\'anglais leur plaît. Tu ne peux pas le louper. J\\'étais très malchanceux. Cette voiture est très économique en essence. Je crois en toi. Je suis désolée de te déranger. La vie commence à quarante ans. Tu t\\'approches. Tu dois t\\'en aller. C\\'est sur mon bureau. Le bruit à l\\'extérieur l\\'a empêché de dormir. Loin d\\'hésiter, elle m\\'a proposé son aide bien volontiers. Te sens-tu seule\\u202f? Tom ne flirtait pas. Il est riche et je suis pauvre. Je comprends pourquoi Tom est en colère. As-tu des frères et sœurs ? Quelqu\\'un a essayé de me tuer. Je peux t\\'assurer que tu as tort. Osaka est le centre du commerce au Japon. Je n\\'avais pas idée que tu étais si stupide. Je ne peux pas supporter son arrogance. Je l\\'avais, en quelque sorte, anticipé. Ici, nous cultivons le blé. Avez-vous visité la Tour de Tokyo\\u202f? Le mariage est la dernière chose que j\\'ai en tête. Y a-t-il quelque chose que tu veuilles me dire ? Je vous retrouve à la gare à 10 heures du matin. Tom a présenté Marie à sa mère. As-tu quelque chose à me montrer ? Tom ne l\\'a jamais revue. Je suis sûre qu\\'il y a un autre chemin de sortie. Il est dépendant à l\\'héroïne. Monte dans la voiture, maintenant ! Il nous faut préserver les munitions. Mais bien sûr, c\\'était il y a longtemps. Fût-il resté chez lui ce jour-là, il n\\'aurait pas connu le désastre. Je me demande combien de personnes ont vu Tom faire cela. Quelle est la profondeur du lac\\u202f? J\\'ai été condamnée. Tom refusait de parler. Je suis trop fatigué pour faire mes devoirs. Comparée à vous, je ne suis qu\\'une débutante à ce jeu. Comment puis-je quitter ce travail\\u202f? Que penses-tu de la manière dont tu t\\'en sors ? Tout ce que tu as à faire c\\'est attendre sa réponse. L\\'a-t-elle dit ? Je présenterai plus tard mes excuses. Elle m\\'expliqua l\\'affaire. Je veux essayer. Oui, c\\'est vrai, mais il n\\'a pas besoin de le savoir. Nous ne voulons pas que quiconque soit blessé. Le site web est par terre. Je l\\'ai seulement découvert il y a quelques jours. Tom lisait un livre. Il est dangereux d\\'envoyer des SMS quand vous conduisez. Est-ce votre anniversaire aujourd\\'hui ? J\\'ai étudié l\\'anglais pendant quatre ans avec un locuteur natif. Tom nous a dit d\\'être silencieux. S\\'agissait-il d\\'une insulte ? Il a rendu visite à un ami. Tom lisait une lettre écrite en français. Tu n\\'es pas ma mère. J\\'espère que votre frère est mieux. C\\'est vraiment une assez bonne histoire. J\\'aurai peut-être quelques minutes de retard. Tom ne peut pas t\\'aider. Je suis disposé à vous aider, si vous voulez que je le fasse. Vous n\\'êtes pas obligé de présenter vos excuses. Le drapeau des USA a cinquante étoiles. J\\'ai laissé mon portefeuille chez moi. Il a rencontré un gentil jeune homme. Je l\\'empêcherai d\\'y aller. Elle a eu la gentillesse de m\\'emmener à l\\'hôpital. Tu parles très bien français. Je souhaiterais parler aussi bien que toi. Notre classe compte 25 garçons et 20 filles. Cette liste n\\'est pas officielle. C’est comment, ton nouveau boulot ? De quoi s\\'agissait-il ? Que sommes-nous supposés faire ? Tom n\\'est toujours pas très convaincu. C\\'est peut être Tom qui a cassé cette fenêtre. Je ne le dirai pas si vous ne le faites pas. Tom aimera ça. Relâche-le ! Je pense clôturer mon compte d\\'épargne. J\\'ai échoué. Je ne sais pas comment faire ceci. Je viens d\\'être muté. Veux-tu un verre d\\'eau ? C\\'est la partie la plus dure. Je pense que tu devrais prendre un peu de sommeil. Tu as l\\'air pâle. Je ne veux aucun d\\'eux. Je devrais faire quelque chose. Elle sera en train de dîner avec lui demain à cette heure-ci. Je n\\'ai pas envie de chanter. Ils appelèrent à mettre fin au combat. La douche est cassée. J\\'ai juste demandé si je pouvais emprunter le livre. Il m\\'envoya un cadeau. Je veux tout entendre à ce sujet. Je n\\'ai pas de petite amie. Elle me frappa sur l\\'épaule. Il a transféré ses bureaux à Osaka. La connaissez-vous ? Elle m\\'a indiqué quels vêtements il conviendrait de porter. Elle m\\'accompagnera au piano. Il y a beaucoup de séismes au Japon. Qui aurait pensé que ce fut possible ? Un tel comportement de sa part est impardonnable. Nous nous sommes accordés sur un prix. Nous ne sommes pas encore certaines de ça. Ta chatte est grasse. C\\'était fantastique. Seriez-vous disposées à me montrer comment faire ça ? Je pense que tu l\\'as fait. Vous feriez mieux de ne pas la voir maintenant. Sommes-nous seules ? Vous ne m\\'avez jamais dit que vous ne saviez pas parler français. Ce n\\'est pas à moi. Smith est mort d\\'une crise cardiaque. Je peux te voir un moment\\xa0? Êtes-vous sûre de ne pas en vouloir un ? Je n\\'ai pas dit que je n\\'y allais pas. Elle commence son travail à sept heures. Il a soutenu l\\'idée d\\'un gouvernement mondial. Je suis plus petit que vous. Elle portait une robe laide. Ils ont un rêve. J\\'ai été tout à fait choqué par cela. Tom est aveugle depuis sa naissance. Je ne sais pas comment utiliser le magnétoscope. Je suis sûr que vous serez satisfaits. Ce livre est facile à lire. Quel est le nom de cette rue\\u202f? Le problème est que l\\'énergie solaire est trop chère. Achète-moi une autre bière et j\\'y réfléchirai. Pourquoi est-ce que tu as l\\'air si triste\\u202f? Je n\\'en suis pas convaincue. Tom n\\'était jamais heureux. Ces massacres insensés ne resteront pas impunis. Es-tu fatiguée de faire la queue ? Les gens furent évacués en raison de la crue. Elle n\\'y arrivera pas. J\\'ai découvert l\\'identité de la victime. Ai-je manqué à quiconque ? Vous n\\'êtes pas obligée d\\'être si grossière. C\\'est le dernier message que j\\'envisage jamais de vous envoyer. Il ne peut pas venir avec nous. Tu es fort généreux. Tom et Mary ont tous les deux soif. Elle lui donna quelques tuyaux sur la prononciation. Ils dirent qu\\'il n\\'y avait pas assez de temps pour une enquête approfondie. Il adapta l\\'histoire pour les enfants. Tom viendra cet après-midi. Celle-ci est un peu plus difficile. Je n\\'ai plus la force de discuter. N\\'es-tu pas surpris de me voir\\u202f? Je me demande si elle séjourne dans cet hôtel. Ce sont juste des étudiantes. Cet endroit a été bombardé pendant la guerre. Ta chambre est-elle propre\\xa0? N\\'utilise pas toute l\\'eau chaude. Combien de temps s\\'est-il écoulé depuis que vous avez reçu une lettre de lui ? Vous n\\'êtes pas obligée de présenter vos excuses. Les Japonais mangent principalement du riz. Il n\\'a pas du tout peur des serpents. Nous allons à la campagne. Appelez-moi après avoir parlé à Tom. Penses-tu sérieusement à acheter un ordinateur dans ce magasin ? Je pense qu\\'il est nécessaire que vous le voyiez. Voyager dans l\\'espace n\\'est plus un rêve. Tom est médicalement assisté. Ce genre de choses n\\'est pas important. Je n\\'arrive pas à croire que vous ne soyez pas au moins disposées à envisager d\\'autres possibilités. Penses-tu que prendre un petit-déjeuner chaque jour soit important ? Le chat se léchait les pattes. La cheminée crache de la fumée noire. Je veux que tu le laisses tomber. Tu es mon type. Regardez les preuves. Tu ne m\\'as pas dit que Tom fumait. Le garçon joue avec ses petits soldats. Ne le critiquez pas à moins de l\\'avoir d\\'abord essayé ! Il ne restera rien. Il faisait beau temps ce jour-là. Tom dit beaucoup de choses. Nous sommes en train de nous en charger. Je suis désolée, mon père n\\'est pas là. Il ne restait rien dans le réfrigérateur. J\\'ai demandé à mon frère de réparer mon vélo. Je cherche l\\'emplacement idéal pour accrocher ce tableau. Je ne suis pas désespérée. N\\'avez-vous pas entendu appeler votre nom\\u202f? Au cours d\\'un voyage il est facile de se perdre. Je promis que je n\\'allais pas faire ça. Pourquoi vous êtes-vous mis autant en colère ? Laissez-moi attraper mon portefeuille ! Il est passé par de nombreuses rudes épreuves au cours de sa jeunesse. La réunion a été annulée. Vous avez atteint votre destination. C\\'était difficile. C\\'est facile pour moi de répondre à cette question. Nous sommes-nous comprises ? Est-ce que Tom mange des œufs\\u202f? J\\'aime chanter et jouer de la guitare. Je vois pourquoi vous ne voulez pas y aller. Voulez-vous que j\\'éteigne les lumières ? Nous perdons tous du temps. J\\'aime le R&B. Qu\\'est-ce que cela symbolise ? Êtes-vous satisfaite de votre poids ? Tu n\\'es pas obligée d\\'être sarcastique. Tu devras apprendre à cuisiner. Tom ne veut pas vous parler maintenant. Qui essaies-tu de convaincre ? Je ne vois aucune raison de se plaindre. Nous allons fouiller la totalité du bateau. Si vous témoignez contre lui, nous pouvons le mettre derrière les barreaux pour de bon. Je veux une trottinette. Est-ce que ce livre est à toi\\u202f? D\\'abord j\\'ai ressenti de la honte. Je me suis senti mal pendant une semaine. Peut-être n\\'était-ce qu\\'un coup de chance. Vous avez dit que j\\'étais belle. Y a-t-il un chauffage central dans ce bâtiment ? Il sortit de la pièce sans dire un mot. Elles sont très bienveillantes. As-tu de l\\'argent sur toi\\xa0? J\\'ai reçu une lettre en français la semaine dernière. J\\'ai assaisonné le poisson avec du sel et du poivre. Je dois prendre mon médicament toutes les six heures. Nous avons parlé sans l\\'aide d\\'un interprète. Veuillez faire porter mes bagages à la gare ! Ce n\\'est que mon opinion. Sont-ils maintenant disponibles dans toute la Suisse ? Je suis étudiant. J\\'ai une voiture rouge. Je raisonne sur des faits et des chiffres, et non pas sur de vagues impressions. Pourrais-je avoir une bière supplémentaire, je vous prie ? On ne peut avoir d\\'arc-en-ciel sans un peu de pluie. Une grenouille sortit de l\\'eau. Le produit de deux nombres négatifs est positif. Je suis trop vieux pour Tom. Je veux que tu m\\'apprennes le français. Il a quitté son épouse. Portez ce que vous voulez. Ça ne m\\'évoque rien. Tom a causé tout un tas d\\'ennuis. Il n\\'a pas pu s\\'adapter à de nouvelles circonstances. Tom ne vous connaît pas. Tom a donné la première part de gâteau à Mary. J\\'ai perdu la clé de ma chambre. Je n\\'ai jamais vraiment voulu apprendre à nager. Je me sentis nue. Nous n\\'avons rien dit. J\\'ai rêvé que j\\'avais été enlevé par des extraterrestres. N\\'aie pas honte de ce que tu es. Tom dit, que le livre est intéressant. Tu as vraiment le sens du détail. Veuillez vous reporter au guide d\\'utilisation pour plus de détails. J\\'aurais dû mettre de la crème solaire. Sa voix tremblait de colère. Ne te soucie pas tant de moi ! L\\'archer a tué le cerf. J\\'aimerais lire des livres sur les Beatles. Je suis sur que tu comprends pourquoi on ne peut pas faire ça. Je voudrais bien un jour me rendre à l\\'étranger. Il n\\'y a pas d\\'antidote. C\\'est ce que je voulais. Tu ne peux pas améliorer l\\'image\\xa0? Je ne vous en empêche pas. Tu es très ingénieuse. Ouvre la porte, je te prie ! La somme de ces chiffres ne colle pas. Peu de gens vinrent à la conférence. La mort de son fils a brisé le cœur de Mary. Ne me poussez pas ! Je ne peux être d\\'accord avec vous. Combien coûtent ces choses\\xa0? C\\'était un miracle. Verrouille le bureau. Tout le monde veut être heureux. Je sais que tu dis la vérité. Êtes-vous sûre que vous vouliez partir sans dire au revoir ? Tu nous as trahies. Qu\\'y a-t-il à faire\\xa0? Surveilleras-tu mes bagages ? Je suis très contente que tu visites Tokyo le mois prochain. Est-ce là ce que vous voulez vraiment ? Nous sommes perdues. Il est 8\\xa0h\\xa030. Pourquoi le veux-tu\\u202f? Elle aida son père à faire le travail dans le jardin. J\\'ai un chat qui s\\'appelle Cookie. Je ne vous voulais simplement pas là-dedans. J\\'ai besoin de vos conseils. De nombreux pays dépendent de l\\'agriculture. Nous présentons nos excuses. Je le tiens d\\'une amère expérience. Je me suis sentie mal après coup. J\\'ai prévu pour toi une voiture qui vient te chercher à l\\'aéroport. Vous n\\'êtes pas censée fumer ici. Quel est le problème, de toutes les manières ? Si seulement j\\'avais étudié plus dur quand j\\'étais jeune. Je pense que Tom m\\'a cru. Cette robe lui allait à ravir. Pour qui travaillez-vous ? Les blaireaux creusent de profonds trous. C\\'est ta seule chance. Il peut faire cinq sauts périlleux sans souci. Tu me prends pour un imbécile\\u202f? Le mensonge entraîne le mensonge. Ils abandonnèrent le projet. Tom n\\'aurait pas pu le faire sans l\\'aide de Mary. Il est populaire auprès de tout le monde. C\\'est dommage que vous ne puissiez pas venir avec nous. Je n\\'ai pas besoin d\\'une réponse immédiate. Je suppose que ce ne serait pas du luxe que je prenne une douche. Les chats noirs portent malheur. Je restais éveillé jusque tard la nuit. Il continua de parler comme si de rien n\\'était. C\\'est la raison pour laquelle je ne suis pas venu hier. Vous ne devriez pas boire avec l\\'estomac vide. Il regarde la télévision tous les jours. Tu es branchée. Notre équipe est en train de gagner. Nous avons partagé des idées. Je vais le faire. Mère se rend à l\\'hôpital en matinée. Je ne peux boire davantage de bière. Ce n\\'est pas trop. La lettre écrite, il l\\'expédia. Je veux que vous le fassiez immédiatement. Verrouillez vos portes ! Sortez de mon bureau ! Si quoi que ce soit se produit ici, puis-je compter sur toi ? Il y a vingt-quatre heures dans une journée. Je comprends tes raisons. Aimeriez-vous le voir ? Je sais que ce n\\'est pas vrai, mais il semble vraiment que le Soleil tourne autour de la Terre. J\\'en ai marre de penser. Je pense que nous devrions être autorisés à aller où bon nous semble. On m\\'a volé mon passeport. Cet amplificateur ne fonctionne pas. Je ne suis pas vraiment sûr de comment faire ça. Où étais-tu donc\\u202f? Elle est toujours habillée en noir. Ce livre se vend comme des petits pains. Les enfants réalisent un tableau. Vous aurez dû accepter son conseil. Je vous ai toujours aimée. Mère se lève plus tôt qu\\'aucun autre de ma famille. Je ne suis pas en colère après vous, seulement très déçu. Je déteste attendre ainsi. Elle lui demanda de l\\'argent. Maintenant je me sens bien. J\\'ignore qui vous êtes et je m\\'en fiche. Nos invitées arrivent. Tout le personnel commercial a travaillé d\\'arrache-pied durant une semaine. Tu aimes vraiment ça\\xa0? Je vois un livre sur le bureau. Tom sait qu\\'il peut gagner. Tom peut nager, n\\'est-ce pas ? Elle l\\'aimera pour toujours. Il a été blessé durant l\\'accident. C\\'était une scène horrible. Vous épilez-vous les sourcils ? Tout est si étrange. Elles m\\'accusèrent d\\'être une menteuse. Il n\\'y a rien de nouveau à signaler. Il est nerveux d\\'aller en Amérique. Son mari est un excellent cuisinier. Je dois présenter mes excuses pour ne pas avoir écrit pendant si longtemps. J\\'ai deux neveux. Tom ne nage pas très bien. Il avait l\\'air endormi, mais il était vraiment mort. D\\'après son apparence, il est peut-être militaire. Je n\\'aime pas qu\\'on me fasse attendre. Signe ça. Il a bu directement à la bouteille. Je ne savais pas que Tom me détestait. Par deux fois j\\'ai essayé, mais ce fut chaque fois un échec. Il n\\'a aucun ami. Nous n\\'avions pas d\\'eau potable. J\\'ai déjà\\xa0fini mon travail. Je me sens bien mieux. J\\'ai ceci sous contrôle complet. Ce serait mieux si tu ne faisais pas ça. Nous avons tout le temps ce soir. Elle était un précurseur en ce domaine. J\\'ai raté l\\'avion de 2h. Je ne fais pas partie de leurs admirateurs. Notre professeur parle aussi bien français qu\\'anglais. J\\'étais très occupé aujourd\\'hui. Je pense qu\\'il est l\\'heure de manger. Nous allons bien. L\\'avez-vous vu ? Tom a commencé à chercher un travail. Ils avaient peur de vous. Tom pleure souvent quand il est ivre. Il a choisi de ne pas se présenter à l\\'élection présidentielle. Je craignis de ne pas avoir le plaisir de vous rencontrer. J\\'ai maintenant besoin de votre attention complète. Il n\\'y a rien à annuler. César Chávez est né dans une petite ferme près de Yuma en Arizona, en 1927. Je n\\'ai pas décidé à quel poste me porter candidat. Quelques verres de vin peuvent délier la langue. Es-tu aveugle ? Je ne peux pas m’arrêter d\\'écrire. Tu ne sembles pas très satisfait. Je vous verrai demain. Il faut que je le raccourcisse. J\\'obtiens un diplôme supérieur en éducation. J\\'y ai réfléchi et ai décidé de ne pas y aller. Ce fut notre rencontre initiale. Je ne regrette pas ce qui s\\'est produit la nuit dernière. Comment se porte votre épouse ? Je me souviens de quelque chose. Il m\\'en doit une. Le Japon est l\\'une des plus grandes puissances économiques du monde. Je n\\'ai pas voté. Je profite de ce temps chaud. C\\'était juste une erreur stupide. Je veux savoir ce que j\\'achète. Il est incapable de le faire. Restez alitées ! Terminons-en. Garde ça en tête. Je ne vais pas vous le répéter. L\\'instituteur fut étonné par ma réponse. J\\'ai tant de choses à te dire. Lorsque je deviendrai grande, je veux être tout comme toi. N\\'interrompez pas quand nous sommes en discussion. C\\'est tout ce que nous pouvons demander. Je m\\'excuse si je t\\'ai blessé. Elle lui demanda pourquoi il était en train de pleurer, mais il ne répondit pas. Je suis dépourvue d\\'idées. Tom n\\'était pas à la maison mais Mary, si. Qu\\'est-ce qui te rend heureuse ? Je dois partir lundi. Qu\\'as-tu fait, exactement ? J\\'arrive au terme de ma vie. Retourne au travail ! Cet étudiant leva la main pour poser une question. Maintenant que nous sommes seules, amusons-nous ! Le train était en retard de presque une heure aujourd\\'hui. Je suis ravie d\\'être ici. Je n\\'aime pas ce que tu es en train de dire. Il décida de donner à manger à son chien le lapin qu\\'il avait tiré plus tôt ce jour-là. Êtes-vous heureuses de faire cela ? Tom allait nous aider. Je serais déçu de te voir faire cela. Je ne faisais que bricoler. Tom a abaissé son épée. Quel genre de film préférez-vous regarder avec vos enfants ? Es-tu certaine que tu dois partir\\xa0? Es-tu psychologue\\xa0? Je suis désolé, je ne veux pas m\\'immiscer. J\\'aime votre cravate. Tom vit dans un mauvais quartier. Je les ai aidés hier. Il nous a accordé un entretien. Tom croit tout ce que Marie lui dit. J\\'étais content d\\'avoir pu aider. Pourquoi rigolais-tu\\xa0? Tu t\\'exposes à bien des critiques. Je ne peux pas m\\'empêcher de penser que si nous avions mieux fait connaissance, nous aurions été amis. Nous n\\'avons pas besoin de ces choses. Nourris l\\'oiseau\\u202f! Attendez jusqu\\'à midi. Je ne vois pas Tom aussi souvent que je le voudrais. Je ne parierais pas là-dessus. Il a pris du poison par erreur. J\\'ignorais que tu étais éveillée. Je suis très impressionné par votre travail. Écoutes-tu\\u202f? Combien de temps allez-vous rester à Boston ? Vous êtes très directe. Aujourd\\'hui est un jour férié. Tu te sentiras mieux maintenant. Quels plats de viande proposez-vous\\u202f? Je pense qu\\'il est temps que je le contacte par téléphone. Elle a l\\'air d\\'un garçon. Voulez-vous souper à l\\'extérieur, ce soir\\u202f? Trois bières et une tequila s\\'il vous plaît\\u202f! Louis Pasteur découvrit que les bactéries causent la plupart des maladies infectieuses. Nous sommes du même âge. Je m\\'en suis amusé. Il est cardiologue. Je pensais que nous allions tous mourir. Je n\\'en ai juste pas envie. Ses chaussettes sont grises. Il en a eu davantage qu\\'il en a négocié. Nous volons au-dessus du Pacifique. Il s\\'est beaucoup excusé de son retard. Nous l\\'admirons pour son courage. Comment se nomme cet oiseau ? Ce sont de jeunes hommes comme vous qu\\'il nous faut pour ce travail. Je ne me rappelle de rien. Il a réussi à avoir son examen. Je suis certaine que tu ne me décevras pas. Les pommes croissent sur des arbres. J\\'appréciai vos amis. Ça m\\'est égal. Nous ne sommes pas apparentées. Il est arrivé en retard comme d\\'habitude. Elle lui recommanda de voir le dentiste mais il déclara qu\\'il ne disposait pas de suffisamment de temps pour le faire. Il n\\'y a pas deux flocons de neige qui soient exactement identiques. Aimez-vous l\\'école ? Puis-je utiliser vos toilettes\\u202f? Il m\\'a gentiment poussé. Je songeais que le petit garçon qui fixait et pointait l\\'étranger du doigt était très grossier. S\\'il vous plaît, ouvrez la fenêtre. Cela fait longtemps que j\\'attends. Il ressemble beaucoup à son père. C\\'est mauvais pour les affaires. Je promets que je passerai le sol à la serpillère, demain matin. Je suis désolé de ne pas t\\'avoir écrit pendant aussi longtemps. Quelque chose s\\'est produit ici, mais j\\'ignore quoi. Vous ne pouvez pas vous en débarrasser. Peux-tu installer le bébé dans le siège-auto ? Ils ont passé la totalité de la journée sur la plage. La nuit dernière, quelqu\\'un a cambriolé une boutique près de chez moi. Il aime les nouvelles expériences. Elle est vieille. Laquelle préfères-tu ? Faites comme il vous dit. Tu n\\'as pas l\\'air aussi bonne que ça. Il me maltraita. Avons-nous le temps ? Tom sait quoi faire. Je suis amoureux de quelqu\\'un d\\'autre. Il joue là. Ma mère dépense beaucoup d\\'argent pour les vêtements. Depuis combien de temps fais-tu ça\\xa0? Je vais au cinéma de temps en temps. Vous devrez discuter de cela avec Tom. Tu devrais y aller maintenant. Je n\\'ai pas encore pris de décision. Elle a essayé de le convaincre de ne pas refuser l\\'offre. Vous avez l\\'air très bien. Prends un verre pendant que tu attends. Je ne suppose pas que quelque chose se produira. Nous n\\'allons pas y parvenir. Une fois qu\\'une mauvaise habitude s\\'est installée, il est dur de s\\'en débarrasser. Je ne suis pas comme les autres gens. Le suspect était innocent du crime. Personne ne va chanter ici, ce soir. Quelqu\\'un le fera. Le professeur m\\'a recommandé de lire Shakespeare. Ça valait le coup. Je veux savoir où tu as entendu cela. Ils sont tous les deux beaux. En êtes-vous vraiment sûre ? Il a commencé le jardinage après avoir pris sa retraite. Ne laissez pas votre travail à moitié terminé. Elle est forte pour inventer des histoires intéressantes. Je travaille de nuit. Tom a une jolie collection de peintures modernes. Te l\\'ai-je déjà dit ? Je pus le garder secret. Vous m\\'en remercierez un jour. Ils devraient venir d\\'un moment à l\\'autre. Il ne faisait pas qu\\'enseigner à l\\'école, Il écrivait aussi des romans. Elle lui ordonna de le faire. Où puis-je louer un costume ? Qui ne pense pas de même ? Nous nous sommes séparées. Il a arrêté de fumer pour préserver sa santé. Tom m\\'a dit d\\'être plus prudent. Peut-être que vous devriez cesser de boire. Le bureau est vide. J\\'insiste que vous devez partir. Il n\\'y a pas assez de lumière pour prendre des photos. Il y a un besoin urgent de donneurs de sang. En êtes-vous certaines ? Si vous connaissez la réponse à cette question, dites-la-moi, s\\'il vous plait. Il voyagea par avion de Tokyo à Osaka. Je te crois. Les dragons sont des animaux imaginaires. La plupart des étudiants comprennent déjà ceci. Asseyons-nous à l\\'avant. Tom partirai. Il a lâché le chien dans le jardin. J\\'ai grandi dans une petite ville. Je ne savais pas. Je pensais qu’ils ne te plaisaient pas. Pourquoi m\\'as-tu menti ? Tom continuera. C\\'est un roman épique. Je veux un livre pour lire. Je ne connais rien au cricket. Demain, si Dieu le veut, nous serons avec tes parents. Ton anglais s\\'est beaucoup amélioré. La nouvelle loi est censée réduire la pollution de l\\'air de soixante pour cent. Êtes-vous sûre que c\\'est nécessaire ? Nous nous sommes rencontrés à une rencontre surprise. Savez-vous jongler ? Je verrai mon oncle demain. Que sommes-nous censées faire ? Ils tentèrent de nager vers la sécurité. J\\'appellerai si je trouve quoi que ce soit. Nous sommes paresseux. C\\'est l\\'heure de nous coucher. Ça n\\'a pas l\\'air d\\'être la demeure de quiconque. Aimerais-tu visiter la Maison-Blanche un jour ? Puis-je entrer\\u202f? Il semble que la victime ait essayé d\\'écrire le nom du meurtrier de son propre sang. Je vais te tuer. Tu es impressionné, pas vrai ? Qu\\'est-ce qui vous fait penser que je suis contre ? Elle vendit tout son mobilier de manière à être en mesure de se nourrir elle et son chien. Le travail est pratiquement fait. Avez-vous reçu sa lettre ? À quelle heure finit votre cours\\u202f? Ce remède vous fera vous sentir mieux. Il est impératif que nous trouvions un autre moyen de sortir de cette situation. Attendez votre sœur. Je vais porter votre valise dans votre chambre, Monsieur. Je me sens bien. Prenez ça. Dites-moi où Tom a emmené Mary. Elle a dit qu\\'elle reviendrait très bientôt. Elles ne sont pas satisfaites. Je connais quelqu\\'un qui peut t\\'aider. Qui sait\\u202f? J\\'ai quelques livres. Tu es le bienvenu si tu veux venir avec nous. Avez-vous le moindre projet pour plus tard ? Que va-t-il se passer demain ? J\\'avais un fils qui est mort à la guerre. Je pensais que Tom était médecin. J\\'ai eu du mal à faire ça. Il l\\'a prise par la main. Elle se rendit avec lui au cinéma. Je ne peux pas simplement partir. Je dois dire à la patronne que je pars. Les temps sont difficiles. Nous recherchons des gens férus d\\'ordinateurs pour travailler pour nous. Elle a une bague qui vaut plus que ce qu\\'elle peut imaginer. C\\'est inquiétant. J\\'arrive à lire ce que tu as en tête. Elle ne trouve pas ses clés. Suivez votre désir. As-tu jamais été témoin d\\'une affaire en justice ? Je pensais que vous seriez fier de moi. Leur voyage fut remis en raison de la pluie. Les examens ADN montrèrent qu\\'il était innocent. Tu ne peux pas m\\'accuser. Comment aimerais-tu qu\\'on t\\'appelle ? Je n\\'y compterais pas. As-tu du vin français ? Nous sommes venues ensemble. Vous êtes seule, n\\'est-ce pas ? Qui ira ? Qu\\'est-ce que vous prenez au petit déjeuner habituellement\\u202f? J\\'ai une tonne de travail à faire, aujourd\\'hui. Tom est célibataire et n\\'a jamais été marié. Il se met en colère lorsqu\\'on le contredit. Tu m\\'as fourni des conseils très utiles. J\\'arrive à le ressentir. Est-ce chouette ? Pourquoi ne réfléchissons-nous pas à ceci pendant plus ou moins une semaine supplémentaire ? Un typhon s\\'approche du Japon. Je voulais devenir journaliste. Tu ne dois pas ouvrir la porte. N\\'est-il pas effrayant ? Combien de personnes croyez-vous que nous devrions inviter à notre fête\\u202f? En 1940, la vie était difficile. Selon toute probabilité, nous arriverons avant eux. Ce livre-ci est bien plus intéressant que celui-là. Donne-moi tes clés de voiture ! Nous avons tout essayé. Peux-tu prendre ça s\\'il te plaît\\u202f? Il n\\'est pas très bon en mathématiques. Comment as-tu su que Tom allait nous aider ? Il m’a donné ce livre. Ce qui suit le dimanche, c\\'est le lundi. Tu ferais mieux de dormir. Êtes-vous prête pour la partie d\\'aujourd\\'hui ? Dois-je venir à la maison maintenant ? C\\'est la meilleure chose que j\\'ai jamais faite. De quel côté êtes-vous ? Je suis trop las pour conduire. Pourrais-tu le faire ? Elle changea son style de coiffure pendant les vacances d’été. Ta réponse est loin d\\'être parfaite. Vous n\\'êtes pas habillés. J\\'assume l\\'entière responsabilité de cette action. J\\'ai discuté avec tout le monde. Comment avez-vous fini par faire ce genre de travail ? Je commence vraiment à détester cette ville. Dire que tu ne peux pas faire le travail parce que tu es trop occupé est une excuse bidon. Où as-tu été jusqu\\'à présent ? Elle répondit qu\\'elle n\\'avait jamais encore vu cet homme. Je suis certain. Ces données sont fausses. C\\'est toi le chef. À vous entendre, vous n\\'avez pas l\\'air très surpris. Cette semaine j\\'ai travaillé tout le temps. Vous êtes matinal. Elle descendit au cinquième étage. Quelle est la température\\u202f? Je comprends la frustration de Tom. Les lumières se sont éteintes. C\\'est assez mignon, n\\'est-ce pas ? Vous êtes tous contents. Ce garçon est intelligent. Voyons qui peut finir ceci en premier. Ce dictionnaire est à moi. Peut-être que Tom n\\'est pas aussi stupide qu\\'il en a l\\'air. À peine arrivés au lac, nous sommes allés nager. Est-ce que tu sais où elle est\\u202f? Je ne peux pas te dire pourquoi. Barmaid, je voudrais à boire. Tom a un magasin à Boston. Vous avez déjà mon attention. Tu n\\'es pas autorisée à pénétrer ici. Il n\\'est pas nécessaire de venir demain. Je le vis brièvement dans la foule. Une seule personne survécut à cet accident. Cela fait trente ans qu\\'on se connaît. C\\'était certainement une belle femme quand elle était jeune. J\\'adore ce magasin. Peux-tu me réveiller à sept heures demain matin\\xa0? Lorsqu\\'elle était jeune, elle était très belle. Quand le restaurant ouvre-t-il\\u202f? Es-tu sûr que c\\'est nécessaire ? Assure-toi de ne pas laisser le chien dehors. Je suis désolée de ne pas pouvoir t\\'aider. Elle avait atteint son but. J\\'ai été incarcéré. Je suis chanceuse de vous avoir pour ami. Il y a peu d\\'espoir. Nous avons choisi un hôtel près des musées. Ne trichez pas. Voudriez-vous quelque chose de plus facile ? Je ne sais pas pourquoi je dois faire ceci. J\\'ai peur de te perdre. Que résulte-t-il de 5814 si on l\\'arrondit au millier\\xa0? Merci de vous conformer aux recommandations de l\\'infirmière. Elle m\\'a félicité pour mon succès. C\\'est une assistante efficace et digne de confiance. Je n\\'aurais pas dû dormir sur mon lieu de travail. Je me souviens de l\\'horreur que j\\'ai ressentie lorsqu\\'elle a hurlé. Regarde-moi dans les yeux. La locataire précédente a pris grand soin de son appartement. La voiture est assez neuve. Fermez la porte, s\\'il vous plaît. Je l\\'ai rendue. Ma montre reste précise. Cette maison est à louer. Je suis habitué à Tom maintenant. N\\'y a-t-il rien qui vous fera vous sentir mieux ? Vous étiez seules, à ce moment-là, n\\'est-ce pas ? Je n\\'ai guère pu t\\'ôter de mes pensées tout le long de mon voyage. Il semble que vous avez raison. Elle parla puérilement. J\\'aime celles-ci. Je pense qu\\'ils vous connaissent. Elles ont toutes déménagé ailleurs. Vous avez parfaitement raison. C\\'est une drôle de question. Il a effectué tout le travail de recherche. Avez-vous déjà fini le petit-déjeuner ? J\\'ai demandé à Tom ce qu\\'il conseillerait. Tiens-toi juste à distance de ma fille ! Je suis désolé, je ne voulais pas dire ça. Ses idées ne lui ont jamais rapporté un sou. Elles mentent tout le temps. On ne voyait rien d\\'autre que l\\'eau. Je suis désolée de vous avoir blessées. Il est doué en anglais. Tom est en voyage d\\'affaires hors de la ville. Qui sait ce que tu dénicheras dans le grenier\\u202f? Les lapins ont de grandes oreilles. Qui est-ce\\u202f? Combien de personnes crois-tu que nous devrions inviter à notre fête\\u202f? Un enfant a besoin d\\'amour. J\\'ai des projets pour vous. Je veux pratiquer avec toi. Puis-je payer à crédit ? C\\'était vraiment important. Jamais encore je n\\'ai été amoureuse. Il n\\'y a rien que je puisse te dire de plus. Bien qu\\'il soit jeune, c\\'est un remarquable médecin. Je répare le lave-linge. Mon frère est très important. Du moins il pense qu\\'il l\\'est. T\\'es marrante. Un monument a été érigé à la mémoire du défunt. Tourne au second feu à gauche ! C\\'est pour les enfants. Tom est parti il y a trente minutes. Il est perdu dans ses pensées. Elle étudiait l\\'anglais le matin. Tom était un des chanceux. J\\'ai beaucoup à faire aujourd\\'hui. Ta fille est-elle aveugle ? Ce ne sont plus des enfants, mais pas encore des adultes. Pourquoi ne lui demandons-nous pas conseil ? Je suis un excellent joueur d\\'échecs. Comment sais-tu que ça va se produire? Il reste encore beaucoup à faire. Il a fait face à son ennemi. Elles étaient inquiètes de se faire prendre. Tu es la meilleure. Je n\\'ai jamais découvert pourquoi. Il fit donation d\\'innombrables pièces au musée. Surveille le prisonnier. Pourriez-vous me dire de quoi il s\\'agit\\xa0? Il ne tient qu\\'à vous que les choses continuent à se dérouler en douceur. Pourquoi ne pas lui parler ? En règle générale, je préfère les gens qui traitent ce genre de choses directement avec les personnes concernées. Tom est mon mari. Ce n\\'est pas un secret. Nous avons une grande équipe. C\\'est un jeune homme adorable. Je ne sais pas ce qui vous intéresse. Avez-vous remarqué cette intonation bizarre dans sa voix\\u202f? C\\'est une journée nuageuse. Je vous reconduirai chez vous. On dit qu\\'il serait gravement malade. Suis ton instinct. Je suis moins heureux maintenant. Ne débattez jamais avec quelqu\\'un de saoul. Il me faut être préparé. J\\'accompagnerai votre plan. C\\'est le troisième fleuve le plus long du monde. Mon père était encore à la maison quand je suis parti. Tom a acheté des cigares. Nous sommes allées voir un film. Elle a voulu comprendre. Ce sont des garçons. Il est de votre devoir de terminer ce boulot. Je ne devrais pas avoir à supporter ce bruit. Écrivez chaque mot ! Les circonstances nous forcèrent à annuler notre rendez-vous. Il pensait que ce serait intéressant et amusant. Pourquoi n\\'avez-vous pas lu le magazine ? Vous devriez faire ça bientôt. Le rouge n\\'est plus à la mode. Ma sœur aînée est bonne en dactylo. C\\'est bien embêtant ! Désolé Tom, je ne te crois pas. Passez-moi le vin s\\'il vous plaît. Tom a l\\'air un peu déprimé. J\\'aurai dépensé tout cet argent en trois mois. Avez-vous de l\\'argent sur vous\\xa0? Il va étudier l\\'anglais la semaine prochaine. Je suis gros. Tom est aveugle. Tu sembles occupé. Ont-ils de l\\'argent ? Il lança une pierre dans la mare. C\\'est la dernière fois que je te demande de faire quelque chose pour moi. Je suis désolé de la manière dont j\\'ai agi hier soir. Pourquoi payer lorsqu\\'on peut en obtenir gratuitement ? L\\'île la plus au Sud du Japon est Okinawa. Ma mère a acheté deux bouteilles de jus d’orange. Que voulait-elle dire ? Prenons tous une respiration profonde. Nous le savions tous. Je n\\'ai jamais pensé que serais aussi chanceux. Savez-vous comment faire ceci ? Prends-tu plaisir à vivre ainsi ? Certains journaux ont déformé la vérité. Nous avons raté l\\'avion. Penses-tu que la situation peut s\\'améliorer? Père l\\'introduisit dans le bureau. Je veux ta réponse pour la fin de la journée. Je ne pense pas que Tom l\\'ait fait exprès. Tu es fort occupée. As-tu fini tes devoirs\\u202f? Je vous ai dit que je déteste cette chemise. Dis-moi si tu vas le lui donner ou pas. Ne me parlez même pas. Aujourd\\'hui, je suis occupé à me préparer pour mon voyage. Est-ce que tu essaies, au moins\\u202f? Êtes-vous d\\'accord avec ce qu\\'il dit dans le livre\\u202f? J\\'aimerais embrasser Mary. Quand avez-vous commencé à apprendre l\\'allemand\\u202f? Ils ont beaucoup trop bu. Laissez-moi vous aider ! À quelle heure devrais-je me rendre à l\\'aéroport\\u202f? Je suis un tel idiot. Comment sauraient-ils quoi faire ? La glace n\\'est pas assez épaisse pour supporter notre poids. Je viens de prendre une douche. Mon père est loin d\\'être artiste. Elle ne voudrait pas le laisser entrer. J\\'aimerais requérir ton aide. Vous avez tout fait foirer. Prenez-vous votre dîner à la maison\\u202f? Je n\\'arrive pas à supporter tout ce bruit. Pourquoi ne recherchez-vous pas un boulot ? La viande est congelée. Quel que soit la richesse qu\\'il puisse détenir, il n\\'est jamais satisfait. Lisez autant que possible\\u2009! Cela ne va pas se produire. Je suis ingénue. Pourquoi n\\'organises-tu pas une fête ? Elle se suicida en prenant du poison. Tu es fort élégante. On dit qu\\'il y a des fantômes dans cette vieille maison. J\\'ai besoin d\\'une chambre. Elles étaient satisfaites du résultat. Me menaces-tu vraiment ? Il fait tellement chaud qu\\'on pourrait faire cuire des œufs sur le capot des voitures. Notre destinée était scellée. Tu as été inutile. As-tu eu des problèmes ? Cette impasse était une fatalité. Êtes-vous encore contrariées à propos de ce qui s\\'est passé ? Vous ne m\\'avez pas préparée à ceci. Je n\\'ai pas mangé de quatre jours. Nous les aimons. J\\'entrai dans le bureau de Tom après avoir frappé à la porte. Que veux-tu manger\\u202f? Le Premier Ministre est tombé dans le Danube et s\\'est noyé. Quel était votre nom avant d\\'en changer\\xa0? Quel genre de personnes voudraient dépenser autant d\\'argent dans un vélo\\u202f? Je voudrais voyager autour du monde. Penses-tu qu\\'il y ait un espoir ? Il marchait en boitant. Nous sommes tout à fait seules. Ce qu\\'il a dit n\\'est pas vrai. Tom est assis à son bureau. J\\'ignorais que tu étais aussi bon en français. Et si vous jetiez un œil à ces données ? J\\'aimerais disposer d\\'un appareil photo. Sa mère a fait d\\'elle ce qu\\'elle est. Je me suis levé plus tôt que d\\'habitude. Ils portèrent l\\'eau dans des seaux. Je n\\'ai pas à prendre rendez-vous. Nous vivons en banlieue. Qui m\\'accompagnera\\u202f? Je te verrai demain. Le bonheur d\\'un homme dépend plus de ce qu\\'il est que de ce qu\\'il a. Merci de m\\'enseigner à le faire. Quand quittez-vous habituellement votre travail\\u202f? Tom sera de retour la semaine prochaine. Combien de sacs aviez-vous ? Je suis en train d\\'éplucher des pommes. C\\'est parce que t\\'es une nana. Elle disait qu\\'elle avait été heureuse. Où que vous alliez, vous serez bienvenus. Il est allé chercher le médecin. Je n\\'ai jamais eu d\\'ami exactement comme toi. Je détesterais être à ta place. Il est inutile de se quereller avec lui à ce sujet. Le train ne s\\'arrête pas à cette gare. Tu as dû être surpris de rencontrer ton instituteur dans un tel endroit. Elles savaient exactement quel risque elles prendraient. Personne ne me suivit. Cela ne t\\'affecte-t-il simplement pas, parfois ? Je n\\'arrive toujours pas à croire que Mary et moi allons nous marier. Je devrais aller au lit. C\\'est toujours un bon signe. Ce pain sent vraiment bon. Personne ne me dit jamais rien. Oui, je le pense aussi. Sa plaisanterie nous a tous fait rire. J\\'admets avoir été négligente. Je ne le dirai pas à Tom. Tom a traversé la chambre de ses parents sur la pointe des pieds. Je dirai que c\\'est vrai. Elle sait tout en matière de cuisine. Rester chez soi est ennuyeux. J\\'espère que mon rêve se réalisera. Elle était contente du cadeau. J\\'ai acheté ce chapeau lorsque j\\'étais à Boston. Ils dormirent dans la voiture parce qu\\'ils ne purent trouver d\\'hôtel. Je l\\'aime de plus en plus. Vous avez restauré ma foi en l\\'humanité. Il peut le faire beaucoup mieux que moi. La pluie acide n\\'est pas un phénomène naturel. Je veux te montrer quelque chose de très particulier. Elle n\\'a pas le billet. Personne ne se trouve dans les environs. Ils font une salade. Je l\\'ai fait par moi-même. Ce que tu as fait à Tom était cruel. Vous êtes timide, n\\'est-ce pas ? Du reste : combien d\\'entre vous tiennent-elles un journal ? Vous avez vraiment beaucoup de chance. Nous ne sommes pas encore sures de cela. J\\'ignore combien de temps je peux rester. Veuillez me dire ce que vous en savez. Donne-moi ce que tu as dans la main. Ne m\\'oblige pas à choisir. N\\'agis pas en Madame Je-sais-tout ! Je veux que tu danses avec moi. De quoi avez-vous peur ? Je commence à prendre du plaisir dans mon nouveau travail. Ne vous faites pas de souci à ce sujet, d\\'accord ? Nous sommes entrés dans le rouge l\\'année dernière. Ce fut une brillante idée. Passons en revue les éléments de preuve. Faites-nous savoir si vous pouvez venir. Tu es la personne la plus importante dans ma vie. Suis-je censée m\\'adresser à toi d\\'une manière particulière ? J\\'ai quelques bonnes nouvelles pour toi. Je veux discuter avec vous de cette liste. Il est plus rusé que sage. Es-tu triste ? Je vérifierai. L\\'Inde a obtenu l\\'indépendance vis-à-vis du Royaume-Uni en 1947. As-tu perdu du poids ? Elle portait des boucles d\\'oreilles en forme de cœur. Je suis parti à la retraite en 2013. Tout ce que je voulais, c\\'était un petit peu plus d\\'attention. Lequel prendriez-vous ? Diriez-vous qu\\'elles se correspondent ? Que voudrais-tu manger\\u202f? Je ne sais pas ce que ce mot signifie. Je le chercherai dans le dictionnaire. Où vous dirigez-vous ? Je n\\'avais pas envisagé cela. Tom ne peut pas nager aussi vite que Mary. Les rues de New York sont très larges. Les lacs sont gelés. Je n\\'arrive pas à le faire par mes propres moyens. Ce matin, j\\'ai vu un ange. Il fait mauvais temps aujourd\\'hui. Il nous faut nous parler. Mon chat est en train de dormir sur mon lit. Comment te les es-tu procurés\\u202f? Chacun devrait être maître de son destin. Je pense que c\\'est un endroit sympa. Qu\\'aimeriez-vous manger d\\'autre ? En avez-vous un qui soit un peu plus petit\\xa0? Nous l\\'avons attaché pour qu\\'il ne s\\'échappe pas. Ce truc se produit tout le temps. J\\'en ai eu assez d\\'attendre. Son cœur battait d\\'excitation. Je m\\'en sortirai, si j\\'ai un endroit où dormir. Étaient-ils bons ? Qu\\'est-ce qu\\'il y a à piger ? J\\'eus tort. Je ne connais aucune des deux sœurs. Je veux mettre un terme à ceci. Cela semble être une bonne affaire. Les racines de l\\'arbre s\\'étendent profondément dans la terre. Donne ce livre à Ramu. Quelle poisse j\\'ai\\u202f! Il s\\'habituera bientôt au climat d\\'ici. Je viens de parler à Tom à propos de cette affaire. Je n’aurais jamais pensé que je trouverais Tom. Tom est venu ici pour nous demander de l\\'aider. Mon père a fait de moi ce que je suis. Je suis allé à l\\'école avec votre frère. Je serai déjà diplômé de l\\'université quand vous rentrerez d\\'Amérique. J\\'entendis des bruits étranges en provenance de sa chambre. Nous sommes parvenues à la gare à temps. Comment se le rappeler ? Nous avons vendu tous les tickets. Tom ne m\\'aime plus. Mon perroquet s\\'est échappé. C\\'était plutôt méchant. J\\'espère que tout s\\'est bien passé. Regardez ici. Frappe à la porte ! Je veux en savoir plus sur Tom. Je m\\'excuse, mais je ne peux pas rester longtemps. C\\'est à peine croyable. Tom avait du rouge à lèvres partout sur son visage. Ouvre la porte et laisse-moi entrer s\\'il te plait. C\\'est encore trop tôt pour parler de ça. Elle a les cheveux très courts. J\\'apprécie l\\'hospitalité. Je cherchais une paire de ciseaux. Tom sait des tas de choses. Je n\\'arrive pas à croire que vous ne soyez pas tout au moins disposée à envisager d\\'autres possibilités. Il fait froid, ici dehors. Qu\\'as-tu fait, cette fois ? Soyez ponctuelle ! Regarde ce poteau sur la place. Pourquoi ne prends-tu pas le contrôle ? Je comprends parfaitement ta position. J\\'ai transmis le message à Tom. J\\'espère ne pas m\\'être ridiculisé. Les taux de change sont affichés quotidiennement à l\\'extérieur de la caisse. Qui dort avec des chiens se réveille avec des puces. Je n\\'ai pas eu le temps de te remercier comme il se doit. J\\'adore lire au lit. L\\'enquête a conclu que l\\'agent de police n\\'avait rien fait de répréhensible. Je ferai tout ce que je peux pour vous aider. Cette route vous amène au bord du lac Biwa. Pour parler franchement, il a tort. C\\'était très bon. Puis-je disposer d\\'un horaire ? Elle est malade depuis mercredi dernier. Marie aide sa mère. Quelle drôle d\\'histoire ! Je riais malgré moi. Ne veux-tu pas être rédactrice ? Je pourrais vous faire arrêter. La population réclame plus d\\'emplois et moins d\\'impôts. La femme de Tom s\\'est remariée après sa mort. Que pourrait en être la signification ? Cette eau a bon goût. Je ne peux m\\'empêcher de l\\'aimer en dépit de ses nombreux défauts. Je veux vous faire une proposition. Le pistolet n\\'était pas chargé. Je vais aller acheter un ticket, alors merci de surveiller mes sacs une minute. Tom essuya ses pieds sur le paillasson. Je suis désolé de ce qui est arrivé aujourd\\'hui. Où souperons-nous ce soir ? Ne prends pas la peine de me réveiller à quatre heures du matin. Je ne prévois pas d\\'aller pêcher demain. Tom a dit à Mary que leur relation était terminée. Où as-tu entendu cette histoire ? Fais ce qu\\'il te dit. Je n\\'ai aucune hésitation à dire la vérité. J\\'aime les cochons. Les chiens nous admirent d\\'en bas. Les chats nous regardent de haut. Les cochons nous traitent en égaux. J\\'ai vraiment un plan. Comment oses-tu ! Je suis professeur. Comment as-tu pu t\\'abstenir de me remettre le message ? Je pensais que tu serais impressionné. Il y a des limites. Il m\\'est d\\'avis qu\\'il est temps, pour nous, de partir. Bon appétit\\u202f! Ça ne peut pas être fait. Poussez-vous. Le gâteau au fromage était trop sucré. Cette idée est-elle la vôtre ? Je n\\'ai pas pu aller à l\\'école pendant une semaine. Nous devons réfléchir ensemble à l\\'avenir de l\\'Europe. Tu dois vraiment t\\'arrêter de fumer. J\\'ai quitté la fête trop tôt. Je sais à quel point tu es fière de ton travail. Nous avons passé la nuit dans un hôtel pas cher. La jeune fille est allée à l\\'école bien qu\\'elle soit malade. Je voudrais savoir s\\'ils sont arrivés. Exercez-vous un chantage à mon égard ? Tu connaîtras la vérité un jour. J\\'ai été mordue quelques fois. J\\'admire son talent. Je vous remercie de m\\'avoir demandé de faire ça. Me perdre est la cadet de mes soucis. Je t\\'apprécie en tant qu\\'amie. Nous fûmes à court d\\'essence. Je sais exactement ce que je devrais faire. Elles travaillèrent tous les jours à partir du moment où le soleil se levait jusqu\\'à ce qu\\'il se couche. Votre mariage est à mal. Où sont-elles ? Il me faut prendre des photos pour mon exposé. Vous avez dit que vous vous en fichiez. Il deviendra docteur quand il sera grand. Les vagues sont hautes. Tom gagne bien sa vie. Pourriez-vous me dessiner un plan ? Comment êtes-vous parvenues à cette réponse ? La chambre était pleine de meubles. Tom est témoin ? Je l\\'avertis de ne pas être en retard. Mon explication peut sembler étrange. Tom est aussi âgé que Marie. Je conduis partout. Je pense que Tom vous dira la vérité. Tu ferais mieux d\\'aller au lit immédiatement. Je n\\'ai pas de sœurs. Si tu manges autant, tu seras malade. Nous ne pouvons pas aider Tom. Il était étendu sur le lit. Nous ne sommes pas sûr de que ce qu\\'il est en train de se passer. Le gâteau a été écrasé par le pichet de jus. Je suis chez moi. J\\'espère que nous ne t\\'avons pas réveillée. Elle déteste le principal. J\\'en rêve depuis que je suis enfant. Son anniversaire est le cinq mai. C\\'était plus difficile à faire que ce que je pensais. J\\'ai tenté de faire tout ce que je pouvais. Je déteste ces choses. On peut en faire le tour en discutant. Elles souriaient toutes. Une rumeur circule sur le fait que l\\'entreprise va droit vers la faillite. Je n\\'arrive pas à croire combien tu es belle. Sois raisonnable ! Ce n\\'est pas trop loin. Mary était fière de sa propre beauté. Je savais que vous reviendriez vers moi. Je ne peux pas vous donner une réponse définitive aujourd\\'hui. Tom était un détenu exemplaire. Tu vas bientôt t\\'habituer à ta nouvelle école. Je pensais être heureux. Il y a suffisamment de place dans le grenier. Quels sont les aliments que tu manges habituellement avec des baguettes ? Arrivez-vous à lire ça ? N\\'ayez pas l\\'air si triste ! Le film commençait très bien, mais sa fin n\\'était pas crédible. Nous nous sommes beaucoup amusés lors du pique-nique. Tom avait beaucoup d\\'amies. C\\'est très bizarre. Tu es assis sur ma chaise. Elle fit de son mieux pour le sauver. C\\'est la loi. Êtes-vous encore au bureau ? Je n\\'ai pas pris conscience que tu étais éveillée. Êtes-vous prêts à partir ? Soyez respectueuse ! Rappelle-toi ces règles. Tu n\\'as pas besoin de me dire ton vrai nom. Un comité est un groupe de gens qui ne peuvent rien faire individuellement mais qui peuvent tenir des réunions en tant que groupe et parvenir à la décision qu\\'on ne peut rien faire. À compter de demain, cette adresse électronique ne sera plus valable. Qu\\'as-tu fait, exactement ? Deux médecins étaient en train de parler boulot. Tu es excusé. Il lui a demandé de l\\'épouser mais elle a refusé. Ils commençaient à perdre foi en leur commandant. Je suis tatillon. C\\'est mieux de couvrir les livres de poche. Tu es agitée. Nous pouvons voyager ensemble. On compare souvent la mort au sommeil. Tout le monde peut faire une erreur. Vous m\\'avez donné de l\\'espoir. Je pouvais répondre à toutes les questions. Je te dépasse. Les soldats ont perdu le courage de se battre. Demande-leur de l\\'aide. On ne vous fera pas de mal. Ne pensez pas à de tels trucs ! Devine le prix\\u202f? Elles firent une promenade. Il a épousé une fille du coin. Tom ne fait rien. Elle le laissa tomber parce qu\\'elle pensait qu\\'il était un pauvre type. Je suis en train d\\'arroser les fleurs. Je pense que c\\'était Tom qui avait fait ça. Quand reviens-tu\\u202f? Commençons par le premier chapitre. Honte à toi\\u202f! Je n\\'étais pas occupé hier. Avons-nous le temps pour un café ? Une carte était attachée au cadeau. J\\'ai eu besoin d\\'aide. Elle l\\'attacha. Ils disent qu\\'il est très riche. Qu\\'y faisiez-vous tous les deux, de toutes façons ? Ça pourrait aider. Pourquoi l\\'avez-vous aimé ? Je ne peux pas vous laisser aller là-dedans tout seul. Ne me le rappelez pas ! Vous devez plaisanter ! Il se pressa pour ne pas rater le train. Prière de régler ce compte avant le 28 octobre 1998. Je n\\'avais pas le cœur à m\\'y rendre. Marie travaille comme infirmière à temps partiel. Elle est meilleure à ça que je ne le suis. Les nouveaux immigrants n\\'étaient pas qualifiés. Nos enfants vont tous à l\\'école locale. Ce livre est si difficile que je ne peux pas le lire. Il pourrait pleuvoir ; nous ferions mieux de prendre un parapluie. J\\'aimerais te rejoindre. Hier, j\\'ai reçu une lettre écrite en anglais. Je commence à la détester. On a parlé de pas mal de choses intéressantes. Il y a un bus toutes les quinze minutes. J\\'y ai beaucoup pensé. Combien de jours as-tu prévu de rester\\u202f? Je n\\'ai jamais eu l\\'occasion de l\\'utiliser. C\\'est agaçant, n\\'est-ce pas\\xa0? L\\'accident s\\'est produit il y a deux ans. Il ne ment jamais. Nous sommes impuissantes. J\\'ai adoré cette voiture. J\\'ai hâte d\\'être avec toi. Pas besoin de paniquer. Il reste beaucoup de temps. Laissez-moi faire ça. Nous avons encore beaucoup de chemin à parcourir. De quoi veulent-ils parler\\xa0? Tom est trop jeune pour aller à l\\'école. Il a voulu acheter le livre. Savez-vous qui a pris l\\'appel\\u202f? Je ne pouvais pas laisser Tom s\\'en aller sans dire au revoir. J\\'assiste à des conférences scientifiques. Je ne suis pas du tout content d\\'elle. As-tu mis de la crème solaire ? Je suis restée ici toute la nuit. Ne tombe pas ! Que suis-je censé faire avec ce que tu m\\'as donné\\u202f? Je ne vais quasiment jamais dans des musées. Quelles sont les dimensions de cette pièce\\u202f? Je veux un bateau qui m\\'emmènera très loin d\\'ici. Tom est bon en écriture. Ils s\\'étaient entraidés à une occasion. Il est occupé à préparer son examen d\\'entrée. Je suis impatient de le manger. On ne peut en être sûr. Je n’ai jamais dit que ça serait simple. Tom dit qu\\'il est amoureux de Mary. Tom a encore séché les cours aujourd\\'hui\\xa0? La dernière partie de l\\'excursion fut un parcours à travers le désert. Tom est charpentier. Soyons les meilleurs amis pour toujours. Tom boit uniquement du café. Il semble que personne ne connaisse la vérité. Il s\\'attendait à ce que la conversation dure longtemps. Je suis désolé à propos de cette nuit. Toutes sont présentes. Si quelque chose cloche, dis-le moi ! Tu ne me dis jamais que tu m\\'aimes. Personne ne peut pénétrer ici. Vous feriez tout aussi bien de lire un roman plutôt que de contempler le plafond. Plusieurs personnes sont déjà en train d\\'attendre. Je rêve souvent en français. Qu\\'est-ce qui vous a réveillé\\u202f\\xa0? Il y a un arrêt de bus devant notre école. Tu ne m\\'as toujours pas dit qui il est. Je ne peux pas ignorer les ordres de mon officier supérieur. Je vais vous faire une proposition que vous ne pouvez pas refuser. Jusqu\\'à fin septembre je travaille à plein temps dans une librairie. Il est probable qu\\'elle vienne. Il faut que je prenne une douche. Elle rendait visite à son mari en prison. Il s\\'en est presque tiré sans encombres. Cette porte ne voulait pas s\\'ouvrir. Le mauvais temps nous empêcha de partir. Elle avait l\\'air mieux que la dernière fois. Je veux que vous alliez voir si c\\'est toujours là. Prenez une autre boisson ! Avec qui désirerais-tu t\\'entretenir ? Je n\\'aime pas les devoirs. Je n\\'ai jamais pensé que ça surviendrait. J\\'ai froid. Il ne s\\'écoula pas beaucoup de temps avant que nous nous rencontrassions de nouveau par hasard. Je pense que personne n\\'est chez moi. J\\'aimerais que nous soyons davantage que juste des amis. Nous sommes cernés. J\\'étais très effrayé. Elle a fait de son mieux pour le sauver. Votre équipe est plus forte que la nôtre. Inutile de dire qu\\'il n\\'est jamais revenu. J\\'ai fait confiance à mon maître. Ça m\\'a coûté beaucoup d\\'argent de construire une nouvelle maison. Il n\\'y avait qu\\'une survivante à l\\'accident. Étiez-vous à la bibliothèque hier après-midi? Il n\\'a toujours pas répondu. Pourquoi Tom a-t-il démissionné ? Mon médecin m\\'a dit qu\\'il fallait que je perde du poids. Elles t\\'y ont suivi. Tout le monde a le droit de vivre. On a un besoin urgent d\\'argent. Mange ta soupe avant qu\\'elle ne refroidisse. Il a corrompu ce politicien avec un bon paquet d\\'argent. Vous a-t-on jamais embrassée auparavant ? Je veux du temps à la place de l\\'argent. Nous ne disposons d\\'aucun argent. J\\'ai été blessé. La glace craqua sous le poids. Elle a réussi à apprendre à conduire une voiture. La vitesse de propagation du SIDA est horriblement rapide. Vous êtes une survivante. Il promet de ne plus boire. J\\'ai besoin de me trouver seul. L\\'incendie a démarré dans la chambre de Tom. Il est loin d\\'être riche. Tu as le visage rouge. Ce serait une bonne idée que j\\'y aille. Je suis en train d\\'ajouter les touches finales. Je ne vais pas gaspiller mon argent. Eh, qu\\'est-ce que tu fais ici\\xa0? Aujourd\\'hui, ça ne s\\'est pas bien passé. De quoi voulais-tu m\\'entretenir ? Cela est valable pour les adultes aussi bien que les enfants. Je suis sourde. Cette année, la Saint-Valentin tombe un dimanche. Il était un bon roi. Il faudrait que je me remette à l\\'écriture de mon rapport. Quelque chose se déplaçait au loin. Calme-toi, mon fils ! Excusez-moi, où se trouve la bibliothèque\\u202f? C\\'était obligatoire. J\\'aimerais examiner des choses. Je n\\'ai pas mes lunettes. Ma tante a hérité de l\\'immense propriété. Il fera un bon capitaine d\\'équipe. Pourquoi vous dérobez-vous ? Cette soupe est vraiment bonne. Nous savons que vous êtes intéressé. Vous avez disposé de plein d\\'occasions. Il a grandi dans une petite ville. Je doute qu\\'il vienne. C\\'est à vous de décider. Garde un œil sur les garçons\\u202f; ils sont espiègles. Il a un autre fils. Veux-tu que je te véhicule ? Beaucoup de gens m\\'ont dit de prendre des vacances. Environ combien de temps cela va-t-il prendre\\u202f? Vous n\\'auriez pas dû aller pêcher aujourd\\'hui. Comment avez-vous appris à cuisiner si bien\\xa0? La conquête normande de l\\'Angleterre eut beaucoup d\\'influence sur la langue anglaise. Il met dix dollars de côté chaque semaine. C\\'est du réchauffé. Cela te rend-il vraiment heureuse ? L\\'avion vola au-dessus des nuages. J‘estime que le travail coûtera plus de 10 000 $. Je pense qu\\'elle réussira dans son affaire. Était-ce une décision difficile\\xa0? Tout le monde se remet-il ? Je n\\'en suis pas trop convaincue. Je l\\'ai entendue parler l\\'anglais couramment. Je n\\'ai qu\\'un vœu. Elle lui tendit sa veste. J\\'y croirai lorsque je le verrai. Ne laisse pas passer cette opportunité. J\\'ai peur de la mort. Je suis normale. J\\'adore la manière dont vous embrassez. Spoutnik fut lancé le quatre octobre dix-neuf-cent-cinquante-sept. Quel est ton jour de fête préféré ? Ça prendra du temps pour finir de décharger le camion. Ça n\\'aurait pu venir à pire moment. Il dit que son fils sait à présent compter jusqu\\'à cent. Je veux que vous traitiez ceci. Est-ce ton portefeuille\\u202f? Nous sommes à court d\\'argent. Je suis retourné dans ma ville natale après cinq ans d\\'absence. Je n\\'ai pas de ligne fixe. Je lui ai dit de venir nous voir. Merci pour le compliment ! Veux-tu manger ? Le pneu de mon vélo est à plat. Pour le moment, j\\'étudie le français dans cette école de langues. Tom ne connait pas ses voisins. Vous ne pouvez pas avoir trente ans ! Tom et Marie ont pris un selfie ensemble. J\\'ai tout entendu. La Croix Rouge, où est-elle ? Il a beaucoup d\\'argent à la banque. Voici votre carte de rendez-vous. Je me demandais si je pouvais prendre un congé, la semaine prochaine. Il n\\'a aucun espoir d\\'avancement. Ici, je suis un étranger. Je veux discuter. J\\'espère que tu ne prévois pas de faire ça aujourd\\'hui. Je me dépêchai pour avoir le premier train. C\\'était tout ce que je savais. Je ne pense pas que Tom me pardonnera un jour. Voudriez-vous encore un peu de salade ? J\\'adore la manière que vous avez d\\'embrasser. Tu n\\'étais pas là, si ? L\\'infirmière t\\'a donné un sédatif. Elle a couru aussi vite que possible. Elle l\\'a insulté. J\\'ai comme la nausée. Je veux te parler au sujet de ce rapport. Que voulaient-ils ? Avez-vous même été tentées ? Il est très difficile en ce qui concerne sa nourriture. Je ne sais pas exactement. Nous étudions l\\'arabe. Je me sens normal. Presque tout le monde était en retard. Comment dis-tu « love » en français ? Je ne dis rien, ce qui le rendit plus furieux. Elles sont toutes deux amoureuses du même type. Notre équipe gagne du terrain. Cela ressemble à une vache. Son histoire fut publiée dans un magazine. Ne l\\'oubliez pas ! Mon chat frotta sa tête contre mon épaule. J\\'ai rencontré le président lui-même. Qui s\\'est éclipsé ? Aujourd\\'hui c\\'est le premier septembre. J\\'adore regarder des films qui me font réfléchir. J\\'ai\\xa0simplement\\xa0fait\\xa0ce\\xa0que\\xa0tu\\xa0m\\'as\\xa0demandé\\xa0de\\xa0faire. J\\'étais gelé jusqu\\'aux os. Je te prie de ne plus m\\'écrire. Elle lui donna un cadeau. Nous avons eu un léger désaccord. Comment se fait-il que vous ne soyez pas la patronne ? Je suis prêt à partir maintenant. Il me faut lire certaines choses. Saisissez-vous de ça ! Tom a dit qu\\'il connaissait Mary. Comme on s\\'y attendait, il a gagné le prix. Vous êtes tout seul. Nous sommes venus ici pour vous aider à le faire. Elles ne peuvent rien faire d\\'autre. Je vous dois des excuses pour mon retard. C\\'est juste prendre ses rêves pour des réalités. Je veux juste que tu me laisses tranquille. Le tien est par là-bas. Tom a décidé de subir l\\'opération que le médecin lui a recommandée. Risque une hypothèse ! Il habite dans un village. Je garde mon marteau dans la caisse à outils. Souhaiteriez-vous venir dîner après le travail lundi\\xa0? Je ne suis pas saoul à ce point. Tom veut-il se reposer ? Les lois diffèrent d\\'un État à un autre aux États-Unis. N\\'es-tu pas satisfaite ? Qui que ce soit vous y a-t-il vu ? Le navire n\\'est même pas encore amarré. Présente-moi à ton ami qui est là-bas. L\\'île est chaude toute l\\'année. Lorsque Tom ouvrit la porte, il vit Marie se tenant là, avec un pack de six et une pizza. Pourquoi ne m\\'avez-vous pas appelée la nuit dernière ? Nous pouvons le faire immédiatement. Je suis aussi grande que vous. Elle me croit toujours. Personne ne vous force à rester. M\\'accompagnerez-vous ? Ce n\\'est pas le mien. Je déteste la politique. Je t\\'ai dit de ne pas faire ça. Malheureusement, de nombreux Japonais moururent. S\\'il avait été honnête, je l\\'aurais employé. Ils veulent juste quelqu\\'un à blâmer. Videz vos poches ! Ne laisse pas l\\'eau couler. Je ne veux pas qu\\'ils s\\'en aillent. Elles ont l\\'air en bonne santé. Qui sont ces gens\\u202f? Tu cuisines mieux que moi. Il fit semblant d\\'être ignorant. Tu sembles parfait pour le job. Je connais tout le monde, ici. Sa maison est au pied d\\'une montagne. Ce n\\'est pas un dilemme. L\\'âge des deux enfants additionné ensemble était égale à celui de leur père. Nos plans ont échoué à la dernière minute. Vous auriez dû démissionner plus tôt. Nous acceptâmes son invitation. Tom a frappé Mary. Tom est plus célèbre que je ne le suis. Ne dites rien à ma petite amie ! Il a fait une overdose de cocaïne. C\\'est très gentil. Ce sol est riche en humus. J\\'adore regarder les kimonos colorés des gens lors de la cérémonie japonaise de la majorité civile. Le père de Tom est très sévère. Pourquoi ne vous joignez-vous pas à nous ? Comprenez-vous la difficulté de mon travail\\u202f? J\\'ai pu visiter plusieurs maisons américaines. Notre amitié n\\'a pas duré. Nous sommes prêtes à partir. Mon professeur d\\'anglais a recommandé que je lise ces livres. Ne laisse pas Tom faire ça. Chien méchant ! Il courut aussi vite qu\\'il pouvait. Tom et ses enfants ont passé tout l\\'après-midi à chercher le parfait sapin de Noël. Hier, j\\'étais heureux. Pouvez-vous m\\'aider ? Vous pouvez me donner les détails plus tard. Ils vous veulent morts. Elle ne l\\'a jamais vu. Il n\\'y eut pas de réponse à ma question. Je veux que vous sachiez que je vous crois. Je veux juste rentrer à la maison en un seul morceau. Vous devez toujours réfléchir avant de parler. Une foule se rassembla sur le lieu. Mon cousin n\\'est pas le genre de personne qui romprait jamais une promesse. C\\'est la première fois que je mange dans une pizzeria italienne. Je ne suis pas autorisé à dire quoi que ce soit. Quand on a dix-huit ans, on est majeur aux États-Unis d\\'Amérique. Voulez-vous que je vous accompagne chez vous ? Personne ne peut t\\'aider. C\\'est étrange. Une petite voiture est plus économique qu\\'une grande. Rentre tôt à la maison. Nous nous en sommes amusés. Je n\\'ai pas pu participer à cette fête parce que j\\'étais malade. Je sais que tu as été occupé. Je suis désolée, Tom, je ne peux pas faire ça. Quoiqu\\'il arrive, n\\'abandonnez pas. Je suis sûr que la police finira par attraper le voleur. Elle le sait probablement. Tu te retrouveras dans une situation lamentable. J\\'ai besoin de volontaires. Il s\\'est mis à jurer. Je n\\'arrive pas à croire que vous ayez eu les chocottes. Nous savons tous que tu es malin. J\\'ai vraiment besoin de votre aide. Elle posa le bébé sur le lit. Quelle est l\\'orthographe de votre nom de famille\\u202f? Il regarde ce qui fut le bureau de mon père. Il a gâché toutes les chances que je lui ai données. Nous sommes confrontés à une multitude de problèmes. Combien paies-tu de loyer pour l\\'appartement\\xa0? Je peux m\\'en sortir. Il y a une rumeur dans l\\'air sur le fait que l\\'entreprise est en train de faire faillite. Je préfère aller au musée des arts plutôt qu\\'au cinéma. Ce serait une bonne idée d\\'essayer de le faire. Est-ce que le café est chaud\\xa0? J\\'ai dû pousser mon vélo, car j\\'avais un pneu à plat. C\\'est un bon entraînement. Tom est mort l\\'an dernier. Il est gardien de but. Si vous m\\'embrassiez, je serais heureuse. Je ne le dirai plus. Tom est arrivé à la gare trop tard donc il a raté le train. Je suis vraiment désolé d\\'avoir menti. Je veux sortir avec d\\'autres femmes. J\\'étais sans-abri pendant trois mois. Si tu te dépêches, tu pourras le rattraper. Laisse-moi faire ! Vous êtes connu. Il est arrivé après que je suis parti. Laisse-moi vérifier dans mon planning. Si elle avait été en vie, ma mère m\\'aurait aidé à ce moment-là. Merci pour le cadeau que vous avez donné à mon fils. Rira bien qui rira le dernier. Examinons les nombres. J\\'ai été ici depuis cinq heures. Je veux essayer. Il était une fois une belle princesse. Je devais avoir fini le travail hier. Ce fut un grand privilège de travailler avec vous. Nous sommes puissantes. Certaines personnes pensent que c\\'est une mauvaise idée. Quelqu\\'un a dû prendre mon parapluie par inadvertance. On a eu de la chance. Ça a l\\'air très intéressant. Pourquoi ne pas essayer un peu de ce vin blanc ? Je ne peux m\\'empêcher de me moquer de lui. Trois personnes peuvent facilement s\\'asseoir dans ce canapé. Occupe-toi juste de tes affaires, je te prie. Pourrais-je te poser d\\'autres questions\\u202f? Il n\\'y avait plus rien à faire. J\\'ai besoin d\\'aller en ville. Je sais que vous voulez probablement vous retrouver seuls alors je vais partir. Ôtez les abats du poulet avant de le cuire. Qu\\'importe la manière dont tu considères la chose, les probabilités s\\'accumulent contre nous.'"
            ]
          },
          "execution_count": 12,
          "metadata": {},
          "output_type": "execute_result"
        }
      ],
      "source": [
        "fr_corpus"
      ]
    },
    {
      "cell_type": "code",
      "execution_count": 36,
      "metadata": {
        "colab": {
          "base_uri": "https://localhost:8080/",
          "height": 54
        },
        "colab_type": "code",
        "id": "DPzvDSUWoWfW",
        "outputId": "5ff7ae1e-d349-484f-d7a1-b776d9763075"
      },
      "outputs": [],
      "source": [
        "# Chargement des deux corpus dans spacy \n",
        "#A ETE CHANGEE\n",
        "#%%time\n",
        "#import time\n",
        "#nlp_fr.max_length = len(fr_corpus)\n",
        "#nlp_en.max_length = len(en_corpus)\n",
        "\n",
        "fr_doc = nlp_fr(fr_corpus)\n",
        "en_doc = nlp_en(en_corpus)"
      ]
    },
    {
      "cell_type": "code",
      "execution_count": 37,
      "metadata": {
        "colab": {
          "base_uri": "https://localhost:8080/",
          "height": 54
        },
        "colab_type": "code",
        "id": "rBu43uJ77Ad6",
        "outputId": "28749976-0c06-41f3-e285-50300068cc0d"
      },
      "outputs": [],
      "source": [
        "#A ETE CHANGEE\n",
        "#  Tokenisation de chacune des phrases via spacy \n",
        "#%%time\n",
        "doc[\"fr_tokens\"] = doc.iloc[:, 1].apply(lambda x: nlp_fr.tokenizer(x))\n",
        "doc[\"en_tokens\"] = doc.iloc[:, 0].apply(lambda x: nlp_en.tokenizer(x))"
      ]
    },
    {
      "cell_type": "code",
      "execution_count": 38,
      "metadata": {
        "colab": {
          "base_uri": "https://localhost:8080/",
          "height": 275
        },
        "colab_type": "code",
        "id": "bQQOU7OI7-xV",
        "outputId": "45a677c7-0f1e-4313-ffd0-8afcd3994e39"
      },
      "outputs": [
        {
          "data": {
            "text/html": [
              "<div>\n",
              "<style scoped>\n",
              "    .dataframe tbody tr th:only-of-type {\n",
              "        vertical-align: middle;\n",
              "    }\n",
              "\n",
              "    .dataframe tbody tr th {\n",
              "        vertical-align: top;\n",
              "    }\n",
              "\n",
              "    .dataframe thead th {\n",
              "        text-align: right;\n",
              "    }\n",
              "</style>\n",
              "<table border=\"1\" class=\"dataframe\">\n",
              "  <thead>\n",
              "    <tr style=\"text-align: right;\">\n",
              "      <th></th>\n",
              "      <th>0</th>\n",
              "      <th>1</th>\n",
              "      <th>fr_tokens</th>\n",
              "      <th>en_tokens</th>\n",
              "    </tr>\n",
              "  </thead>\n",
              "  <tbody>\n",
              "    <tr>\n",
              "      <th>84585</th>\n",
              "      <td>There was nothing left to do.</td>\n",
              "      <td>Il n'y avait plus rien à faire.</td>\n",
              "      <td>(Il, n', y, avait, plus, rien, à, faire, .)</td>\n",
              "      <td>(There, was, nothing, left, to, do, .)</td>\n",
              "    </tr>\n",
              "    <tr>\n",
              "      <th>44836</th>\n",
              "      <td>I need to go into town.</td>\n",
              "      <td>J'ai besoin d'aller en ville.</td>\n",
              "      <td>(J', ai, besoin, d', aller, en, ville, .)</td>\n",
              "      <td>(I, need, to, go, into, town, .)</td>\n",
              "    </tr>\n",
              "    <tr>\n",
              "      <th>150888</th>\n",
              "      <td>I know you probably want to be alone, so I'll ...</td>\n",
              "      <td>Je sais que vous voulez probablement vous retr...</td>\n",
              "      <td>(Je, sais, que, vous, voulez, probablement, vo...</td>\n",
              "      <td>(I, know, you, probably, want, to, be, alone, ...</td>\n",
              "    </tr>\n",
              "    <tr>\n",
              "      <th>140935</th>\n",
              "      <td>Remove the chicken's giblets before cooking.</td>\n",
              "      <td>Ôtez les abats du poulet avant de le cuire.</td>\n",
              "      <td>(Ôtez, les, abats, du, poulet, avant, de, le, ...</td>\n",
              "      <td>(Remove, the, chicken, 's, giblets, before, co...</td>\n",
              "    </tr>\n",
              "    <tr>\n",
              "      <th>156949</th>\n",
              "      <td>No matter how you look at it, the odds are sta...</td>\n",
              "      <td>Qu'importe la manière dont tu considères la ch...</td>\n",
              "      <td>(Qu', importe, la, manière, dont, tu, considèr...</td>\n",
              "      <td>(No, matter, how, you, look, at, it, ,, the, o...</td>\n",
              "    </tr>\n",
              "  </tbody>\n",
              "</table>\n",
              "</div>"
            ],
            "text/plain": [
              "                                                        0  \\\n",
              "84585                       There was nothing left to do.   \n",
              "44836                             I need to go into town.   \n",
              "150888  I know you probably want to be alone, so I'll ...   \n",
              "140935       Remove the chicken's giblets before cooking.   \n",
              "156949  No matter how you look at it, the odds are sta...   \n",
              "\n",
              "                                                        1  \\\n",
              "84585                     Il n'y avait plus rien à faire.   \n",
              "44836                       J'ai besoin d'aller en ville.   \n",
              "150888  Je sais que vous voulez probablement vous retr...   \n",
              "140935        Ôtez les abats du poulet avant de le cuire.   \n",
              "156949  Qu'importe la manière dont tu considères la ch...   \n",
              "\n",
              "                                                fr_tokens  \\\n",
              "84585         (Il, n', y, avait, plus, rien, à, faire, .)   \n",
              "44836           (J', ai, besoin, d', aller, en, ville, .)   \n",
              "150888  (Je, sais, que, vous, voulez, probablement, vo...   \n",
              "140935  (Ôtez, les, abats, du, poulet, avant, de, le, ...   \n",
              "156949  (Qu', importe, la, manière, dont, tu, considèr...   \n",
              "\n",
              "                                                en_tokens  \n",
              "84585              (There, was, nothing, left, to, do, .)  \n",
              "44836                    (I, need, to, go, into, town, .)  \n",
              "150888  (I, know, you, probably, want, to, be, alone, ...  \n",
              "140935  (Remove, the, chicken, 's, giblets, before, co...  \n",
              "156949  (No, matter, how, you, look, at, it, ,, the, o...  "
            ]
          },
          "execution_count": 38,
          "metadata": {},
          "output_type": "execute_result"
        }
      ],
      "source": [
        "doc.tail()"
      ]
    },
    {
      "cell_type": "code",
      "execution_count": 39,
      "metadata": {
        "colab": {
          "base_uri": "https://localhost:8080/",
          "height": 36
        },
        "colab_type": "code",
        "id": "CwCN5z21xo5H",
        "outputId": "9ab2ec30-7bf3-49d1-b671-ce2d96123306"
      },
      "outputs": [
        {
          "name": "stdout",
          "output_type": "stream",
          "text": [
            "3699\n"
          ]
        }
      ],
      "source": [
        "# Création d'un set() qui va prendre tous les tokens unique de notre corpus de texte\n",
        "en_tokens = [token.text for token in en_doc]\n",
        "en_vocabulary_set= set(en_tokens) # retirer tous les doublons\n",
        "en_vocab_size = len(en_vocabulary_set)\n",
        "print(en_vocab_size)"
      ]
    },
    {
      "cell_type": "code",
      "execution_count": 40,
      "metadata": {
        "colab": {
          "base_uri": "https://localhost:8080/",
          "height": 36
        },
        "colab_type": "code",
        "id": "zIwlGhNDykzn",
        "outputId": "b7a06018-3c24-48bd-cbed-964ac6ad351a"
      },
      "outputs": [
        {
          "name": "stdout",
          "output_type": "stream",
          "text": [
            "5075\n"
          ]
        }
      ],
      "source": [
        "# Même chose pour le français \n",
        "fr_tokens = [token.text for token in fr_doc]\n",
        "fr_vocabulary_set= set(fr_tokens) # retirer les doublons\n",
        "fr_vocab_size = len(fr_vocabulary_set)\n",
        "print(fr_vocab_size)"
      ]
    },
    {
      "cell_type": "code",
      "execution_count": 41,
      "metadata": {
        "colab": {},
        "colab_type": "code",
        "id": "Uy_ou60_3X4X"
      },
      "outputs": [],
      "source": [
        "# Création d'un id pour chacun des tokens\n",
        "all_en_tokens = {}\n",
        "for i,en_token in enumerate(en_vocabulary_set):\n",
        "  all_en_tokens[en_token] = i+1 # On prend à i+1 pour laisser la valeur 0 pour la création des padded_sequences\n",
        "\n",
        "all_fr_tokens = {}\n",
        "for i, fr_token in enumerate(fr_vocabulary_set):\n",
        "  all_fr_tokens[fr_token] = i+1"
      ]
    },
    {
      "cell_type": "code",
      "execution_count": 42,
      "metadata": {
        "colab": {},
        "colab_type": "code",
        "id": "ZFIfUb1i7ia3"
      },
      "outputs": [],
      "source": [
        "# Création de fonction qui vont créer un vecteur d'indices pour chacune des séquences de tokens\n",
        "def en_tokens_to_index(tokens):\n",
        "  indices = []\n",
        "  for token in tokens:\n",
        "    indices.append(all_en_tokens[token.text])\n",
        "  \n",
        "  return indices\n",
        "\n",
        "def fr_tokens_to_index(tokens):\n",
        "  indices = []\n",
        "  for token in tokens:\n",
        "    indices.append(all_fr_tokens[token.text])\n",
        "  \n",
        "  return indices"
      ]
    },
    {
      "cell_type": "code",
      "execution_count": 43,
      "metadata": {
        "colab": {},
        "colab_type": "code",
        "id": "CA8Gc2Yw9abI"
      },
      "outputs": [],
      "source": [
        "# Transformation des tokens en indices\n",
        "doc[\"fr_indices\"] = doc[\"fr_tokens\"].apply(lambda x: fr_tokens_to_index(x))\n",
        "doc[\"en_indices\"] = doc[\"en_tokens\"].apply(lambda x: en_tokens_to_index(x))"
      ]
    },
    {
      "cell_type": "code",
      "execution_count": 44,
      "metadata": {
        "colab": {
          "base_uri": "https://localhost:8080/",
          "height": 327
        },
        "colab_type": "code",
        "id": "rIWHfQsj-Yn8",
        "outputId": "9fc52687-95fd-430f-ea07-cab5aeab3285"
      },
      "outputs": [
        {
          "data": {
            "text/html": [
              "<div>\n",
              "<style scoped>\n",
              "    .dataframe tbody tr th:only-of-type {\n",
              "        vertical-align: middle;\n",
              "    }\n",
              "\n",
              "    .dataframe tbody tr th {\n",
              "        vertical-align: top;\n",
              "    }\n",
              "\n",
              "    .dataframe thead th {\n",
              "        text-align: right;\n",
              "    }\n",
              "</style>\n",
              "<table border=\"1\" class=\"dataframe\">\n",
              "  <thead>\n",
              "    <tr style=\"text-align: right;\">\n",
              "      <th></th>\n",
              "      <th>0</th>\n",
              "      <th>1</th>\n",
              "      <th>fr_tokens</th>\n",
              "      <th>en_tokens</th>\n",
              "      <th>fr_indices</th>\n",
              "      <th>en_indices</th>\n",
              "    </tr>\n",
              "  </thead>\n",
              "  <tbody>\n",
              "    <tr>\n",
              "      <th>84585</th>\n",
              "      <td>There was nothing left to do.</td>\n",
              "      <td>Il n'y avait plus rien à faire.</td>\n",
              "      <td>(Il, n', y, avait, plus, rien, à, faire, .)</td>\n",
              "      <td>(There, was, nothing, left, to, do, .)</td>\n",
              "      <td>[71, 3624, 1516, 1964, 611, 1524, 2791, 1881, ...</td>\n",
              "      <td>[2196, 2976, 3624, 1829, 3273, 1695, 2044]</td>\n",
              "    </tr>\n",
              "    <tr>\n",
              "      <th>44836</th>\n",
              "      <td>I need to go into town.</td>\n",
              "      <td>J'ai besoin d'aller en ville.</td>\n",
              "      <td>(J', ai, besoin, d', aller, en, ville, .)</td>\n",
              "      <td>(I, need, to, go, into, town, .)</td>\n",
              "      <td>[1061, 180, 2655, 2657, 1987, 3147, 2260, 3261]</td>\n",
              "      <td>[1385, 2705, 3273, 1094, 3013, 2918, 2044]</td>\n",
              "    </tr>\n",
              "    <tr>\n",
              "      <th>150888</th>\n",
              "      <td>I know you probably want to be alone, so I'll ...</td>\n",
              "      <td>Je sais que vous voulez probablement vous retr...</td>\n",
              "      <td>(Je, sais, que, vous, voulez, probablement, vo...</td>\n",
              "      <td>(I, know, you, probably, want, to, be, alone, ...</td>\n",
              "      <td>[3295, 1316, 1233, 795, 4316, 4845, 795, 1924,...</td>\n",
              "      <td>[1385, 2876, 1200, 432, 1377, 3273, 591, 2182,...</td>\n",
              "    </tr>\n",
              "    <tr>\n",
              "      <th>140935</th>\n",
              "      <td>Remove the chicken's giblets before cooking.</td>\n",
              "      <td>Ôtez les abats du poulet avant de le cuire.</td>\n",
              "      <td>(Ôtez, les, abats, du, poulet, avant, de, le, ...</td>\n",
              "      <td>(Remove, the, chicken, 's, giblets, before, co...</td>\n",
              "      <td>[4456, 3774, 3125, 3911, 1127, 4056, 2362, 434...</td>\n",
              "      <td>[1740, 735, 2338, 500, 1623, 665, 1185, 2044]</td>\n",
              "    </tr>\n",
              "    <tr>\n",
              "      <th>156949</th>\n",
              "      <td>No matter how you look at it, the odds are sta...</td>\n",
              "      <td>Qu'importe la manière dont tu considères la ch...</td>\n",
              "      <td>(Qu', importe, la, manière, dont, tu, considèr...</td>\n",
              "      <td>(No, matter, how, you, look, at, it, ,, the, o...</td>\n",
              "      <td>[562, 2622, 2313, 3638, 994, 2009, 4935, 2313,...</td>\n",
              "      <td>[3498, 3199, 3097, 1200, 3160, 980, 2162, 2368...</td>\n",
              "    </tr>\n",
              "  </tbody>\n",
              "</table>\n",
              "</div>"
            ],
            "text/plain": [
              "                                                        0  \\\n",
              "84585                       There was nothing left to do.   \n",
              "44836                             I need to go into town.   \n",
              "150888  I know you probably want to be alone, so I'll ...   \n",
              "140935       Remove the chicken's giblets before cooking.   \n",
              "156949  No matter how you look at it, the odds are sta...   \n",
              "\n",
              "                                                        1  \\\n",
              "84585                     Il n'y avait plus rien à faire.   \n",
              "44836                       J'ai besoin d'aller en ville.   \n",
              "150888  Je sais que vous voulez probablement vous retr...   \n",
              "140935        Ôtez les abats du poulet avant de le cuire.   \n",
              "156949  Qu'importe la manière dont tu considères la ch...   \n",
              "\n",
              "                                                fr_tokens  \\\n",
              "84585         (Il, n', y, avait, plus, rien, à, faire, .)   \n",
              "44836           (J', ai, besoin, d', aller, en, ville, .)   \n",
              "150888  (Je, sais, que, vous, voulez, probablement, vo...   \n",
              "140935  (Ôtez, les, abats, du, poulet, avant, de, le, ...   \n",
              "156949  (Qu', importe, la, manière, dont, tu, considèr...   \n",
              "\n",
              "                                                en_tokens  \\\n",
              "84585              (There, was, nothing, left, to, do, .)   \n",
              "44836                    (I, need, to, go, into, town, .)   \n",
              "150888  (I, know, you, probably, want, to, be, alone, ...   \n",
              "140935  (Remove, the, chicken, 's, giblets, before, co...   \n",
              "156949  (No, matter, how, you, look, at, it, ,, the, o...   \n",
              "\n",
              "                                               fr_indices  \\\n",
              "84585   [71, 3624, 1516, 1964, 611, 1524, 2791, 1881, ...   \n",
              "44836     [1061, 180, 2655, 2657, 1987, 3147, 2260, 3261]   \n",
              "150888  [3295, 1316, 1233, 795, 4316, 4845, 795, 1924,...   \n",
              "140935  [4456, 3774, 3125, 3911, 1127, 4056, 2362, 434...   \n",
              "156949  [562, 2622, 2313, 3638, 994, 2009, 4935, 2313,...   \n",
              "\n",
              "                                               en_indices  \n",
              "84585          [2196, 2976, 3624, 1829, 3273, 1695, 2044]  \n",
              "44836          [1385, 2705, 3273, 1094, 3013, 2918, 2044]  \n",
              "150888  [1385, 2876, 1200, 432, 1377, 3273, 591, 2182,...  \n",
              "140935      [1740, 735, 2338, 500, 1623, 665, 1185, 2044]  \n",
              "156949  [3498, 3199, 3097, 1200, 3160, 980, 2162, 2368...  "
            ]
          },
          "execution_count": 44,
          "metadata": {},
          "output_type": "execute_result"
        }
      ],
      "source": [
        "doc.tail()"
      ]
    },
    {
      "cell_type": "code",
      "execution_count": 45,
      "metadata": {
        "colab": {},
        "colab_type": "code",
        "id": "RgFwiD7TQXHg"
      },
      "outputs": [],
      "source": [
        "# Création d'une fonction qui va compter la longueur maximum d'une phrase\n",
        "def max_len(lines):\n",
        "  return max(len(line) for line in lines)"
      ]
    },
    {
      "cell_type": "code",
      "execution_count": 46,
      "metadata": {
        "colab": {},
        "colab_type": "code",
        "id": "AJ5jd3hgQeX6"
      },
      "outputs": [],
      "source": [
        "# Application de la fonction sur les tokens français et anglais \n",
        "fr_max_len = max_len(doc['fr_indices'].to_list())\n",
        "en_max_len = max_len(doc['en_indices'].to_list())"
      ]
    },
    {
      "cell_type": "code",
      "execution_count": 47,
      "metadata": {
        "colab": {},
        "colab_type": "code",
        "id": "xSmdDEVS5-X1"
      },
      "outputs": [
        {
          "name": "stdout",
          "output_type": "stream",
          "text": [
            "\u001b[1;31mSignature:\u001b[0m\n",
            "\u001b[0mtf\u001b[0m\u001b[1;33m.\u001b[0m\u001b[0mkeras\u001b[0m\u001b[1;33m.\u001b[0m\u001b[0mpreprocessing\u001b[0m\u001b[1;33m.\u001b[0m\u001b[0msequence\u001b[0m\u001b[1;33m.\u001b[0m\u001b[0mpad_sequences\u001b[0m\u001b[1;33m(\u001b[0m\u001b[1;33m\n",
            "\u001b[0m    \u001b[0msequences\u001b[0m\u001b[1;33m,\u001b[0m\u001b[1;33m\n",
            "\u001b[0m    \u001b[0mmaxlen\u001b[0m\u001b[1;33m=\u001b[0m\u001b[1;32mNone\u001b[0m\u001b[1;33m,\u001b[0m\u001b[1;33m\n",
            "\u001b[0m    \u001b[0mdtype\u001b[0m\u001b[1;33m=\u001b[0m\u001b[1;34m'int32'\u001b[0m\u001b[1;33m,\u001b[0m\u001b[1;33m\n",
            "\u001b[0m    \u001b[0mpadding\u001b[0m\u001b[1;33m=\u001b[0m\u001b[1;34m'pre'\u001b[0m\u001b[1;33m,\u001b[0m\u001b[1;33m\n",
            "\u001b[0m    \u001b[0mtruncating\u001b[0m\u001b[1;33m=\u001b[0m\u001b[1;34m'pre'\u001b[0m\u001b[1;33m,\u001b[0m\u001b[1;33m\n",
            "\u001b[0m    \u001b[0mvalue\u001b[0m\u001b[1;33m=\u001b[0m\u001b[1;36m0.0\u001b[0m\u001b[1;33m,\u001b[0m\u001b[1;33m\n",
            "\u001b[0m\u001b[1;33m)\u001b[0m\u001b[1;33m\u001b[0m\u001b[1;33m\u001b[0m\u001b[0m\n",
            "\u001b[1;31mDocstring:\u001b[0m\n",
            "Pads sequences to the same length.\n",
            "\n",
            "This function transforms a list (of length `num_samples`)\n",
            "of sequences (lists of integers)\n",
            "into a 2D Numpy array of shape `(num_samples, num_timesteps)`.\n",
            "`num_timesteps` is either the `maxlen` argument if provided,\n",
            "or the length of the longest sequence in the list.\n",
            "\n",
            "Sequences that are shorter than `num_timesteps`\n",
            "are padded with `value` until they are `num_timesteps` long.\n",
            "\n",
            "Sequences longer than `num_timesteps` are truncated\n",
            "so that they fit the desired length.\n",
            "\n",
            "The position where padding or truncation happens is determined by\n",
            "the arguments `padding` and `truncating`, respectively.\n",
            "Pre-padding or removing values from the beginning of the sequence is the\n",
            "default.\n",
            "\n",
            ">>> sequence = [[1], [2, 3], [4, 5, 6]]\n",
            ">>> tf.keras.utils.pad_sequences(sequence)\n",
            "array([[0, 0, 1],\n",
            "       [0, 2, 3],\n",
            "       [4, 5, 6]], dtype=int32)\n",
            "\n",
            ">>> tf.keras.utils.pad_sequences(sequence, value=-1)\n",
            "array([[-1, -1,  1],\n",
            "       [-1,  2,  3],\n",
            "       [ 4,  5,  6]], dtype=int32)\n",
            "\n",
            ">>> tf.keras.utils.pad_sequences(sequence, padding='post')\n",
            "array([[1, 0, 0],\n",
            "       [2, 3, 0],\n",
            "       [4, 5, 6]], dtype=int32)\n",
            "\n",
            ">>> tf.keras.utils.pad_sequences(sequence, maxlen=2)\n",
            "array([[0, 1],\n",
            "       [2, 3],\n",
            "       [5, 6]], dtype=int32)\n",
            "\n",
            "Args:\n",
            "    sequences: List of sequences (each sequence is a list of integers).\n",
            "    maxlen: Optional Int, maximum length of all sequences. If not provided,\n",
            "        sequences will be padded to the length of the longest individual\n",
            "        sequence.\n",
            "    dtype: (Optional, defaults to `\"int32\"`). Type of the output sequences.\n",
            "        To pad sequences with variable length strings, you can use `object`.\n",
            "    padding: String, \"pre\" or \"post\" (optional, defaults to `\"pre\"`):\n",
            "        pad either before or after each sequence.\n",
            "    truncating: String, \"pre\" or \"post\" (optional, defaults to `\"pre\"`):\n",
            "        remove values from sequences larger than\n",
            "        `maxlen`, either at the beginning or at the end of the sequences.\n",
            "    value: Float or String, padding value. (Optional, defaults to 0.)\n",
            "\n",
            "Returns:\n",
            "    Numpy array with shape `(len(sequences), maxlen)`\n",
            "\n",
            "Raises:\n",
            "    ValueError: In case of invalid values for `truncating` or `padding`,\n",
            "        or in case of invalid shape for a `sequences` entry.\n",
            "\u001b[1;31mFile:\u001b[0m      c:\\users\\boss\\anaconda3\\lib\\site-packages\\keras\\src\\utils\\data_utils.py\n",
            "\u001b[1;31mType:\u001b[0m      function"
          ]
        }
      ],
      "source": [
        "tf.keras.preprocessing.sequence.pad_sequences?"
      ]
    },
    {
      "cell_type": "code",
      "execution_count": 49,
      "metadata": {
        "colab": {
          "base_uri": "https://localhost:8080/",
          "height": 54
        },
        "colab_type": "code",
        "id": "UpNwsqpjO0TM",
        "outputId": "bda5be55-54d6-4873-f214-90ee3b2a8575"
      },
      "outputs": [],
      "source": [
        "# Utilisation de Keras pour créer des séquences de tokens de la même longueur\n",
        "#%%time\n",
        "padded_fr_indices = tf.keras.preprocessing.sequence.pad_sequences(doc[\"fr_indices\"], maxlen=fr_max_len, padding=\"post\")\n",
        "padded_en_indices = tf.keras.preprocessing.sequence.pad_sequences(doc[\"en_indices\"], maxlen=en_max_len, padding=\"post\")"
      ]
    },
    {
      "cell_type": "code",
      "execution_count": 50,
      "metadata": {
        "colab": {
          "base_uri": "https://localhost:8080/",
          "height": 36
        },
        "colab_type": "code",
        "id": "38el3B3z3btO",
        "outputId": "2a383e45-dc42-4331-e93b-a3a3a6e72807"
      },
      "outputs": [
        {
          "data": {
            "text/plain": [
              "(5000, 44)"
            ]
          },
          "execution_count": 50,
          "metadata": {},
          "output_type": "execute_result"
        }
      ],
      "source": [
        "# Visualisation de la shape d'un des tenseurs\n",
        "padded_fr_indices.shape"
      ]
    },
    {
      "cell_type": "code",
      "execution_count": 51,
      "metadata": {
        "colab": {
          "base_uri": "https://localhost:8080/",
          "height": 36
        },
        "colab_type": "code",
        "id": "PLNl-EZe2kub",
        "outputId": "868c16ad-b953-4609-d47a-953803327196"
      },
      "outputs": [
        {
          "data": {
            "text/plain": [
              "(5000, 38, 3700)"
            ]
          },
          "execution_count": 51,
          "metadata": {},
          "output_type": "execute_result"
        }
      ],
      "source": [
        "# Application de la catégorisation de la variable cible \n",
        "binarized_en_indices = tf.keras.utils.to_categorical(padded_en_indices, num_classes=en_vocab_size+1)\n",
        "binarized_en_indices.shape"
      ]
    },
    {
      "cell_type": "code",
      "execution_count": 52,
      "metadata": {
        "colab": {},
        "colab_type": "code",
        "id": "RxMUDznjBmLi"
      },
      "outputs": [
        {
          "name": "stdout",
          "output_type": "stream",
          "text": [
            "\u001b[1;31mSignature:\u001b[0m \u001b[0mtf\u001b[0m\u001b[1;33m.\u001b[0m\u001b[0mdata\u001b[0m\u001b[1;33m.\u001b[0m\u001b[0mDataset\u001b[0m\u001b[1;33m.\u001b[0m\u001b[0mfrom_tensor_slices\u001b[0m\u001b[1;33m(\u001b[0m\u001b[0mtensors\u001b[0m\u001b[1;33m,\u001b[0m \u001b[0mname\u001b[0m\u001b[1;33m=\u001b[0m\u001b[1;32mNone\u001b[0m\u001b[1;33m)\u001b[0m\u001b[1;33m\u001b[0m\u001b[1;33m\u001b[0m\u001b[0m\n",
            "\u001b[1;31mDocstring:\u001b[0m\n",
            "Creates a `Dataset` whose elements are slices of the given tensors.\n",
            "\n",
            "The given tensors are sliced along their first dimension. This operation\n",
            "preserves the structure of the input tensors, removing the first dimension\n",
            "of each tensor and using it as the dataset dimension. All input tensors\n",
            "must have the same size in their first dimensions.\n",
            "\n",
            ">>> # Slicing a 1D tensor produces scalar tensor elements.\n",
            ">>> dataset = tf.data.Dataset.from_tensor_slices([1, 2, 3])\n",
            ">>> list(dataset.as_numpy_iterator())\n",
            "[1, 2, 3]\n",
            "\n",
            ">>> # Slicing a 2D tensor produces 1D tensor elements.\n",
            ">>> dataset = tf.data.Dataset.from_tensor_slices([[1, 2], [3, 4]])\n",
            ">>> list(dataset.as_numpy_iterator())\n",
            "[array([1, 2], dtype=int32), array([3, 4], dtype=int32)]\n",
            "\n",
            ">>> # Slicing a tuple of 1D tensors produces tuple elements containing\n",
            ">>> # scalar tensors.\n",
            ">>> dataset = tf.data.Dataset.from_tensor_slices(([1, 2], [3, 4], [5, 6]))\n",
            ">>> list(dataset.as_numpy_iterator())\n",
            "[(1, 3, 5), (2, 4, 6)]\n",
            "\n",
            ">>> # Dictionary structure is also preserved.\n",
            ">>> dataset = tf.data.Dataset.from_tensor_slices({\"a\": [1, 2], \"b\": [3, 4]})\n",
            ">>> list(dataset.as_numpy_iterator()) == [{'a': 1, 'b': 3},\n",
            "...                                       {'a': 2, 'b': 4}]\n",
            "True\n",
            "\n",
            ">>> # Two tensors can be combined into one Dataset object.\n",
            ">>> features = tf.constant([[1, 3], [2, 1], [3, 3]]) # ==> 3x2 tensor\n",
            ">>> labels = tf.constant(['A', 'B', 'A']) # ==> 3x1 tensor\n",
            ">>> dataset = Dataset.from_tensor_slices((features, labels))\n",
            ">>> # Both the features and the labels tensors can be converted\n",
            ">>> # to a Dataset object separately and combined after.\n",
            ">>> features_dataset = Dataset.from_tensor_slices(features)\n",
            ">>> labels_dataset = Dataset.from_tensor_slices(labels)\n",
            ">>> dataset = Dataset.zip((features_dataset, labels_dataset))\n",
            ">>> # A batched feature and label set can be converted to a Dataset\n",
            ">>> # in similar fashion.\n",
            ">>> batched_features = tf.constant([[[1, 3], [2, 3]],\n",
            "...                                 [[2, 1], [1, 2]],\n",
            "...                                 [[3, 3], [3, 2]]], shape=(3, 2, 2))\n",
            ">>> batched_labels = tf.constant([['A', 'A'],\n",
            "...                               ['B', 'B'],\n",
            "...                               ['A', 'B']], shape=(3, 2, 1))\n",
            ">>> dataset = Dataset.from_tensor_slices((batched_features, batched_labels))\n",
            ">>> for element in dataset.as_numpy_iterator():\n",
            "...   print(element)\n",
            "(array([[1, 3],\n",
            "       [2, 3]], dtype=int32), array([[b'A'],\n",
            "       [b'A']], dtype=object))\n",
            "(array([[2, 1],\n",
            "       [1, 2]], dtype=int32), array([[b'B'],\n",
            "       [b'B']], dtype=object))\n",
            "(array([[3, 3],\n",
            "       [3, 2]], dtype=int32), array([[b'A'],\n",
            "       [b'B']], dtype=object))\n",
            "\n",
            "Note that if `tensors` contains a NumPy array, and eager execution is not\n",
            "enabled, the values will be embedded in the graph as one or more\n",
            "`tf.constant` operations. For large datasets (> 1 GB), this can waste\n",
            "memory and run into byte limits of graph serialization. If `tensors`\n",
            "contains one or more large NumPy arrays, consider the alternative described\n",
            "in [this guide](\n",
            "https://tensorflow.org/guide/data#consuming_numpy_arrays).\n",
            "\n",
            "Args:\n",
            "  tensors: A dataset element, whose components have the same first\n",
            "    dimension. Supported values are documented\n",
            "    [here](https://www.tensorflow.org/guide/data#dataset_structure).\n",
            "  name: (Optional.) A name for the tf.data operation.\n",
            "\n",
            "Returns:\n",
            "  Dataset: A `Dataset`.\n",
            "\u001b[1;31mFile:\u001b[0m      c:\\users\\boss\\anaconda3\\lib\\site-packages\\tensorflow\\python\\data\\ops\\dataset_ops.py\n",
            "\u001b[1;31mType:\u001b[0m      function"
          ]
        }
      ],
      "source": [
        "tf.data.Dataset.from_tensor_slices?"
      ]
    },
    {
      "cell_type": "code",
      "execution_count": 53,
      "metadata": {
        "colab": {},
        "colab_type": "code",
        "id": "VeO943vf1a1d"
      },
      "outputs": [],
      "source": [
        "# Création de tf.data.Dataset pour chacun des tenseurs français et anglais\n",
        "fr_ds = tf.data.Dataset.from_tensor_slices(padded_fr_indices)\n",
        "en_ds = tf.data.Dataset.from_tensor_slices(binarized_en_indices)"
      ]
    },
    {
      "cell_type": "code",
      "execution_count": 54,
      "metadata": {
        "colab": {},
        "colab_type": "code",
        "id": "2ZOn0SAFB5eO"
      },
      "outputs": [],
      "source": [
        "# Create a tensorflow dataset complet\n",
        "tf_ds = tf.data.Dataset.zip((fr_ds, en_ds))"
      ]
    },
    {
      "cell_type": "code",
      "execution_count": 55,
      "metadata": {
        "colab": {
          "base_uri": "https://localhost:8080/",
          "height": 277
        },
        "colab_type": "code",
        "id": "-qaBwqyjDFbu",
        "outputId": "4b12926e-cd1f-44f2-dcba-f20d37ddb60f"
      },
      "outputs": [
        {
          "data": {
            "text/plain": [
              "(<tf.Tensor: shape=(44,), dtype=int32, numpy=\n",
              " array([ 709, 2657,  579, 2791, 2991, 1539,  843, 2402, 3372, 3261,    0,\n",
              "           0,    0,    0,    0,    0,    0,    0,    0,    0,    0,    0,\n",
              "           0,    0,    0,    0,    0,    0,    0,    0,    0,    0,    0,\n",
              "           0,    0,    0,    0,    0,    0,    0,    0,    0,    0,    0])>,\n",
              " <tf.Tensor: shape=(38, 3700), dtype=float32, numpy=\n",
              " array([[0., 0., 0., ..., 0., 0., 0.],\n",
              "        [0., 0., 0., ..., 0., 0., 0.],\n",
              "        [0., 0., 0., ..., 0., 0., 0.],\n",
              "        ...,\n",
              "        [1., 0., 0., ..., 0., 0., 0.],\n",
              "        [1., 0., 0., ..., 0., 0., 0.],\n",
              "        [1., 0., 0., ..., 0., 0., 0.]], dtype=float32)>)"
            ]
          },
          "execution_count": 55,
          "metadata": {},
          "output_type": "execute_result"
        }
      ],
      "source": [
        "next(iter(tf_ds))"
      ]
    },
    {
      "cell_type": "code",
      "execution_count": 56,
      "metadata": {
        "colab": {},
        "colab_type": "code",
        "id": "F0aIpW5cZmnh"
      },
      "outputs": [],
      "source": [
        "# Shuffle & Batch\n",
        "BATCH_SIZE = 32\n",
        "\n",
        "tf_ds = tf_ds.shuffle(len(doc)).batch(BATCH_SIZE)"
      ]
    },
    {
      "cell_type": "code",
      "execution_count": 57,
      "metadata": {
        "colab": {
          "base_uri": "https://localhost:8080/",
          "height": 36
        },
        "colab_type": "code",
        "id": "5KqvZ-KV7YJj",
        "outputId": "eb65e36d-e8b3-4719-da7a-1fe9350dd6af"
      },
      "outputs": [
        {
          "data": {
            "text/plain": [
              "109.375"
            ]
          },
          "execution_count": 57,
          "metadata": {},
          "output_type": "execute_result"
        }
      ],
      "source": [
        "len(doc)/32*0.7"
      ]
    },
    {
      "cell_type": "code",
      "execution_count": 58,
      "metadata": {
        "colab": {},
        "colab_type": "code",
        "id": "gCrDIAkMZPUM"
      },
      "outputs": [],
      "source": [
        "# Train Test Split\n",
        "TAKE_SIZE = int(0.7*len(doc)/BATCH_SIZE)\n",
        "\n",
        "train_data = tf_ds.take(TAKE_SIZE)\n",
        "test_data = tf_ds.skip(TAKE_SIZE)"
      ]
    },
    {
      "cell_type": "code",
      "execution_count": 59,
      "metadata": {
        "colab": {},
        "colab_type": "code",
        "id": "xvU9pS_g4laE"
      },
      "outputs": [
        {
          "name": "stdout",
          "output_type": "stream",
          "text": [
            "\u001b[1;31mInit signature:\u001b[0m\n",
            "\u001b[0mtf\u001b[0m\u001b[1;33m.\u001b[0m\u001b[0mkeras\u001b[0m\u001b[1;33m.\u001b[0m\u001b[0mlayers\u001b[0m\u001b[1;33m.\u001b[0m\u001b[0mEmbedding\u001b[0m\u001b[1;33m(\u001b[0m\u001b[1;33m\n",
            "\u001b[0m    \u001b[0minput_dim\u001b[0m\u001b[1;33m,\u001b[0m\u001b[1;33m\n",
            "\u001b[0m    \u001b[0moutput_dim\u001b[0m\u001b[1;33m,\u001b[0m\u001b[1;33m\n",
            "\u001b[0m    \u001b[0membeddings_initializer\u001b[0m\u001b[1;33m=\u001b[0m\u001b[1;34m'uniform'\u001b[0m\u001b[1;33m,\u001b[0m\u001b[1;33m\n",
            "\u001b[0m    \u001b[0membeddings_regularizer\u001b[0m\u001b[1;33m=\u001b[0m\u001b[1;32mNone\u001b[0m\u001b[1;33m,\u001b[0m\u001b[1;33m\n",
            "\u001b[0m    \u001b[0mactivity_regularizer\u001b[0m\u001b[1;33m=\u001b[0m\u001b[1;32mNone\u001b[0m\u001b[1;33m,\u001b[0m\u001b[1;33m\n",
            "\u001b[0m    \u001b[0membeddings_constraint\u001b[0m\u001b[1;33m=\u001b[0m\u001b[1;32mNone\u001b[0m\u001b[1;33m,\u001b[0m\u001b[1;33m\n",
            "\u001b[0m    \u001b[0mmask_zero\u001b[0m\u001b[1;33m=\u001b[0m\u001b[1;32mFalse\u001b[0m\u001b[1;33m,\u001b[0m\u001b[1;33m\n",
            "\u001b[0m    \u001b[0minput_length\u001b[0m\u001b[1;33m=\u001b[0m\u001b[1;32mNone\u001b[0m\u001b[1;33m,\u001b[0m\u001b[1;33m\n",
            "\u001b[0m    \u001b[0msparse\u001b[0m\u001b[1;33m=\u001b[0m\u001b[1;32mFalse\u001b[0m\u001b[1;33m,\u001b[0m\u001b[1;33m\n",
            "\u001b[0m    \u001b[1;33m**\u001b[0m\u001b[0mkwargs\u001b[0m\u001b[1;33m,\u001b[0m\u001b[1;33m\n",
            "\u001b[0m\u001b[1;33m)\u001b[0m\u001b[1;33m\u001b[0m\u001b[1;33m\u001b[0m\u001b[0m\n",
            "\u001b[1;31mDocstring:\u001b[0m     \n",
            "Turns positive integers (indexes) into dense vectors of fixed size.\n",
            "\n",
            "e.g. `[[4], [20]] -> [[0.25, 0.1], [0.6, -0.2]]`\n",
            "\n",
            "This layer can only be used on positive integer inputs of a fixed range. The\n",
            "`tf.keras.layers.TextVectorization`, `tf.keras.layers.StringLookup`,\n",
            "and `tf.keras.layers.IntegerLookup` preprocessing layers can help prepare\n",
            "inputs for an `Embedding` layer.\n",
            "\n",
            "This layer accepts `tf.Tensor`, `tf.RaggedTensor` and `tf.SparseTensor`\n",
            "input.\n",
            "\n",
            "Example:\n",
            "\n",
            ">>> model = tf.keras.Sequential()\n",
            ">>> model.add(tf.keras.layers.Embedding(1000, 64, input_length=10))\n",
            ">>> # The model will take as input an integer matrix of size (batch,\n",
            ">>> # input_length), and the largest integer (i.e. word index) in the input\n",
            ">>> # should be no larger than 999 (vocabulary size).\n",
            ">>> # Now model.output_shape is (None, 10, 64), where `None` is the batch\n",
            ">>> # dimension.\n",
            ">>> input_array = np.random.randint(1000, size=(32, 10))\n",
            ">>> model.compile('rmsprop', 'mse')\n",
            ">>> output_array = model.predict(input_array)\n",
            ">>> print(output_array.shape)\n",
            "(32, 10, 64)\n",
            "\n",
            "Args:\n",
            "  input_dim: Integer. Size of the vocabulary,\n",
            "    i.e. maximum integer index + 1.\n",
            "  output_dim: Integer. Dimension of the dense embedding.\n",
            "  embeddings_initializer: Initializer for the `embeddings`\n",
            "    matrix (see `keras.initializers`).\n",
            "  embeddings_regularizer: Regularizer function applied to\n",
            "    the `embeddings` matrix (see `keras.regularizers`).\n",
            "  embeddings_constraint: Constraint function applied to\n",
            "    the `embeddings` matrix (see `keras.constraints`).\n",
            "  mask_zero: Boolean, whether or not the input value 0 is a special\n",
            "    \"padding\" value that should be masked out. This is useful when using\n",
            "    recurrent layers which may take variable length input. If this is\n",
            "    `True`, then all subsequent layers in the model need to support masking\n",
            "    or an exception will be raised. If mask_zero is set to True, as a\n",
            "    consequence, index 0 cannot be used in the vocabulary (input_dim should\n",
            "    equal size of vocabulary + 1).\n",
            "  input_length: Length of input sequences, when it is constant.\n",
            "    This argument is required if you are going to connect\n",
            "    `Flatten` then `Dense` layers upstream\n",
            "    (without it, the shape of the dense outputs cannot be computed).\n",
            "  sparse: If True, calling this layer returns a `tf.SparseTensor`. If False,\n",
            "    the layer returns a dense `tf.Tensor`. For an entry with no features in\n",
            "    a sparse tensor (entry with value 0), the embedding vector of index 0 is\n",
            "    returned by default.\n",
            "\n",
            "Input shape:\n",
            "  2D tensor with shape: `(batch_size, input_length)`.\n",
            "\n",
            "Output shape:\n",
            "  3D tensor with shape: `(batch_size, input_length, output_dim)`.\n",
            "\n",
            "**Note on variable placement:**\n",
            "By default, if a GPU is available, the embedding matrix will be placed on\n",
            "the GPU. This achieves the best performance, but it might cause issues:\n",
            "\n",
            "- You may be using an optimizer that does not support sparse GPU kernels.\n",
            "In this case you will see an error upon training your model.\n",
            "- Your embedding matrix may be too large to fit on your GPU. In this case\n",
            "you will see an Out Of Memory (OOM) error.\n",
            "\n",
            "In such cases, you should place the embedding matrix on the CPU memory.\n",
            "You can do so with a device scope, as such:\n",
            "\n",
            "```python\n",
            "with tf.device('cpu:0'):\n",
            "  embedding_layer = Embedding(...)\n",
            "  embedding_layer.build()\n",
            "```\n",
            "\n",
            "The pre-built `embedding_layer` instance can then be added to a `Sequential`\n",
            "model (e.g. `model.add(embedding_layer)`), called in a Functional model\n",
            "(e.g. `x = embedding_layer(x)`), or used in a subclassed model.\n",
            "\u001b[1;31mFile:\u001b[0m           c:\\users\\boss\\anaconda3\\lib\\site-packages\\keras\\src\\layers\\core\\embedding.py\n",
            "\u001b[1;31mType:\u001b[0m           type\n",
            "\u001b[1;31mSubclasses:\u001b[0m     "
          ]
        }
      ],
      "source": [
        "tf.keras.layers.Embedding?"
      ]
    },
    {
      "cell_type": "code",
      "execution_count": 60,
      "metadata": {
        "colab": {},
        "colab_type": "code",
        "id": "XbbOi7sYVDU2"
      },
      "outputs": [],
      "source": [
        "# Création du modèle \n",
        "model = tf.keras.Sequential([\n",
        "                  # Couche d'Input Word Embedding           \n",
        "                  tf.keras.layers.Embedding(fr_vocab_size+1, 64, mask_zero=True),\n",
        "\n",
        "                  # Couche LSTM Bidirectionnelle\n",
        "                  tf.keras.layers.Bidirectional(tf.keras.layers.LSTM(64, return_sequences=True)),\n",
        "                  \n",
        "                  # Nouvelle couche LSTM Bidirectionnel\n",
        "                  tf.keras.layers.Bidirectional(tf.keras.layers.LSTM(64, return_sequences=False)),\n",
        "\n",
        "                  # Repeat Vector\n",
        "                  tf.keras.layers.RepeatVector(binarized_en_indices.shape[1]),\n",
        "\n",
        "                  # Nouvelle couche LSTM\n",
        "                  tf.keras.layers.LSTM(32, return_sequences=True),               \n",
        "\n",
        "                  # Couche de sortie avec le nombre de neurones en sortie égale au nombre de classe avec fonction softmax\n",
        "                  tf.keras.layers.TimeDistributed(tf.keras.layers.Dense(en_vocab_size+1, activation=\"softmax\"))\n",
        "           \n",
        "])"
      ]
    },
    {
      "cell_type": "code",
      "execution_count": 61,
      "metadata": {
        "colab": {
          "base_uri": "https://localhost:8080/",
          "height": 388
        },
        "colab_type": "code",
        "id": "lVnzzipl6M3m",
        "outputId": "6bc4de1b-ab1f-4a21-e93a-7f73f3e850d1"
      },
      "outputs": [
        {
          "name": "stdout",
          "output_type": "stream",
          "text": [
            "Model: \"sequential\"\n",
            "_________________________________________________________________\n",
            " Layer (type)                Output Shape              Param #   \n",
            "=================================================================\n",
            " embedding (Embedding)       (None, None, 64)          324864    \n",
            "                                                                 \n",
            " bidirectional (Bidirection  (None, None, 128)         66048     \n",
            " al)                                                             \n",
            "                                                                 \n",
            " bidirectional_1 (Bidirecti  (None, 128)               98816     \n",
            " onal)                                                           \n",
            "                                                                 \n",
            " repeat_vector (RepeatVecto  (None, 38, 128)           0         \n",
            " r)                                                              \n",
            "                                                                 \n",
            " lstm_2 (LSTM)               (None, 38, 32)            20608     \n",
            "                                                                 \n",
            " time_distributed (TimeDist  (None, 38, 3700)          122100    \n",
            " ributed)                                                        \n",
            "                                                                 \n",
            "=================================================================\n",
            "Total params: 632436 (2.41 MB)\n",
            "Trainable params: 632436 (2.41 MB)\n",
            "Non-trainable params: 0 (0.00 Byte)\n",
            "_________________________________________________________________\n"
          ]
        }
      ],
      "source": [
        "model.summary()"
      ]
    },
    {
      "cell_type": "code",
      "execution_count": 62,
      "metadata": {
        "colab": {
          "base_uri": "https://localhost:8080/",
          "height": 73
        },
        "colab_type": "code",
        "id": "aqDyYs2LTbSh",
        "outputId": "5dac1219-b997-4b42-c4a0-3cec851a5cc4"
      },
      "outputs": [
        {
          "name": "stdout",
          "output_type": "stream",
          "text": [
            "(32, 44)\n",
            "1/1 [==============================] - 9s 9s/step\n",
            "(32, 38, 3700)\n",
            "(32, 38, 3700)\n"
          ]
        }
      ],
      "source": [
        "# Prédiction \"aléatoire\" pour tester notre modèle \n",
        "input_text, output_text = next(iter(train_data))\n",
        "print(input_text.numpy().shape)\n",
        "print(model.predict(input_text).shape)\n",
        "print(output_text.numpy().shape)"
      ]
    },
    {
      "cell_type": "code",
      "execution_count": 63,
      "metadata": {
        "colab": {},
        "colab_type": "code",
        "id": "rj90fL9PZI4c"
      },
      "outputs": [],
      "source": [
        "# Créons un learning rate schedule pour décroitre le learning rate à mesure que nous entrainons le modèle \n",
        "initial_learning_rate = 0.001\n",
        "\n",
        "lr_schedule = tf.keras.optimizers.schedules.ExponentialDecay(\n",
        "    initial_learning_rate,\n",
        "    decay_steps=1090,\n",
        "    decay_rate=0.96,\n",
        "    staircase=True)\n",
        "\n",
        "# Utilisation d'un compileur simple avec un optimiseur Adam pour le calcul de nos gradients \n",
        "optimizer= tf.keras.optimizers.Adam(\n",
        "    learning_rate = lr_schedule\n",
        ")\n",
        "\n",
        "model.compile(optimizer=optimizer,\n",
        "              loss=tf.keras.losses.CategoricalCrossentropy(),\n",
        "              metrics=[tf.keras.metrics.CategoricalAccuracy()])"
      ]
    },
    {
      "cell_type": "code",
      "execution_count": 64,
      "metadata": {
        "colab": {
          "base_uri": "https://localhost:8080/",
          "height": 1000
        },
        "colab_type": "code",
        "id": "4k5g3sOcY9Iz",
        "outputId": "8b002a2f-e59d-4dbc-851d-91edbccd3077"
      },
      "outputs": [
        {
          "name": "stdout",
          "output_type": "stream",
          "text": [
            "Epoch 1/200\n"
          ]
        },
        {
          "name": "stdout",
          "output_type": "stream",
          "text": [
            "109/109 [==============================] - 91s 557ms/step - loss: 4.9370 - categorical_accuracy: 0.7898 - val_loss: 2.2094 - val_categorical_accuracy: 0.7981\n",
            "Epoch 2/200\n",
            "109/109 [==============================] - 46s 410ms/step - loss: 1.7831 - categorical_accuracy: 0.7991 - val_loss: 1.6303 - val_categorical_accuracy: 0.7989\n",
            "Epoch 3/200\n",
            "109/109 [==============================] - 47s 419ms/step - loss: 1.5349 - categorical_accuracy: 0.7976 - val_loss: 1.4476 - val_categorical_accuracy: 0.7989\n",
            "Epoch 4/200\n",
            "109/109 [==============================] - 46s 403ms/step - loss: 1.4156 - categorical_accuracy: 0.7969 - val_loss: 1.3594 - val_categorical_accuracy: 0.7984\n",
            "Epoch 5/200\n",
            "109/109 [==============================] - 48s 426ms/step - loss: 1.3321 - categorical_accuracy: 0.7987 - val_loss: 1.3039 - val_categorical_accuracy: 0.7987\n",
            "Epoch 6/200\n",
            "109/109 [==============================] - 48s 430ms/step - loss: 1.2951 - categorical_accuracy: 0.7980 - val_loss: 1.2616 - val_categorical_accuracy: 0.7997\n",
            "Epoch 7/200\n",
            "109/109 [==============================] - 48s 429ms/step - loss: 1.2621 - categorical_accuracy: 0.8003 - val_loss: 1.2415 - val_categorical_accuracy: 0.8062\n",
            "Epoch 8/200\n",
            "109/109 [==============================] - 50s 443ms/step - loss: 1.2475 - categorical_accuracy: 0.8043 - val_loss: 1.2243 - val_categorical_accuracy: 0.8042\n",
            "Epoch 9/200\n",
            "109/109 [==============================] - 56s 507ms/step - loss: 1.2083 - categorical_accuracy: 0.8071 - val_loss: 1.2050 - val_categorical_accuracy: 0.8046\n",
            "Epoch 10/200\n",
            "109/109 [==============================] - 66s 585ms/step - loss: 1.1928 - categorical_accuracy: 0.8059 - val_loss: 1.1998 - val_categorical_accuracy: 0.8029\n",
            "Epoch 11/200\n",
            "109/109 [==============================] - 64s 573ms/step - loss: 1.1823 - categorical_accuracy: 0.8056 - val_loss: 1.1585 - val_categorical_accuracy: 0.8077\n",
            "Epoch 12/200\n",
            "109/109 [==============================] - 74s 647ms/step - loss: 1.1604 - categorical_accuracy: 0.8080 - val_loss: 1.1698 - val_categorical_accuracy: 0.8047\n",
            "Epoch 13/200\n",
            "109/109 [==============================] - 78s 696ms/step - loss: 1.1424 - categorical_accuracy: 0.8127 - val_loss: 1.1550 - val_categorical_accuracy: 0.8131\n",
            "Epoch 14/200\n",
            "109/109 [==============================] - 63s 553ms/step - loss: 1.1393 - categorical_accuracy: 0.8171 - val_loss: 1.1178 - val_categorical_accuracy: 0.8251\n",
            "Epoch 15/200\n",
            "109/109 [==============================] - 74s 662ms/step - loss: 1.1164 - categorical_accuracy: 0.8225 - val_loss: 1.1143 - val_categorical_accuracy: 0.8239\n",
            "Epoch 16/200\n",
            "109/109 [==============================] - 66s 587ms/step - loss: 1.1180 - categorical_accuracy: 0.8224 - val_loss: 1.1142 - val_categorical_accuracy: 0.8212\n",
            "Epoch 17/200\n",
            "109/109 [==============================] - 64s 569ms/step - loss: 1.1057 - categorical_accuracy: 0.8248 - val_loss: 1.1049 - val_categorical_accuracy: 0.8263\n",
            "Epoch 18/200\n",
            "109/109 [==============================] - 66s 585ms/step - loss: 1.1065 - categorical_accuracy: 0.8233 - val_loss: 1.0814 - val_categorical_accuracy: 0.8269\n",
            "Epoch 19/200\n",
            "109/109 [==============================] - 67s 582ms/step - loss: 1.0920 - categorical_accuracy: 0.8255 - val_loss: 1.0742 - val_categorical_accuracy: 0.8290\n",
            "Epoch 20/200\n",
            "109/109 [==============================] - 62s 558ms/step - loss: 1.0856 - categorical_accuracy: 0.8258 - val_loss: 1.0607 - val_categorical_accuracy: 0.8293\n",
            "Epoch 21/200\n",
            "109/109 [==============================] - 62s 554ms/step - loss: 1.0753 - categorical_accuracy: 0.8275 - val_loss: 1.0543 - val_categorical_accuracy: 0.8299\n",
            "Epoch 22/200\n",
            "109/109 [==============================] - 62s 555ms/step - loss: 1.0670 - categorical_accuracy: 0.8281 - val_loss: 1.0610 - val_categorical_accuracy: 0.8300\n",
            "Epoch 23/200\n",
            "109/109 [==============================] - 73s 649ms/step - loss: 1.0684 - categorical_accuracy: 0.8278 - val_loss: 1.0605 - val_categorical_accuracy: 0.8269\n",
            "Epoch 24/200\n",
            "109/109 [==============================] - 70s 601ms/step - loss: 1.0493 - categorical_accuracy: 0.8308 - val_loss: 1.0591 - val_categorical_accuracy: 0.8286\n",
            "Epoch 25/200\n",
            "109/109 [==============================] - 62s 549ms/step - loss: 1.0499 - categorical_accuracy: 0.8301 - val_loss: 1.0571 - val_categorical_accuracy: 0.8293\n",
            "Epoch 26/200\n",
            "109/109 [==============================] - 63s 565ms/step - loss: 1.0546 - categorical_accuracy: 0.8287 - val_loss: 1.0465 - val_categorical_accuracy: 0.8291\n",
            "Epoch 27/200\n",
            "109/109 [==============================] - 61s 545ms/step - loss: 1.0489 - categorical_accuracy: 0.8299 - val_loss: 1.0596 - val_categorical_accuracy: 0.8284\n",
            "Epoch 28/200\n",
            "109/109 [==============================] - 64s 565ms/step - loss: 1.0483 - categorical_accuracy: 0.8296 - val_loss: 1.0582 - val_categorical_accuracy: 0.8263\n",
            "Epoch 29/200\n",
            "109/109 [==============================] - 93s 837ms/step - loss: 1.0346 - categorical_accuracy: 0.8307 - val_loss: 1.0280 - val_categorical_accuracy: 0.8326\n",
            "Epoch 30/200\n",
            "109/109 [==============================] - 76s 641ms/step - loss: 1.0301 - categorical_accuracy: 0.8318 - val_loss: 1.0265 - val_categorical_accuracy: 0.8326\n",
            "Epoch 31/200\n",
            "109/109 [==============================] - 72s 642ms/step - loss: 1.0372 - categorical_accuracy: 0.8307 - val_loss: 1.0177 - val_categorical_accuracy: 0.8326\n",
            "Epoch 32/200\n",
            "109/109 [==============================] - 71s 634ms/step - loss: 1.0214 - categorical_accuracy: 0.8335 - val_loss: 1.0243 - val_categorical_accuracy: 0.8330\n",
            "Epoch 33/200\n",
            "109/109 [==============================] - 78s 691ms/step - loss: 1.0258 - categorical_accuracy: 0.8345 - val_loss: 1.0061 - val_categorical_accuracy: 0.8380\n",
            "Epoch 34/200\n",
            "109/109 [==============================] - 75s 665ms/step - loss: 1.0109 - categorical_accuracy: 0.8371 - val_loss: 0.9971 - val_categorical_accuracy: 0.8390\n",
            "Epoch 35/200\n",
            "109/109 [==============================] - 73s 652ms/step - loss: 1.0102 - categorical_accuracy: 0.8376 - val_loss: 1.0033 - val_categorical_accuracy: 0.8387\n",
            "Epoch 36/200\n",
            "109/109 [==============================] - 81s 729ms/step - loss: 1.0110 - categorical_accuracy: 0.8371 - val_loss: 1.0006 - val_categorical_accuracy: 0.8379\n",
            "Epoch 37/200\n",
            "109/109 [==============================] - 124s 1s/step - loss: 1.0034 - categorical_accuracy: 0.8380 - val_loss: 1.0017 - val_categorical_accuracy: 0.8381\n",
            "Epoch 38/200\n",
            "109/109 [==============================] - 110s 955ms/step - loss: 0.9965 - categorical_accuracy: 0.8389 - val_loss: 0.9999 - val_categorical_accuracy: 0.8370\n",
            "Epoch 39/200\n",
            "109/109 [==============================] - 118s 1s/step - loss: 0.9971 - categorical_accuracy: 0.8384 - val_loss: 0.9876 - val_categorical_accuracy: 0.8400\n",
            "Epoch 40/200\n",
            "109/109 [==============================] - 107s 920ms/step - loss: 0.9892 - categorical_accuracy: 0.8388 - val_loss: 0.9581 - val_categorical_accuracy: 0.8433\n",
            "Epoch 41/200\n",
            "109/109 [==============================] - 103s 904ms/step - loss: 0.9906 - categorical_accuracy: 0.8380 - val_loss: 0.9892 - val_categorical_accuracy: 0.8370\n",
            "Epoch 42/200\n",
            "109/109 [==============================] - 102s 901ms/step - loss: 0.9862 - categorical_accuracy: 0.8379 - val_loss: 0.9753 - val_categorical_accuracy: 0.8387\n",
            "Epoch 43/200\n",
            "109/109 [==============================] - 104s 924ms/step - loss: 0.9792 - categorical_accuracy: 0.8387 - val_loss: 0.9713 - val_categorical_accuracy: 0.8393\n",
            "Epoch 44/200\n",
            "109/109 [==============================] - 101s 889ms/step - loss: 0.9706 - categorical_accuracy: 0.8394 - val_loss: 0.9646 - val_categorical_accuracy: 0.8399\n",
            "Epoch 45/200\n",
            "109/109 [==============================] - 102s 910ms/step - loss: 0.9604 - categorical_accuracy: 0.8415 - val_loss: 0.9508 - val_categorical_accuracy: 0.8427\n",
            "Epoch 46/200\n",
            "109/109 [==============================] - 105s 941ms/step - loss: 0.9596 - categorical_accuracy: 0.8405 - val_loss: 0.9288 - val_categorical_accuracy: 0.8444\n",
            "Epoch 47/200\n",
            "109/109 [==============================] - 59s 517ms/step - loss: 0.9543 - categorical_accuracy: 0.8414 - val_loss: 0.9431 - val_categorical_accuracy: 0.8431\n",
            "Epoch 48/200\n",
            "109/109 [==============================] - 57s 509ms/step - loss: 0.9505 - categorical_accuracy: 0.8414 - val_loss: 0.9499 - val_categorical_accuracy: 0.8410\n",
            "Epoch 49/200\n",
            "109/109 [==============================] - 55s 495ms/step - loss: 0.9336 - categorical_accuracy: 0.8443 - val_loss: 0.9465 - val_categorical_accuracy: 0.8425\n",
            "Epoch 50/200\n",
            "109/109 [==============================] - 58s 525ms/step - loss: 0.9395 - categorical_accuracy: 0.8436 - val_loss: 0.9379 - val_categorical_accuracy: 0.8426\n",
            "Epoch 51/200\n",
            "109/109 [==============================] - 62s 553ms/step - loss: 0.9350 - categorical_accuracy: 0.8438 - val_loss: 0.9324 - val_categorical_accuracy: 0.8445\n",
            "Epoch 52/200\n",
            "109/109 [==============================] - 57s 509ms/step - loss: 0.9357 - categorical_accuracy: 0.8438 - val_loss: 0.9216 - val_categorical_accuracy: 0.8461\n",
            "Epoch 53/200\n",
            "109/109 [==============================] - 58s 518ms/step - loss: 0.9239 - categorical_accuracy: 0.8448 - val_loss: 0.9367 - val_categorical_accuracy: 0.8426\n",
            "Epoch 54/200\n",
            "109/109 [==============================] - 58s 521ms/step - loss: 0.9264 - categorical_accuracy: 0.8443 - val_loss: 0.9160 - val_categorical_accuracy: 0.8452\n",
            "Epoch 55/200\n",
            "109/109 [==============================] - 62s 551ms/step - loss: 0.9216 - categorical_accuracy: 0.8448 - val_loss: 0.9176 - val_categorical_accuracy: 0.8443\n",
            "Epoch 56/200\n",
            "109/109 [==============================] - 56s 504ms/step - loss: 0.9227 - categorical_accuracy: 0.8448 - val_loss: 0.9136 - val_categorical_accuracy: 0.8457\n",
            "Epoch 57/200\n",
            "109/109 [==============================] - 55s 487ms/step - loss: 0.9075 - categorical_accuracy: 0.8470 - val_loss: 0.9059 - val_categorical_accuracy: 0.8466\n",
            "Epoch 58/200\n",
            "109/109 [==============================] - 56s 509ms/step - loss: 0.9067 - categorical_accuracy: 0.8469 - val_loss: 0.8837 - val_categorical_accuracy: 0.8500\n",
            "Epoch 59/200\n",
            "109/109 [==============================] - 54s 487ms/step - loss: 0.9001 - categorical_accuracy: 0.8473 - val_loss: 0.9060 - val_categorical_accuracy: 0.8461\n",
            "Epoch 60/200\n",
            "109/109 [==============================] - 54s 486ms/step - loss: 0.9099 - categorical_accuracy: 0.8458 - val_loss: 0.9149 - val_categorical_accuracy: 0.8443\n",
            "Epoch 61/200\n",
            "109/109 [==============================] - 59s 526ms/step - loss: 0.8984 - categorical_accuracy: 0.8473 - val_loss: 0.8770 - val_categorical_accuracy: 0.8508\n",
            "Epoch 62/200\n",
            "109/109 [==============================] - 58s 525ms/step - loss: 0.9011 - categorical_accuracy: 0.8470 - val_loss: 0.8969 - val_categorical_accuracy: 0.8477\n",
            "Epoch 63/200\n",
            "109/109 [==============================] - 57s 507ms/step - loss: 0.8965 - categorical_accuracy: 0.8471 - val_loss: 0.8768 - val_categorical_accuracy: 0.8496\n",
            "Epoch 64/200\n",
            "109/109 [==============================] - 56s 498ms/step - loss: 0.8918 - categorical_accuracy: 0.8478 - val_loss: 0.8760 - val_categorical_accuracy: 0.8510\n",
            "Epoch 65/200\n",
            "109/109 [==============================] - 59s 533ms/step - loss: 0.8886 - categorical_accuracy: 0.8484 - val_loss: 0.8777 - val_categorical_accuracy: 0.8504\n",
            "Epoch 66/200\n",
            "109/109 [==============================] - 59s 530ms/step - loss: 0.8874 - categorical_accuracy: 0.8485 - val_loss: 0.8761 - val_categorical_accuracy: 0.8508\n",
            "Epoch 67/200\n",
            "109/109 [==============================] - 56s 502ms/step - loss: 0.8810 - categorical_accuracy: 0.8490 - val_loss: 0.8940 - val_categorical_accuracy: 0.8461\n",
            "Epoch 68/200\n",
            "109/109 [==============================] - 56s 505ms/step - loss: 0.8807 - categorical_accuracy: 0.8492 - val_loss: 0.9153 - val_categorical_accuracy: 0.8437\n",
            "Epoch 69/200\n",
            "109/109 [==============================] - 55s 496ms/step - loss: 0.8789 - categorical_accuracy: 0.8493 - val_loss: 0.8725 - val_categorical_accuracy: 0.8500\n",
            "Epoch 70/200\n",
            "109/109 [==============================] - 6833s 63s/step - loss: 0.8722 - categorical_accuracy: 0.8502 - val_loss: 0.8735 - val_categorical_accuracy: 0.8496\n",
            "Epoch 71/200\n",
            "109/109 [==============================] - 74s 643ms/step - loss: 0.8692 - categorical_accuracy: 0.8505 - val_loss: 0.8775 - val_categorical_accuracy: 0.8494\n",
            "Epoch 72/200\n",
            "109/109 [==============================] - 62s 528ms/step - loss: 0.8656 - categorical_accuracy: 0.8509 - val_loss: 0.8508 - val_categorical_accuracy: 0.8540\n",
            "Epoch 73/200\n",
            "109/109 [==============================] - 71s 638ms/step - loss: 0.8689 - categorical_accuracy: 0.8500 - val_loss: 0.8703 - val_categorical_accuracy: 0.8490\n",
            "Epoch 74/200\n",
            "109/109 [==============================] - 74s 660ms/step - loss: 0.8692 - categorical_accuracy: 0.8500 - val_loss: 0.8621 - val_categorical_accuracy: 0.8509\n",
            "Epoch 75/200\n",
            "109/109 [==============================] - 94s 750ms/step - loss: 0.8721 - categorical_accuracy: 0.8495 - val_loss: 0.8621 - val_categorical_accuracy: 0.8511\n",
            "Epoch 76/200\n",
            "109/109 [==============================] - 82s 722ms/step - loss: 0.8591 - categorical_accuracy: 0.8509 - val_loss: 0.8326 - val_categorical_accuracy: 0.8545\n",
            "Epoch 77/200\n",
            "109/109 [==============================] - 73s 643ms/step - loss: 0.8550 - categorical_accuracy: 0.8521 - val_loss: 0.8323 - val_categorical_accuracy: 0.8556\n",
            "Epoch 78/200\n",
            "109/109 [==============================] - 79s 703ms/step - loss: 0.8573 - categorical_accuracy: 0.8508 - val_loss: 0.8735 - val_categorical_accuracy: 0.8469\n",
            "Epoch 79/200\n",
            "109/109 [==============================] - 75s 656ms/step - loss: 0.8539 - categorical_accuracy: 0.8511 - val_loss: 0.8352 - val_categorical_accuracy: 0.8546\n",
            "Epoch 80/200\n",
            "109/109 [==============================] - 66s 579ms/step - loss: 0.8465 - categorical_accuracy: 0.8528 - val_loss: 0.8407 - val_categorical_accuracy: 0.8530\n",
            "Epoch 81/200\n",
            "109/109 [==============================] - 79s 710ms/step - loss: 0.8392 - categorical_accuracy: 0.8538 - val_loss: 0.8255 - val_categorical_accuracy: 0.8553\n",
            "Epoch 82/200\n",
            "109/109 [==============================] - 61s 542ms/step - loss: 0.8325 - categorical_accuracy: 0.8545 - val_loss: 0.8416 - val_categorical_accuracy: 0.8534\n",
            "Epoch 83/200\n",
            "109/109 [==============================] - 73s 657ms/step - loss: 0.8450 - categorical_accuracy: 0.8519 - val_loss: 0.8223 - val_categorical_accuracy: 0.8548\n",
            "Epoch 84/200\n",
            "109/109 [==============================] - 77s 677ms/step - loss: 0.8408 - categorical_accuracy: 0.8528 - val_loss: 0.8312 - val_categorical_accuracy: 0.8537\n",
            "Epoch 85/200\n",
            "109/109 [==============================] - 77s 679ms/step - loss: 0.8348 - categorical_accuracy: 0.8535 - val_loss: 0.8413 - val_categorical_accuracy: 0.8521\n",
            "Epoch 86/200\n",
            "109/109 [==============================] - 68s 602ms/step - loss: 0.8300 - categorical_accuracy: 0.8538 - val_loss: 0.8312 - val_categorical_accuracy: 0.8531\n",
            "Epoch 87/200\n",
            "109/109 [==============================] - 69s 592ms/step - loss: 0.8226 - categorical_accuracy: 0.8545 - val_loss: 0.8188 - val_categorical_accuracy: 0.8550\n",
            "Epoch 88/200\n",
            "109/109 [==============================] - 71s 628ms/step - loss: 0.8279 - categorical_accuracy: 0.8542 - val_loss: 0.8102 - val_categorical_accuracy: 0.8572\n",
            "Epoch 89/200\n",
            "109/109 [==============================] - 62s 557ms/step - loss: 0.8165 - categorical_accuracy: 0.8554 - val_loss: 0.8359 - val_categorical_accuracy: 0.8524\n",
            "Epoch 90/200\n",
            "109/109 [==============================] - 66s 591ms/step - loss: 0.8173 - categorical_accuracy: 0.8549 - val_loss: 0.8254 - val_categorical_accuracy: 0.8527\n",
            "Epoch 91/200\n",
            "109/109 [==============================] - 66s 593ms/step - loss: 0.8210 - categorical_accuracy: 0.8548 - val_loss: 0.8041 - val_categorical_accuracy: 0.8567\n",
            "Epoch 92/200\n",
            "109/109 [==============================] - 63s 560ms/step - loss: 0.8159 - categorical_accuracy: 0.8552 - val_loss: 0.8029 - val_categorical_accuracy: 0.8576\n",
            "Epoch 93/200\n",
            "109/109 [==============================] - 63s 567ms/step - loss: 0.8089 - categorical_accuracy: 0.8557 - val_loss: 0.8110 - val_categorical_accuracy: 0.8556\n",
            "Epoch 94/200\n",
            "109/109 [==============================] - 60s 532ms/step - loss: 0.8023 - categorical_accuracy: 0.8569 - val_loss: 0.8030 - val_categorical_accuracy: 0.8563\n",
            "Epoch 95/200\n",
            "109/109 [==============================] - 59s 527ms/step - loss: 0.8006 - categorical_accuracy: 0.8576 - val_loss: 0.7940 - val_categorical_accuracy: 0.8580\n",
            "Epoch 96/200\n",
            "109/109 [==============================] - 61s 546ms/step - loss: 0.8098 - categorical_accuracy: 0.8553 - val_loss: 0.7926 - val_categorical_accuracy: 0.8576\n",
            "Epoch 97/200\n",
            "109/109 [==============================] - 65s 580ms/step - loss: 0.7981 - categorical_accuracy: 0.8570 - val_loss: 0.8009 - val_categorical_accuracy: 0.8570\n",
            "Epoch 98/200\n",
            "109/109 [==============================] - 63s 566ms/step - loss: 0.7914 - categorical_accuracy: 0.8582 - val_loss: 0.7959 - val_categorical_accuracy: 0.8575\n",
            "Epoch 99/200\n",
            "109/109 [==============================] - 62s 559ms/step - loss: 0.7969 - categorical_accuracy: 0.8576 - val_loss: 0.8059 - val_categorical_accuracy: 0.8554\n",
            "Epoch 100/200\n",
            "109/109 [==============================] - 63s 566ms/step - loss: 0.7913 - categorical_accuracy: 0.8580 - val_loss: 0.7942 - val_categorical_accuracy: 0.8574\n",
            "Epoch 101/200\n",
            "109/109 [==============================] - 80s 719ms/step - loss: 0.7924 - categorical_accuracy: 0.8576 - val_loss: 0.7829 - val_categorical_accuracy: 0.8584\n",
            "Epoch 102/200\n",
            "109/109 [==============================] - 75s 645ms/step - loss: 0.7972 - categorical_accuracy: 0.8563 - val_loss: 0.7926 - val_categorical_accuracy: 0.8574\n",
            "Epoch 103/200\n",
            "109/109 [==============================] - 75s 673ms/step - loss: 0.7973 - categorical_accuracy: 0.8566 - val_loss: 0.8002 - val_categorical_accuracy: 0.8554\n",
            "Epoch 104/200\n",
            "109/109 [==============================] - 75s 602ms/step - loss: 0.7903 - categorical_accuracy: 0.8579 - val_loss: 0.7833 - val_categorical_accuracy: 0.8584\n",
            "Epoch 105/200\n",
            "109/109 [==============================] - 75s 675ms/step - loss: 0.7842 - categorical_accuracy: 0.8587 - val_loss: 0.7861 - val_categorical_accuracy: 0.8575\n",
            "Epoch 106/200\n",
            "109/109 [==============================] - 77s 687ms/step - loss: 0.7956 - categorical_accuracy: 0.8567 - val_loss: 0.7775 - val_categorical_accuracy: 0.8595\n",
            "Epoch 107/200\n",
            "109/109 [==============================] - 111s 973ms/step - loss: 0.7781 - categorical_accuracy: 0.8592 - val_loss: 0.7724 - val_categorical_accuracy: 0.8596\n",
            "Epoch 108/200\n",
            "109/109 [==============================] - 118s 1s/step - loss: 0.7756 - categorical_accuracy: 0.8595 - val_loss: 0.7833 - val_categorical_accuracy: 0.8589\n",
            "Epoch 109/200\n",
            "109/109 [==============================] - 112s 909ms/step - loss: 0.7718 - categorical_accuracy: 0.8601 - val_loss: 0.7735 - val_categorical_accuracy: 0.8596\n",
            "Epoch 110/200\n",
            "109/109 [==============================] - 121s 1s/step - loss: 0.7653 - categorical_accuracy: 0.8614 - val_loss: 0.7524 - val_categorical_accuracy: 0.8633\n",
            "Epoch 111/200\n",
            "109/109 [==============================] - 125s 1s/step - loss: 0.7664 - categorical_accuracy: 0.8609 - val_loss: 0.7673 - val_categorical_accuracy: 0.8606\n",
            "Epoch 112/200\n",
            "109/109 [==============================] - 120s 1s/step - loss: 0.7614 - categorical_accuracy: 0.8619 - val_loss: 0.7699 - val_categorical_accuracy: 0.8595\n",
            "Epoch 113/200\n",
            "109/109 [==============================] - 103s 912ms/step - loss: 0.7689 - categorical_accuracy: 0.8603 - val_loss: 0.7579 - val_categorical_accuracy: 0.8620\n",
            "Epoch 114/200\n",
            "109/109 [==============================] - 124s 1s/step - loss: 0.7657 - categorical_accuracy: 0.8609 - val_loss: 0.7595 - val_categorical_accuracy: 0.8612\n",
            "Epoch 115/200\n",
            "109/109 [==============================] - 115s 1s/step - loss: 0.7623 - categorical_accuracy: 0.8617 - val_loss: 0.7564 - val_categorical_accuracy: 0.8618\n",
            "Epoch 116/200\n",
            "109/109 [==============================] - 122s 1s/step - loss: 0.7686 - categorical_accuracy: 0.8596 - val_loss: 0.7764 - val_categorical_accuracy: 0.8583\n",
            "Epoch 117/200\n",
            "109/109 [==============================] - 120s 1s/step - loss: 0.7645 - categorical_accuracy: 0.8605 - val_loss: 0.7668 - val_categorical_accuracy: 0.8602\n",
            "Epoch 118/200\n",
            "109/109 [==============================] - 117s 1s/step - loss: 0.7513 - categorical_accuracy: 0.8627 - val_loss: 0.7515 - val_categorical_accuracy: 0.8624\n",
            "Epoch 119/200\n",
            "109/109 [==============================] - 117s 1s/step - loss: 0.7511 - categorical_accuracy: 0.8624 - val_loss: 0.7539 - val_categorical_accuracy: 0.8620\n",
            "Epoch 120/200\n",
            "109/109 [==============================] - 106s 947ms/step - loss: 0.7521 - categorical_accuracy: 0.8623 - val_loss: 0.7743 - val_categorical_accuracy: 0.8576\n",
            "Epoch 121/200\n",
            "109/109 [==============================] - 117s 1s/step - loss: 0.7519 - categorical_accuracy: 0.8625 - val_loss: 0.7354 - val_categorical_accuracy: 0.8653\n",
            "Epoch 122/200\n",
            "109/109 [==============================] - 112s 1s/step - loss: 0.7410 - categorical_accuracy: 0.8638 - val_loss: 0.7637 - val_categorical_accuracy: 0.8600\n",
            "Epoch 123/200\n",
            "109/109 [==============================] - 104s 921ms/step - loss: 0.7477 - categorical_accuracy: 0.8631 - val_loss: 0.7255 - val_categorical_accuracy: 0.8659\n",
            "Epoch 124/200\n",
            "109/109 [==============================] - 109s 971ms/step - loss: 0.7523 - categorical_accuracy: 0.8619 - val_loss: 0.7373 - val_categorical_accuracy: 0.8646\n",
            "Epoch 125/200\n",
            "109/109 [==============================] - 114s 1s/step - loss: 0.7407 - categorical_accuracy: 0.8639 - val_loss: 0.7364 - val_categorical_accuracy: 0.8642\n",
            "Epoch 126/200\n",
            "109/109 [==============================] - 107s 949ms/step - loss: 0.7419 - categorical_accuracy: 0.8637 - val_loss: 0.7440 - val_categorical_accuracy: 0.8625\n",
            "Epoch 127/200\n",
            "109/109 [==============================] - 115s 1s/step - loss: 0.7363 - categorical_accuracy: 0.8645 - val_loss: 0.7298 - val_categorical_accuracy: 0.8646\n",
            "Epoch 128/200\n",
            "109/109 [==============================] - 124s 1s/step - loss: 0.7378 - categorical_accuracy: 0.8635 - val_loss: 0.7472 - val_categorical_accuracy: 0.8611\n",
            "Epoch 129/200\n",
            "109/109 [==============================] - 115s 1s/step - loss: 0.7448 - categorical_accuracy: 0.8626 - val_loss: 0.7333 - val_categorical_accuracy: 0.8640\n",
            "Epoch 130/200\n",
            "109/109 [==============================] - 110s 988ms/step - loss: 0.7408 - categorical_accuracy: 0.8630 - val_loss: 0.7353 - val_categorical_accuracy: 0.8637\n",
            "Epoch 131/200\n",
            "109/109 [==============================] - 121s 1s/step - loss: 0.7290 - categorical_accuracy: 0.8653 - val_loss: 0.7412 - val_categorical_accuracy: 0.8621\n",
            "Epoch 132/200\n",
            "109/109 [==============================] - 114s 1s/step - loss: 0.7377 - categorical_accuracy: 0.8631 - val_loss: 0.7147 - val_categorical_accuracy: 0.8669\n",
            "Epoch 133/200\n",
            "109/109 [==============================] - 110s 974ms/step - loss: 0.7296 - categorical_accuracy: 0.8652 - val_loss: 0.7274 - val_categorical_accuracy: 0.8656\n",
            "Epoch 134/200\n",
            "109/109 [==============================] - 120s 1s/step - loss: 0.7286 - categorical_accuracy: 0.8654 - val_loss: 0.7280 - val_categorical_accuracy: 0.8652\n",
            "Epoch 135/200\n",
            "109/109 [==============================] - 118s 1s/step - loss: 0.7276 - categorical_accuracy: 0.8653 - val_loss: 0.7314 - val_categorical_accuracy: 0.8645\n",
            "Epoch 136/200\n",
            "109/109 [==============================] - 109s 964ms/step - loss: 0.7279 - categorical_accuracy: 0.8646 - val_loss: 0.7171 - val_categorical_accuracy: 0.8662\n",
            "Epoch 137/200\n",
            "109/109 [==============================] - 111s 995ms/step - loss: 0.7166 - categorical_accuracy: 0.8668 - val_loss: 0.7307 - val_categorical_accuracy: 0.8638\n",
            "Epoch 138/200\n",
            "109/109 [==============================] - 114s 1s/step - loss: 0.7267 - categorical_accuracy: 0.8648 - val_loss: 0.7121 - val_categorical_accuracy: 0.8665\n",
            "Epoch 139/200\n",
            "109/109 [==============================] - 85s 757ms/step - loss: 0.7166 - categorical_accuracy: 0.8664 - val_loss: 0.7202 - val_categorical_accuracy: 0.8658\n",
            "Epoch 140/200\n",
            "109/109 [==============================] - 85s 767ms/step - loss: 0.7159 - categorical_accuracy: 0.8661 - val_loss: 0.7181 - val_categorical_accuracy: 0.8653\n",
            "Epoch 141/200\n",
            "109/109 [==============================] - 111s 997ms/step - loss: 0.7163 - categorical_accuracy: 0.8663 - val_loss: 0.7235 - val_categorical_accuracy: 0.8647\n",
            "Epoch 142/200\n",
            "109/109 [==============================] - 117s 1s/step - loss: 0.7184 - categorical_accuracy: 0.8658 - val_loss: 0.7066 - val_categorical_accuracy: 0.8674\n",
            "Epoch 143/200\n",
            "109/109 [==============================] - 123s 1s/step - loss: 0.7100 - categorical_accuracy: 0.8670 - val_loss: 0.7286 - val_categorical_accuracy: 0.8636\n",
            "Epoch 144/200\n",
            "109/109 [==============================] - 115s 1s/step - loss: 0.7044 - categorical_accuracy: 0.8685 - val_loss: 0.6999 - val_categorical_accuracy: 0.8693\n",
            "Epoch 145/200\n",
            "109/109 [==============================] - 123s 1s/step - loss: 0.7017 - categorical_accuracy: 0.8686 - val_loss: 0.6938 - val_categorical_accuracy: 0.8700\n",
            "Epoch 146/200\n",
            "109/109 [==============================] - 118s 1s/step - loss: 0.7114 - categorical_accuracy: 0.8666 - val_loss: 0.7067 - val_categorical_accuracy: 0.8680\n",
            "Epoch 147/200\n",
            "109/109 [==============================] - 111s 999ms/step - loss: 0.7012 - categorical_accuracy: 0.8685 - val_loss: 0.7099 - val_categorical_accuracy: 0.8669\n",
            "Epoch 148/200\n",
            "109/109 [==============================] - 117s 1s/step - loss: 0.7110 - categorical_accuracy: 0.8664 - val_loss: 0.7044 - val_categorical_accuracy: 0.8678\n",
            "Epoch 149/200\n",
            "109/109 [==============================] - 135s 1s/step - loss: 0.7048 - categorical_accuracy: 0.8674 - val_loss: 0.7192 - val_categorical_accuracy: 0.8649\n",
            "Epoch 150/200\n",
            "109/109 [==============================] - 129s 1s/step - loss: 0.6974 - categorical_accuracy: 0.8688 - val_loss: 0.7013 - val_categorical_accuracy: 0.8692\n",
            "Epoch 151/200\n",
            "109/109 [==============================] - 127s 1s/step - loss: 0.7009 - categorical_accuracy: 0.8680 - val_loss: 0.7009 - val_categorical_accuracy: 0.8686\n",
            "Epoch 152/200\n",
            "109/109 [==============================] - 123s 1s/step - loss: 0.7000 - categorical_accuracy: 0.8683 - val_loss: 0.6887 - val_categorical_accuracy: 0.8704\n",
            "Epoch 153/200\n",
            "109/109 [==============================] - 101s 904ms/step - loss: 0.6977 - categorical_accuracy: 0.8683 - val_loss: 0.6903 - val_categorical_accuracy: 0.8693\n",
            "Epoch 154/200\n",
            "109/109 [==============================] - 121s 1s/step - loss: 0.6982 - categorical_accuracy: 0.8684 - val_loss: 0.7068 - val_categorical_accuracy: 0.8665\n",
            "Epoch 155/200\n",
            "109/109 [==============================] - 88s 778ms/step - loss: 0.6906 - categorical_accuracy: 0.8696 - val_loss: 0.7064 - val_categorical_accuracy: 0.8670\n",
            "Epoch 156/200\n",
            "109/109 [==============================] - 65s 579ms/step - loss: 0.6926 - categorical_accuracy: 0.8691 - val_loss: 0.6885 - val_categorical_accuracy: 0.8696\n",
            "Epoch 157/200\n",
            "109/109 [==============================] - 64s 577ms/step - loss: 0.6903 - categorical_accuracy: 0.8695 - val_loss: 0.7058 - val_categorical_accuracy: 0.8660\n",
            "Epoch 158/200\n",
            "109/109 [==============================] - 64s 577ms/step - loss: 0.6895 - categorical_accuracy: 0.8696 - val_loss: 0.7002 - val_categorical_accuracy: 0.8672\n",
            "Epoch 159/200\n",
            "109/109 [==============================] - 64s 572ms/step - loss: 0.6878 - categorical_accuracy: 0.8695 - val_loss: 0.6748 - val_categorical_accuracy: 0.8715\n",
            "Epoch 160/200\n",
            "109/109 [==============================] - 64s 575ms/step - loss: 0.6821 - categorical_accuracy: 0.8707 - val_loss: 0.6840 - val_categorical_accuracy: 0.8699\n",
            "Epoch 161/200\n",
            "109/109 [==============================] - 64s 572ms/step - loss: 0.6857 - categorical_accuracy: 0.8699 - val_loss: 0.6674 - val_categorical_accuracy: 0.8733\n",
            "Epoch 162/200\n",
            "109/109 [==============================] - 63s 566ms/step - loss: 0.6810 - categorical_accuracy: 0.8705 - val_loss: 0.6600 - val_categorical_accuracy: 0.8745\n",
            "Epoch 163/200\n",
            "109/109 [==============================] - 63s 562ms/step - loss: 0.6770 - categorical_accuracy: 0.8718 - val_loss: 0.6812 - val_categorical_accuracy: 0.8698\n",
            "Epoch 164/200\n",
            "109/109 [==============================] - 63s 559ms/step - loss: 0.6785 - categorical_accuracy: 0.8711 - val_loss: 0.6858 - val_categorical_accuracy: 0.8693\n",
            "Epoch 165/200\n",
            "109/109 [==============================] - 66s 585ms/step - loss: 0.6743 - categorical_accuracy: 0.8717 - val_loss: 0.6646 - val_categorical_accuracy: 0.8729\n",
            "Epoch 166/200\n",
            "109/109 [==============================] - 63s 566ms/step - loss: 0.6750 - categorical_accuracy: 0.8713 - val_loss: 0.6795 - val_categorical_accuracy: 0.8711\n",
            "Epoch 167/200\n",
            "109/109 [==============================] - 62s 558ms/step - loss: 0.6806 - categorical_accuracy: 0.8705 - val_loss: 0.6854 - val_categorical_accuracy: 0.8691\n",
            "Epoch 168/200\n",
            "109/109 [==============================] - 64s 575ms/step - loss: 0.6690 - categorical_accuracy: 0.8724 - val_loss: 0.6695 - val_categorical_accuracy: 0.8723\n",
            "Epoch 169/200\n",
            "109/109 [==============================] - 64s 568ms/step - loss: 0.6670 - categorical_accuracy: 0.8728 - val_loss: 0.6697 - val_categorical_accuracy: 0.8721\n",
            "Epoch 170/200\n",
            "109/109 [==============================] - 65s 580ms/step - loss: 0.6719 - categorical_accuracy: 0.8716 - val_loss: 0.6678 - val_categorical_accuracy: 0.8712\n",
            "Epoch 171/200\n",
            "109/109 [==============================] - 68s 612ms/step - loss: 0.6666 - categorical_accuracy: 0.8726 - val_loss: 0.6614 - val_categorical_accuracy: 0.8734\n",
            "Epoch 172/200\n",
            "109/109 [==============================] - 68s 608ms/step - loss: 0.6688 - categorical_accuracy: 0.8721 - val_loss: 0.6678 - val_categorical_accuracy: 0.8722\n",
            "Epoch 173/200\n",
            "109/109 [==============================] - 67s 601ms/step - loss: 0.6602 - categorical_accuracy: 0.8738 - val_loss: 0.6454 - val_categorical_accuracy: 0.8762\n",
            "Epoch 174/200\n",
            "109/109 [==============================] - 65s 580ms/step - loss: 0.6575 - categorical_accuracy: 0.8734 - val_loss: 0.6644 - val_categorical_accuracy: 0.8719\n",
            "Epoch 175/200\n",
            "109/109 [==============================] - 67s 604ms/step - loss: 0.6640 - categorical_accuracy: 0.8729 - val_loss: 0.6637 - val_categorical_accuracy: 0.8733\n",
            "Epoch 176/200\n",
            "109/109 [==============================] - 64s 571ms/step - loss: 0.6604 - categorical_accuracy: 0.8732 - val_loss: 0.6628 - val_categorical_accuracy: 0.8720\n",
            "Epoch 177/200\n",
            "109/109 [==============================] - 64s 571ms/step - loss: 0.6557 - categorical_accuracy: 0.8739 - val_loss: 0.6599 - val_categorical_accuracy: 0.8728\n",
            "Epoch 178/200\n",
            "109/109 [==============================] - 66s 585ms/step - loss: 0.6697 - categorical_accuracy: 0.8716 - val_loss: 0.6471 - val_categorical_accuracy: 0.8753\n",
            "Epoch 179/200\n",
            "109/109 [==============================] - 65s 584ms/step - loss: 0.6566 - categorical_accuracy: 0.8732 - val_loss: 0.6561 - val_categorical_accuracy: 0.8735\n",
            "Epoch 180/200\n",
            "109/109 [==============================] - 64s 571ms/step - loss: 0.6565 - categorical_accuracy: 0.8734 - val_loss: 0.6600 - val_categorical_accuracy: 0.8726\n",
            "Epoch 181/200\n",
            "109/109 [==============================] - 64s 574ms/step - loss: 0.6564 - categorical_accuracy: 0.8737 - val_loss: 0.6597 - val_categorical_accuracy: 0.8728\n",
            "Epoch 182/200\n",
            "109/109 [==============================] - 64s 571ms/step - loss: 0.6445 - categorical_accuracy: 0.8757 - val_loss: 0.6524 - val_categorical_accuracy: 0.8741\n",
            "Epoch 183/200\n",
            "109/109 [==============================] - 64s 569ms/step - loss: 0.6506 - categorical_accuracy: 0.8745 - val_loss: 0.6459 - val_categorical_accuracy: 0.8752\n",
            "Epoch 184/200\n",
            "109/109 [==============================] - 64s 571ms/step - loss: 0.6496 - categorical_accuracy: 0.8747 - val_loss: 0.6513 - val_categorical_accuracy: 0.8743\n",
            "Epoch 185/200\n",
            "109/109 [==============================] - 64s 570ms/step - loss: 0.6512 - categorical_accuracy: 0.8744 - val_loss: 0.6399 - val_categorical_accuracy: 0.8765\n",
            "Epoch 186/200\n",
            "109/109 [==============================] - 63s 565ms/step - loss: 0.6561 - categorical_accuracy: 0.8735 - val_loss: 0.6455 - val_categorical_accuracy: 0.8755\n",
            "Epoch 187/200\n",
            "109/109 [==============================] - 63s 568ms/step - loss: 0.6509 - categorical_accuracy: 0.8742 - val_loss: 0.6419 - val_categorical_accuracy: 0.8764\n",
            "Epoch 188/200\n",
            "109/109 [==============================] - 64s 575ms/step - loss: 0.6513 - categorical_accuracy: 0.8741 - val_loss: 0.6366 - val_categorical_accuracy: 0.8765\n",
            "Epoch 189/200\n",
            "109/109 [==============================] - 64s 572ms/step - loss: 0.6516 - categorical_accuracy: 0.8738 - val_loss: 0.6578 - val_categorical_accuracy: 0.8728\n",
            "Epoch 190/200\n",
            "109/109 [==============================] - 64s 570ms/step - loss: 0.6425 - categorical_accuracy: 0.8756 - val_loss: 0.6385 - val_categorical_accuracy: 0.8762\n",
            "Epoch 191/200\n",
            "109/109 [==============================] - 63s 560ms/step - loss: 0.6402 - categorical_accuracy: 0.8757 - val_loss: 0.6538 - val_categorical_accuracy: 0.8726\n",
            "Epoch 192/200\n",
            "109/109 [==============================] - 2081s 19s/step - loss: 0.6413 - categorical_accuracy: 0.8753 - val_loss: 0.6405 - val_categorical_accuracy: 0.8760\n",
            "Epoch 193/200\n",
            "109/109 [==============================] - 59s 513ms/step - loss: 0.6330 - categorical_accuracy: 0.8768 - val_loss: 0.6402 - val_categorical_accuracy: 0.8764\n",
            "Epoch 194/200\n",
            "109/109 [==============================] - 71s 638ms/step - loss: 0.6321 - categorical_accuracy: 0.8771 - val_loss: 0.6316 - val_categorical_accuracy: 0.8766\n",
            "Epoch 195/200\n",
            "109/109 [==============================] - 74s 668ms/step - loss: 0.6425 - categorical_accuracy: 0.8752 - val_loss: 0.6381 - val_categorical_accuracy: 0.8760\n",
            "Epoch 196/200\n",
            "109/109 [==============================] - 76s 678ms/step - loss: 0.6419 - categorical_accuracy: 0.8753 - val_loss: 0.6212 - val_categorical_accuracy: 0.8789\n",
            "Epoch 197/200\n",
            "109/109 [==============================] - 75s 671ms/step - loss: 0.6337 - categorical_accuracy: 0.8768 - val_loss: 0.6178 - val_categorical_accuracy: 0.8797\n",
            "Epoch 198/200\n",
            "109/109 [==============================] - 70s 631ms/step - loss: 0.6301 - categorical_accuracy: 0.8770 - val_loss: 0.6242 - val_categorical_accuracy: 0.8784\n",
            "Epoch 199/200\n",
            "109/109 [==============================] - 62s 554ms/step - loss: 0.6300 - categorical_accuracy: 0.8777 - val_loss: 0.6229 - val_categorical_accuracy: 0.8774\n",
            "Epoch 200/200\n",
            "109/109 [==============================] - 90s 820ms/step - loss: 0.6303 - categorical_accuracy: 0.8770 - val_loss: 0.6229 - val_categorical_accuracy: 0.8782\n"
          ]
        }
      ],
      "source": [
        "# Application du modèle sur 200 epochs\n",
        "history = model.fit(train_data,\n",
        "                    validation_data=test_data,\n",
        "                    epochs=200)"
      ]
    },
    {
      "cell_type": "code",
      "execution_count": null,
      "metadata": {
        "colab": {
          "base_uri": "https://localhost:8080/",
          "height": 93
        },
        "colab_type": "code",
        "id": "JuQYu8DYZB_L",
        "outputId": "307328c3-ee9f-4977-bf90-9c8c993cf889"
      },
      "outputs": [
        {
          "name": "stdout",
          "output_type": "stream",
          "text": [
            "WARNING:tensorflow:From <ipython-input-38-7643ef560cb9>:4: Sequential.predict_classes (from tensorflow.python.keras.engine.sequential) is deprecated and will be removed after 2021-01-01.\n",
            "Instructions for updating:\n",
            "Please use instead:* `np.argmax(model.predict(x), axis=-1)`,   if your model does multi-class classification   (e.g. if it uses a `softmax` last-layer activation).* `(model.predict(x) > 0.5).astype(\"int32\")`,   if your model does binary classification   (e.g. if it uses a `sigmoid` last-layer activation).\n"
          ]
        }
      ],
      "source": [
        "# Test d'une traduction\n",
        "for input_text, translation in test_data.take(1):\n",
        "  fr_text = input_text\n",
        "  pred = model.predict_classes(input_text)\n",
        "  translation = translation"
      ]
    },
    {
      "cell_type": "code",
      "execution_count": null,
      "metadata": {
        "colab": {
          "base_uri": "https://localhost:8080/",
          "height": 91
        },
        "colab_type": "code",
        "id": "m4hA5S4pAR_K",
        "outputId": "55a76b8c-84f7-4548-ee96-11f75f281142"
      },
      "outputs": [
        {
          "name": "stdout",
          "output_type": "stream",
          "text": [
            "Tu\n",
            "as\n",
            "promis\n",
            ".\n"
          ]
        }
      ],
      "source": [
        "# Phrase en français \n",
        "for indice in fr_text[0]:\n",
        "  for key, value in all_fr_tokens.items():\n",
        "    if indice == value:\n",
        "      print(key)"
      ]
    },
    {
      "cell_type": "code",
      "execution_count": null,
      "metadata": {
        "colab": {
          "base_uri": "https://localhost:8080/",
          "height": 128
        },
        "colab_type": "code",
        "id": "G3OhO2Hb_qeR",
        "outputId": "ce5916ed-8164-4b88-cc94-c428f43025a7"
      },
      "outputs": [
        {
          "name": "stdout",
          "output_type": "stream",
          "text": [
            "You\n",
            "have\n",
            "made\n",
            "a\n",
            "promise\n",
            ".\n"
          ]
        }
      ],
      "source": [
        "# Phrase réelle en anglais \n",
        "for indice in np.argmax(translation, axis=-1)[0]:\n",
        "  for key, value in all_en_tokens.items():\n",
        "    if indice == value:\n",
        "      print(key)"
      ]
    },
    {
      "cell_type": "code",
      "execution_count": null,
      "metadata": {
        "colab": {
          "base_uri": "https://localhost:8080/",
          "height": 128
        },
        "colab_type": "code",
        "id": "4BssXolD58fn",
        "outputId": "5fe14e7d-8e5a-42bc-86b0-3fe0f6b0b9f9"
      },
      "outputs": [
        {
          "name": "stdout",
          "output_type": "stream",
          "text": [
            "You\n",
            "'re\n",
            "to\n",
            "a\n",
            "a\n",
            ".\n"
          ]
        }
      ],
      "source": [
        "# Phrase traduite en anglais par le modèle \n",
        "for indice in pred[0]:\n",
        "  for key, value in all_en_tokens.items():\n",
        "    if indice == value:\n",
        "      print(key)"
      ]
    },
    {
      "cell_type": "code",
      "execution_count": null,
      "metadata": {
        "colab": {},
        "colab_type": "code",
        "id": "k818RxmJ9A6P"
      },
      "outputs": [],
      "source": [
        "# Nouvel entrainement sur 500 epochs\n",
        "history_2 = model.fit(train_data,\n",
        "                    validation_data=test_data,\n",
        "                    epochs=500)"
      ]
    },
    {
      "cell_type": "code",
      "execution_count": null,
      "metadata": {
        "colab": {
          "base_uri": "https://localhost:8080/",
          "height": 351
        },
        "colab_type": "code",
        "id": "-SHLYHzn3Y8L",
        "outputId": "a3c4fa93-0cdd-49e2-f463-f8567cb3f0a1"
      },
      "outputs": [
        {
          "name": "stdout",
          "output_type": "stream",
          "text": [
            "Input Sentence\n",
            "Vous\n",
            "êtes\n",
            "en\n",
            "train\n",
            "de\n",
            "perdre\n",
            ".\n",
            "True Translation\n",
            "You\n",
            "'re\n",
            "losing\n",
            ".\n",
            "Model Translation\n",
            "You\n",
            "'re\n",
            "losing\n",
            ".\n"
          ]
        }
      ],
      "source": [
        "# Test sur des nouvelles traductions\n",
        "\n",
        "for input_text, translation in test_data.take(1):\n",
        "  fr_text = input_text\n",
        "  pred = model.predict_classes(input_text)\n",
        "  translation = translation\n",
        "\n",
        "# French \n",
        "print(\"Input Sentence\")\n",
        "for indice in fr_text[2]:\n",
        "  for key, value in all_fr_tokens.items():\n",
        "    if indice == value:\n",
        "      print(key)\n",
        "\n",
        "# True\n",
        "print(\"True Translation\")\n",
        "for indice in np.argmax(translation, axis=-1)[2]:\n",
        "  for key, value in all_en_tokens.items():\n",
        "    if indice == value:\n",
        "      print(key)\n",
        "\n",
        "# Pred\n",
        "print(\"Model Translation\")\n",
        "for indice in pred[2]:\n",
        "  for key, value in all_en_tokens.items():\n",
        "    if indice == value:\n",
        "      print(key)"
      ]
    },
    {
      "cell_type": "code",
      "execution_count": null,
      "metadata": {
        "colab": {},
        "colab_type": "code",
        "id": "61qZI4AKA4Ta"
      },
      "outputs": [],
      "source": []
    }
  ],
  "metadata": {
    "accelerator": "GPU",
    "colab": {
      "collapsed_sections": [],
      "machine_shape": "hm",
      "name": "Copie de Traductions - SOLUTION",
      "provenance": []
    },
    "kernelspec": {
      "display_name": "Python 3",
      "name": "python3"
    },
    "language_info": {
      "codemirror_mode": {
        "name": "ipython",
        "version": 3
      },
      "file_extension": ".py",
      "mimetype": "text/x-python",
      "name": "python",
      "nbconvert_exporter": "python",
      "pygments_lexer": "ipython3",
      "version": "3.10.9"
    }
  },
  "nbformat": 4,
  "nbformat_minor": 0
}
