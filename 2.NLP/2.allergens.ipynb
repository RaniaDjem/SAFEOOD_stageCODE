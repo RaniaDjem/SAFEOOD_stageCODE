{
 "cells": [
  {
   "cell_type": "markdown",
   "metadata": {},
   "source": [
    "Dans ce code, différentes bibliothèques ont été utilisées pour traiter une BDD (OpenFoodFacts) sous forme de fichier CSV contenant des données sur les allergènes alimentaires. Ces bibliothèques ont permis de séparer les données en dictionnaires français et anglais, de normaliser les mots et de nettoyer les données, ainsi que d'utiliser des modèles de traitement du langage naturel (NLP) comme spaCy et NLTK pour détecter les allergènes dans des phrases spécifiques. \n"
   ]
  },
  {
   "cell_type": "code",
   "execution_count": 19,
   "metadata": {},
   "outputs": [],
   "source": [
    "import pandas as pd\n",
    "import numpy as np\n",
    "import spacy"
   ]
  },
  {
   "cell_type": "code",
   "execution_count": 1,
   "metadata": {},
   "outputs": [],
   "source": [
    "try:\n",
    "    # Charger uniquement la colonne \"allergens\" du fichier CSV\n",
    "    df = pd.read_csv(r'C:\\Users\\boss\\Desktop\\STAGE\\CODE\\NLP\\cleaned_openfoodfacts.csv', usecols=['allergens'], sep='\\t', nrows=1417719, engine='python')\n",
    "except pd.errors.ParserError as e:\n",
    "    error_line = int(str(e).split(' ')[-1])\n",
    "    df = pd.read_csv('openfoodfacts.csv', usecols=['allergens'], error_bad_lines=False, skiprows=range(1, error_line), sep='\\t')\n",
    "    print(f\"Ligne {error_line}: {open('openfoodfacts.csv').readlines()[error_line-1]}\")\n"
   ]
  },
  {
   "cell_type": "code",
   "execution_count": 5,
   "metadata": {},
   "outputs": [],
   "source": [
    "# Extraire les données de la colonne \"image_ingredients_url\"\n",
    "allergens = df['allergens']"
   ]
  },
  {
   "cell_type": "code",
   "execution_count": 10,
   "metadata": {},
   "outputs": [],
   "source": [
    "# Supprimer les lignes vides et celles contenant des valeurs NaN\n",
    "allergens = allergens.dropna(how='all').dropna()"
   ]
  },
  {
   "cell_type": "code",
   "execution_count": 11,
   "metadata": {},
   "outputs": [
    {
     "data": {
      "text/html": [
       "<div>\n",
       "<style scoped>\n",
       "    .dataframe tbody tr th:only-of-type {\n",
       "        vertical-align: middle;\n",
       "    }\n",
       "\n",
       "    .dataframe tbody tr th {\n",
       "        vertical-align: top;\n",
       "    }\n",
       "\n",
       "    .dataframe thead th {\n",
       "        text-align: right;\n",
       "    }\n",
       "</style>\n",
       "<table border=\"1\" class=\"dataframe\">\n",
       "  <thead>\n",
       "    <tr style=\"text-align: right;\">\n",
       "      <th></th>\n",
       "      <th>allergens</th>\n",
       "    </tr>\n",
       "  </thead>\n",
       "  <tbody>\n",
       "    <tr>\n",
       "      <th>11</th>\n",
       "      <td>en:mustard</td>\n",
       "    </tr>\n",
       "    <tr>\n",
       "      <th>31</th>\n",
       "      <td>en:eggs,en:mustard</td>\n",
       "    </tr>\n",
       "    <tr>\n",
       "      <th>48</th>\n",
       "      <td>en:gluten,en:milk</td>\n",
       "    </tr>\n",
       "    <tr>\n",
       "      <th>60</th>\n",
       "      <td>en:fish,en:gluten,en:milk</td>\n",
       "    </tr>\n",
       "    <tr>\n",
       "      <th>72</th>\n",
       "      <td>en:milk</td>\n",
       "    </tr>\n",
       "  </tbody>\n",
       "</table>\n",
       "</div>"
      ],
      "text/plain": [
       "                    allergens\n",
       "11                 en:mustard\n",
       "31         en:eggs,en:mustard\n",
       "48          en:gluten,en:milk\n",
       "60  en:fish,en:gluten,en:milk\n",
       "72                    en:milk"
      ]
     },
     "execution_count": 11,
     "metadata": {},
     "output_type": "execute_result"
    }
   ],
   "source": [
    "allergens.head()"
   ]
  },
  {
   "cell_type": "code",
   "execution_count": 12,
   "metadata": {},
   "outputs": [],
   "source": [
    "# Sauvegarder le DataFrame résultant au format CSV\n",
    "allergens.to_csv(r'C:\\Users\\boss\\Desktop\\STAGE\\CODE\\NLP\\CSVfile\\allergens.csv', index=False)"
   ]
  },
  {
   "cell_type": "markdown",
   "metadata": {},
   "source": [
    "APRES AVOIR RECUPERER LE FICHIER CSV DES ALLERGENES, SEPARER CE FICHIER CSV EN DEUX DICTIONNAIRE L'UN POUR LE FRANCAIS ET L'UN POUR L'ANGLAIS SUIVANT LES TAGS"
   ]
  },
  {
   "cell_type": "code",
   "execution_count": 59,
   "metadata": {},
   "outputs": [],
   "source": [
    "def process_csv(input_file):\n",
    "    # Charger le fichier CSV\n",
    "    df = pd.read_csv(input_file, header=None, names=['tags'])\n",
    "\n",
    "    # Initialiser les dictionnaires pour les tags \"en:\" et \"fr:\"\n",
    "    en_dict = {}\n",
    "    fr_dict = {}\n",
    "\n",
    "    # Commencer le parcours du DataFrame\n",
    "    for index, row in df.iterrows():\n",
    "        # Séparer les éléments par des virgules et supprimer les guillemets\n",
    "        elements = [elem.strip('\"') for elem in row['tags'].split(',')]\n",
    "\n",
    "        # Parcourir chaque élément et séparer le tag du contenu\n",
    "        for elem in elements:\n",
    "            tag_and_content = elem.split(':')\n",
    "            if len(tag_and_content) == 2:\n",
    "                tag, content = tag_and_content\n",
    "                if tag == 'en':\n",
    "                    en_content = content.strip()\n",
    "                    en_dict[en_content] = en_content\n",
    "                elif tag == 'fr':\n",
    "                    fr_content = content.strip()\n",
    "                    fr_dict[fr_content] = fr_content\n",
    "\n",
    "    return en_dict, fr_dict\n"
   ]
  },
  {
   "cell_type": "code",
   "execution_count": 60,
   "metadata": {},
   "outputs": [
    {
     "name": "stdout",
     "output_type": "stream",
     "text": [
      "{'mustard': 'mustard', 'eggs': 'eggs', 'gluten': 'gluten', 'milk': 'milk', 'fish': 'fish', 'sesame-seeds': 'sesame-seeds', 'soybeans': 'soybeans', 'nuts': 'nuts', 'none': 'none', 'sulphur-dioxide-and-sulphites': 'sulphur-dioxide-and-sulphites', 'Barley Malt Extract': 'Barley Malt Extract', 'peanuts': 'peanuts', 'celery': 'celery', 'Skimmed': 'Skimmed', 'crustaceans': 'crustaceans', 'Lait': 'Lait', 'Shellfish': 'Shellfish', 'COCONUT': 'COCONUT', 'molluscs': 'molluscs', 'Wheat Gluten': 'Wheat Gluten', 'Phenylalanine': 'Phenylalanine', 'Pineapple': 'Pineapple', 'Pineapple Juice': 'Pineapple Juice', 'Flour': 'Flour', 'Cajou': 'Cajou', 'Huile de beurre': 'Huile de beurre', 'Cocoa butter': 'Cocoa butter', 'Vanilla': 'Vanilla', 'Whey Protein isolate': 'Whey Protein isolate', 'CONTAINS WHEAT': 'CONTAINS WHEAT', 'Pectin': 'Pectin', 'Corn': 'Corn', 'lupin': 'lupin', 'ALMOND BUTTER': 'ALMOND BUTTER', 'ALMOND FLOUR': 'ALMOND FLOUR', 'COCONUT OIL': 'COCONUT OIL', 'milkfat': 'milkfat', 'LEMON': 'LEMON', 'Lactic': 'Lactic', 'Coconut': 'Coconut', 'Almondmilk': 'Almondmilk', 'Cashewmilk': 'Cashewmilk', 'Pea protein': 'Pea protein', 'Caffeine': 'Caffeine', 'Smoke flavor': 'Smoke flavor', 'fractionated coconut oil': 'fractionated coconut oil', 'Salt': 'Salt', 'Sunflower': 'Sunflower', 'Wheat gluten': 'Wheat gluten', 'coconut': 'coconut', 'Dried cream': 'Dried cream', 'Nonfat dry milk': 'Nonfat dry milk', 'FLOUR': 'FLOUR', 'RED 40': 'RED 40', 'SWEET CREAM': 'SWEET CREAM', 'Pasteurized Sweet Cream': 'Pasteurized Sweet Cream', 'Milkfat': 'Milkfat', 'Avoine': 'Avoine', 'yeast': 'yeast', 'Soy ingredients': 'Soy ingredients', 'coconuts': 'coconuts', 'Durum': 'Durum', 'ORANGE': 'ORANGE', 'Palm Oil': 'Palm Oil', 'Milk products': 'Milk products', 'LACTIC ACID': 'LACTIC ACID', 'Sulfur Dioxide': 'Sulfur Dioxide', 'AND SESAME (WHITE SESAME SEEDS)': 'AND SESAME (WHITE SESAME SEEDS)', 'TREE NUTS (ALMONDS': 'TREE NUTS (ALMONDS', 'honey': 'honey', 'EGG. SULFATE': 'EGG. SULFATE', 'THIAMINE': 'THIAMINE', 'CORN': 'CORN', 'SOYBEAN OIL': 'SOYBEAN OIL', 'Genetically modified': 'Genetically modified', \"confectioner's glaze\": \"confectioner's glaze\", 'Pasteurized Grade A Cultured Low Fat Milk': 'Pasteurized Grade A Cultured Low Fat Milk', 'Pasteurized Grade A Nonfat Milk': 'Pasteurized Grade A Nonfat Milk', 'avoine': 'avoine', 'lait': 'lait', 'orge': 'orge', 'wheat gluten': 'wheat gluten', 'gelatin': 'gelatin', 'Pea Protein': 'Pea Protein', 'Protéine de pois': 'Protéine de pois', 'Poisson': 'Poisson', 'Wheat soy oat barley': 'Wheat soy oat barley', 'chocolate': 'chocolate', 'Skimmed Milk': 'Skimmed Milk', 'Blé': 'Blé', 'herring': 'herring', 'CRUSTACEAN SHELLFISH (SHRIMP)': 'CRUSTACEAN SHELLFISH (SHRIMP)', 'FISH (TUNA)': 'FISH (TUNA)', 'Contains Wheta and Milk': 'Contains Wheta and Milk', 'Farine': 'Farine', 'Honey': 'Honey', 'Contains Milk': 'Contains Milk', 'Skin and Bones': 'Skin and Bones', 'SULFUR DIOXIDE': 'SULFUR DIOXIDE', 'Metabisulphite': 'Metabisulphite', 'Contains Wheat and Their Derivatives': 'Contains Wheat and Their Derivatives', 'Corn and Its Derivatives.': 'Corn and Its Derivatives.', 'Eggs and Their Derivatives': 'Eggs and Their Derivatives', 'Milk and its Derivatives': 'Milk and its Derivatives', 'Other gluten Containing Grain and Gluten Containing Grain Products': 'Other gluten Containing Grain and Gluten Containing Grain Products', 'Soybean and its Derivatives': 'Soybean and its Derivatives', 'CEUF': 'CEUF', 'SHEANUT': 'SHEANUT', 'Bonito (fish)': 'Bonito (fish)', 'Wheatgerm': 'Wheatgerm', 'Derivados de leite': 'Derivados de leite', 'Derivados de soja': 'Derivados de soja', 'Leite': 'Leite', 'Ovo': 'Ovo', 'Trigo': 'Trigo', 'CONTAINS CASHEWS.': 'CONTAINS CASHEWS.', 'Mascarpone Cheese': 'Mascarpone Cheese', 'Mature Cheddar cheese': 'Mature Cheddar cheese', 'Mozzarella Pearls': 'Mozzarella Pearls', 'Mozzarella cheese': 'Mozzarella cheese', 'PEANUT BUTTER': 'PEANUT BUTTER', 'Cocoa Butter': 'Cocoa Butter', 'PINE NUTS': 'PINE NUTS', 'Wheatﬂour': 'Wheatﬂour', 'Sardellen': 'Sardellen', 'Anchovy': 'Anchovy', 'ORGANIC CULTURED PASTEURIZED MILK': 'ORGANIC CULTURED PASTEURIZED MILK', 'ORGANIC NONFAT DRY MILK': 'ORGANIC NONFAT DRY MILK', 'ORGANIC WHEAT FLOUR': 'ORGANIC WHEAT FLOUR', 'wheatflakes': 'wheatflakes', 'candlenut': 'candlenut', 'Coconuts': 'Coconuts', 'Tree nut (Almond)': 'Tree nut (Almond)', 'TREE NUT (ALMOND)': 'TREE NUT (ALMOND)', 'Double cream': 'Double cream', 'Dried Egg': 'Dried Egg', 'Wheat Bran': 'Wheat Bran', 'Ground Almond': 'Ground Almond', 'cashew nuts': 'cashew nuts', 'Caramell': 'Caramell', 'noisettes': 'noisettes', 'Emmental': 'Emmental', 'Mozzarella': 'Mozzarella', 'farine': 'farine', 'Milk chocolate chips': 'Milk chocolate chips', 'Salted caramel filling': 'Salted caramel filling', 'bisulphite': 'bisulphite', 'Oat Flour': 'Oat Flour', 'MILK DERIVATIVES': 'MILK DERIVATIVES', 'Consumeing this product can expose you to chemicals including Bisphernol A (BPA': 'Consumeing this product can expose you to chemicals including Bisphernol A (BPA', 'which is known to the State of California to cause birth defects or other reproductive issues.': 'which is known to the State of California to cause birth defects or other reproductive issues.', 'Plum Stones': 'Plum Stones', 'Wheath': 'Wheath', 'Anchovies': 'Anchovies', 'Contains Tree Nuts': 'Contains Tree Nuts', 'Nay Contain other tree nuts': 'Nay Contain other tree nuts', 'Contains Wheat': 'Contains Wheat', 'BUTTERFAT': 'BUTTERFAT', 'MILKFAT': 'MILKFAT', 'Egg powder': 'Egg powder', 'Coriander': 'Coriander', 'Garlic': 'Garlic', 'Crickets': 'Crickets', 'Insects': 'Insects', 'casein': 'casein', 'CAFFEINE': 'CAFFEINE', 'barley malt': 'barley malt', 'malted wheat': 'malted wheat', 'SULFITING AGENTS': 'SULFITING AGENTS', 'Nutmilk': 'Nutmilk', 'Canola': 'Canola', 'Milk Protein Concentrate': 'Milk Protein Concentrate', 'Fat free milk': 'Fat free milk', 'Tree Nuts (Coconuts)': 'Tree Nuts (Coconuts)', 'Tree nut (coconut)': 'Tree nut (coconut)', 'Contains Sulfites': 'Contains Sulfites', 'Maltodextrin': 'Maltodextrin', 'Pea Protein Isolate': 'Pea Protein Isolate', 'No known allergens': 'No known allergens', 'orange': 'orange', 'Contains wheat': 'Contains wheat', 'calcium salts maybe allergant .': 'calcium salts maybe allergant .', 'and Other sources of Gluten': 'and Other sources of Gluten', 'E129': 'E129', 'Chocolate': 'Chocolate', 'Milk protein concentrate': 'Milk protein concentrate', 'Peanut oil': 'Peanut oil', 'Roasted peanuts': 'Roasted peanuts', 'Eiweißpulver': 'Eiweißpulver', 'Weizenmehl': 'Weizenmehl', '대두': '대두', 'all-naturel egg substitute': 'all-naturel egg substitute', 'baking powder': 'baking powder', 'baking soda': 'baking soda', 'brown rice syrup water': 'brown rice syrup water', 'corn': 'corn', 'salt': 'salt', 'sugar': 'sugar', 'unbleached wheat flour': 'unbleached wheat flour', 'all-natural egg substitute': 'all-natural egg substitute', 'blueberries': 'blueberries', 'brown rice syrup': 'brown rice syrup', 'light brown sugar': 'light brown sugar', 'white chocolate': 'white chocolate', 'unbleached wheatflour': 'unbleached wheatflour', 'Milch': 'Milch', 'Senf': 'Senf', 'Sesam': 'Sesam', 'Weizen': 'Weizen', 'Aspartame': 'Aspartame', 'Lacotse': 'Lacotse', 'Soy Protein': 'Soy Protein', 'Any product contain in this product': 'Any product contain in this product', 'zxs': 'zxs', 'acahuetes': 'acahuetes', 'grutos de cáscara': 'grutos de cáscara', 'Weat': 'Weat', 'Miel de abeja.': 'Miel de abeja.', 'Aveia': 'Aveia', 'Frutos casca rija': 'Frutos casca rija', 'Sésamo e tremoço.': 'Sésamo e tremoço.', 'Arandanos': 'Arandanos', 'Almendras': 'Almendras', 'Maní': 'Maní', 'Fresa': 'Fresa', 'Γλουτένη': 'Γλουτένη', 'Σίκαλης': 'Σίκαλης', 'Σίτου': 'Σίτου', 'Γλουτένη (σίτος)': 'Γλουτένη (σίτος)', 'Ξηροί καρποί': 'Ξηροί καρποί', 'Σόγια': 'Σόγια', 'Γάλα και προϊόντα του': 'Γάλα και προϊόντα του', 'Γλουτένη (σιτηρά)': 'Γλουτένη (σιτηρά)', 'Λεκιθίνη σόγιας': 'Λεκιθίνη σόγιας', 'Γάλα': 'Γάλα', 'αραχίδες (φυστίκια)': 'αραχίδες (φυστίκια)', 'αυγά': 'αυγά', 'λακτόζη': 'λακτόζη', 'ξηρούς καρπούς': 'ξηρούς καρπούς', 'Contains Coconuts and Their Derivatives': 'Contains Coconuts and Their Derivatives', 'Tree Nuts and Their Derivatives.': 'Tree Nuts and Their Derivatives.', 'Seeds': 'Seeds', 'Contains CEREALS CONTAINING GLUTEN': 'Contains CEREALS CONTAINING GLUTEN', 'Contains EGG': 'Contains EGG', 'Contains SOY': 'Contains SOY', 'Caramelised White Chocolate (53%)': 'Caramelised White Chocolate (53%)', 'Hazelnut Praline Centre (27%)': 'Hazelnut Praline Centre (27%)', 'Milk Chocolate (18%). White Chocolate Contains Cocoa Solids 23%': 'Milk Chocolate (18%). White Chocolate Contains Cocoa Solids 23%', 'Milk Solids 29%. Milk Chocolate contains Cocoa Solids 27%': 'Milk Solids 29%. Milk Chocolate contains Cocoa Solids 27%', 'Milk Solids Minimum 24%. Milk': 'Milk Solids Minimum 24%. Milk', 'Contains cereals containing gluten.': 'Contains cereals containing gluten.', 'CONTAINS GLUTEN CONTAINING INGREDIENTS': 'CONTAINS GLUTEN CONTAINING INGREDIENTS', 'TREE NUTS AND SOY AS INDICATED IN BOLD TYPE': 'TREE NUTS AND SOY AS INDICATED IN BOLD TYPE', 'Contains gluten-containing cereals and soy as indicated in bold type.': 'Contains gluten-containing cereals and soy as indicated in bold type.', 'Wheat & Soy.': 'Wheat & Soy.', 'Gluten Containing Cereals': 'Gluten Containing Cereals', 'Contains milk': 'Contains milk', 'gluten (wheat)': 'gluten (wheat)', 'Prepared in fryer used for product containing wheat': 'Prepared in fryer used for product containing wheat', 'Milk Protein Isolate': 'Milk Protein Isolate', 'Soy - Celery – Cod - Shrimp - Crab': 'Soy - Celery – Cod - Shrimp - Crab', 'Oat flakes': 'Oat flakes', 'Rolled oats': 'Rolled oats', 'Wheat treenut (Almond )': 'Wheat treenut (Almond )', 'Gorken': 'Gorken', 'Melk': 'Melk', 'melkeiwitten': 'melkeiwitten', 'room': 'room', 'eigelb': 'eigelb', 'senfsaaten': 'senfsaaten', 'Sojabönor': 'Sojabönor', 'Potassium metabisulphite': 'Potassium metabisulphite', 'Potassium Metabisulphite': 'Potassium Metabisulphite', 'Fromage en poudre': 'Fromage en poudre', 'Contenant': 'Contenant', 'Du': 'Du', 'blé': 'blé', 'œuf': 'œuf', 'Käse': 'Käse', 'Laktose': 'Laktose', 'Weizenvollkorn': 'Weizenvollkorn', 'weizenmehl': 'weizenmehl', 'sodium metabisulphite': 'sodium metabisulphite', 'Gouda cheese': 'Gouda cheese', 'gorczyca': 'gorczyca', 'jaja': 'jaja', 'ryba': 'ryba', 'seler': 'seler', 'Molkenpermeat': 'Molkenpermeat', 'Sodium Metabisulphite': 'Sodium Metabisulphite', 'Whole wheat': 'Whole wheat', 'Cacahuètes': 'Cacahuètes', 'Epeautre': 'Epeautre', 'Noix de Macadamia': 'Noix de Macadamia', 'Noisettes': 'Noisettes', 'Noix du Brésil': 'Noix du Brésil', 'Noix de pécan': 'Noix de pécan', 'tarwebloem': 'tarwebloem', 'Herring': 'Herring', 'Orange juice': 'Orange juice', 'milch': 'milch', 'lactosérum': 'lactosérum', 'Triticale': 'Triticale', 'Skipjack Tuna': 'Skipjack Tuna', 'Milk soy': 'Milk soy', 'Céleri': 'Céleri', 'Œuf': 'Œuf', 'Erdnusskerne': 'Erdnusskerne', 'Vollmilchpulver': 'Vollmilchpulver', 'Arachides': 'Arachides', 'Fruits à coque': 'Fruits à coque', 'Moutarde': 'Moutarde', 'E621': 'E621', 'lactic': 'lactic', 'Wholemilk': 'Wholemilk', 'crème': 'crème', 'Amande': 'Amande', 'Noisette': 'Noisette', 'amandes': 'amandes', 'coque': 'coque', 'laitier': 'laitier', 'Caffeina': 'Caffeina', 'lactosoro': 'lactosoro', 'manteiga': 'manteiga', 'queijos': 'queijos', 'fromages': 'fromages', 'Lait et produits laitiers (y compris lactose)': 'Lait et produits laitiers (y compris lactose)', \"Malt d'orge\": \"Malt d'orge\", 'Malt de blé': 'Malt de blé', 'Amandes': 'Amandes', 'Noix de cajou': 'Noix de cajou', 'Fuits à coques': 'Fuits à coques', 'Beurre': 'Beurre', 'Sans gluten': 'Sans gluten', 'Cantal': 'Cantal', 'mollusque': 'mollusque', 'Pâte': 'Pâte', 'Pâtes': 'Pâtes', 'φυστίκια': 'φυστίκια', 'beurre': 'beurre', 'Butter oil': 'Butter oil', 'Fresh cream': 'Fresh cream', 'emmental': 'emmental', 'Tomme': 'Tomme', 'fromagère': 'fromagère', 'Œufs': 'Œufs', 'cacao': 'cacao', 'Surimi': 'Surimi', 'Sarasin': 'Sarasin', 'Gluten crustacés œuf soja les fruits à coque céleri moutarde graines de sésame mollusque': 'Gluten crustacés œuf soja les fruits à coque céleri moutarde graines de sésame mollusque', 'Sojalecithin': 'Sojalecithin', 'Crème': 'Crème', 'Gorgonzola': 'Gorgonzola', 'Noix': 'Noix', 'Lactiques': 'Lactiques'}\n",
      "{'Spécialité fromagère': 'Spécialité fromagère', 'Trigo (gluten)': 'Trigo (gluten)', 'Cajou': 'Cajou', 'Fruits à coques moulus': 'Fruits à coques moulus', 'Huile de beurre': 'Huile de beurre', 'huile de beurre': 'huile de beurre', 'cajou': 'cajou', 'fruit à coque moulus': 'fruit à coque moulus', 'poudre de lait entier': 'poudre de lait entier', 'Cornish clotted cream': 'Cornish clotted cream', 'crème caillée': 'crème caillée', 'Fromage cheddar': 'Fromage cheddar', 'Barley Flakes': 'Barley Flakes', 'Cashew Nuts': 'Cashew Nuts', 'Arômes': 'Arômes', 'MILK FAT': 'MILK FAT', 'SKIM MILK': 'SKIM MILK', 'CITRON': 'CITRON', 'Avoine': 'Avoine', 'fromage mozzarella': 'fromage mozzarella', 'graines de tournesol': 'graines de tournesol', 'org': 'org', 'CITRUS': 'CITRUS', 'ORANGE': 'ORANGE', 'Fromage parmesan': 'Fromage parmesan', 'Goberge': 'Goberge', \"CONTIENT DES INGRÉDIENTS DE L'ORGE.\": \"CONTIENT DES INGRÉDIENTS DE L'ORGE.\", 'phenylalanine': 'phenylalanine', \"contient des ingrédients de l'avoine.\": \"contient des ingrédients de l'avoine.\", 'avoine': 'avoine', 'substances laitières modifiées': 'substances laitières modifiées', 'LEMON': 'LEMON', 'Fromage mozzarella': 'Fromage mozzarella', 'Substance laitière': 'Substance laitière', 'carpe': 'carpe', 'MATIÈRE GRASSE BUTYRIQUE': 'MATIÈRE GRASSE BUTYRIQUE', 'poudre d’œufs': 'poudre d’œufs', 'Buttermilchpulver': 'Buttermilchpulver', 'Cheddar-Käse': 'Cheddar-Käse', 'Magermilchpulver': 'Magermilchpulver', 'Weizenmehl': 'Weizenmehl', 'Cumin': 'Cumin', 'Graine de coriandre': 'Graine de coriandre', 'Graines de coriandre': 'Graines de coriandre', 'Caféine': 'Caféine', 'Phénylalanine': 'Phénylalanine', 'Farine': 'Farine', 'contient des légumineuses': 'contient des légumineuses', 'Pâte froment': 'Pâte froment', 'améliorant': 'améliorant', 'farine vrac': 'farine vrac', 'mélange boisé': 'mélange boisé', 'phil germe de froment': 'phil germe de froment', 'farine': 'farine', 'colza': 'colza', 'JAUNE': 'JAUNE', 'CRÈME UHT': 'CRÈME UHT', 'EGLEFIN': 'EGLEFIN', 'Graines de tournesol': 'Graines de tournesol', 'Bulots': 'Bulots', 'Crabe tourteau': 'Crabe tourteau', 'Sulfite de sodium': 'Sulfite de sodium', 'dioxyde de soufre': 'dioxyde de soufre', 'son': 'son', 'Sauce moutarde': 'Sauce moutarde', 'disulfite de potassium': 'disulfite de potassium', 'Colza': 'Colza', 'pangas': 'pangas', 'noix de coco': 'noix de coco', 'farine de ténébrions meuniers': 'farine de ténébrions meuniers', 'Blé malté': 'Blé malté', 'Levure': 'Levure', 'Orge maltée': 'Orge maltée', 'Fruits de mer': 'Fruits de mer', 'Lait cacahu-te': 'Lait cacahu-te', 'Beurr': 'Beurr', 'Nblé': 'Nblé', 'AVOINE': 'AVOINE', 'Malt froment': 'Malt froment', 'Malt de blé': 'Malt de blé', 'Églefin': 'Églefin', 'neant': 'neant', 'SARRASIN': 'SARRASIN', 'Semoule': 'Semoule', 'Néant': 'Néant', 'Flour': 'Flour', 'Soyabean': 'Soyabean', 'E226': 'E226', 'Arachide grillée': 'Arachide grillée', \"Purée d'arachide\": \"Purée d'arachide\", 'Sauce soja tamari': 'Sauce soja tamari', 'Protéine de pois (légumineuses)': 'Protéine de pois (légumineuses)', 'éperlans': 'éperlans', 'melk': 'melk', 'tarwebloem': 'tarwebloem', 'Lactic ferments': 'Lactic ferments', 'Pois': 'Pois', 'lait écrémé en poudre': 'lait écrémé en poudre', 'graisses végétales': 'graisses végétales', 'E220': 'E220', 'Palme': 'Palme', 'Tournesol': 'Tournesol', \"Vinaigre d'alcool\": \"Vinaigre d'alcool\", 'lait-crème': 'lait-crème', 'lin': 'lin', 'Pain': 'Pain', 'mayonnaise': 'mayonnaise', 'Iait': 'Iait', 'Rouget-barbet': 'Rouget-barbet', 'abricot': 'abricot', 'orange': 'orange', 'pamplemousse': 'pamplemousse', 'Châtaignes': 'Châtaignes', \"Extrait d'acérola\": \"Extrait d'acérola\", 'Sucre': 'Sucre', 'Blé germé': 'Blé germé', 'flocons d’avoine': 'flocons d’avoine', 'Ferments': 'Ferments', 'Grana Padano AOP': 'Grana Padano AOP', 'Provolone': 'Provolone', 'Cacao': 'Cacao', 'Maïs': 'Maïs', 'oeufs lait': 'oeufs lait', 'Technophobia': 'Technophobia', 'SO2': 'SO2', 'SOJA FRUITS À COQUES CÉLERI MOUTARDE SULFITES GLUTEN LAIT SÉSAME': 'SOJA FRUITS À COQUES CÉLERI MOUTARDE SULFITES GLUTEN LAIT SÉSAME', 'Blé (gluten)': 'Blé (gluten)', 'Mollusques (huîtres)': 'Mollusques (huîtres)', 'Soya et blé (gluten).': 'Soya et blé (gluten).', 'Gluten (orge)': 'Gluten (orge)', 'Poisson (anchois)': 'Poisson (anchois)', 'Blé (gluten) et soya.': 'Blé (gluten) et soya.', 'Poisson (anchois) et sulfites.': 'Poisson (anchois) et sulfites.', 'Blé (gluten) et lait': 'Blé (gluten) et lait', 'acide ascorbique': 'acide ascorbique', 'Gluten - oeuf - Lactose': 'Gluten - oeuf - Lactose', 'Milk and eggs': 'Milk and eggs', 'Hühnervollei': 'Hühnervollei', 'Molkenerzeugnis': 'Molkenerzeugnis', 'Vollmilchpulver': 'Vollmilchpulver', 'Weizenstärke': 'Weizenstärke', 'fromage en poudre': 'fromage en poudre', 'plus connu sous le nom de Silicone': 'plus connu sous le nom de Silicone', 'utilisé aussi dans la restauration rapide! Contiendrait des Nanoparticules (V. Gouget). A éviter.': 'utilisé aussi dans la restauration rapide! Contiendrait des Nanoparticules (V. Gouget). A éviter.', 'Croissant': 'Croissant', 'Jambon cuit standard': 'Jambon cuit standard', 'Sauce Mornay': 'Sauce Mornay', 'Matière grasse laitière': 'Matière grasse laitière', 'ferments': 'ferments', 'protéines de lactosérum du lait': 'protéines de lactosérum du lait', 'protéines de lactosérum du lait de brebis': 'protéines de lactosérum du lait de brebis', 'protéines de lactosérum du lait de vache': 'protéines de lactosérum du lait de vache', 'fiskprotein': 'fiskprotein', 'loddarom': 'loddarom', 'nordhavsrâkor': 'nordhavsrâkor', 'àggula': 'àggula', 'âggvita': 'âggvita', 'Coques': 'Coques', 'lait entier en poudre': 'lait entier en poudre', 'Nitrite de sodium': 'Nitrite de sodium', 'lait entier fermenté': 'lait entier fermenté', 'amandons': 'amandons', 'germes de blé': 'germes de blé', 'lactose et gluten vu ingrédients': 'lactose et gluten vu ingrédients', 'caroube': 'caroube', 'moules du Pacifique': 'moules du Pacifique', 'Feuilletée': 'Feuilletée', 'Garniture': 'Garniture', 'Pâte': 'Pâte', 'Salmo salar': 'Salmo salar', 'Fromage en poudre': 'Fromage en poudre', 'tourteau': 'tourteau', 'nitrate de potassium': 'nitrate de potassium', 'lactorésum en poudre': 'lactorésum en poudre', 'abricots': 'abricots', 'Métabisulphite de sodium': 'Métabisulphite de sodium', 'Natriummetabisulfit': 'Natriummetabisulfit', 'disulfite de sodium': 'disulfite de sodium', 'Moutard': 'Moutard', 'sulﬁtes': 'sulﬁtes', 'Emrobage à base de cire de Carnauba et Shellac': 'Emrobage à base de cire de Carnauba et Shellac', 'nosiettes': 'nosiettes', 'Schalenfrüchte': 'Schalenfrüchte', 'amidon': 'amidon', 'azyme': 'azyme', 'Gluten de trigo': 'Gluten de trigo', 'butyrique': 'butyrique', 'épeautre complet': 'épeautre complet', 'Lait1': 'Lait1', 'Ce produit est fait à base de fruits ayant été traités avec des substances phytosanitaires ! (Information reçu de la part de lidl.fr)': 'Ce produit est fait à base de fruits ayant été traités avec des substances phytosanitaires ! (Information reçu de la part de lidl.fr)', \"Acérola (rHEV b 6.01 croisé à l'allergie au latex)\": \"Acérola (rHEV b 6.01 croisé à l'allergie au latex)\", 'Senfbestandteile': 'Senfbestandteile', 'sarrasin': 'sarrasin', '4\\xa0%': '4\\xa0%', 'atún': 'atún', 'bonito del norte': 'bonito del norte', 'nata': 'nata', 'Haferflocken': 'Haferflocken', 'Weizenvollkornmehl': 'Weizenvollkornmehl', 'Salmo salar supérieur': 'Salmo salar supérieur', 'LYSOZYME': 'LYSOZYME', 'Suifites': 'Suifites', 'Iactosérum': 'Iactosérum', 'oeuf de poule': 'oeuf de poule', 'grondins': 'grondins', 'matière grasse laitière': 'matière grasse laitière', 'Beurre lait crème': 'Beurre lait crème', 'Ceufs': 'Ceufs', 'Bûchette': 'Bûchette', 'Tome': 'Tome', 'soufre': 'soufre', 'crème aigre': 'crème aigre', 'Chapelure': 'Chapelure', 'Gerstenmalzextrakt': 'Gerstenmalzextrakt', 'Sojaprotein': 'Sojaprotein', 'Weizengluten': 'Weizengluten', 'Weizenprotein': 'Weizenprotein', 'yogourt': 'yogourt', 'églefin': 'églefin', 'Hühnerei-Eiweißpulver': 'Hühnerei-Eiweißpulver', 'FERMENTS': 'FERMENTS', 'AMIDON DE BLE': 'AMIDON DE BLE', 'moutarde de Diion': 'moutarde de Diion', 'pesto': 'pesto', 'pignons': 'pignons', 'fontina': 'fontina', 'noix de muscade': 'noix de muscade', 'riz': 'riz', 'Merlu blanc': 'Merlu blanc', 'Filets de maquereaux': 'Filets de maquereaux', 'Maguereau': 'Maguereau', 'Sprats': 'Sprats', 'Œufs de brochet': 'Œufs de brochet', 'Pecorino Romano': 'Pecorino Romano', 'E150b': 'E150b', '\\x8cœuf': '\\x8cœuf', '\\x8cœufs': '\\x8cœufs', 'ABRICOT': 'ABRICOT', 'germe de blé': 'germe de blé', 'Coco': 'Coco', 'Sarrasin': 'Sarrasin', 'Céréales': 'Céréales', 'malt de blé': 'malt de blé', 'Bœuf': 'Bœuf', 'croûtons': 'croûtons', 'vermicelles': 'vermicelles', 'semoule de blé': 'semoule de blé', 'fonte': 'fonte', 'fromage blanc fondu': 'fromage blanc fondu', 'Vermicelles': 'Vermicelles', 'chapelure': 'chapelure', 'pâtes': 'pâtes', 'arômes': 'arômes', 'PECORINO ROMANO': 'PECORINO ROMANO', 'PIGNONS': 'PIGNONS', 'pecorino romano': 'pecorino romano', 'Couscous': 'Couscous', 'ARÔMES': 'ARÔMES', 'CASEINATE DE SODIUM': 'CASEINATE DE SODIUM', 'Césame': 'Césame', 'Bar': 'Bar', 'Boulghour': 'Boulghour', 'Saumon Atlantique': 'Saumon Atlantique', 'Beurre laitier': 'Beurre laitier', 'beurre laitier': 'beurre laitier', 'réglisse': 'réglisse', 'ORANGES': 'ORANGES', 'E102': 'E102', 'Citron vert': 'Citron vert', 'LAlT': 'LAlT', 'protéines de blé': 'protéines de blé', 'Figue': 'Figue', 'métabisulfite de sodium': 'métabisulfite de sodium', 'Sulfiltes': 'Sulfiltes', 'Avitaminose en vitamine B12': 'Avitaminose en vitamine B12', 'Conservateur chimique': 'Conservateur chimique', 'Conservateur chimique. Possibilité de troubles digestifs': 'Conservateur chimique. Possibilité de troubles digestifs', \"Possibilités d'irritation du tube digestif\": \"Possibilités d'irritation du tube digestif\", 'contrarie la fixation de la vitamine B1': 'contrarie la fixation de la vitamine B1', 'mutagènes': 'mutagènes', 'nausées': 'nausées', 'ou dioxyde de soufre': 'ou dioxyde de soufre', 'élimination du calcium': 'élimination du calcium', 'Lactique laitier': 'Lactique laitier', 'Gélatine de poisson': 'Gélatine de poisson', 'Lait et produits laitiers (y compris lactose)': 'Lait et produits laitiers (y compris lactose)', 'Fromage bleu': 'Fromage bleu', 'Chèvre': 'Chèvre', 'Anchois lactique laitier': 'Anchois lactique laitier', 'Camembert': 'Camembert', 'Pavot': 'Pavot', 'barley malt': 'barley malt', 'Houblon': 'Houblon', 'PAMPLEMOUSSE': 'PAMPLEMOUSSE', 'CHAPELURE': 'CHAPELURE', 'Pollen': 'Pollen', 'Contient du gluten (avoine)': 'Contient du gluten (avoine)', 'CONTIENT DU GLUTEN (avoine)': 'CONTIENT DU GLUTEN (avoine)', 'citron': 'citron', 'citron vert': 'citron vert', 'mandarine': 'mandarine', 'lactique laitier': 'lactique laitier', 'Dextrose': 'Dextrose', 'gruau': 'gruau', \"Noix d'Amazonie\": \"Noix d'Amazonie\", 'Kamut ou Toutes Souches Hybridées)': 'Kamut ou Toutes Souches Hybridées)', 'Noix de Macadamia et Produits en Contenant': 'Noix de Macadamia et Produits en Contenant', 'Soja et Produits en Contenant': 'Soja et Produits en Contenant', 'fruits à coques et œufs et autres gluten': 'fruits à coques et œufs et autres gluten', 'ogre': 'ogre', 'Présence possible de poisson et de protéines de lait.': 'Présence possible de poisson et de protéines de lait.', 'BEAUFORT': 'BEAUFORT', 'Beaufort': 'Beaufort', 'amidon de blé': 'amidon de blé', 'lat': 'lat', 'Milchmineralien': 'Milchmineralien', 'moutarde de Dijon': 'moutarde de Dijon', 'Thon albacore': 'Thon albacore', 'amandes grillées': 'amandes grillées', 'maïs': 'maïs', 'pavot': 'pavot', 'Lactose de lait': 'Lactose de lait', 'œufs entiers': 'œufs entiers', 'E471': 'E471', 'crêpe': 'crêpe', 'Polyphosphates': 'Polyphosphates', 'carraghénanes': 'carraghénanes', 'carraghénanes.': 'carraghénanes.', 'E150d': 'E150d', 'Lactoséum': 'Lactoséum', 'Seitan de blé': 'Seitan de blé', 'Anhydre sulfureux': 'Anhydre sulfureux', 'Tomme': 'Tomme', 'Lait écrémé en poudre': 'Lait écrémé en poudre', 'Blé maltés': 'Blé maltés', 'LIME': 'LIME', 'Dérivés': 'Dérivés', 'dérivés': 'dérivés', 'Disulfite de sodium': 'Disulfite de sodium', \"fourme d'Ambert\": \"fourme d'Ambert\", 'Millet': 'Millet', 'triticale': 'triticale', 'Bisulfite de potassium': 'Bisulfite de potassium', 'lactosérum en poudre': 'lactosérum en poudre', 'hostie': 'hostie', 'Ingrédients du bouillon déshydraté': 'Ingrédients du bouillon déshydraté', 'Ingrédients de la préparation déshydratée': 'Ingrédients de la préparation déshydratée', 'Ufs': 'Ufs', 'Filets de harengs': 'Filets de harengs', 'TOME': 'TOME', 'Uf': 'Uf', 'Farce': 'Farce', 'Sauce': 'Sauce', 'Gadus macrocephalus': 'Gadus macrocephalus', 'Gadus morhua': 'Gadus morhua', 'Œuf - moutarde': 'Œuf - moutarde', 'Tourteaux': 'Tourteaux', 'Biscuit': 'Biscuit', 'Fourrage': 'Fourrage', 'Nappage chocolat noir': 'Nappage chocolat noir', 'Oeufs de lompe': 'Oeufs de lompe', 'Œufs de lompe': 'Œufs de lompe', 'Fruits': 'Fruits', 'Sirop': 'Sirop', 'Theragra chalcogramma': 'Theragra chalcogramma', 'Maasdam': 'Maasdam', 'Eufs': 'Eufs', 'Blé-lactose': 'Blé-lactose', 'Blé́': 'Blé́', 'fromage Emmental': 'fromage Emmental', 'gras': 'gras', 'Gras': 'Gras', 'Décor chocolat noir': 'Décor chocolat noir', 'Nappage chocolat blanc': 'Nappage chocolat blanc', 'Poudre de lait entier': 'Poudre de lait entier', 'Éclats denoisettes': 'Éclats denoisettes', 'Voine': 'Voine', 'Fromage emmental': 'Fromage emmental', 'Quenelle': 'Quenelle', 'Blé - gluten de blé': 'Blé - gluten de blé', 'metton': 'metton', 'Mousse de foie': 'Mousse de foie', 'maasdam': 'maasdam', 'Mini-tartelette  olive tomate fromages 27': 'Mini-tartelette  olive tomate fromages 27', 'Mini-tartelette  quiche lardon cuit fumé 26': 'Mini-tartelette  quiche lardon cuit fumé 26', 'Mini-tartelette  saumon oseille 24': 'Mini-tartelette  saumon oseille 24', 'Mini-tartelette aux 2 fromages 23': 'Mini-tartelette aux 2 fromages 23', 'Cantal': 'Cantal', 'couscous': 'couscous', 'Fromage grana padano': 'Fromage grana padano', 'Fromage pecorino romano': 'Fromage pecorino romano', 'Rge': 'Rge', 'Penaeus monodon': 'Penaeus monodon', 'disulﬁte': 'disulﬁte', 'Clupea harengus': 'Clupea harengus', 'Mousse de canard au porto': 'Mousse de canard au porto', 'Fromage Grana Padano': 'Fromage Grana Padano', 'beurre salé': 'beurre salé', 'Pecorino romano': 'Pecorino romano', 'emmental râpé': 'emmental râpé', 'Biscuits salés aux graines de sésame': 'Biscuits salés aux graines de sésame', 'Biscuits salés goût bacon': 'Biscuits salés goût bacon', 'Biscuits salés goût pizza': 'Biscuits salés goût pizza', \"Biscuits salés à l'emmental\": \"Biscuits salés à l'emmental\", \"Bleu d'Auvergne\": \"Bleu d'Auvergne\", 'Gorgonzole AOP': 'Gorgonzole AOP', 'Légumes': 'Légumes', 'Viande de boeuf préparée en salaison précuite': 'Viande de boeuf préparée en salaison précuite', 'Beurre doux': 'Beurre doux', 'Crème glacée chocolat': 'Crème glacée chocolat', 'Crème glacée fraise': 'Crème glacée fraise', 'Crème glacée vanille': 'Crème glacée vanille', '- 1 boîte de garniture de 800g': '- 1 boîte de garniture de 800g', '- 1 coupelle de semoule de blé': '- 1 coupelle de semoule de blé', 'levain': 'levain', 'levain de blé': 'levain de blé', 'Sachet de batonnets de pain spécial': 'Sachet de batonnets de pain spécial', 'Salade composée': 'Salade composée', 'Vinaigrette  au vinaigre balsamique': 'Vinaigrette  au vinaigre balsamique', 'Sachet de bâtonnets de pain spécial': 'Sachet de bâtonnets de pain spécial', 'Vinaigrette au vinaigre balsamique': 'Vinaigrette au vinaigre balsamique', 'Chips saveur bolognaise': 'Chips saveur bolognaise', 'Crevettes nordiques': 'Crevettes nordiques', 'Vénus': 'Vénus', 'Mande': 'Mande', 'levure': 'levure', 'Blé - œufs': 'Blé - œufs', 'Chinchard': 'Chinchard', 'Grondin': 'Grondin', 'Liquide de couverture': 'Liquide de couverture', 'Quenelles': 'Quenelles', '—-o.alités gustatives. \\\\': '—-o.alités gustatives. \\\\', 'Pâtes': 'Pâtes', 'Queues de langoustes blanches': 'Queues de langoustes blanches', 'Metton': 'Metton', 'cantal': 'cantal', 'Pleoticus muelleri et/ou pleoticus robustus': 'Pleoticus muelleri et/ou pleoticus robustus', 'Lait écrémé réhydraté - eau - sirop de glucose - sucre - graisse de coprah - cacao maigre  en poudre - lactose': 'Lait écrémé réhydraté - eau - sirop de glucose - sucre - graisse de coprah - cacao maigre  en poudre - lactose', 'Pâte à pizza': 'Pâte à pizza', 'Soufflés aromatisés emmental': 'Soufflés aromatisés emmental', 'Soufflés goût bacon': 'Soufflés goût bacon', 'Soufflés salés': 'Soufflés salés', 'Soufflés à la cacahuète': 'Soufflés à la cacahuète', 'Céleri 3\\xa0%': 'Céleri 3\\xa0%', 'mozarella': 'mozarella', 'Langoustes blanches': 'Langoustes blanches', 'Panulirus argus': 'Panulirus argus', 'Fromage tomme': 'Fromage tomme', 'Oeuf - moutarde': 'Oeuf - moutarde', 'Cheddar rouge': 'Cheddar rouge', 'Blé - lactose': 'Blé - lactose', 'En gras': 'En gras', 'salmo salar': 'salmo salar', \"Ingrédients issus de l'agriculture biologique\": \"Ingrédients issus de l'agriculture biologique\", 'Blé - oeufs': 'Blé - oeufs', 'Cantharellus cibarius': 'Cantharellus cibarius', 'Reticulatus': 'Reticulatus', 'Morchella esculenta - conica - vulgaris - costata': 'Morchella esculenta - conica - vulgaris - costata', 'Emmental fondu': 'Emmental fondu', 'Blé - huile de sésame': 'Blé - huile de sésame', 'Samossa aux légumes 6x25g 88': 'Samossa aux légumes 6x25g 88', 'Sauce aigre douce 20g 12': 'Sauce aigre douce 20g 12', 'Pollachius virens': 'Pollachius virens', 'Tuber aestivum': 'Tuber aestivum', 'Penaeus vannamei': 'Penaeus vannamei', 'Gluten de blé - beurre': 'Gluten de blé - beurre', 'Tourteau': 'Tourteau', 'Levain': 'Levain', 'Thunnus albacares': 'Thunnus albacares', 'Salmo  salar': 'Salmo  salar', 'Lactose - poudre de lait': 'Lactose - poudre de lait', \"Bâtonnets de sorbet à l'orange\": \"Bâtonnets de sorbet à l'orange\", 'Absence': 'Absence', 'Métabisulfite de sodium': 'Métabisulfite de sodium', 'Lait de vache pasteurisé': 'Lait de vache pasteurisé', 'Mantequilla': 'Mantequilla', 'farine de seigle maltée': 'farine de seigle maltée', 'Farine de blé 57': 'Farine de blé 57', 'Amidon de blé': 'Amidon de blé', \"Fibres d'avoine\": \"Fibres d'avoine\", 'avoine*': 'avoine*', '*avoine': '*avoine', 'Avoine*': 'Avoine*', 'Sarrasin*': 'Sarrasin*', 'Disulfite de potassium': 'Disulfite de potassium', 'champignons': 'champignons', 'oignons': 'oignons', 'GLUEN': 'GLUEN', \"NOIX D'AMAZONIE\": \"NOIX D'AMAZONIE\", 'Basilic': 'Basilic', 'basilic': 'basilic', 'Fromage à pâte dure': 'Fromage à pâte dure', 'Champignons': 'Champignons', 'Crustracés': 'Crustracés', 'crème UHT': 'crème UHT', 'mozzarrella': 'mozzarrella', 'mozzarella au lait de Bufflone': 'mozzarella au lait de Bufflone', 'Comté AOP': 'Comté AOP', 'lactoprotéines': 'lactoprotéines', 'Blé lait emmental mozzarella fromage': 'Blé lait emmental mozzarella fromage', 'Surimi': 'Surimi', 'Ingrédients': 'Ingrédients', 'Blé noir': 'Blé noir', 'Thon blanc': 'Thon blanc', 'Thon listao': 'Thon listao', 'INGREDIENTS': 'INGREDIENTS', 'Moules du Pacifique': 'Moules du Pacifique', \"Mélange d'épices\": \"Mélange d'épices\", \"Sachet d'assaisonnement\": \"Sachet d'assaisonnement\", '8 Tortillas de blé Ingrédients': '8 Tortillas de blé Ingrédients', \"Blé d'épeautre\": \"Blé d'épeautre\", 'Mandes': 'Mandes', 'Moulage de chocolat au lait extra-fin': 'Moulage de chocolat au lait extra-fin', 'Euf': 'Euf', 'Scargots': 'Scargots', 'Saumon atlantique': 'Saumon atlantique', 'Moutarde de Dijon': 'Moutarde de Dijon', \"Moutarde à l'ancienne\": \"Moutarde à l'ancienne\", 'Pécorino': 'Pécorino', 'rien': 'rien', 'œufs de cabillaud': 'œufs de cabillaud', 'Ravioli aux 3 fromages': 'Ravioli aux 3 fromages', 'Scamorza': 'Scamorza', 'Dorade': 'Dorade', 'rouget barbet': 'rouget barbet', 'Crystacé': 'Crystacé', 'Cuisiné en France': 'Cuisiné en France', 'Crème à 30\\xa0% de matière grasse': 'Crème à 30\\xa0% de matière grasse', 'Céler': 'Céler', 'Non indiqué': 'Non indiqué', 'Bl': 'Bl', 'Noisettes entières': 'Noisettes entières', 'Crème pasteurisée': 'Crème pasteurisée', 'Abricot': 'Abricot', 'Orange': 'Orange', 'Lait entier en poudre': 'Lait entier en poudre', 'Thon blanc germon': 'Thon blanc germon', 'Mozzarelle': 'Mozzarelle', 'CEufs': 'CEufs', 'Iactose': 'Iactose', 'Blė': 'Blė', 'miel': 'miel', 'acide lactique': 'acide lactique', 'ABRICOTS': 'ABRICOTS', 'transglutaminase': 'transglutaminase', 'Blé oeuf': 'Blé oeuf', 'Acide ascorbique': 'Acide ascorbique', 'E224 (sulfites)': 'E224 (sulfites)', 'E224': 'E224', 'Blé; beurre; œufs;': 'Blé; beurre; œufs;', \"Poudre d'amande*\": \"Poudre d'amande*\", 'Lait de vache cru': 'Lait de vache cru', 'encre de seiche': 'encre de seiche', 'dur': 'dur', 'porc': 'porc', 'Sulfittes': 'Sulfittes', 'Cassis': 'Cassis', 'Fraise': 'Fraise', 'Framboise': 'Framboise', 'Sucre de canne': 'Sucre de canne', 'Albumine de lait': 'Albumine de lait', 'RUM': 'RUM', 'RAVE': 'RAVE', 'CAJOU': 'CAJOU', 'PROTEINES': 'PROTEINES', 'ascorbate de sodium': 'ascorbate de sodium', 'Ascorbate de sodium': 'Ascorbate de sodium', 'ANHYDRIDE': 'ANHYDRIDE', 'SULFUREUX': 'SULFUREUX', 'Sulﬁtes': 'Sulﬁtes', 'COQUE': 'COQUE', 'FRUITS': 'FRUITS', 'CACAO': 'CACAO', 'TRANSPARENCE': 'TRANSPARENCE', 'ASC': 'ASC', 'présure': 'présure', 'CACAHUETTE': 'CACAHUETTE', 'GRAINES': 'GRAINES', 'SAME': 'SAME', 'TES': 'TES', 'arôme naturel de vanille)': 'arôme naturel de vanille)', 'cacao en poudre': 'cacao en poudre', 'chocolat noir 5\\xa0% (pâte de cacao': 'chocolat noir 5\\xa0% (pâte de cacao', 'gousse de vanille épuisée 0': 'gousse de vanille épuisée 0', 'FMS': 'FMS', 'FTS': 'FTS', 'XIV': 'XIV', 'JACQUES': 'JACQUES', 'SAINT': 'SAINT', 'EMMENATL': 'EMMENATL', 'CERTISUD': 'CERTISUD', 'PAU': 'PAU', '7\\xa0%': '7\\xa0%', 'CEPAGE': 'CEPAGE', 'beurre de cacao': 'beurre de cacao', 'TOURTEAU': 'TOURTEAU', 'FRANCE': 'FRANCE', 'BRESIL': 'BRESIL', 'USA': 'USA', 'bIé': 'bIé', 'EXTRAITE': 'EXTRAITE', 'FROID': 'FROID', 'SULFILTES': 'SULFILTES', 'MOZARELLA': 'MOZARELLA', 'PEAUTRE': 'PEAUTRE', 'AIT': 'AIT', 'PROGRAMME': 'PROGRAMME', 'BLANC': 'BLANC', 'FOURME': 'FOURME', 'PARMIGIANO': 'PARMIGIANO', 'REGGIANO': 'REGGIANO', 'SODIUM': 'SODIUM', 'ALASKA': 'ALASKA', '34': '34', '5\\xa0%': '5\\xa0%', 'LACTOSERUM en poudre': 'LACTOSERUM en poudre', 'ah': 'ah', 'arôme': 'arôme', 'concentré': 'concentré', 'concentré de protéines de SERUM': 'concentré de protéines de SERUM', 'de protéines de SERUM': 'de protéines de SERUM', 'eau': 'eau', 'graisse végétale de copr': 'graisse végétale de copr', 'purée de fraise 4': 'purée de fraise 4', 'sirop de glucose': 'sirop de glucose', 'sirop de glucose-fructose': 'sirop de glucose-fructose', 'sucre': 'sucre', 'FRAICHE': 'FRAICHE', 'AUVERGNE': 'AUVERGNE', 'LACTOPROTEINES': 'LACTOPROTEINES', 'INES': 'INES', 'PROT': 'PROT', 'CAS': 'CAS', 'INATES': 'INATES', 'DLUO': 'DLUO', 'BLE POISSON LAIT OEUF MOUTARDE': 'BLE POISSON LAIT OEUF MOUTARDE', 'SILFITES': 'SILFITES', 'Parmigiano Regiano': 'Parmigiano Regiano', 'amidon modifié': 'amidon modifié', 'arômes naturels': 'arômes naturels', 'ferments.': 'ferments.', '5\\xa0%)': '5\\xa0%)', 'arôme naturel': 'arôme naturel', 'dextrose': 'dextrose', 'Bien agiter avant de servir. Boire très frais. Doit être conservé à +6°C maximum. A consommer rapidement après ouverture': 'Bien agiter avant de servir. Boire très frais. Doit être conservé à +6°C maximum. A consommer rapidement après ouverture', 'HCO': 'HCO', 'CREM': 'CREM', 'AMBERT': 'AMBERT', 'DECONGELE': 'DECONGELE', 'JAMAIS': 'JAMAIS', 'PRODUIT': 'PRODUIT', 'RECONGELER': 'RECONGELER', 'amidon de tapioca': 'amidon de tapioca', 'extrait de carthame': 'extrait de carthame', 'CAN': 'CAN', 'ALES': 'ALES', 'INDIQUER': 'INDIQUER', 'OGM': 'OGM', 'POTASSIUM': 'POTASSIUM', 'EMB': 'EMB', 'TOMME': 'TOMME', 'VII': 'VII', \"Mollusques (Indication non requise sur l'étiquetage conformément à l'article 21 1.b) du règlement CE 1169/2011)\": \"Mollusques (Indication non requise sur l'étiquetage conformément à l'article 21 1.b) du règlement CE 1169/2011)\", 'GRANA': 'GRANA', 'PADANO': 'PADANO', 'PATE': 'PATE', 'MAASDAM': 'MAASDAM', 'CERTICAR': 'CERTICAR', 'ETG': 'ETG', 'STG': 'STG', 'PARMIAGIANO': 'PARMIAGIANO', 'Chocolat': 'Chocolat', 'Lair': 'Lair', 'Crème laitière': 'Crème laitière', 'Rhum': 'Rhum', 'vin': 'vin', \"ferments lactiques et d'affinage\": \"ferments lactiques et d'affinage\", 'Iactosèrum': 'Iactosèrum', 'Maroilles': 'Maroilles', 'Oufs': 'Oufs', 'matière grasse laitière anhydre': 'matière grasse laitière anhydre', 'sarrasin*': 'sarrasin*', 'Guten': 'Guten', 'thon albacore': 'thon albacore', 'thon listao': 'thon listao', 'saumon Atlantique': 'saumon Atlantique', 'fruits de mer': 'fruits de mer', 'Protéines': 'Protéines', 'sérum de Iait': 'sérum de Iait', 'sérum de lait': 'sérum de lait', 'chair de poisson': 'chair de poisson', 'Raclette de Savoie': 'Raclette de Savoie', 'Alcool': 'Alcool', 'Sulfites et SO2 &gt; 10ppm': 'Sulfites et SO2 &gt; 10ppm', 'Décors': 'Décors', 'Génoise et garniture': 'Génoise et garniture', 'Olives': 'Olives', 'Lait cannelle': 'Lait cannelle', 'muscade': 'muscade', 'Chaource': 'Chaource', 'Miel': 'Miel', 'vin blanc': 'vin blanc', \"vinaigres d'alcool et de vin\": \"vinaigres d'alcool et de vin\", 'Vin': 'Vin', 'Thon Albacore': 'Thon Albacore', 'Foie de morue': 'Foie de morue', 'amidons modifiés de maïs et de pomme de terre - huile de tournesol': 'amidons modifiés de maïs et de pomme de terre - huile de tournesol', 'anacardier': 'anacardier', 'fromage grana padano': 'fromage grana padano', 'fromage pecorino': 'fromage pecorino', 'mais': 'mais', 'maquereaux-moutarde-disulfite-sulfites': 'maquereaux-moutarde-disulfite-sulfites', \"Sel de Chlorure d'ammonium\": \"Sel de Chlorure d'ammonium\", 'kiwi': 'kiwi', 'œufs de lompe': 'œufs de lompe', 'Lactate': 'Lactate', 'chèvre': 'chèvre', 'lalt de chèvre': 'lalt de chèvre', 'omelette': 'omelette', 'lacriques': 'lacriques', 'lait en poudre': 'lait en poudre', 'Sérum de lait': 'Sérum de lait', 'Curry': 'Curry', 'Margarine': 'Margarine', 'sel': 'sel', 'lactate': 'lactate', 'Œufs entiers': 'Œufs entiers', 'sulfureux': 'sulfureux', 'Fromagère': 'Fromagère', 'saumon argenté du Pacifique 9\\xa0%': 'saumon argenté du Pacifique 9\\xa0%', 'oja': 'oja', 'Iactoserum': 'Iactoserum', 'E440': 'E440', 'E500': 'E500', 'céréales': 'céréales', 'Saumon Salmo salar': 'Saumon Salmo salar', 'Éperlans': 'Éperlans', 'Salmo Salar': 'Salmo Salar', 'pignons de pin': 'pignons de pin', 'Graines': 'Graines', 'Téguments': 'Téguments', 'tomme de chèvre': 'tomme de chèvre', 'pain': 'pain', 'huile de sésame vierge': 'huile de sésame vierge', 'Raie': 'Raie', 'aun': 'aun', 'canelle': 'canelle', 'Crevette tropicale': 'Crevette tropicale', 'Crevette nordique': 'Crevette nordique', '|ait': '|ait', 'Colin lieu': 'Colin lieu', 'amende': 'amende', 'Milkwort': 'Milkwort', 'crème liquide': 'crème liquide', 'Saint-Nectaire': 'Saint-Nectaire', 'Grana Padano DOP': 'Grana Padano DOP', 'Courge': 'Courge', 'burrata': 'burrata', 'Brie': 'Brie', 'Hoki': 'Hoki', 'Poudre': 'Poudre', 'Vache': 'Vache', 'Œuf de truite': 'Œuf de truite', 'Crème dessert aromatisée saveur vanille': 'Crème dessert aromatisée saveur vanille', 'Crème dessert au chocolat': 'Crème dessert au chocolat', 'Préparation de raisins macérés au rhum': 'Préparation de raisins macérés au rhum', \"la réglisse est déconseillée aux presonnes souffrant d'hypertension\": \"la réglisse est déconseillée aux presonnes souffrant d'hypertension\", 'Blé dur précuit': 'Blé dur précuit', 'Lait cru de brebis': 'Lait cru de brebis', 'cerneaux de noix': 'cerneaux de noix', '(sulfite caustique)': '(sulfite caustique)', 'Ne pas associer au E621 (Excitotoxines) car il rend encore plus dangereux son ingestion.': 'Ne pas associer au E621 (Excitotoxines) car il rend encore plus dangereux son ingestion.', 'insomnies hyperactivité': 'insomnies hyperactivité', 'urticaire': 'urticaire', 'Citron': 'Citron', 'Houblons': 'Houblons', 'Blé khorasan kamut': 'Blé khorasan kamut', 'Produit garanti sans gluten.': 'Produit garanti sans gluten.', 'Flocon d’avoine': 'Flocon d’avoine', 'Praliné': 'Praliné', 'Crème de lait pasteurisée': 'Crème de lait pasteurisée', 'semoule de blé dur': 'semoule de blé dur', 'Protéines lactiques': 'Protéines lactiques', 'curcuma': 'curcuma', 'lai': 'lai', 'E250 = Nitrite de sodium': 'E250 = Nitrite de sodium', 'E451 = Triphosphates': 'E451 = Triphosphates', 'traitement antigerminatif': 'traitement antigerminatif', 'AMANDES ENTIÈRES BLANCHIES': 'AMANDES ENTIÈRES BLANCHIES', 'Sardinelles': 'Sardinelles', 'Butyrique': 'Butyrique', 'anhydride sulfureux E220': 'anhydride sulfureux E220', 'Cafeine': 'Cafeine', 'Cafeines': 'Cafeines', 'Malté': 'Malté', 'Eglefin': 'Eglefin', 'Carvi': 'Carvi', 'Dorade sébaste': 'Dorade sébaste', 'Lingue': 'Lingue', \"Loup d'atlantique\": \"Loup d'atlantique\", 'Palourdes': 'Palourdes', 'Poissons blancs': 'Poissons blancs', 'Gluten de froment': 'Gluten de froment', 'esturgeon': 'esturgeon', 'praliné': 'praliné', 'crabe tourteau': 'crabe tourteau', 'merlan bleu': 'merlan bleu', 'Saumonette': 'Saumonette', 'bulot': 'bulot', 'grondin': 'grondin', 'L': 'L', 'anhydre sulfureux': 'anhydre sulfureux', 'épautre': 'épautre', 'pecorino': 'pecorino', 'chair de homard américain': 'chair de homard américain', 'beurre 0.9': 'beurre 0.9', 'Congre': 'Congre', 'crustacées': 'crustacées', 'suflites': 'suflites', 'gluten vital de blé': 'gluten vital de blé', 'Petit': 'Petit', 'Anhydrides sulfureux et sulftes': 'Anhydrides sulfureux et sulftes', 'Crème de lactosérum': 'Crème de lactosérum', 'surimi': 'surimi', 'Crème entière': 'Crème entière', 'filetage': 'filetage', 'Amandes effilées': 'Amandes effilées', 'Beurre frais': 'Beurre frais', 'Lait en poudre': 'Lait en poudre', 'Lait - Lait écrémé - Crème': 'Lait - Lait écrémé - Crème', 'Clementine': 'Clementine', 'BIé': 'BIé', 'protéines de soja': 'protéines de soja', 'Tarmari': 'Tarmari', 'Peif': 'Peif', 'Frais': 'Frais', 'disufite de sodium': 'disufite de sodium', 'Lait entier crème': 'Lait entier crème', 'CACAHETE': 'CACAHETE', 'Emmental français': 'Emmental français', 'Encornets géants': 'Encornets géants', 'NITRATE DE POTASSIUM': 'NITRATE DE POTASSIUM', 'Lạit': 'Lạit', 'Mulet': 'Mulet', 'Blé khorasan': 'Blé khorasan', 'Creème': 'Creème', \"huile d'arachide\": \"huile d'arachide\", 'Blé oeufs beurre': 'Blé oeufs beurre', 'parmiggiano reggiano': 'parmiggiano reggiano', 'hoki': 'hoki', 'Truite arc-en-ciel': 'Truite arc-en-ciel', 'fraise': 'fraise', 'Présure': 'Présure', 'Muscade': 'Muscade', 'Fenugrec': 'Fenugrec', 'MANDARINE': 'MANDARINE', 'Omelette': 'Omelette', 'CARPE': 'CARPE', 'Carpe': 'Carpe', 'Féra': 'Féra', 'Espadon': 'Espadon', 'cohana': 'cohana', 'pangasius': 'pangasius', 'Vinaigre de vin blanc': 'Vinaigre de vin blanc', 'E223': 'E223', 'Pulpe': 'Pulpe', 'beurre demi-sel': 'beurre demi-sel', 'Chair de thon': 'Chair de thon', 'Jus de citron': 'Jus de citron', \"Pulpe d'oignon\": \"Pulpe d'oignon\", 'chair de crevette': 'chair de crevette', 'colin lieu': 'colin lieu', 'Fromage poudre déshydratée': 'Fromage poudre déshydratée', 'fromage de lait de vache pasteurisé': 'fromage de lait de vache pasteurisé', 'Maltodextrine': 'Maltodextrine', 'Lai': 'Lai', 'VIII': 'VIII', 'ESTURGEONS': 'ESTURGEONS', 'ICC': 'ICC', 'SPRATS': 'SPRATS', 'SFL': 'SFL', 'LEVAIN': 'LEVAIN', 'ACIDE': 'ACIDE', 'CURRY': 'CURRY', 'HOUMOUS': 'HOUMOUS', 'NATURE': 'NATURE', 'PIMENT': 'PIMENT', 'VERMOUTH': 'VERMOUTH', 'contient des SULFITES. Soit 60\\xa0% de sauce crémeuse au vin blanc et à la laitue de mer dans le produit. Certains ingrédients de ce produit ne proviennent pas de France': 'contient des SULFITES. Soit 60\\xa0% de sauce crémeuse au vin blanc et à la laitue de mer dans le produit. Certains ingrédients de ce produit ne proviennent pas de France', 'CONTENANT': 'CONTENANT', 'Argopecten purpuratus': 'Argopecten purpuratus', 'ail en purée': 'ail en purée', 'amidon transformé de riz ou de maïs': 'amidon transformé de riz ou de maïs', 'asperge verte 4\\xa0%': 'asperge verte 4\\xa0%', 'aubergine préfrite 5\\xa0% (aubergine 4\\xa0%': 'aubergine préfrite 5\\xa0% (aubergine 4\\xa0%', 'base culinaire aromatisée (maltodextrine': 'base culinaire aromatisée (maltodextrine', 'cerfeuil': 'cerfeuil', 'courgette préfrite 5\\xa0% (courgette 4\\xa0%': 'courgette préfrite 5\\xa0% (courgette 4\\xa0%', 'extrait de CRABE vert': 'extrait de CRABE vert', 'extrait de poivre': 'extrait de poivre', 'huile de tournesol': 'huile de tournesol', 'huile de tournesol)': 'huile de tournesol)', 'jus de citron 0': 'jus de citron 0', 'oignon rouge 5\\xa0%': 'oignon rouge 5\\xa0%', 'origine Pérou (AP) ou Chili (AC)]': 'origine Pérou (AP) ou Chili (AC)]', 'persil': 'persil', 'plantes aromatiques]': 'plantes aromatiques]', 'poivron jaune 4\\xa0%': 'poivron jaune 4\\xa0%', 'poivron rouge 4\\xa0%': 'poivron rouge 4\\xa0%', \"pâte d'ANCHOIS\": \"pâte d'ANCHOIS\", 'thym. Certains ingrédients de ce produit ne proviennent pas de France': 'thym. Certains ingrédients de ce produit ne proviennent pas de France', 'tomate 3\\xa0%': 'tomate 3\\xa0%', 'échalote': 'échalote', 'E224**': 'E224**', 'Beurre salé': 'Beurre salé', 'Lait frais entier pasteurisé': 'Lait frais entier pasteurisé', 'Alit': 'Alit', 'Marlin': 'Marlin', 'ail': 'ail', 'porto': 'porto', 'Trigo': 'Trigo', 'aveia': 'aveia', 'cevada': 'cevada', 'Amande blanche': 'Amande blanche', 'Esturgeon': 'Esturgeon', 'APRICOT': 'APRICOT', 'Levures': 'Levures', 'protéines végétales': 'protéines végétales', 'Biologique': 'Biologique', 'Haricot mungo': 'Haricot mungo', 'curry': 'curry', 'tofu soyeux': 'tofu soyeux', 'LAIT écrémé concentré': 'LAIT écrémé concentré', 'fromagère': 'fromagère', 'amande crue': 'amande crue', 'amande blanchie': 'amande blanchie', 'noisette blanchie': 'noisette blanchie', 'noisette crue': 'noisette crue', 'oursin': 'oursin', 'Avoine blé': 'Avoine blé', 'Métabisulﬁte': 'Métabisulﬁte', 'Bulot': 'Bulot', 'Disulﬁte': 'Disulﬁte', 'houblon': 'houblon', 'Daurade': 'Daurade', 'Lait de soja': 'Lait de soja', 'vinaigre': 'vinaigre', 'Cuisses de grenouilles': 'Cuisses de grenouilles', 'Crème crue': 'Crème crue', 'Métabisulfite de potassium': 'Métabisulfite de potassium', 'gélatine de poisson': 'gélatine de poisson', 'pollen': 'pollen', \"A EVITER (d'après C. Gouget)\": \"A EVITER (d'après C. Gouget)\", 'Elimine le calcium': 'Elimine le calcium', 'Maux de tête': 'Maux de tête', 'Ferments tactiques': 'Ferments tactiques', 'Acoupa aiguille': 'Acoupa aiguille', 'Machoiran blanc': 'Machoiran blanc', 'margarine': 'margarine', 'Oignons': 'Oignons', 'encornets géants': 'encornets géants', 'France': 'France', 'CEUF': 'CEUF', 'LOTTE': 'LOTTE', \"Crème d'anchois\": \"Crème d'anchois\", 'Alc. 2\\xa0% vol.': 'Alc. 2\\xa0% vol.', 'Fruits à coque soja lait œuf sésame': 'Fruits à coque soja lait œuf sésame', \"jaunes d'oeufs en poudre\": \"jaunes d'oeufs en poudre\", 'latte': 'latte', 'KIWI': 'KIWI', 'Baratte': 'Baratte', 'Limande du Nord': 'Limande du Nord', \"lieu d'Alaska\": \"lieu d'Alaska\", 'limande du Nord': 'limande du Nord', \"Lieu de l'Alaska\": \"Lieu de l'Alaska\", 'tamari': 'tamari', 'ABSENCE': 'ABSENCE', \"bleu d'Auvergne\": \"bleu d'Auvergne\", 'entiers': 'entiers', 'échalotes': 'échalotes', 'Acide citrique': 'Acide citrique', 'Propionate de calcium': 'Propionate de calcium', 'Sorbate de potassium': 'Sorbate de potassium', 'CALAMARS POULPES': 'CALAMARS POULPES', 'CEPHALOPODES': 'CEPHALOPODES', 'huile d’arachide': 'huile d’arachide', \"albumine d'oeuf\": \"albumine d'oeuf\", 'fromages râpés': 'fromages râpés', 'huile de noix': 'huile de noix', 'Huile de sésame': 'Huile de sésame', \"réglisse (éviter toute consommation excessive en cas d'hypertension)\": \"réglisse (éviter toute consommation excessive en cas d'hypertension)\", 'GRAPEFRUIT': 'GRAPEFRUIT', 'lactée': 'lactée', \"Œufs d'esturgeon\": \"Œufs d'esturgeon\", \"Œuf d'esturgeon\": \"Œuf d'esturgeon\", 'pâte fermentée': 'pâte fermentée', 'Chemisage et décor au cacao maigre 11\\xa0%': 'Chemisage et décor au cacao maigre 11\\xa0%', 'Glace à la vanille en décor 35\\xa0%': 'Glace à la vanille en décor 35\\xa0%', 'Glace à la vanille en garniture 35\\xa0%': 'Glace à la vanille en garniture 35\\xa0%', 'Poudre delaitécrémé': 'Poudre delaitécrémé', 'Poudre de lactosérum': 'Poudre de lactosérum', 'Poudre de lait écrémé': 'Poudre de lait écrémé', 'Saumon rose du Pacifique': 'Saumon rose du Pacifique', \"Gluten d'orge\": \"Gluten d'orge\", 'Plie': 'Plie', 'Moule du Pacifique': 'Moule du Pacifique', 'Langouste caraïbe': 'Langouste caraïbe', 'Sole tropicale': 'Sole tropicale', 'Tropicale': 'Tropicale', 'GranaPadano': 'GranaPadano', 'ParmigianoReggiano': 'ParmigianoReggiano', '5 canapés au fromage de chèvre': '5 canapés au fromage de chèvre', '5 canapés à la tomate séchée marinée': '5 canapés à la tomate séchée marinée', 'Poivron rouge': 'Poivron rouge', 'Moulage de chocolat au lait': 'Moulage de chocolat au lait', 'Saint Marcellin': 'Saint Marcellin', 'Yaourt brassé sucré sur lit à la framboise': 'Yaourt brassé sucré sur lit à la framboise', 'Yaourt brassé sucré sur lit à la mûre': 'Yaourt brassé sucré sur lit à la mûre', 'Sulfureux': 'Sulfureux', 'Filet de cabillaud': 'Filet de cabillaud', 'Composition': 'Composition', 'Filetage': 'Filetage', 'lompe': 'lompe', 'Mûre': 'Mûre', 'Poire': 'Poire', 'Merlu blanc du Cap': 'Merlu blanc du Cap', 'Cebada': 'Cebada', 'Lactosa': 'Lactosa', 'Leche': 'Leche', 'Lácteo': 'Lácteo', 'Lácticos': 'Lácticos', 'Viande de poulet origine UE.': 'Viande de poulet origine UE.', 'Apio': 'Apio', 'Sauce Nuoc mâm 20g': 'Sauce Nuoc mâm 20g', 'Nems au porc 8 x 65 g': 'Nems au porc 8 x 65 g', 'Nems au porc 8 x 65g': 'Nems au porc 8 x 65g', 'Sauce nuoc mâm 2 x 20 g': 'Sauce nuoc mâm 2 x 20 g', 'Sauce nuoc mâm 2 x 20g': 'Sauce nuoc mâm 2 x 20g', 'Sauce nuoc mâm 20 g': 'Sauce nuoc mâm 20 g', 'Láctea': 'Láctea', 'Nata': 'Nata', 'Encornet géant': 'Encornet géant', 'Palourde': 'Palourde', 'Sauce Caesar': 'Sauce Caesar', 'Moutardée': 'Moutardée', 'Crackers aromatisés goût bacon': 'Crackers aromatisés goût bacon', \"Crackers à l'emmental\": \"Crackers à l'emmental\", 'Maquereaux espagnols': 'Maquereaux espagnols', 'Anhydridesulfureux': 'Anhydridesulfureux', 'Burro': 'Burro', 'Latte': 'Latte', 'Lattici': 'Lattici', 'Pourcentage de matières grasses inférieur à 20\\xa0%. Rapport collagène sur protéines de viande inférieur à 15\\xa0%.': 'Pourcentage de matières grasses inférieur à 20\\xa0%. Rapport collagène sur protéines de viande inférieur à 15\\xa0%.', 'Viande issues de bovins abattus selon le rite halal par un sacrificateur professionnel. La traçabilité des viandes entrant dans la composition de ce produit est vérifiée par un organisme de contrôle indépendant.': 'Viande issues de bovins abattus selon le rite halal par un sacrificateur professionnel. La traçabilité des viandes entrant dans la composition de ce produit est vérifiée par un organisme de contrôle indépendant.', 'Sauce vinaigrette au vinaigre balsamique': 'Sauce vinaigrette au vinaigre balsamique', 'Cerneaux de noix': 'Cerneaux de noix', 'Sauce au vinaigre balsamique': 'Sauce au vinaigre balsamique', 'Sauce tomato ketchup': 'Sauce tomato ketchup', 'Soufflés aromatisés goût bacon': 'Soufflés aromatisés goût bacon', 'Soufflés aromatisés goût pizza': 'Soufflés aromatisés goût pizza', '2 Purées de pommes pêches': '2 Purées de pommes pêches', '4 Purées de pommes': '4 Purées de pommes', 'Maasdam rapé': 'Maasdam rapé', 'Morceaux de caramel': 'Morceaux de caramel', 'Amidon': 'Amidon', 'Lait écrémé reconstitué': 'Lait écrémé reconstitué', \"Filet de colin d'Alaska\": \"Filet de colin d'Alaska\", 'Fermentslactiques': 'Fermentslactiques', 'Abondance': 'Abondance', 'lactic': 'lactic', 'Lactic': 'Lactic', 'fromage italien': 'fromage italien', 'BANANE': 'BANANE', 'FRAISE': 'FRAISE', 'FRAMBOISE': 'FRAMBOISE', 'PÊCHE': 'PÊCHE', 'Nchois': 'Nchois', 'Grana Panado': 'Grana Panado', 'Lactorésum': 'Lactorésum', 'Sérum': 'Sérum', 'Láctico': 'Láctico', '1 coupelle': '1 coupelle', 'Parfum passion': 'Parfum passion', 'Parfum pêche': 'Parfum pêche', 'Passion': 'Passion', 'Pêche': 'Pêche', 'Fruit de la passion': 'Fruit de la passion', 'JAMBON SEC 40\\xa0% - 4 tranches': 'JAMBON SEC 40\\xa0% - 4 tranches', 'fraîche': 'fraîche', 'Saucisson sec supérieur au Cantal': 'Saucisson sec supérieur au Cantal', 'Saucisson sec supérieur aux noix': 'Saucisson sec supérieur aux noix', 'Salami italien 34\\xa0% - 5 tranches': 'Salami italien 34\\xa0% - 5 tranches', 'Ingrédients de la préparation instantanée': 'Ingrédients de la préparation instantanée', 'Crème stérilisée': 'Crème stérilisée', 'Noixdecajou': 'Noixdecajou', 'Noixdepécan': 'Noixdepécan', 'Homard canadien': 'Homard canadien', 'Compote de pommes allégées en sucres': 'Compote de pommes allégées en sucres', 'Compote de pommes bananes allégées en sucres': 'Compote de pommes bananes allégées en sucres', 'Spécialité de pommes poires': 'Spécialité de pommes poires', 'Spécialité de pommes pêches': 'Spécialité de pommes pêches', 'noisettes hachées': 'noisettes hachées', 'Thon Blanc': 'Thon Blanc', 'Bisulfite de sodium': 'Bisulfite de sodium', \"Salicoque rouge d'Argentine\": \"Salicoque rouge d'Argentine\", 'Lompe': 'Lompe', 'Blé de petit épeautre': 'Blé de petit épeautre', 'Crevettes au curry Thaï Vert': 'Crevettes au curry Thaï Vert', 'Crevettes à la noix de Coco': 'Crevettes à la noix de Coco', 'Pâtes alimentaires': 'Pâtes alimentaires', 'Pâtes rouges': 'Pâtes rouges', 'Pâtes vertes': 'Pâtes vertes', 'Grondin rouge': 'Grondin rouge', \"Lactiqueset d'affinage\": \"Lactiqueset d'affinage\", 'lait en poudre écrémé': 'lait en poudre écrémé', 'pâte': 'pâte', 'écrémé': 'écrémé', \"spécialité fromagère fondue à l'emmental\": \"spécialité fromagère fondue à l'emmental\", 'Parmesan Reggiano': 'Parmesan Reggiano', 'Beuure': 'Beuure', 'merlu blanc du Cap': 'merlu blanc du Cap', 'Mourtarde': 'Mourtarde', 'encornet géant': 'encornet géant', 'Sulﬂtes': 'Sulﬂtes', '..) ET DERIVES': '..) ET DERIVES', 'FRUITS A COQUES (amandes': 'FRUITS A COQUES (amandes', 'SULFITES (&gt; 10mg/kg ou 10 mg/l)': 'SULFITES (&gt; 10mg/kg ou 10 mg/l)', 'Rien de mentionné': 'Rien de mentionné', 'vache': 'vache', 'Thon germon': 'Thon germon', 'poudre de lait écrémé': 'poudre de lait écrémé', 'huile butyrique': 'huile butyrique', 'protéines solubles': 'protéines solubles', 'Thazard': 'Thazard', 'Okara': 'Okara', 'Coriandre': 'Coriandre', 'coriandre': 'coriandre', 'Paprika': 'Paprika', 'paprika': 'paprika', 'Crème UHT': 'Crème UHT', 'Lait de brebis pasteurisé': 'Lait de brebis pasteurisé', 'lait de chèvre pasteurisé': 'lait de chèvre pasteurisé', 'protéines de lait de chèvre': 'protéines de lait de chèvre', 'Iait entier': 'Iait entier', 'Iait écrémé': 'Iait écrémé', 'avocat': 'avocat', 'Noix de Coco': 'Noix de Coco', 'Céleri beurre': 'Céleri beurre', 'rouget-barbet': 'rouget-barbet', 'Mandarine': 'Mandarine', 'Pamplemousse': 'Pamplemousse', 'Crêpe': 'Crêpe', 'métabisulﬁte': 'métabisulﬁte', 'fumé au bois de conifère de la Forêt Noire': 'fumé au bois de conifère de la Forêt Noire', 'disufite': 'disufite', 'crabe-tourteau': 'crabe-tourteau', 'Non précisé': 'Non précisé', 'Glucose': 'Glucose', 'Colin d’AIaska': 'Colin d’AIaska', 'béchamel': 'béchamel', 'a': 'a', 'c': 'c', 'Arches': 'Arches', 'congre': 'congre', 'coques': 'coques', 'palourdes': 'palourdes', 'Bisulfites de sodium': 'Bisulfites de sodium', 'bisulfite de sodium': 'bisulfite de sodium', 'Lactore et produits à base de lait': 'Lactore et produits à base de lait', 'Fruits à coquer': 'Fruits à coquer', 'bi sulfites': 'bi sulfites', 'Filets de Lieu': 'Filets de Lieu', 'Eouf': 'Eouf', 'Filets de lieu': 'Filets de lieu', 'Fabriqué dans un atelier': 'Fabriqué dans un atelier', 'Sigle': 'Sigle', 'alcool': 'alcool', 'tourteaux': 'tourteaux', 'étrilles': 'étrilles', 'Lactoprotéines': 'Lactoprotéines', 'éclats de noisettes': 'éclats de noisettes', 'Porc': 'Porc', 'de cacao': 'de cacao', 'Bigorneaux': 'Bigorneaux', 'wasabi': 'wasabi', 'Sésame complet': 'Sésame complet', 'Isolat de protéine de soja': 'Isolat de protéine de soja', 'sulﬁte': 'sulﬁte', 'Bouglour': 'Bouglour', 'Faisselle': 'Faisselle', 'GLUTEN (Blé) - LAIT - ŒUF': 'GLUTEN (Blé) - LAIT - ŒUF', 'GLUTEN (Blé) - LAIT - OEUF - POISSON': 'GLUTEN (Blé) - LAIT - OEUF - POISSON', 'Noisettes décortiquées*': 'Noisettes décortiquées*', 'bigorneau': 'bigorneau', 'bulots': 'bulots'}\n"
     ]
    }
   ],
   "source": [
    "#TEST AVEC LE DICTIONNAIRE\n",
    "en_dict, fr_dict = process_csv(r\"C:\\Users\\boss\\Desktop\\STAGE\\CODE\\NLP\\CSVfile\\allergens.csv\")\n",
    "\n",
    "print(en_dict)\n",
    "print(fr_dict)"
   ]
  },
  {
   "cell_type": "code",
   "execution_count": 61,
   "metadata": {},
   "outputs": [
    {
     "name": "stdout",
     "output_type": "stream",
     "text": [
      "Longueur du dictionnaire 'en:' : 355\n",
      "Longueur du dictionnaire 'fr:' : 1195\n"
     ]
    }
   ],
   "source": [
    "len_en_dict = len(en_dict)\n",
    "len_fr_dict = len(fr_dict)\n",
    "\n",
    "print(\"Longueur du dictionnaire 'en:' :\", len_en_dict)\n",
    "print(\"Longueur du dictionnaire 'fr:' :\", len_fr_dict)"
   ]
  },
  {
   "cell_type": "markdown",
   "metadata": {},
   "source": [
    "NORMALISER LES MOTS ET LES RENDRE MINUSCULE ET EFFECTUER LE NETTOYAGE DES MOTS QUI NE SONT PAS EN FR ou EN ANGLAIS POUR LES DEUX DICTIONNAIRES"
   ]
  },
  {
   "cell_type": "code",
   "execution_count": null,
   "metadata": {},
   "outputs": [],
   "source": [
    "# Normaliser et nettoyer le dictionnaire 'en_dict'\n",
    "to_remove_en = []\n",
    "for word in en_dict.copy():\n",
    "    normalized_word = word.lower()  # Normalisation en minuscules\n",
    "    if not normalized_word.isalpha():\n",
    "        to_remove_en.append(word)\n",
    "    else:\n",
    "        en_dict[normalized_word] = en_dict.pop(word)\n",
    "for word in to_remove_en:\n",
    "    en_dict.pop(word)\n",
    "\n",
    "# Normaliser et nettoyer le dictionnaire 'fr_dict'\n",
    "to_remove_fr = []\n",
    "for word in fr_dict.copy():\n",
    "    normalized_word = word.lower()  # Normalisation en minuscules\n",
    "    if not normalized_word.isalpha():\n",
    "        to_remove_fr.append(word)\n",
    "    else:\n",
    "        fr_dict[normalized_word] = fr_dict.pop(word)\n",
    "for word in to_remove_fr:\n",
    "    fr_dict.pop(word)"
   ]
  },
  {
   "cell_type": "code",
   "execution_count": 62,
   "metadata": {},
   "outputs": [
    {
     "name": "stdout",
     "output_type": "stream",
     "text": [
      "Longueur du dictionnaire 'en:' : 157\n",
      "Longueur du dictionnaire 'fr:' : 446\n",
      "Dictionnaire 'en:' : {'mustard': 'mustard', 'eggs': 'eggs', 'gluten': 'gluten', 'milk': 'milk', 'fish': 'fish', 'soybeans': 'soybeans', 'nuts': 'nuts', 'none': 'none', 'peanuts': 'peanuts', 'celery': 'celery', 'skimmed': 'Skimmed', 'crustaceans': 'crustaceans', 'shellfish': 'Shellfish', 'molluscs': 'molluscs', 'phenylalanine': 'Phenylalanine', 'pineapple': 'Pineapple', 'flour': 'FLOUR', 'cajou': 'Cajou', 'vanilla': 'Vanilla', 'pectin': 'Pectin', 'lupin': 'lupin', 'milkfat': 'MILKFAT', 'lemon': 'LEMON', 'almondmilk': 'Almondmilk', 'cashewmilk': 'Cashewmilk', 'caffeine': 'CAFFEINE', 'sunflower': 'Sunflower', 'coconut': 'Coconut', 'yeast': 'yeast', 'coconuts': 'Coconuts', 'durum': 'Durum', 'honey': 'Honey', 'thiamine': 'THIAMINE', 'avoine': 'Avoine', 'lait': 'Lait', 'orge': 'orge', 'gelatin': 'gelatin', 'poisson': 'Poisson', 'chocolate': 'Chocolate', 'herring': 'Herring', 'metabisulphite': 'Metabisulphite', 'ceuf': 'CEUF', 'sheanut': 'SHEANUT', 'wheatgerm': 'Wheatgerm', 'leite': 'Leite', 'ovo': 'Ovo', 'trigo': 'Trigo', 'wheatﬂour': 'Wheatﬂour', 'sardellen': 'Sardellen', 'anchovy': 'Anchovy', 'wheatflakes': 'wheatflakes', 'candlenut': 'candlenut', 'caramell': 'Caramell', 'noisettes': 'Noisettes', 'mozzarella': 'Mozzarella', 'farine': 'Farine', 'bisulphite': 'bisulphite', 'wheath': 'Wheath', 'anchovies': 'Anchovies', 'butterfat': 'BUTTERFAT', 'coriander': 'Coriander', 'garlic': 'Garlic', 'crickets': 'Crickets', 'insects': 'Insects', 'casein': 'casein', 'nutmilk': 'Nutmilk', 'canola': 'Canola', 'maltodextrin': 'Maltodextrin', 'orange': 'ORANGE', 'eiweißpulver': 'Eiweißpulver', '대두': '대두', 'corn': 'CORN', 'salt': 'Salt', 'sugar': 'sugar', 'blueberries': 'blueberries', 'senf': 'Senf', 'sesam': 'Sesam', 'weizen': 'Weizen', 'aspartame': 'Aspartame', 'lacotse': 'Lacotse', 'zxs': 'zxs', 'acahuetes': 'acahuetes', 'weat': 'Weat', 'aveia': 'Aveia', 'arandanos': 'Arandanos', 'almendras': 'Almendras', 'maní': 'Maní', 'fresa': 'Fresa', 'γλουτένη': 'Γλουτένη', 'σίκαλης': 'Σίκαλης', 'σίτου': 'Σίτου', 'σόγια': 'Σόγια', 'γάλα': 'Γάλα', 'αυγά': 'αυγά', 'λακτόζη': 'λακτόζη', 'seeds': 'Seeds', 'gorken': 'Gorken', 'melk': 'Melk', 'melkeiwitten': 'melkeiwitten', 'room': 'room', 'eigelb': 'eigelb', 'senfsaaten': 'senfsaaten', 'sojabönor': 'Sojabönor', 'contenant': 'Contenant', 'du': 'Du', 'blé': 'Blé', 'œuf': 'Œuf', 'käse': 'Käse', 'laktose': 'Laktose', 'weizenvollkorn': 'Weizenvollkorn', 'weizenmehl': 'Weizenmehl', 'gorczyca': 'gorczyca', 'jaja': 'jaja', 'ryba': 'ryba', 'seler': 'seler', 'molkenpermeat': 'Molkenpermeat', 'cacahuètes': 'Cacahuètes', 'epeautre': 'Epeautre', 'tarwebloem': 'tarwebloem', 'milch': 'Milch', 'lactosérum': 'lactosérum', 'triticale': 'Triticale', 'céleri': 'Céleri', 'erdnusskerne': 'Erdnusskerne', 'vollmilchpulver': 'Vollmilchpulver', 'arachides': 'Arachides', 'moutarde': 'Moutarde', 'lactic': 'Lactic', 'wholemilk': 'Wholemilk', 'crème': 'Crème', 'amande': 'Amande', 'noisette': 'Noisette', 'amandes': 'Amandes', 'coque': 'coque', 'laitier': 'laitier', 'caffeina': 'Caffeina', 'lactosoro': 'lactosoro', 'manteiga': 'manteiga', 'queijos': 'queijos', 'fromages': 'fromages', 'cantal': 'Cantal', 'mollusque': 'mollusque', 'pâte': 'Pâte', 'pâtes': 'Pâtes', 'φυστίκια': 'φυστίκια', 'beurre': 'Beurre', 'emmental': 'Emmental', 'tomme': 'Tomme', 'fromagère': 'fromagère', 'œufs': 'Œufs', 'cacao': 'cacao', 'surimi': 'Surimi', 'sarasin': 'Sarasin', 'sojalecithin': 'Sojalecithin', 'gorgonzola': 'Gorgonzola', 'noix': 'Noix', 'lactiques': 'Lactiques'}\n",
      "Dictionnaire 'fr:' : {'cajou': 'CAJOU', 'org': 'org', 'citrus': 'CITRUS', 'goberge': 'Goberge', 'phenylalanine': 'phenylalanine', 'avoine': 'AVOINE', 'lemon': 'LEMON', 'carpe': 'Carpe', 'buttermilchpulver': 'Buttermilchpulver', 'magermilchpulver': 'Magermilchpulver', 'weizenmehl': 'Weizenmehl', 'cumin': 'Cumin', 'caféine': 'Caféine', 'phénylalanine': 'Phénylalanine', 'améliorant': 'améliorant', 'farine': 'Farine', 'colza': 'Colza', 'jaune': 'JAUNE', 'eglefin': 'Eglefin', 'son': 'son', 'pangas': 'pangas', 'beurr': 'Beurr', 'nblé': 'Nblé', 'neant': 'neant', 'semoule': 'Semoule', 'néant': 'Néant', 'flour': 'Flour', 'soyabean': 'Soyabean', 'éperlans': 'Éperlans', 'melk': 'melk', 'tarwebloem': 'tarwebloem', 'pois': 'Pois', 'palme': 'Palme', 'tournesol': 'Tournesol', 'lin': 'lin', 'mayonnaise': 'mayonnaise', 'iait': 'Iait', 'abricot': 'Abricot', 'orange': 'Orange', 'pamplemousse': 'Pamplemousse', 'châtaignes': 'Châtaignes', 'provolone': 'Provolone', 'cacao': 'CACAO', 'technophobia': 'Technophobia', 'hühnervollei': 'Hühnervollei', 'molkenerzeugnis': 'Molkenerzeugnis', 'vollmilchpulver': 'Vollmilchpulver', 'weizenstärke': 'Weizenstärke', 'croissant': 'Croissant', 'ferments': 'FERMENTS', 'fiskprotein': 'fiskprotein', 'loddarom': 'loddarom', 'nordhavsrâkor': 'nordhavsrâkor', 'àggula': 'àggula', 'âggvita': 'âggvita', 'amandons': 'amandons', 'caroube': 'caroube', 'feuilletée': 'Feuilletée', 'garniture': 'Garniture', 'tourteau': 'TOURTEAU', 'abricots': 'ABRICOTS', 'natriummetabisulfit': 'Natriummetabisulfit', 'moutard': 'Moutard', 'sulﬁtes': 'Sulﬁtes', 'nosiettes': 'nosiettes', 'schalenfrüchte': 'Schalenfrüchte', 'amidon': 'Amidon', 'azyme': 'azyme', 'butyrique': 'Butyrique', 'senfbestandteile': 'Senfbestandteile', 'sarrasin': 'Sarrasin', 'atún': 'atún', 'nata': 'Nata', 'haferflocken': 'Haferflocken', 'weizenvollkornmehl': 'Weizenvollkornmehl', 'lysozyme': 'LYSOZYME', 'suifites': 'Suifites', 'iactosérum': 'Iactosérum', 'grondins': 'grondins', 'ceufs': 'CEufs', 'bûchette': 'Bûchette', 'tome': 'TOME', 'soufre': 'soufre', 'gerstenmalzextrakt': 'Gerstenmalzextrakt', 'sojaprotein': 'Sojaprotein', 'weizengluten': 'Weizengluten', 'weizenprotein': 'Weizenprotein', 'yogourt': 'yogourt', 'églefin': 'Églefin', 'pesto': 'pesto', 'pignons': 'PIGNONS', 'fontina': 'fontina', 'riz': 'riz', 'maguereau': 'Maguereau', 'sprats': 'SPRATS', 'coco': 'Coco', 'bœuf': 'Bœuf', 'croûtons': 'croûtons', 'vermicelles': 'Vermicelles', 'fonte': 'fonte', 'chapelure': 'CHAPELURE', 'pâtes': 'Pâtes', 'arômes': 'ARÔMES', 'césame': 'Césame', 'bar': 'Bar', 'boulghour': 'Boulghour', 'réglisse': 'réglisse', 'oranges': 'ORANGES', 'lalt': 'LAlT', 'figue': 'Figue', 'sulfiltes': 'SULFILTES', 'mutagènes': 'mutagènes', 'nausées': 'nausées', 'camembert': 'Camembert', 'citron': 'Citron', 'mandarine': 'Mandarine', 'gruau': 'gruau', 'ogre': 'ogre', 'beaufort': 'Beaufort', 'lat': 'lat', 'milchmineralien': 'Milchmineralien', 'maïs': 'Maïs', 'pavot': 'Pavot', 'crêpe': 'Crêpe', 'polyphosphates': 'Polyphosphates', 'carraghénanes': 'carraghénanes', 'lactoséum': 'Lactoséum', 'tomme': 'TOMME', 'lime': 'LIME', 'dérivés': 'Dérivés', 'millet': 'Millet', 'triticale': 'triticale', 'hostie': 'hostie', 'ufs': 'Ufs', 'uf': 'Uf', 'farce': 'Farce', 'sauce': 'Sauce', 'biscuit': 'Biscuit', 'fourrage': 'Fourrage', 'fruits': 'FRUITS', 'sirop': 'Sirop', 'eufs': 'Eufs', 'gras': 'Gras', 'voine': 'Voine', 'quenelle': 'Quenelle', 'metton': 'Metton', 'maasdam': 'MAASDAM', 'couscous': 'Couscous', 'rge': 'Rge', 'disulﬁte': 'Disulﬁte', 'légumes': 'Légumes', 'levain': 'LEVAIN', 'vénus': 'Vénus', 'mande': 'Mande', 'levure': 'Levure', 'chinchard': 'Chinchard', 'quenelles': 'Quenelles', 'cantal': 'Cantal', 'mozarella': 'MOZARELLA', 'reticulatus': 'Reticulatus', 'absence': 'ABSENCE', 'mantequilla': 'Mantequilla', 'champignons': 'Champignons', 'oignons': 'Oignons', 'gluen': 'GLUEN', 'basilic': 'Basilic', 'crustracés': 'Crustracés', 'mozzarrella': 'mozzarrella', 'lactoprotéines': 'Lactoprotéines', 'ingrédients': 'Ingrédients', 'ingredients': 'INGREDIENTS', 'mandes': 'Mandes', 'euf': 'Euf', 'scargots': 'Scargots', 'pécorino': 'Pécorino', 'rien': 'rien', 'scamorza': 'Scamorza', 'dorade': 'Dorade', 'crystacé': 'Crystacé', 'céler': 'Céler', 'bl': 'Bl', 'mozzarelle': 'Mozzarelle', 'iactose': 'Iactose', 'blė': 'Blė', 'miel': 'Miel', 'transglutaminase': 'transglutaminase', 'dur': 'dur', 'porc': 'Porc', 'sulfittes': 'Sulfittes', 'cassis': 'Cassis', 'framboise': 'FRAMBOISE', 'rum': 'RUM', 'rave': 'RAVE', 'proteines': 'PROTEINES', 'anhydride': 'ANHYDRIDE', 'coque': 'COQUE', 'transparence': 'TRANSPARENCE', 'asc': 'ASC', 'présure': 'Présure', 'cacahuette': 'CACAHUETTE', 'graines': 'Graines', 'same': 'SAME', 'tes': 'TES', 'fms': 'FMS', 'fts': 'FTS', 'xiv': 'XIV', 'jacques': 'JACQUES', 'saint': 'SAINT', 'emmenatl': 'EMMENATL', 'certisud': 'CERTISUD', 'pau': 'PAU', 'cepage': 'CEPAGE', 'france': 'France', 'bresil': 'BRESIL', 'usa': 'USA', 'bié': 'BIé', 'extraite': 'EXTRAITE', 'froid': 'FROID', 'peautre': 'PEAUTRE', 'ait': 'AIT', 'programme': 'PROGRAMME', 'blanc': 'BLANC', 'fourme': 'FOURME', 'parmigiano': 'PARMIGIANO', 'reggiano': 'REGGIANO', 'sodium': 'SODIUM', 'alaska': 'ALASKA', 'ah': 'ah', 'arôme': 'arôme', 'concentré': 'concentré', 'eau': 'eau', 'sucre': 'Sucre', 'fraiche': 'FRAICHE', 'auvergne': 'AUVERGNE', 'lactoproteines': 'LACTOPROTEINES', 'ines': 'INES', 'prot': 'PROT', 'cas': 'CAS', 'inates': 'INATES', 'dluo': 'DLUO', 'silfites': 'SILFITES', 'dextrose': 'Dextrose', 'hco': 'HCO', 'crem': 'CREM', 'ambert': 'AMBERT', 'decongele': 'DECONGELE', 'jamais': 'JAMAIS', 'produit': 'PRODUIT', 'recongeler': 'RECONGELER', 'can': 'CAN', 'ales': 'ALES', 'indiquer': 'INDIQUER', 'ogm': 'OGM', 'potassium': 'POTASSIUM', 'emb': 'EMB', 'vii': 'VII', 'grana': 'GRANA', 'padano': 'PADANO', 'pate': 'PATE', 'certicar': 'CERTICAR', 'etg': 'ETG', 'stg': 'STG', 'parmiagiano': 'PARMIAGIANO', 'chocolat': 'Chocolat', 'lair': 'Lair', 'rhum': 'Rhum', 'vin': 'Vin', 'iactosèrum': 'Iactosèrum', 'maroilles': 'Maroilles', 'oufs': 'Oufs', 'guten': 'Guten', 'protéines': 'Protéines', 'décors': 'Décors', 'olives': 'Olives', 'muscade': 'Muscade', 'chaource': 'Chaource', 'anacardier': 'anacardier', 'mais': 'mais', 'kiwi': 'KIWI', 'chèvre': 'Chèvre', 'omelette': 'Omelette', 'lacriques': 'lacriques', 'sel': 'sel', 'lactate': 'Lactate', 'sulfureux': 'Sulfureux', 'oja': 'oja', 'iactoserum': 'Iactoserum', 'céréales': 'Céréales', 'téguments': 'Téguments', 'pain': 'Pain', 'raie': 'Raie', 'aun': 'aun', 'canelle': 'canelle', 'amende': 'amende', 'milkwort': 'Milkwort', 'courge': 'Courge', 'burrata': 'burrata', 'brie': 'Brie', 'poudre': 'Poudre', 'urticaire': 'urticaire', 'houblons': 'Houblons', 'curcuma': 'curcuma', 'lai': 'Lai', 'sardinelles': 'Sardinelles', 'cafeine': 'Cafeine', 'cafeines': 'Cafeines', 'malté': 'Malté', 'carvi': 'Carvi', 'lingue': 'Lingue', 'esturgeon': 'Esturgeon', 'praliné': 'Praliné', 'saumonette': 'Saumonette', 'bulot': 'Bulot', 'grondin': 'Grondin', 'l': 'L', 'épautre': 'épautre', 'pecorino': 'pecorino', 'crustacées': 'crustacées', 'suflites': 'suflites', 'petit': 'Petit', 'surimi': 'Surimi', 'filetage': 'Filetage', 'clementine': 'Clementine', 'tarmari': 'Tarmari', 'peif': 'Peif', 'frais': 'Frais', 'cacahete': 'CACAHETE', 'lạit': 'Lạit', 'mulet': 'Mulet', 'creème': 'Creème', 'hoki': 'Hoki', 'fraise': 'FRAISE', 'fenugrec': 'Fenugrec', 'féra': 'Féra', 'espadon': 'Espadon', 'cohana': 'cohana', 'pangasius': 'pangasius', 'pulpe': 'Pulpe', 'maltodextrine': 'Maltodextrine', 'viii': 'VIII', 'esturgeons': 'ESTURGEONS', 'icc': 'ICC', 'sfl': 'SFL', 'acide': 'ACIDE', 'houmous': 'HOUMOUS', 'nature': 'NATURE', 'piment': 'PIMENT', 'vermouth': 'VERMOUTH', 'contenant': 'CONTENANT', 'cerfeuil': 'cerfeuil', 'persil': 'persil', 'échalote': 'échalote', 'alit': 'Alit', 'marlin': 'Marlin', 'ail': 'ail', 'porto': 'porto', 'trigo': 'Trigo', 'aveia': 'aveia', 'cevada': 'cevada', 'apricot': 'APRICOT', 'levures': 'Levures', 'biologique': 'Biologique', 'curry': 'CURRY', 'fromagère': 'Fromagère', 'oursin': 'oursin', 'houblon': 'Houblon', 'daurade': 'Daurade', 'vinaigre': 'vinaigre', 'pollen': 'Pollen', 'margarine': 'Margarine', 'ceuf': 'CEUF', 'lotte': 'LOTTE', 'latte': 'Latte', 'baratte': 'Baratte', 'tamari': 'tamari', 'entiers': 'entiers', 'échalotes': 'échalotes', 'cephalopodes': 'CEPHALOPODES', 'grapefruit': 'GRAPEFRUIT', 'lactée': 'lactée', 'plie': 'Plie', 'tropicale': 'Tropicale', 'granapadano': 'GranaPadano', 'parmigianoreggiano': 'ParmigianoReggiano', 'composition': 'Composition', 'lompe': 'Lompe', 'mûre': 'Mûre', 'poire': 'Poire', 'cebada': 'Cebada', 'lactosa': 'Lactosa', 'leche': 'Leche', 'lácteo': 'Lácteo', 'lácticos': 'Lácticos', 'apio': 'Apio', 'láctea': 'Láctea', 'palourde': 'Palourde', 'moutardée': 'Moutardée', 'anhydridesulfureux': 'Anhydridesulfureux', 'burro': 'Burro', 'lattici': 'Lattici', 'fermentslactiques': 'Fermentslactiques', 'abondance': 'Abondance', 'lactic': 'Lactic', 'banane': 'BANANE', 'pêche': 'Pêche', 'nchois': 'Nchois', 'lactorésum': 'Lactorésum', 'sérum': 'Sérum', 'láctico': 'Láctico', 'passion': 'Passion', 'fraîche': 'fraîche', 'noixdecajou': 'Noixdecajou', 'noixdepécan': 'Noixdepécan', 'pâte': 'Pâte', 'écrémé': 'écrémé', 'beuure': 'Beuure', 'mourtarde': 'Mourtarde', 'sulﬂtes': 'Sulﬂtes', 'vache': 'Vache', 'thazard': 'Thazard', 'okara': 'Okara', 'coriandre': 'Coriandre', 'paprika': 'Paprika', 'avocat': 'avocat', 'métabisulﬁte': 'Métabisulﬁte', 'disufite': 'disufite', 'glucose': 'Glucose', 'béchamel': 'béchamel', 'a': 'a', 'c': 'c', 'arches': 'Arches', 'congre': 'Congre', 'coques': 'Coques', 'palourdes': 'Palourdes', 'eouf': 'Eouf', 'sigle': 'Sigle', 'alcool': 'Alcool', 'tourteaux': 'Tourteaux', 'étrilles': 'étrilles', 'bigorneaux': 'Bigorneaux', 'wasabi': 'wasabi', 'sulﬁte': 'sulﬁte', 'bouglour': 'Bouglour', 'faisselle': 'Faisselle', 'bigorneau': 'bigorneau', 'bulots': 'Bulots'}\n"
     ]
    }
   ],
   "source": [
    "# Obtenir la longueur des dictionnaires\n",
    "len_en_dict = len(en_dict)\n",
    "len_fr_dict = len(fr_dict)\n",
    "\n",
    "print(\"Longueur du dictionnaire 'en:' :\", len_en_dict)\n",
    "print(\"Longueur du dictionnaire 'fr:' :\", len_fr_dict)\n",
    "\n",
    "# Afficher les dictionnaires résultants\n",
    "print(\"Dictionnaire 'en:' :\", en_dict)\n",
    "print(\"Dictionnaire 'fr:' :\", fr_dict)"
   ]
  },
  {
   "cell_type": "markdown",
   "metadata": {},
   "source": [
    "TEST RANDOM"
   ]
  },
  {
   "cell_type": "code",
   "execution_count": 40,
   "metadata": {},
   "outputs": [],
   "source": [
    "allergenes = {\n",
    "    \"céréales contenant du gluten\": [\"blé\", \"seigle\", \"orge\", \"avoine\", \"épeautre\", \"kamut\", \"triticale\"],\n",
    "    \"crustacés\": [\"crevettes\", \"crabes\", \"homards\", \"langoustines\", \"huîtres\", \"moules\", \"palourdes\", \"escargots\", \"calmars\", \"pieuvres\"],\n",
    "    \"œufs\": [\"œufs de poule\", \"œufs de caille\", \"œufs de canard\", \"œufs en poudre\", \"œufs liquides\"],\n",
    "    \"poissons\": [\"thon\", \"saumon\", \"maquereau\", \"truite\", \"haddock\", \"poissons fumés\", \"sardines\", \"anchois\"],\n",
    "    \"arachides\": [\"arachides\"],\n",
    "    \"soja\": [\"soja\", \"tofu\", \"sauce soja\", \"lécithine de soja\", \"huile de soja\", \"farine de soja\"],\n",
    "    \"lait et produits laitiers\": [\"lait de vache\", \"lait de chèvre\", \"lait de brebis\", \"lait en poudre\", \"crème\", \"fromages\", \"beurre\", \"yaourt\", \"glace\", \"poudre de lactosérum\"],\n",
    "    \"fruits à coque\": [\"anacardes\", \"pacanes\", \"noix de macadamia\", \"noix du brésil\", \"amandes amères\", \"noix de pin\", \"noix de cajou\", \"pistaches\", \"noisettes\", \"noix de coco\"],\n",
    "    \"sésame\": [\"graines de sésame\", \"huile de sésame\", \"tahini (purée de sésame)\"],\n",
    "    \"moutarde\": [\"graines de moutarde\", \"poudre de moutarde\", \"sauce à la moutarde\"],\n",
    "    \"céleri\": [\"racine de céleri\", \"feuilles de céleri\", \"graines de céleri\"],\n",
    "    \"lupin\": [\"farine de lupin\", \"graines de lupin\"],\n",
    "    \"mollusques\": [\"huîtres\", \"moules\", \"palourdes\", \"coques\", \"bigorneaux\", \"escargots\", \"calmars\", \"pieuvres\"],\n",
    "    \"anhydride sulfureux et sulfites\": [\"sulfites de sodium\", \"sulfites de potassium\", \"sulfites de calcium\", \"vin\", \"produits séchés\"],\n",
    "}"
   ]
  },
  {
   "cell_type": "code",
   "execution_count": 41,
   "metadata": {},
   "outputs": [],
   "source": [
    "def detect_allergen_in_sentence(sentence, allergen_dict):\n",
    "    detected_allergens = []\n",
    "\n",
    "    words = sentence.lower().split()  # Diviser la phrase en mots en minuscules\n",
    "\n",
    "    for allergen, allergen_list in allergen_dict.items():\n",
    "        for item in allergen_list:\n",
    "            if item.lower() in words:\n",
    "                detected_allergens.append(allergen)\n",
    "            elif \" \".join(words).find(item.lower()) != -1:\n",
    "                detected_allergens.append(allergen)\n",
    "\n",
    "    return detected_allergens\n",
    "\n"
   ]
  },
  {
   "cell_type": "code",
   "execution_count": 43,
   "metadata": {},
   "outputs": [
    {
     "name": "stdout",
     "output_type": "stream",
     "text": [
      "Les allergènes détectés dans la phrase sont : ['anhydride sulfureux et sulfites']\n"
     ]
    }
   ],
   "source": [
    "sentence = \"J'adore les amandes, mais je suis allergique aux oeufs et aux sulfites de sodium.\"\n",
    "detected_allergens = detect_allergen_in_sentence(sentence, allergenes)\n",
    "\n",
    "if detected_allergens:\n",
    "    print(\"Les allergènes détectés dans la phrase sont :\", detected_allergens)\n",
    "else:\n",
    "    print(\"Aucun allergène n'a été détecté dans la phrase.\")"
   ]
  },
  {
   "cell_type": "markdown",
   "metadata": {},
   "source": [
    " la correspondance de motifs : "
   ]
  },
  {
   "cell_type": "code",
   "execution_count": null,
   "metadata": {},
   "outputs": [],
   "source": [
    "# Charger le modèle de traitement du langage naturel de spaCy\n",
    "nlp = spacy.load(\"fr_core_news_sm\")"
   ]
  },
  {
   "cell_type": "code",
   "execution_count": null,
   "metadata": {},
   "outputs": [],
   "source": [
    "def detect_allergen_in_sentence(sentence, allergen_dict):\n",
    "    detected_allergens = []\n",
    "\n",
    "    doc = nlp(sentence)\n",
    "\n",
    "    for allergen, allergen_list in allergen_dict.items():\n",
    "        for item in allergen_list:\n",
    "            # Recherche de correspondance exacte de l'expression d'allergène\n",
    "            if item.lower() in sentence.lower():\n",
    "                detected_allergens.append(allergen)\n",
    "\n",
    "            # Recherche de correspondance de motifs avec spaCy\n",
    "            pattern = [{\"LOWER\": word.lower()} for word in item.split()]\n",
    "            if any(pattern_matcher(doc, [pattern])):\n",
    "                detected_allergens.append(allergen)\n",
    "\n",
    "    return detected_allergens\n",
    "\n",
    "def pattern_matcher(doc, patterns):\n",
    "    matcher = spacy.matcher.Matcher(nlp.vocab)\n",
    "    matcher.add(\"PatternMatcher\", patterns)\n",
    "    matches = matcher(doc)\n",
    "    return matches"
   ]
  },
  {
   "cell_type": "code",
   "execution_count": 44,
   "metadata": {},
   "outputs": [
    {
     "name": "stdout",
     "output_type": "stream",
     "text": [
      "Les allergènes détectés dans la phrase sont : ['anhydride sulfureux et sulfites', 'anhydride sulfureux et sulfites']\n"
     ]
    }
   ],
   "source": [
    "sentence = \"J'adore les amandes, mais je suis allergique aux œufs et aux sulfites de sodium.\"\n",
    "detected_allergens = detect_allergen_in_sentence(sentence, allergenes)\n",
    "\n",
    "if detected_allergens:\n",
    "    print(\"Les allergènes détectés dans la phrase sont :\", detected_allergens)\n",
    "else:\n",
    "    print(\"Aucun allergène n'a été détecté dans la phrase.\")\n"
   ]
  }
 ],
 "metadata": {
  "kernelspec": {
   "display_name": "base",
   "language": "python",
   "name": "python3"
  },
  "language_info": {
   "codemirror_mode": {
    "name": "ipython",
    "version": 3
   },
   "file_extension": ".py",
   "mimetype": "text/x-python",
   "name": "python",
   "nbconvert_exporter": "python",
   "pygments_lexer": "ipython3",
   "version": "3.12.2"
  },
  "orig_nbformat": 4
 },
 "nbformat": 4,
 "nbformat_minor": 2
}
