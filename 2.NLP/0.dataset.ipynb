{
 "cells": [
  {
   "cell_type": "code",
   "execution_count": 3,
   "metadata": {},
   "outputs": [
    {
     "name": "stdout",
     "output_type": "stream",
     "text": [
      "Collecting matplotlib\n",
      "  Downloading matplotlib-3.7.2-cp311-cp311-win_amd64.whl (7.5 MB)\n",
      "                                              0.0/7.5 MB ? eta -:--:--\n",
      "                                              0.1/7.5 MB 2.4 MB/s eta 0:00:04\n",
      "     -                                        0.3/7.5 MB 2.6 MB/s eta 0:00:03\n",
      "     -                                        0.3/7.5 MB 2.8 MB/s eta 0:00:03\n",
      "     --                                       0.5/7.5 MB 2.8 MB/s eta 0:00:03\n",
      "     ---                                      0.6/7.5 MB 2.5 MB/s eta 0:00:03\n",
      "     ---                                      0.7/7.5 MB 2.5 MB/s eta 0:00:03\n",
      "     ---                                      0.7/7.5 MB 2.5 MB/s eta 0:00:03\n",
      "     ---                                      0.7/7.5 MB 2.5 MB/s eta 0:00:03\n",
      "     ----                                     0.8/7.5 MB 1.9 MB/s eta 0:00:04\n",
      "     -----                                    1.0/7.5 MB 2.2 MB/s eta 0:00:03\n",
      "     ------                                   1.1/7.5 MB 2.2 MB/s eta 0:00:03\n",
      "     -------                                  1.4/7.5 MB 2.4 MB/s eta 0:00:03\n",
      "     ---------                                1.7/7.5 MB 2.8 MB/s eta 0:00:03\n",
      "     ----------                               1.9/7.5 MB 2.9 MB/s eta 0:00:02\n",
      "     ------------                             2.3/7.5 MB 3.2 MB/s eta 0:00:02\n",
      "     -------------                            2.5/7.5 MB 3.4 MB/s eta 0:00:02\n",
      "     --------------                           2.8/7.5 MB 3.6 MB/s eta 0:00:02\n",
      "     ----------------                         3.1/7.5 MB 3.6 MB/s eta 0:00:02\n",
      "     ------------------                       3.4/7.5 MB 3.8 MB/s eta 0:00:02\n",
      "     -------------------                      3.6/7.5 MB 3.9 MB/s eta 0:00:02\n",
      "     -------------------                      3.7/7.5 MB 3.9 MB/s eta 0:00:01\n",
      "     ---------------------                    4.0/7.5 MB 3.9 MB/s eta 0:00:01\n",
      "     -----------------------                  4.4/7.5 MB 4.2 MB/s eta 0:00:01\n",
      "     ------------------------                 4.6/7.5 MB 4.1 MB/s eta 0:00:01\n",
      "     --------------------------               4.9/7.5 MB 4.2 MB/s eta 0:00:01\n",
      "     ---------------------------              5.3/7.5 MB 4.3 MB/s eta 0:00:01\n",
      "     -----------------------------            5.6/7.5 MB 4.4 MB/s eta 0:00:01\n",
      "     ------------------------------           5.7/7.5 MB 4.5 MB/s eta 0:00:01\n",
      "     --------------------------------         6.1/7.5 MB 4.6 MB/s eta 0:00:01\n",
      "     ---------------------------------        6.3/7.5 MB 4.5 MB/s eta 0:00:01\n",
      "     ----------------------------------       6.5/7.5 MB 4.5 MB/s eta 0:00:01\n",
      "     ------------------------------------     6.9/7.5 MB 4.6 MB/s eta 0:00:01\n",
      "     --------------------------------------   7.1/7.5 MB 4.7 MB/s eta 0:00:01\n",
      "     ---------------------------------------  7.5/7.5 MB 4.7 MB/s eta 0:00:01\n",
      "     ---------------------------------------- 7.5/7.5 MB 4.6 MB/s eta 0:00:00\n",
      "Collecting contourpy>=1.0.1 (from matplotlib)\n",
      "  Downloading contourpy-1.1.0-cp311-cp311-win_amd64.whl (470 kB)\n",
      "                                              0.0/470.9 kB ? eta -:--:--\n",
      "     ----------------                       204.8/470.9 kB 6.1 MB/s eta 0:00:01\n",
      "     ----------------------                 276.5/470.9 kB 3.4 MB/s eta 0:00:01\n",
      "     -------------------------------------  460.8/470.9 kB 3.6 MB/s eta 0:00:01\n",
      "     -------------------------------------  460.8/470.9 kB 3.6 MB/s eta 0:00:01\n",
      "     -------------------------------------- 470.9/470.9 kB 2.0 MB/s eta 0:00:00\n",
      "Collecting cycler>=0.10 (from matplotlib)\n",
      "  Downloading cycler-0.11.0-py3-none-any.whl (6.4 kB)\n",
      "Collecting fonttools>=4.22.0 (from matplotlib)\n",
      "  Downloading fonttools-4.42.1-cp311-cp311-win_amd64.whl (2.1 MB)\n",
      "                                              0.0/2.1 MB ? eta -:--:--\n",
      "     --                                       0.1/2.1 MB 4.2 MB/s eta 0:00:01\n",
      "     -----------                              0.6/2.1 MB 7.4 MB/s eta 0:00:01\n",
      "     -------------                            0.7/2.1 MB 5.7 MB/s eta 0:00:01\n",
      "     --------------------                     1.1/2.1 MB 6.4 MB/s eta 0:00:01\n",
      "     ---------------------------              1.4/2.1 MB 6.5 MB/s eta 0:00:01\n",
      "     -------------------------------          1.6/2.1 MB 6.2 MB/s eta 0:00:01\n",
      "     ------------------------------------     2.0/2.1 MB 6.2 MB/s eta 0:00:01\n",
      "     ---------------------------------------  2.1/2.1 MB 6.1 MB/s eta 0:00:01\n",
      "     ---------------------------------------- 2.1/2.1 MB 5.6 MB/s eta 0:00:00\n",
      "Collecting kiwisolver>=1.0.1 (from matplotlib)\n",
      "  Downloading kiwisolver-1.4.5-cp311-cp311-win_amd64.whl (56 kB)\n",
      "                                              0.0/56.1 kB ? eta -:--:--\n",
      "     ---------------------------------------- 56.1/56.1 kB 1.5 MB/s eta 0:00:00\n",
      "Requirement already satisfied: numpy>=1.20 in c:\\users\\boss\\appdata\\local\\programs\\python\\python311\\lib\\site-packages (from matplotlib) (1.24.2)\n",
      "Requirement already satisfied: packaging>=20.0 in c:\\users\\boss\\appdata\\roaming\\python\\python311\\site-packages (from matplotlib) (23.1)\n",
      "Requirement already satisfied: pillow>=6.2.0 in c:\\users\\boss\\appdata\\local\\programs\\python\\python311\\lib\\site-packages (from matplotlib) (9.5.0)\n",
      "Collecting pyparsing<3.1,>=2.3.1 (from matplotlib)\n",
      "  Downloading pyparsing-3.0.9-py3-none-any.whl (98 kB)\n",
      "                                              0.0/98.3 kB ? eta -:--:--\n",
      "     ---------------------------------------- 98.3/98.3 kB 2.8 MB/s eta 0:00:00\n",
      "Requirement already satisfied: python-dateutil>=2.7 in c:\\users\\boss\\appdata\\roaming\\python\\python311\\site-packages (from matplotlib) (2.8.2)\n",
      "Requirement already satisfied: six>=1.5 in c:\\users\\boss\\appdata\\roaming\\python\\python311\\site-packages (from python-dateutil>=2.7->matplotlib) (1.16.0)\n",
      "Installing collected packages: pyparsing, kiwisolver, fonttools, cycler, contourpy, matplotlib\n",
      "Successfully installed contourpy-1.1.0 cycler-0.11.0 fonttools-4.42.1 kiwisolver-1.4.5 matplotlib-3.7.2 pyparsing-3.0.9\n",
      "Note: you may need to restart the kernel to use updated packages.\n"
     ]
    },
    {
     "name": "stderr",
     "output_type": "stream",
     "text": [
      "  WARNING: The scripts fonttools.exe, pyftmerge.exe, pyftsubset.exe and ttx.exe are installed in 'c:\\Users\\boss\\AppData\\Local\\Programs\\Python\\Python311\\Scripts' which is not on PATH.\n",
      "  Consider adding this directory to PATH or, if you prefer to suppress this warning, use --no-warn-script-location.\n",
      "\n",
      "[notice] A new release of pip is available: 23.1.2 -> 23.2.1\n",
      "[notice] To update, run: python.exe -m pip install --upgrade pip\n"
     ]
    }
   ],
   "source": [
    "pip install matplotlib"
   ]
  },
  {
   "cell_type": "code",
   "execution_count": 5,
   "metadata": {},
   "outputs": [
    {
     "name": "stdout",
     "output_type": "stream",
     "text": [
      "Collecting seaborn\n",
      "  Downloading seaborn-0.12.2-py3-none-any.whl (293 kB)\n",
      "                                              0.0/293.3 kB ? eta -:--:--\n",
      "     ---------------                        122.9/293.3 kB 7.0 MB/s eta 0:00:01\n",
      "     --------------------------             204.8/293.3 kB 3.1 MB/s eta 0:00:01\n",
      "     -------------------------------------- 293.3/293.3 kB 2.6 MB/s eta 0:00:00\n",
      "Requirement already satisfied: numpy!=1.24.0,>=1.17 in c:\\users\\boss\\appdata\\local\\programs\\python\\python311\\lib\\site-packages (from seaborn) (1.24.2)\n",
      "Requirement already satisfied: pandas>=0.25 in c:\\users\\boss\\appdata\\local\\programs\\python\\python311\\lib\\site-packages (from seaborn) (2.0.0)\n",
      "Requirement already satisfied: matplotlib!=3.6.1,>=3.1 in c:\\users\\boss\\appdata\\local\\programs\\python\\python311\\lib\\site-packages (from seaborn) (3.7.2)\n",
      "Requirement already satisfied: contourpy>=1.0.1 in c:\\users\\boss\\appdata\\local\\programs\\python\\python311\\lib\\site-packages (from matplotlib!=3.6.1,>=3.1->seaborn) (1.1.0)\n",
      "Requirement already satisfied: cycler>=0.10 in c:\\users\\boss\\appdata\\local\\programs\\python\\python311\\lib\\site-packages (from matplotlib!=3.6.1,>=3.1->seaborn) (0.11.0)\n",
      "Requirement already satisfied: fonttools>=4.22.0 in c:\\users\\boss\\appdata\\local\\programs\\python\\python311\\lib\\site-packages (from matplotlib!=3.6.1,>=3.1->seaborn) (4.42.1)\n",
      "Requirement already satisfied: kiwisolver>=1.0.1 in c:\\users\\boss\\appdata\\local\\programs\\python\\python311\\lib\\site-packages (from matplotlib!=3.6.1,>=3.1->seaborn) (1.4.5)\n",
      "Requirement already satisfied: packaging>=20.0 in c:\\users\\boss\\appdata\\roaming\\python\\python311\\site-packages (from matplotlib!=3.6.1,>=3.1->seaborn) (23.1)\n",
      "Requirement already satisfied: pillow>=6.2.0 in c:\\users\\boss\\appdata\\local\\programs\\python\\python311\\lib\\site-packages (from matplotlib!=3.6.1,>=3.1->seaborn) (9.5.0)\n",
      "Requirement already satisfied: pyparsing<3.1,>=2.3.1 in c:\\users\\boss\\appdata\\local\\programs\\python\\python311\\lib\\site-packages (from matplotlib!=3.6.1,>=3.1->seaborn) (3.0.9)\n",
      "Requirement already satisfied: python-dateutil>=2.7 in c:\\users\\boss\\appdata\\roaming\\python\\python311\\site-packages (from matplotlib!=3.6.1,>=3.1->seaborn) (2.8.2)\n",
      "Requirement already satisfied: pytz>=2020.1 in c:\\users\\boss\\appdata\\local\\programs\\python\\python311\\lib\\site-packages (from pandas>=0.25->seaborn) (2023.3)\n",
      "Requirement already satisfied: tzdata>=2022.1 in c:\\users\\boss\\appdata\\local\\programs\\python\\python311\\lib\\site-packages (from pandas>=0.25->seaborn) (2023.3)\n",
      "Requirement already satisfied: six>=1.5 in c:\\users\\boss\\appdata\\roaming\\python\\python311\\site-packages (from python-dateutil>=2.7->matplotlib!=3.6.1,>=3.1->seaborn) (1.16.0)\n",
      "Installing collected packages: seaborn\n",
      "Successfully installed seaborn-0.12.2\n",
      "Note: you may need to restart the kernel to use updated packages.\n"
     ]
    },
    {
     "name": "stderr",
     "output_type": "stream",
     "text": [
      "\n",
      "[notice] A new release of pip is available: 23.1.2 -> 23.2.1\n",
      "[notice] To update, run: python.exe -m pip install --upgrade pip\n"
     ]
    }
   ],
   "source": [
    "pip install seaborn"
   ]
  },
  {
   "cell_type": "code",
   "execution_count": 1,
   "metadata": {},
   "outputs": [],
   "source": [
    "import pandas as pd\n",
    "import numpy as np\n",
    "import matplotlib.pyplot as plt\n",
    "import seaborn as sns"
   ]
  },
  {
   "cell_type": "code",
   "execution_count": null,
   "metadata": {},
   "outputs": [],
   "source": []
  },
  {
   "cell_type": "code",
   "execution_count": 2,
   "metadata": {},
   "outputs": [],
   "source": [
    "#OPENFOODFACTS : Le fichier utilise l'encodage Unicode UTF-8. Le caractère de séparation des champs est <tab> (tabulation).\n",
    "try:\n",
    "    df = pd.read_csv(r'C:\\Users\\boss\\Desktop\\STAGE\\CODE\\NLP\\cleaned_openfoodfacts.csv', sep='\\t', nrows=1417719, engine='python')\n",
    "    #df = pd.read_csv('openfoodfacts.csv', sep='\\t')\n",
    "except pd.errors.ParserError as e:\n",
    "    # Récupérer l'index de la ligne qui cause l'erreur\n",
    "    error_line = int(str(e).split(' ')[-1])\n",
    "    # Lire à nouveau le fichier et spécifier la ligne qui pose problème\n",
    "    df = pd.read_csv('openfoodfacts.csv', error_bad_lines=False, skiprows=range(1,error_line))\n",
    "    # Afficher la ligne qui pose problème\n",
    "    print(f\"Ligne {error_line}: {open('openfoodfacts.csv').readlines()[error_line-1]}\")\n"
   ]
  },
  {
   "cell_type": "code",
   "execution_count": 3,
   "metadata": {},
   "outputs": [],
   "source": [
    "try:\n",
    "    df2 = pd.read_csv(r'C:\\Users\\boss\\Desktop\\STAGE\\CODE\\NLP\\cleaned_openfoodfacts.csv', sep='\\t', nrows=1400000, engine='python')\n",
    "except pd.errors.ParserError as e:\n",
    "    # Récupérer l'index de la ligne qui cause l'erreur\n",
    "    error_line = int(str(e).split(' ')[-1])\n",
    "    # Lire à nouveau le fichier et spécifier la ligne qui pose problème\n",
    "    df = pd.read_csv('openfoodfacts.csv', error_bad_lines=False, skiprows=range(1,error_line))\n",
    "    # Afficher la ligne qui pose problème\n",
    "    print(f\"Ligne {error_line}: {open('openfoodfacts.csv').readlines()[error_line-1]}\")"
   ]
  },
  {
   "cell_type": "code",
   "execution_count": 9,
   "metadata": {},
   "outputs": [
    {
     "name": "stdout",
     "output_type": "stream",
     "text": [
      "Nettoyage terminé. Le fichier nettoyé a été enregistré sous cleaned_openfoodfacts.csv\n"
     ]
    }
   ],
   "source": [
    "import csv\n",
    "\n",
    "input_file = 'openfoodfacts.csv'\n",
    "output_file = 'cleaned_openfoodfacts.csv'\n",
    "\n",
    "# Fonction pour nettoyer les lignes avec des guillemets problématiques\n",
    "def clean_row(row):\n",
    "    cleaned_row = []\n",
    "    inside_quotes = False\n",
    "    \n",
    "    for value in row:\n",
    "        if value.startswith('\"') and not value.endswith('\"'):\n",
    "            inside_quotes = True\n",
    "            cleaned_row.append(value[1:])\n",
    "        elif value.endswith('\"') and not value.startswith('\"'):\n",
    "            inside_quotes = False\n",
    "            cleaned_row[-1] += value[:-1]\n",
    "        elif inside_quotes:\n",
    "            cleaned_row[-1] += value\n",
    "        else:\n",
    "            cleaned_row.append(value)\n",
    "    \n",
    "    return cleaned_row\n",
    "\n",
    "# Ouvrir le fichier d'entrée et le fichier de sortie\n",
    "with open(input_file, 'r', encoding='utf-8') as f_in, open(output_file, 'w', encoding='utf-8', newline='') as f_out:\n",
    "    reader = csv.reader(f_in, delimiter='\\t')\n",
    "    writer = csv.writer(f_out, delimiter='\\t')\n",
    "    \n",
    "    for row in reader:\n",
    "        cleaned_row = clean_row(row)\n",
    "        writer.writerow(cleaned_row)\n",
    "\n",
    "print(\"Nettoyage terminé. Le fichier nettoyé a été enregistré sous\", output_file)\n"
   ]
  },
  {
   "cell_type": "code",
   "execution_count": 11,
   "metadata": {},
   "outputs": [
    {
     "ename": "NameError",
     "evalue": "name 'df' is not defined",
     "output_type": "error",
     "traceback": [
      "\u001b[1;31m---------------------------------------------------------------------------\u001b[0m",
      "\u001b[1;31mNameError\u001b[0m                                 Traceback (most recent call last)",
      "Cell \u001b[1;32mIn[11], line 2\u001b[0m\n\u001b[0;32m      1\u001b[0m \u001b[39m#print(df.head())\u001b[39;00m\n\u001b[1;32m----> 2\u001b[0m \u001b[39mprint\u001b[39m(df\u001b[39m.\u001b[39mhead())\n",
      "\u001b[1;31mNameError\u001b[0m: name 'df' is not defined"
     ]
    }
   ],
   "source": [
    "#print(df.head())\n",
    "print(df.head())"
   ]
  },
  {
   "attachments": {},
   "cell_type": "markdown",
   "metadata": {},
   "source": [
    "Affichage des premières lignes du fichier pour vérifier si la lecture est correcte :"
   ]
  },
  {
   "cell_type": "code",
   "execution_count": 9,
   "metadata": {},
   "outputs": [
    {
     "name": "stdout",
     "output_type": "stream",
     "text": [
      "Index(['code', 'url', 'creator', 'created_t', 'created_datetime',\n",
      "       'last_modified_t', 'last_modified_datetime', 'last_modified_by',\n",
      "       'product_name', 'abbreviated_product_name',\n",
      "       ...\n",
      "       'carbon-footprint-from-meat-or-fish_100g', 'nutrition-score-fr_100g',\n",
      "       'nutrition-score-uk_100g', 'glycemic-index_100g', 'water-hardness_100g',\n",
      "       'choline_100g', 'phylloquinone_100g', 'beta-glucan_100g',\n",
      "       'inositol_100g', 'carnitine_100g'],\n",
      "      dtype='object', length=201)\n"
     ]
    }
   ],
   "source": [
    "# Afficher les noms des colonnes\n",
    "print(df.columns)"
   ]
  },
  {
   "cell_type": "code",
   "execution_count": 5,
   "metadata": {},
   "outputs": [
    {
     "ename": "NameError",
     "evalue": "name 'df' is not defined",
     "output_type": "error",
     "traceback": [
      "\u001b[1;31m---------------------------------------------------------------------------\u001b[0m",
      "\u001b[1;31mNameError\u001b[0m                                 Traceback (most recent call last)",
      "Cell \u001b[1;32mIn[5], line 2\u001b[0m\n\u001b[0;32m      1\u001b[0m \u001b[39m# Vérifier si une colonne existe dans le dataframe\u001b[39;00m\n\u001b[1;32m----> 2\u001b[0m \u001b[39mif\u001b[39;00m \u001b[39m'\u001b[39m\u001b[39mallergens\u001b[39m\u001b[39m'\u001b[39m \u001b[39min\u001b[39;00m df\u001b[39m.\u001b[39mcolumns:\n\u001b[0;32m      3\u001b[0m     \u001b[39mprint\u001b[39m(\u001b[39m\"\u001b[39m\u001b[39mLa colonne \u001b[39m\u001b[39m'\u001b[39m\u001b[39mB\u001b[39m\u001b[39m'\u001b[39m\u001b[39m existe dans le dataframe.\u001b[39m\u001b[39m\"\u001b[39m)\n\u001b[0;32m      4\u001b[0m \u001b[39melse\u001b[39;00m:\n",
      "\u001b[1;31mNameError\u001b[0m: name 'df' is not defined"
     ]
    }
   ],
   "source": [
    "# Vérifier si une colonne existe dans le dataframe\n",
    "if 'allergens' in df.columns:\n",
    "    print(\"La colonne 'B' existe dans le dataframe.\")\n",
    "else:\n",
    "    print(\"La colonne 'B' n'existe pas dans le dataframe.\")"
   ]
  },
  {
   "cell_type": "code",
   "execution_count": 5,
   "metadata": {},
   "outputs": [
    {
     "name": "stdout",
     "output_type": "stream",
     "text": [
      "                                                                                                                                                                                                                                                                                                                                                                                                                                                                                                                                                                                                                                                                                                                                                                                                                                                                                                                                                                                                                                                                                                                                                                                                                                                                                                                                                                                                                                                                                                                                                                                                                             code\\turl\\tcreator\\tcreated_t\\tcreated_datetime\\tlast_modified_t\\tlast_modified_datetime\\tlast_modified_by\\tproduct_name\\tabbreviated_product_name\\tgeneric_name\\tquantity\\tpackaging\\tpackaging_tags\\tpackaging_en\\tpackaging_text\\tbrands\\tbrands_tags\\tcategories\\tcategories_tags\\tcategories_en\\torigins\\torigins_tags\\torigins_en\\tmanufacturing_places\\tmanufacturing_places_tags\\tlabels\\tlabels_tags\\tlabels_en\\temb_codes\\temb_codes_tags\\tfirst_packaging_code_geo\\tcities\\tcities_tags\\tpurchase_places\\tstores\\tcountries\\tcountries_tags\\tcountries_en\\tingredients_text\\tingredients_tags\\tingredients_analysis_tags\\tallergens\\tallergens_en\\ttraces\\ttraces_tags\\ttraces_en\\tserving_size\\tserving_quantity\\tno_nutrition_data\\tadditives_n\\tadditives\\tadditives_tags\\tadditives_en\\tnutriscore_score\\tnutriscore_grade\\tnova_group\\tpnns_groups_1\\tpnns_groups_2\\tfood_groups\\tfood_groups_tags\\tfood_groups_en\\tstates\\tstates_tags\\tstates_en\\tbrand_owner\\tecoscore_score\\tecoscore_grade\\tnutrient_levels_tags\\tproduct_quantity\\towner\\tdata_quality_errors_tags\\tunique_scans_n\\tpopularity_tags\\tcompleteness\\tlast_image_t\\tlast_image_datetime\\tmain_category\\tmain_category_en\\timage_url\\timage_small_url\\timage_ingredients_url\\timage_ingredients_small_url\\timage_nutrition_url\\timage_nutrition_small_url\\tenergy-kj_100g\\tenergy-kcal_100g\\tenergy_100g\\tenergy-from-fat_100g\\tfat_100g\\tsaturated-fat_100g\\tbutyric-acid_100g\\tcaproic-acid_100g\\tcaprylic-acid_100g\\tcapric-acid_100g\\tlauric-acid_100g\\tmyristic-acid_100g\\tpalmitic-acid_100g\\tstearic-acid_100g\\tarachidic-acid_100g\\tbehenic-acid_100g\\tlignoceric-acid_100g\\tcerotic-acid_100g\\tmontanic-acid_100g\\tmelissic-acid_100g\\tunsaturated-fat_100g\\tmonounsaturated-fat_100g\\tpolyunsaturated-fat_100g\\tomega-3-fat_100g\\talpha-linolenic-acid_100g\\teicosapentaenoic-acid_100g\\tdocosahexaenoic-acid_100g\\tomega-6-fat_100g\\tlinoleic-acid_100g\\tarachidonic-acid_100g\\tgamma-linolenic-acid_100g\\tdihomo-gamma-linolenic-acid_100g\\tomega-9-fat_100g\\toleic-acid_100g\\telaidic-acid_100g\\tgondoic-acid_100g\\tmead-acid_100g\\terucic-acid_100g\\tnervonic-acid_100g\\ttrans-fat_100g\\tcholesterol_100g\\tcarbohydrates_100g\\tsugars_100g\\tadded-sugars_100g\\tsucrose_100g\\tglucose_100g\\tfructose_100g\\tlactose_100g\\tmaltose_100g\\tmaltodextrins_100g\\tstarch_100g\\tpolyols_100g\\terythritol_100g\\tfiber_100g\\tsoluble-fiber_100g\\tinsoluble-fiber_100g\\tproteins_100g\\tcasein_100g\\tserum-proteins_100g\\tnucleotides_100g\\tsalt_100g\\tadded-salt_100g\\tsodium_100g\\talcohol_100g\\tvitamin-a_100g\\tbeta-carotene_100g\\tvitamin-d_100g\\tvitamin-e_100g\\tvitamin-k_100g\\tvitamin-c_100g\\tvitamin-b1_100g\\tvitamin-b2_100g\\tvitamin-pp_100g\\tvitamin-b6_100g\\tvitamin-b9_100g\\tfolates_100g\\tvitamin-b12_100g\\tbiotin_100g\\tpantothenic-acid_100g\\tsilica_100g\\tbicarbonate_100g\\tpotassium_100g\\tchloride_100g\\tcalcium_100g\\tphosphorus_100g\\tiron_100g\\tmagnesium_100g\\tzinc_100g\\tcopper_100g\\tmanganese_100g\\tfluoride_100g\\tselenium_100g\\tchromium_100g\\tmolybdenum_100g\\tiodine_100g\\tcaffeine_100g\\ttaurine_100g\\tph_100g\\tfruits-vegetables-nuts_100g\\tfruits-vegetables-nuts-dried_100g\\tfruits-vegetables-nuts-estimate_100g\\tfruits-vegetables-nuts-estimate-from-ingredients_100g\\tcollagen-meat-protein-ratio_100g\\tcocoa_100g\\tchlorophyl_100g\\tcarbon-footprint_100g\\tcarbon-footprint-from-meat-or-fish_100g\\tnutrition-score-fr_100g\\tnutrition-score-uk_100g\\tglycemic-index_100g\\twater-hardness_100g\\tcholine_100g\\tphylloquinone_100g\\tbeta-glucan_100g\\tinositol_100g\\tcarnitine_100g\n",
      "0000000002417\\thttp://world-en.openfoodfacts.or...  en:nutrition-facts-completed        en:ingredients-to-be-completed  en:expiration-date-to-be-completed  en:packaging-code-to-be-completed  en:characteristics-to-be-completed  en:origins-to-be-completed  en:categories-to-be-completed  en:brands-to-be-completed  en:packaging-to-be-completed  en:quantity-to-be-completed  en:product-name-completed  en:photos-to-be-validated  en:packaging-photo-to-be-selected  en:nutrition-photo-to-be-selected  en:ingredients-photo-to-be-selected  en:front-photo-selected  en:photos-uploaded\\ten:to-be-completed en:nutrition-facts-completed       en:ingredients-to-be-completed en:expiration-date-to-be-completed en:packaging-code-to-be-completed en:characteristics-to-be-completed en:origins-to-be-completed en:categories-to-be-completed en:brands-to-be-completed en:packaging-to-be-completed en:quantity-to-be-completed en:product-name-completed en:photos-to-be-validated en:packaging-photo-to-be-selected en:nutrition-photo-to-be-selected en:ingredients-photo-to-be-selected en:front-photo-selected en:photos-uploaded\\tTo be completed Nutrition facts completed       Ingredients to be completed Expiration date to be completed Packaging code to be completed Characteristics to be completed Origins to be completed Categories to be completed Brands to be completed Packaging to be completed Quantity to be completed Product name completed Photos to be validated Packaging photo to be selected Nutrition photo to be selected Ingredients photo to be selected Front photo selected  Photos uploaded\\t\\t\\tunknown\\t\\t\\t\\t\\t1\\ttop-c...                                                                                                                                                                                                                                                                                                                                                                                                                                                                                                                                                                                                                                                                                                                                                                                                                                                                                                                                                                                                                                                                                                                                                                                                                                                                                                                                                                                                                                                                                                                                                                                                                                                                                                                                                                                                                                                                                                                                                                                                                                                                                                                                                                                                                                                                                                                                                                                                                                                                                                                                                                                                                                                                                                                                                                                                                                                                                                                                                                                                                                                                                                                                                                                                                                                                                                                                                                                                                                                                                                                                                           \n",
      "0000000003018\\thttp://world-en.openfoodfacts.or...  en:nutrition-facts-completed        en:ingredients-to-be-completed  en:expiration-date-to-be-completed  en:packaging-code-to-be-completed  en:characteristics-to-be-completed  en:origins-to-be-completed  en:categories-to-be-completed  en:brands-to-be-completed  en:packaging-to-be-completed  en:quantity-to-be-completed  en:product-name-completed  en:photos-to-be-validated  en:packaging-photo-to-be-selected  en:nutrition-photo-to-be-selected  en:ingredients-photo-selected        en:front-photo-selected  en:photos-uploaded\\ten:to-be-completed en:nutrition-facts-completed       en:ingredients-to-be-completed en:expiration-date-to-be-completed en:packaging-code-to-be-completed en:characteristics-to-be-completed en:origins-to-be-completed en:categories-to-be-completed en:brands-to-be-completed en:packaging-to-be-completed en:quantity-to-be-completed en:product-name-completed en:photos-to-be-validated en:packaging-photo-to-be-selected en:nutrition-photo-to-be-selected en:ingredients-photo-selected       en:front-photo-selected en:photos-uploaded\\tTo be completed Nutrition facts completed       Ingredients to be completed Expiration date to be completed Packaging code to be completed Characteristics to be completed Origins to be completed Categories to be completed Brands to be completed Packaging to be completed Quantity to be completed Product name completed Photos to be validated Packaging photo to be selected Nutrition photo to be selected Ingredients photo selected       Front photo selected  Photos uploaded\\t\\t\\tunknown\\t\\t\\t\\t\\t\\t\\t0.27...                                                                                                                                                                                                                                                                                                                                                                                                                                                                                                                                                                                                                                                                                                                                                                                                                                                                                                                                                                                                                                                                                                                                                                                                                                                                                                                                                                                                                                                                                                                                                                                                                                                                                                                                                                                                                                                                                                                                                                                                                                                                                                                                                                                                                                                                                                                                                                                                                                                                                                                                                                                                                                                                                                                                                                                                                                                                                                                                                                                                                                                                                                                                                                                                                                                                                                                                                                                                                                                                                                                                                           \n",
      "0000000003087\\thttp://world-en.openfoodfacts.or...  en:nutrition-facts-to-be-completed  en:ingredients-to-be-completed  en:expiration-date-to-be-completed  en:packaging-code-to-be-completed  en:characteristics-to-be-completed  en:origins-to-be-completed  en:categories-to-be-completed  en:brands-completed        en:packaging-to-be-completed  en:quantity-completed        en:product-name-completed  en:photos-to-be-validated  en:packaging-photo-to-be-selected  en:nutrition-photo-to-be-selected  en:ingredients-photo-to-be-selected  en:front-photo-selected  en:photos-uploaded\\ten:to-be-completed en:nutrition-facts-to-be-completed en:ingredients-to-be-completed en:expiration-date-to-be-completed en:packaging-code-to-be-completed en:characteristics-to-be-completed en:origins-to-be-completed en:categories-to-be-completed en:brands-completed       en:packaging-to-be-completed en:quantity-completed       en:product-name-completed en:photos-to-be-validated en:packaging-photo-to-be-selected en:nutrition-photo-to-be-selected en:ingredients-photo-to-be-selected en:front-photo-selected en:photos-uploaded\\tTo be completed Nutrition facts to be completed Ingredients to be completed Expiration date to be completed Packaging code to be completed Characteristics to be completed Origins to be completed Categories to be completed Brands completed       Packaging to be completed Quantity completed       Product name completed Photos to be validated Packaging photo to be selected Nutrition photo to be selected Ingredients photo to be selected Front photo selected  Photos uploaded\\t\\t\\tunknown\\t\\t1000\\t\\t\\t1\\t\\...                                                                                                                                                                                                                                                                                                                                                                                                                                                                                                                                                                                                                                                                                                                                                                                                                                                                                                                                                                                                                                                                                                                                                                                                                                                                                                                                                                                                                                                                                                                                                                                                                                                                                                                                                                                                                                                                                                                                                                                                                                                                                                                                                                                                                                                                                                                                                                                                                                                                                                                                                                                                                                                                                                                                                                                                                                                                                                                                                                                                                                                                                                                                                                                                                                                                                                                                                                                                                                                                                                                                                           \n",
      "000000000309\\thttp://world-en.openfoodfacts.org...  en:nutrition-facts-to-be-completed  en:ingredients-to-be-completed  en:expiration-date-to-be-completed  en:packaging-code-to-be-completed  en:characteristics-to-be-completed  en:origins-to-be-completed  en:categories-to-be-completed  en:brands-to-be-completed  en:packaging-to-be-completed  en:quantity-to-be-completed  en:product-name-completed  en:photos-to-be-validated  en:packaging-photo-to-be-selected  en:nutrition-photo-to-be-selected  en:ingredients-photo-to-be-selected  en:front-photo-selected  en:photos-uploaded\\ten:to-be-completed en:nutrition-facts-to-be-completed en:ingredients-to-be-completed en:expiration-date-to-be-completed en:packaging-code-to-be-completed en:characteristics-to-be-completed en:origins-to-be-completed en:categories-to-be-completed en:brands-to-be-completed en:packaging-to-be-completed en:quantity-to-be-completed en:product-name-completed en:photos-to-be-validated en:packaging-photo-to-be-selected en:nutrition-photo-to-be-selected en:ingredients-photo-to-be-selected en:front-photo-selected en:photos-uploaded\\tTo be completed Nutrition facts to be completed Ingredients to be completed Expiration date to be completed Packaging code to be completed Characteristics to be completed Origins to be completed Categories to be completed Brands to be completed Packaging to be completed Quantity to be completed Product name completed Photos to be validated Packaging photo to be selected Nutrition photo to be selected Ingredients photo to be selected Front photo selected  Photos uploaded\\t\\t\\tunknown\\t\\t\\t\\t\\t\\t\\t0.16...                                                                                                                                                                                                                                                                                                                                                                                                                                                                                                                                                                                                                                                                                                                                                                                                                                                                                                                                                                                                                                                                                                                                                                                                                                                                                                                                                                                                                                                                                                                                                                                                                                                                                                                                                                                                                                                                                                                                                                                                                                                                                                                                                                                                                                                                                                                                                                                                                                                                                                                                                                                                                                                                                                                                                                                                                                                                                                                                                                                                                                                                                                                                                                                                                                                                                                                                                                                                                                                                                                                                                           \n",
      "0000000003384\\thttp://world-en.openfoodfacts.or...  en:nutrition-facts-completed        en:ingredients-to-be-completed  en:expiration-date-to-be-completed  en:packaging-code-to-be-completed  en:characteristics-to-be-completed  en:origins-to-be-completed  en:categories-to-be-completed  en:brands-to-be-completed  en:packaging-to-be-completed  en:quantity-to-be-completed  en:product-name-completed  en:photos-to-be-validated  en:packaging-photo-to-be-selected  en:nutrition-photo-to-be-selected  en:ingredients-photo-selected        en:front-photo-selected  en:photos-uploaded\\ten:to-be-completed en:nutrition-facts-completed       en:ingredients-to-be-completed en:expiration-date-to-be-completed en:packaging-code-to-be-completed en:characteristics-to-be-completed en:origins-to-be-completed en:categories-to-be-completed en:brands-to-be-completed en:packaging-to-be-completed en:quantity-to-be-completed en:product-name-completed en:photos-to-be-validated en:packaging-photo-to-be-selected en:nutrition-photo-to-be-selected en:ingredients-photo-selected       en:front-photo-selected en:photos-uploaded\\tTo be completed Nutrition facts completed       Ingredients to be completed Expiration date to be completed Packaging code to be completed Characteristics to be completed Origins to be completed Categories to be completed Brands to be completed Packaging to be completed Quantity to be completed Product name completed Photos to be validated Packaging photo to be selected Nutrition photo to be selected Ingredients photo selected       Front photo selected  Photos uploaded\\t\\t\\tunknown\\t\\t\\t\\t\\t\\t\\t0.27...                                                                                                                                                                                                                                                                                                                                                                                                                                                                                                                                                                                                                                                                                                                                                                                                                                                                                                                                                                                                                                                                                                                                                                                                                                                                                                                                                                                                                                                                                                                                                                                                                                                                                                                                                                                                                                                                                                                                                                                                                                                                                                                                                                                                                                                                                                                                                                                                                                                                                                                                                                                                                                                                                                                                                                                                                                                                                                                                                                                                                                                                                                                                                                                                                                                                                                                                                                                                                                                                                                                                                           \n"
     ]
    }
   ],
   "source": [
    "print(df.head())"
   ]
  },
  {
   "cell_type": "code",
   "execution_count": null,
   "metadata": {},
   "outputs": [],
   "source": [
    "# Extraire les données de la colonne \"allergens\"\n",
    "allergens = df['allergens']"
   ]
  },
  {
   "cell_type": "code",
   "execution_count": null,
   "metadata": {},
   "outputs": [
    {
     "data": {
      "text/plain": [
       "(2835439,)"
      ]
     },
     "execution_count": 17,
     "metadata": {},
     "output_type": "execute_result"
    }
   ],
   "source": [
    "allergens.shape"
   ]
  },
  {
   "cell_type": "code",
   "execution_count": null,
   "metadata": {},
   "outputs": [
    {
     "ename": "",
     "evalue": "",
     "output_type": "error",
     "traceback": [
      "\u001b[1;31mCannot execute code, session has been disposed. Please try restarting the Kernel."
     ]
    },
    {
     "ename": "",
     "evalue": "",
     "output_type": "error",
     "traceback": [
      "\u001b[1;31mThe Kernel crashed while executing code in the the current cell or a previous cell. Please review the code in the cell(s) to identify a possible cause of the failure. Click <a href='https://aka.ms/vscodeJupyterKernelCrash'>here</a> for more info. View Jupyter <a href='command:jupyter.viewOutput'>log</a> for further details."
     ]
    }
   ],
   "source": [
    "# Exporter le DataFrame en tant que fichier CSV\n",
    "allergens.to_csv('allergens.csv', index=False)"
   ]
  },
  {
   "cell_type": "code",
   "execution_count": 15,
   "metadata": {},
   "outputs": [
    {
     "data": {
      "text/plain": [
       "(2835439, 201)"
      ]
     },
     "execution_count": 15,
     "metadata": {},
     "output_type": "execute_result"
    }
   ],
   "source": [
    "df2.shape\n"
   ]
  },
  {
   "cell_type": "code",
   "execution_count": 8,
   "metadata": {},
   "outputs": [],
   "source": [
    "noms_colonne = df.columns"
   ]
  },
  {
   "cell_type": "code",
   "execution_count": 9,
   "metadata": {},
   "outputs": [
    {
     "name": "stdout",
     "output_type": "stream",
     "text": [
      "Index(['code\\turl\\tcreator\\tcreated_t\\tcreated_datetime\\tlast_modified_t\\tlast_modified_datetime\\tlast_modified_by\\tproduct_name\\tabbreviated_product_name\\tgeneric_name\\tquantity\\tpackaging\\tpackaging_tags\\tpackaging_en\\tpackaging_text\\tbrands\\tbrands_tags\\tcategories\\tcategories_tags\\tcategories_en\\torigins\\torigins_tags\\torigins_en\\tmanufacturing_places\\tmanufacturing_places_tags\\tlabels\\tlabels_tags\\tlabels_en\\temb_codes\\temb_codes_tags\\tfirst_packaging_code_geo\\tcities\\tcities_tags\\tpurchase_places\\tstores\\tcountries\\tcountries_tags\\tcountries_en\\tingredients_text\\tingredients_tags\\tingredients_analysis_tags\\tallergens\\tallergens_en\\ttraces\\ttraces_tags\\ttraces_en\\tserving_size\\tserving_quantity\\tno_nutrition_data\\tadditives_n\\tadditives\\tadditives_tags\\tadditives_en\\tnutriscore_score\\tnutriscore_grade\\tnova_group\\tpnns_groups_1\\tpnns_groups_2\\tfood_groups\\tfood_groups_tags\\tfood_groups_en\\tstates\\tstates_tags\\tstates_en\\tbrand_owner\\tecoscore_score\\tecoscore_grade\\tnutrient_levels_tags\\tproduct_quantity\\towner\\tdata_quality_errors_tags\\tunique_scans_n\\tpopularity_tags\\tcompleteness\\tlast_image_t\\tlast_image_datetime\\tmain_category\\tmain_category_en\\timage_url\\timage_small_url\\timage_ingredients_url\\timage_ingredients_small_url\\timage_nutrition_url\\timage_nutrition_small_url\\tenergy-kj_100g\\tenergy-kcal_100g\\tenergy_100g\\tenergy-from-fat_100g\\tfat_100g\\tsaturated-fat_100g\\tbutyric-acid_100g\\tcaproic-acid_100g\\tcaprylic-acid_100g\\tcapric-acid_100g\\tlauric-acid_100g\\tmyristic-acid_100g\\tpalmitic-acid_100g\\tstearic-acid_100g\\tarachidic-acid_100g\\tbehenic-acid_100g\\tlignoceric-acid_100g\\tcerotic-acid_100g\\tmontanic-acid_100g\\tmelissic-acid_100g\\tunsaturated-fat_100g\\tmonounsaturated-fat_100g\\tpolyunsaturated-fat_100g\\tomega-3-fat_100g\\talpha-linolenic-acid_100g\\teicosapentaenoic-acid_100g\\tdocosahexaenoic-acid_100g\\tomega-6-fat_100g\\tlinoleic-acid_100g\\tarachidonic-acid_100g\\tgamma-linolenic-acid_100g\\tdihomo-gamma-linolenic-acid_100g\\tomega-9-fat_100g\\toleic-acid_100g\\telaidic-acid_100g\\tgondoic-acid_100g\\tmead-acid_100g\\terucic-acid_100g\\tnervonic-acid_100g\\ttrans-fat_100g\\tcholesterol_100g\\tcarbohydrates_100g\\tsugars_100g\\tadded-sugars_100g\\tsucrose_100g\\tglucose_100g\\tfructose_100g\\tlactose_100g\\tmaltose_100g\\tmaltodextrins_100g\\tstarch_100g\\tpolyols_100g\\terythritol_100g\\tfiber_100g\\tsoluble-fiber_100g\\tinsoluble-fiber_100g\\tproteins_100g\\tcasein_100g\\tserum-proteins_100g\\tnucleotides_100g\\tsalt_100g\\tadded-salt_100g\\tsodium_100g\\talcohol_100g\\tvitamin-a_100g\\tbeta-carotene_100g\\tvitamin-d_100g\\tvitamin-e_100g\\tvitamin-k_100g\\tvitamin-c_100g\\tvitamin-b1_100g\\tvitamin-b2_100g\\tvitamin-pp_100g\\tvitamin-b6_100g\\tvitamin-b9_100g\\tfolates_100g\\tvitamin-b12_100g\\tbiotin_100g\\tpantothenic-acid_100g\\tsilica_100g\\tbicarbonate_100g\\tpotassium_100g\\tchloride_100g\\tcalcium_100g\\tphosphorus_100g\\tiron_100g\\tmagnesium_100g\\tzinc_100g\\tcopper_100g\\tmanganese_100g\\tfluoride_100g\\tselenium_100g\\tchromium_100g\\tmolybdenum_100g\\tiodine_100g\\tcaffeine_100g\\ttaurine_100g\\tph_100g\\tfruits-vegetables-nuts_100g\\tfruits-vegetables-nuts-dried_100g\\tfruits-vegetables-nuts-estimate_100g\\tfruits-vegetables-nuts-estimate-from-ingredients_100g\\tcollagen-meat-protein-ratio_100g\\tcocoa_100g\\tchlorophyl_100g\\tcarbon-footprint_100g\\tcarbon-footprint-from-meat-or-fish_100g\\tnutrition-score-fr_100g\\tnutrition-score-uk_100g\\tglycemic-index_100g\\twater-hardness_100g\\tcholine_100g\\tphylloquinone_100g\\tbeta-glucan_100g\\tinositol_100g\\tcarnitine_100g'], dtype='object')\n"
     ]
    }
   ],
   "source": [
    "print(noms_colonne)"
   ]
  },
  {
   "cell_type": "code",
   "execution_count": 11,
   "metadata": {},
   "outputs": [],
   "source": [
    "#df2 = df[0].str.split('\\', expand=True)"
   ]
  }
 ],
 "metadata": {
  "kernelspec": {
   "display_name": "base",
   "language": "python",
   "name": "python3"
  },
  "language_info": {
   "codemirror_mode": {
    "name": "ipython",
    "version": 3
   },
   "file_extension": ".py",
   "mimetype": "text/x-python",
   "name": "python",
   "nbconvert_exporter": "python",
   "pygments_lexer": "ipython3",
   "version": "3.11.4"
  },
  "orig_nbformat": 4
 },
 "nbformat": 4,
 "nbformat_minor": 2
}
