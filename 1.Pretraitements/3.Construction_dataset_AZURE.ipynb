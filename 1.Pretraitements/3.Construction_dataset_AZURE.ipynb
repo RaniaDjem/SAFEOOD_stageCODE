{
  "cells": [
    {
      "cell_type": "markdown",
      "metadata": {},
      "source": [
        "Sur ce code, nous montrons comment est ce qu on a construit la base de donnees des verites terrain a partir de l API d Azure Cognitive Services.\n"
      ]
    },
    {
      "cell_type": "code",
      "execution_count": null,
      "metadata": {},
      "outputs": [],
      "source": [
        "from azure.cognitiveservices.vision.computervision import ComputerVisionClient\n",
        "from azure.cognitiveservices.vision.computervision.models import OperationStatusCodes\n",
        "from azure.cognitiveservices.vision.computervision.models import VisualFeatureTypes\n",
        "from msrest.authentication import CognitiveServicesCredentials\n",
        "\n",
        "from array import array\n",
        "import os\n",
        "from PIL import Image\n",
        "import sys\n",
        "import time"
      ]
    },
    {
      "cell_type": "code",
      "execution_count": null,
      "metadata": {
        "colab": {
          "base_uri": "https://localhost:8080/"
        },
        "id": "6RIjhildaX2Q",
        "outputId": "482dcaa4-424b-4995-854f-f0c999e8299e"
      },
      "outputs": [
        {
          "name": "stdout",
          "output_type": "stream",
          "text": [
            "Mounted at /content/drive\n"
          ]
        }
      ],
      "source": [
        "from google.colab import drive\n",
        "drive.mount('/content/drive')"
      ]
    },
    {
      "cell_type": "code",
      "execution_count": null,
      "metadata": {
        "colab": {
          "base_uri": "https://localhost:8080/"
        },
        "id": "2_B2sNrLadv7",
        "outputId": "e0eb936f-a0b2-4245-e63d-d725df7a72e7"
      },
      "outputs": [
        {
          "name": "stdout",
          "output_type": "stream",
          "text": [
            "/content/drive/MyDrive/OCR/Images_test\n"
          ]
        }
      ],
      "source": [
        "cd /content/drive/MyDrive/OCR/Images_test"
      ]
    },
    {
      "cell_type": "code",
      "execution_count": null,
      "metadata": {
        "colab": {
          "base_uri": "https://localhost:8080/"
        },
        "id": "oJlb0ZxyaoTD",
        "outputId": "8a650546-9c3f-4ad2-f673-89214a4a22ef"
      },
      "outputs": [
        {
          "name": "stdout",
          "output_type": "stream",
          "text": [
            "image_249699.jpg\n"
          ]
        }
      ],
      "source": [
        "ls"
      ]
    },
    {
      "cell_type": "markdown",
      "metadata": {
        "id": "lvo4CzEdarpH"
      },
      "source": [
        "IMPORT"
      ]
    },
    {
      "cell_type": "code",
      "execution_count": null,
      "metadata": {
        "colab": {
          "base_uri": "https://localhost:8080/"
        },
        "id": "nIv9TNrw9o0T",
        "outputId": "da909129-e0c0-4cf2-c7ec-c394609938ac"
      },
      "outputs": [
        {
          "name": "stdout",
          "output_type": "stream",
          "text": [
            "Looking in indexes: https://pypi.org/simple, https://us-python.pkg.dev/colab-wheels/public/simple/\n",
            "Collecting azure-cognitiveservices-vision-computervision\n",
            "  Downloading azure_cognitiveservices_vision_computervision-0.9.0-py2.py3-none-any.whl (39 kB)\n",
            "Collecting msrest>=0.5.0 (from azure-cognitiveservices-vision-computervision)\n",
            "  Downloading msrest-0.7.1-py3-none-any.whl (85 kB)\n",
            "\u001b[2K     \u001b[90m━━━━━━━━━━━━━━━━━━━━━━━━━━━━━━━━━━━━━━━━\u001b[0m \u001b[32m85.4/85.4 kB\u001b[0m \u001b[31m9.1 MB/s\u001b[0m eta \u001b[36m0:00:00\u001b[0m\n",
            "\u001b[?25hCollecting azure-common~=1.1 (from azure-cognitiveservices-vision-computervision)\n",
            "  Downloading azure_common-1.1.28-py2.py3-none-any.whl (14 kB)\n",
            "Collecting azure-core>=1.24.0 (from msrest>=0.5.0->azure-cognitiveservices-vision-computervision)\n",
            "  Downloading azure_core-1.26.4-py3-none-any.whl (173 kB)\n",
            "\u001b[2K     \u001b[90m━━━━━━━━━━━━━━━━━━━━━━━━━━━━━━━━━━━━━━\u001b[0m \u001b[32m173.9/173.9 kB\u001b[0m \u001b[31m17.5 MB/s\u001b[0m eta \u001b[36m0:00:00\u001b[0m\n",
            "\u001b[?25hRequirement already satisfied: certifi>=2017.4.17 in /usr/local/lib/python3.10/dist-packages (from msrest>=0.5.0->azure-cognitiveservices-vision-computervision) (2022.12.7)\n",
            "Collecting isodate>=0.6.0 (from msrest>=0.5.0->azure-cognitiveservices-vision-computervision)\n",
            "  Downloading isodate-0.6.1-py2.py3-none-any.whl (41 kB)\n",
            "\u001b[2K     \u001b[90m━━━━━━━━━━━━━━━━━━━━━━━━━━━━━━━━━━━━━━━━\u001b[0m \u001b[32m41.7/41.7 kB\u001b[0m \u001b[31m4.0 MB/s\u001b[0m eta \u001b[36m0:00:00\u001b[0m\n",
            "\u001b[?25hRequirement already satisfied: requests-oauthlib>=0.5.0 in /usr/local/lib/python3.10/dist-packages (from msrest>=0.5.0->azure-cognitiveservices-vision-computervision) (1.3.1)\n",
            "Requirement already satisfied: requests~=2.16 in /usr/local/lib/python3.10/dist-packages (from msrest>=0.5.0->azure-cognitiveservices-vision-computervision) (2.27.1)\n",
            "Requirement already satisfied: six>=1.11.0 in /usr/local/lib/python3.10/dist-packages (from azure-core>=1.24.0->msrest>=0.5.0->azure-cognitiveservices-vision-computervision) (1.16.0)\n",
            "Requirement already satisfied: typing-extensions>=4.3.0 in /usr/local/lib/python3.10/dist-packages (from azure-core>=1.24.0->msrest>=0.5.0->azure-cognitiveservices-vision-computervision) (4.5.0)\n",
            "Requirement already satisfied: urllib3<1.27,>=1.21.1 in /usr/local/lib/python3.10/dist-packages (from requests~=2.16->msrest>=0.5.0->azure-cognitiveservices-vision-computervision) (1.26.15)\n",
            "Requirement already satisfied: charset-normalizer~=2.0.0 in /usr/local/lib/python3.10/dist-packages (from requests~=2.16->msrest>=0.5.0->azure-cognitiveservices-vision-computervision) (2.0.12)\n",
            "Requirement already satisfied: idna<4,>=2.5 in /usr/local/lib/python3.10/dist-packages (from requests~=2.16->msrest>=0.5.0->azure-cognitiveservices-vision-computervision) (3.4)\n",
            "Requirement already satisfied: oauthlib>=3.0.0 in /usr/local/lib/python3.10/dist-packages (from requests-oauthlib>=0.5.0->msrest>=0.5.0->azure-cognitiveservices-vision-computervision) (3.2.2)\n",
            "Installing collected packages: azure-common, isodate, azure-core, msrest, azure-cognitiveservices-vision-computervision\n",
            "Successfully installed azure-cognitiveservices-vision-computervision-0.9.0 azure-common-1.1.28 azure-core-1.26.4 isodate-0.6.1 msrest-0.7.1\n"
          ]
        }
      ],
      "source": [
        "!pip install --upgrade azure-cognitiveservices-vision-computervision"
      ]
    },
    {
      "cell_type": "code",
      "execution_count": null,
      "metadata": {
        "colab": {
          "base_uri": "https://localhost:8080/"
        },
        "id": "hHxRsfIv9v8l",
        "outputId": "ed43ce94-54ef-49f8-d519-60a29968c855"
      },
      "outputs": [
        {
          "name": "stdout",
          "output_type": "stream",
          "text": [
            "===== Read File - remote =====\n",
            "Biscuits sablés avec 20% de chocolat blanc\n",
            "[2.0, 26.0, 321.0, 15.0, 321.0, 38.0, 2.0, 47.0]\n",
            "et 8% de canneberges.\n",
            "[2.0, 49.0, 177.0, 47.0, 178.0, 71.0, 2.0, 72.0]\n",
            "Ingrédients : sucre, farine de blé, huiles végétales\n",
            "[4.0, 79.0, 324.0, 66.0, 325.0, 85.0, 4.0, 96.0]\n",
            "(palme, tournesol), raisins secs, canneberges,\n",
            "[4.0, 99.0, 326.0, 85.0, 326.0, 103.0, 4.0, 116.0]\n",
            "farine d'avoine, lait entier en poudre, beurre de\n",
            "[4.0, 117.0, 327.0, 105.0, 328.0, 122.0, 4.0, 134.0]\n",
            "cacao, pommes, sirop de glucose-fructose, poudre\n",
            "[4.0, 138.0, 331.0, 124.0, 332.0, 141.0, 4.0, 155.0]\n",
            "à lever : diphosphates, carbonates de sodium ;\n",
            "[3.0, 157.0, 334.0, 144.0, 334.0, 161.0, 3.0, 174.0]\n",
            "dextrose, lait écrémé en poudre, sel, amidon\n",
            "[5.0, 177.0, 332.0, 164.0, 333.0, 180.0, 5.0, 193.0]\n",
            "modifié de maïs, émulsifiant : lécithine de soja ;\n",
            "[5.0, 196.0, 334.0, 184.0, 335.0, 201.0, 5.0, 214.0]\n",
            "citron, acidifiant : acide citrique ; antioxydant :\n",
            "[5.0, 217.0, 338.0, 205.0, 338.0, 222.0, 5.0, 234.0]\n",
            "acide ascorbique ; sucre caramélisé, sirop de\n",
            "[4.0, 237.0, 339.0, 224.0, 340.0, 242.0, 4.0, 255.0]\n",
            "glucose caramélisé, arôme.\n",
            "[5.0, 258.0, 196.0, 251.0, 197.0, 267.0, 5.0, 275.0]\n",
            "Traces éventuelles de fruits à coque, d'œufs et\n",
            "[5.0, 281.0, 342.0, 272.0, 343.0, 289.0, 5.0, 299.0]\n",
            "de lupins.\n",
            "[3.0, 304.0, 73.0, 302.0, 74.0, 319.0, 4.0, 321.0]\n",
            "Élaboré aux Pays-Bas. A conserver entre 15℃\n",
            "[5.0, 327.0, 342.0, 319.0, 343.0, 337.0, 5.0, 346.0]\n",
            "et 25℃. A consommer de préférence avant le\n",
            "[5.0, 349.0, 340.0, 341.0, 340.0, 361.0, 5.0, 369.0]\n",
            "voir dessus.\n",
            "[4.0, 374.0, 90.0, 370.0, 91.0, 385.0, 5.0, 389.0]\n",
            "\n",
            "End of Computer Vision quickstart.\n"
          ]
        }
      ],
      "source": [
        "\n",
        "'''\n",
        "Authenticate\n",
        "Authenticates your credentials and creates a client.\n",
        "'''\n",
        "subscription_key = \"5860d1e16f014596afff53589b94f1fd\"\n",
        "endpoint = \"https://test15151.cognitiveservices.azure.com/\"\n",
        "\n",
        "computervision_client = ComputerVisionClient(endpoint, CognitiveServicesCredentials(subscription_key))\n",
        "'''\n",
        "END - Authenticate\n",
        "'''\n",
        "\n",
        "'''\n",
        "OCR: Read File using the Read API, extract text - remote\n",
        "This example will extract text in an image, then print results, line by line.\n",
        "This API call can also extract handwriting style text (not shown).\n",
        "'''\n",
        "print(\"===== Read File - remote =====\")\n",
        "# Get an image with text\n",
        "read_image_url = \"https://images.openfoodfacts.org/images/products/06379667/ingredients_fr.7.400.jpg\"\n",
        "# Call API with URL and raw response (allows you to get the operation location)\n",
        "read_response = computervision_client.read(read_image_url,  raw=True)\n",
        "\n",
        "# Get the operation location (URL with an ID at the end) from the response\n",
        "read_operation_location = read_response.headers[\"Operation-Location\"]\n",
        "# Grab the ID from the URL\n",
        "operation_id = read_operation_location.split(\"/\")[-1]\n",
        "\n",
        "# Call the \"GET\" API and wait for it to retrieve the results\n",
        "while True:\n",
        "    read_result = computervision_client.get_read_result(operation_id)\n",
        "    if read_result.status not in ['notStarted', 'running']:\n",
        "        break\n",
        "    time.sleep(1)\n",
        "\n",
        "# Print the detected text, line by line\n",
        "if read_result.status == OperationStatusCodes.succeeded:\n",
        "    for text_result in read_result.analyze_result.read_results:\n",
        "        for line in text_result.lines:\n",
        "            print(line.text)\n",
        "            print(line.bounding_box)\n",
        "print()\n",
        "'''\n",
        "END - Read File - remote\n",
        "'''\n",
        "\n",
        "print(\"End of Computer Vision quickstart.\")"
      ]
    }
  ],
  "metadata": {
    "colab": {
      "provenance": []
    },
    "kernelspec": {
      "display_name": "Python 3",
      "name": "python3"
    },
    "language_info": {
      "name": "python"
    }
  },
  "nbformat": 4,
  "nbformat_minor": 0
}
